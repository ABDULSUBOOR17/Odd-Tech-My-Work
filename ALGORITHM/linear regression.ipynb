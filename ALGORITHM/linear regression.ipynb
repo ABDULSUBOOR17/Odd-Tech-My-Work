{
 "cells": [
  {
   "cell_type": "code",
   "execution_count": 58,
   "id": "11691381",
   "metadata": {},
   "outputs": [],
   "source": [
    "import pandas as pd\n",
    "import numpy as np\n",
    "import seaborn as sns\n",
    "import os"
   ]
  },
  {
   "cell_type": "code",
   "execution_count": 59,
   "id": "41750ee2",
   "metadata": {},
   "outputs": [],
   "source": [
    "tony_db_2021 = pd.read_csv(r'\\\\192.168.88.18\\oddtech\\AIDAILER\\byjoinmethod_tony_db2021pluscdr2021.csv')\n"
   ]
  },
  {
   "cell_type": "code",
   "execution_count": 60,
   "id": "3862c0d7",
   "metadata": {},
   "outputs": [],
   "source": [
    "pd.set_option('display.max_columns',None)"
   ]
  },
  {
   "cell_type": "code",
   "execution_count": 61,
   "id": "53a40df1",
   "metadata": {},
   "outputs": [
    {
     "data": {
      "text/html": [
       "<div>\n",
       "<style scoped>\n",
       "    .dataframe tbody tr th:only-of-type {\n",
       "        vertical-align: middle;\n",
       "    }\n",
       "\n",
       "    .dataframe tbody tr th {\n",
       "        vertical-align: top;\n",
       "    }\n",
       "\n",
       "    .dataframe thead th {\n",
       "        text-align: right;\n",
       "    }\n",
       "</style>\n",
       "<table border=\"1\" class=\"dataframe\">\n",
       "  <thead>\n",
       "    <tr style=\"text-align: right;\">\n",
       "      <th></th>\n",
       "      <th>Unnamed: 0</th>\n",
       "      <th>FullPhoneNumber</th>\n",
       "      <th>cityname</th>\n",
       "      <th>state</th>\n",
       "      <th>ZipCode</th>\n",
       "      <th>personexactage</th>\n",
       "      <th>IsMobile</th>\n",
       "      <th>estimatedincomecode</th>\n",
       "      <th>CreditRating</th>\n",
       "      <th>NumberOfLinesOfCredit</th>\n",
       "      <th>Credit_RangeOfNewCredit</th>\n",
       "      <th>homeownerprobabilitymodel</th>\n",
       "      <th>Disconnected</th>\n",
       "      <th>National DNC</th>\n",
       "      <th>Internal DNC</th>\n",
       "      <th>Litigator</th>\n",
       "      <th>datetime</th>\n",
       "      <th>duration</th>\n",
       "      <th>day</th>\n",
       "      <th>responsive</th>\n",
       "    </tr>\n",
       "  </thead>\n",
       "  <tbody>\n",
       "    <tr>\n",
       "      <th>0</th>\n",
       "      <td>0</td>\n",
       "      <td>8085360276</td>\n",
       "      <td>Honolulu</td>\n",
       "      <td>HI</td>\n",
       "      <td>96817</td>\n",
       "      <td>61.0</td>\n",
       "      <td>0</td>\n",
       "      <td>M</td>\n",
       "      <td>A</td>\n",
       "      <td>-1.0</td>\n",
       "      <td>-1.0</td>\n",
       "      <td>1.0</td>\n",
       "      <td>0</td>\n",
       "      <td>0</td>\n",
       "      <td>0</td>\n",
       "      <td>0</td>\n",
       "      <td>2021-08-26 20:40:04</td>\n",
       "      <td>0</td>\n",
       "      <td>Thursday</td>\n",
       "      <td>0</td>\n",
       "    </tr>\n",
       "    <tr>\n",
       "      <th>1</th>\n",
       "      <td>1</td>\n",
       "      <td>8086769544</td>\n",
       "      <td>Honolulu</td>\n",
       "      <td>HI</td>\n",
       "      <td>96818</td>\n",
       "      <td>55.0</td>\n",
       "      <td>0</td>\n",
       "      <td>O</td>\n",
       "      <td>D</td>\n",
       "      <td>-1.0</td>\n",
       "      <td>-1.0</td>\n",
       "      <td>1.0</td>\n",
       "      <td>0</td>\n",
       "      <td>0</td>\n",
       "      <td>0</td>\n",
       "      <td>0</td>\n",
       "      <td>2021-08-25 20:59:26</td>\n",
       "      <td>0</td>\n",
       "      <td>Wednesday</td>\n",
       "      <td>0</td>\n",
       "    </tr>\n",
       "    <tr>\n",
       "      <th>2</th>\n",
       "      <td>2</td>\n",
       "      <td>8084974246</td>\n",
       "      <td>Honolulu</td>\n",
       "      <td>HI</td>\n",
       "      <td>96818</td>\n",
       "      <td>64.0</td>\n",
       "      <td>1</td>\n",
       "      <td>M</td>\n",
       "      <td>F</td>\n",
       "      <td>-1.0</td>\n",
       "      <td>-1.0</td>\n",
       "      <td>1.0</td>\n",
       "      <td>0</td>\n",
       "      <td>0</td>\n",
       "      <td>0</td>\n",
       "      <td>0</td>\n",
       "      <td>2021-08-27 17:48:00</td>\n",
       "      <td>0</td>\n",
       "      <td>Friday</td>\n",
       "      <td>0</td>\n",
       "    </tr>\n",
       "  </tbody>\n",
       "</table>\n",
       "</div>"
      ],
      "text/plain": [
       "   Unnamed: 0  FullPhoneNumber  cityname state  ZipCode  personexactage  \\\n",
       "0           0       8085360276  Honolulu    HI    96817            61.0   \n",
       "1           1       8086769544  Honolulu    HI    96818            55.0   \n",
       "2           2       8084974246  Honolulu    HI    96818            64.0   \n",
       "\n",
       "   IsMobile estimatedincomecode CreditRating  NumberOfLinesOfCredit  \\\n",
       "0         0                   M            A                   -1.0   \n",
       "1         0                   O            D                   -1.0   \n",
       "2         1                   M            F                   -1.0   \n",
       "\n",
       "   Credit_RangeOfNewCredit  homeownerprobabilitymodel  Disconnected  \\\n",
       "0                     -1.0                        1.0             0   \n",
       "1                     -1.0                        1.0             0   \n",
       "2                     -1.0                        1.0             0   \n",
       "\n",
       "   National DNC  Internal DNC  Litigator             datetime  duration  \\\n",
       "0             0             0          0  2021-08-26 20:40:04         0   \n",
       "1             0             0          0  2021-08-25 20:59:26         0   \n",
       "2             0             0          0  2021-08-27 17:48:00         0   \n",
       "\n",
       "         day  responsive  \n",
       "0   Thursday           0  \n",
       "1  Wednesday           0  \n",
       "2     Friday           0  "
      ]
     },
     "execution_count": 61,
     "metadata": {},
     "output_type": "execute_result"
    }
   ],
   "source": [
    "tony_db_2021.head(3)"
   ]
  },
  {
   "cell_type": "code",
   "execution_count": 62,
   "id": "7cbb4ab4",
   "metadata": {},
   "outputs": [
    {
     "data": {
      "text/html": [
       "<div>\n",
       "<style scoped>\n",
       "    .dataframe tbody tr th:only-of-type {\n",
       "        vertical-align: middle;\n",
       "    }\n",
       "\n",
       "    .dataframe tbody tr th {\n",
       "        vertical-align: top;\n",
       "    }\n",
       "\n",
       "    .dataframe thead th {\n",
       "        text-align: right;\n",
       "    }\n",
       "</style>\n",
       "<table border=\"1\" class=\"dataframe\">\n",
       "  <thead>\n",
       "    <tr style=\"text-align: right;\">\n",
       "      <th></th>\n",
       "      <th>Unnamed: 0</th>\n",
       "      <th>FullPhoneNumber</th>\n",
       "      <th>cityname</th>\n",
       "      <th>state</th>\n",
       "      <th>ZipCode</th>\n",
       "      <th>personexactage</th>\n",
       "      <th>IsMobile</th>\n",
       "      <th>estimatedincomecode</th>\n",
       "      <th>CreditRating</th>\n",
       "      <th>NumberOfLinesOfCredit</th>\n",
       "      <th>Credit_RangeOfNewCredit</th>\n",
       "      <th>homeownerprobabilitymodel</th>\n",
       "      <th>Disconnected</th>\n",
       "      <th>National DNC</th>\n",
       "      <th>Internal DNC</th>\n",
       "      <th>Litigator</th>\n",
       "      <th>datetime</th>\n",
       "      <th>duration</th>\n",
       "      <th>day</th>\n",
       "      <th>responsive</th>\n",
       "    </tr>\n",
       "  </thead>\n",
       "  <tbody>\n",
       "    <tr>\n",
       "      <th>0</th>\n",
       "      <td>0</td>\n",
       "      <td>8085360276</td>\n",
       "      <td>Honolulu</td>\n",
       "      <td>HI</td>\n",
       "      <td>96817</td>\n",
       "      <td>61.0</td>\n",
       "      <td>0</td>\n",
       "      <td>M</td>\n",
       "      <td>A</td>\n",
       "      <td>-1.0</td>\n",
       "      <td>-1.0</td>\n",
       "      <td>1.0</td>\n",
       "      <td>0</td>\n",
       "      <td>0</td>\n",
       "      <td>0</td>\n",
       "      <td>0</td>\n",
       "      <td>2021-08-26 20:40:04</td>\n",
       "      <td>0</td>\n",
       "      <td>Thursday</td>\n",
       "      <td>0</td>\n",
       "    </tr>\n",
       "    <tr>\n",
       "      <th>1</th>\n",
       "      <td>1</td>\n",
       "      <td>8086769544</td>\n",
       "      <td>Honolulu</td>\n",
       "      <td>HI</td>\n",
       "      <td>96818</td>\n",
       "      <td>55.0</td>\n",
       "      <td>0</td>\n",
       "      <td>O</td>\n",
       "      <td>D</td>\n",
       "      <td>-1.0</td>\n",
       "      <td>-1.0</td>\n",
       "      <td>1.0</td>\n",
       "      <td>0</td>\n",
       "      <td>0</td>\n",
       "      <td>0</td>\n",
       "      <td>0</td>\n",
       "      <td>2021-08-25 20:59:26</td>\n",
       "      <td>0</td>\n",
       "      <td>Wednesday</td>\n",
       "      <td>0</td>\n",
       "    </tr>\n",
       "    <tr>\n",
       "      <th>2</th>\n",
       "      <td>2</td>\n",
       "      <td>8084974246</td>\n",
       "      <td>Honolulu</td>\n",
       "      <td>HI</td>\n",
       "      <td>96818</td>\n",
       "      <td>64.0</td>\n",
       "      <td>1</td>\n",
       "      <td>M</td>\n",
       "      <td>F</td>\n",
       "      <td>-1.0</td>\n",
       "      <td>-1.0</td>\n",
       "      <td>1.0</td>\n",
       "      <td>0</td>\n",
       "      <td>0</td>\n",
       "      <td>0</td>\n",
       "      <td>0</td>\n",
       "      <td>2021-08-27 17:48:00</td>\n",
       "      <td>0</td>\n",
       "      <td>Friday</td>\n",
       "      <td>0</td>\n",
       "    </tr>\n",
       "    <tr>\n",
       "      <th>3</th>\n",
       "      <td>3</td>\n",
       "      <td>8088476778</td>\n",
       "      <td>Honolulu</td>\n",
       "      <td>HI</td>\n",
       "      <td>96819</td>\n",
       "      <td>74.0</td>\n",
       "      <td>0</td>\n",
       "      <td>N</td>\n",
       "      <td>B</td>\n",
       "      <td>-1.0</td>\n",
       "      <td>-1.0</td>\n",
       "      <td>1.0</td>\n",
       "      <td>0</td>\n",
       "      <td>0</td>\n",
       "      <td>0</td>\n",
       "      <td>0</td>\n",
       "      <td>2021-08-27 15:47:52</td>\n",
       "      <td>277</td>\n",
       "      <td>Friday</td>\n",
       "      <td>1</td>\n",
       "    </tr>\n",
       "    <tr>\n",
       "      <th>4</th>\n",
       "      <td>4</td>\n",
       "      <td>8088476778</td>\n",
       "      <td>Honolulu</td>\n",
       "      <td>HI</td>\n",
       "      <td>96819</td>\n",
       "      <td>74.0</td>\n",
       "      <td>0</td>\n",
       "      <td>N</td>\n",
       "      <td>B</td>\n",
       "      <td>-1.0</td>\n",
       "      <td>-1.0</td>\n",
       "      <td>1.0</td>\n",
       "      <td>0</td>\n",
       "      <td>0</td>\n",
       "      <td>0</td>\n",
       "      <td>0</td>\n",
       "      <td>2021-08-24 18:25:34</td>\n",
       "      <td>0</td>\n",
       "      <td>Tuesday</td>\n",
       "      <td>0</td>\n",
       "    </tr>\n",
       "  </tbody>\n",
       "</table>\n",
       "</div>"
      ],
      "text/plain": [
       "   Unnamed: 0  FullPhoneNumber  cityname state  ZipCode  personexactage  \\\n",
       "0           0       8085360276  Honolulu    HI    96817            61.0   \n",
       "1           1       8086769544  Honolulu    HI    96818            55.0   \n",
       "2           2       8084974246  Honolulu    HI    96818            64.0   \n",
       "3           3       8088476778  Honolulu    HI    96819            74.0   \n",
       "4           4       8088476778  Honolulu    HI    96819            74.0   \n",
       "\n",
       "   IsMobile estimatedincomecode CreditRating  NumberOfLinesOfCredit  \\\n",
       "0         0                   M            A                   -1.0   \n",
       "1         0                   O            D                   -1.0   \n",
       "2         1                   M            F                   -1.0   \n",
       "3         0                   N            B                   -1.0   \n",
       "4         0                   N            B                   -1.0   \n",
       "\n",
       "   Credit_RangeOfNewCredit  homeownerprobabilitymodel  Disconnected  \\\n",
       "0                     -1.0                        1.0             0   \n",
       "1                     -1.0                        1.0             0   \n",
       "2                     -1.0                        1.0             0   \n",
       "3                     -1.0                        1.0             0   \n",
       "4                     -1.0                        1.0             0   \n",
       "\n",
       "   National DNC  Internal DNC  Litigator             datetime  duration  \\\n",
       "0             0             0          0  2021-08-26 20:40:04         0   \n",
       "1             0             0          0  2021-08-25 20:59:26         0   \n",
       "2             0             0          0  2021-08-27 17:48:00         0   \n",
       "3             0             0          0  2021-08-27 15:47:52       277   \n",
       "4             0             0          0  2021-08-24 18:25:34         0   \n",
       "\n",
       "         day  responsive  \n",
       "0   Thursday           0  \n",
       "1  Wednesday           0  \n",
       "2     Friday           0  \n",
       "3     Friday           1  \n",
       "4    Tuesday           0  "
      ]
     },
     "execution_count": 62,
     "metadata": {},
     "output_type": "execute_result"
    }
   ],
   "source": [
    "tony_db_2021.head()"
   ]
  },
  {
   "cell_type": "code",
   "execution_count": 63,
   "id": "c59703fe",
   "metadata": {},
   "outputs": [
    {
     "data": {
      "text/plain": [
       "0          2021-08-26 20:40:04\n",
       "1          2021-08-25 20:59:26\n",
       "2          2021-08-27 17:48:00\n",
       "3          2021-08-27 15:47:52\n",
       "4          2021-08-24 18:25:34\n",
       "                  ...         \n",
       "1228272    2021-08-17 17:18:14\n",
       "1228273    2021-04-19 17:50:39\n",
       "1228274    2021-04-12 17:18:05\n",
       "1228275    2021-04-01 22:57:05\n",
       "1228276    2021-04-17 17:03:30\n",
       "Name: datetime, Length: 1228277, dtype: object"
      ]
     },
     "execution_count": 63,
     "metadata": {},
     "output_type": "execute_result"
    }
   ],
   "source": [
    "tony_db_2021['datetime']"
   ]
  },
  {
   "cell_type": "code",
   "execution_count": 110,
   "id": "89870c28",
   "metadata": {},
   "outputs": [
    {
     "ename": "TypeError",
     "evalue": "'(['state', 'personexactage', 'IsMobile', 'estimatedincomecode', 'day', 'duration'], 'datetime')' is an invalid key",
     "output_type": "error",
     "traceback": [
      "\u001b[1;31m---------------------------------------------------------------------------\u001b[0m",
      "\u001b[1;31mTypeError\u001b[0m                                 Traceback (most recent call last)",
      "\u001b[1;32m<ipython-input-110-5becee22556c>\u001b[0m in \u001b[0;36m<module>\u001b[1;34m\u001b[0m\n\u001b[1;32m----> 1\u001b[1;33m \u001b[0mfortrainData\u001b[0m \u001b[1;33m=\u001b[0m \u001b[0mtony_db_2021\u001b[0m\u001b[1;33m[\u001b[0m\u001b[1;33m[\u001b[0m\u001b[1;34m'state'\u001b[0m\u001b[1;33m,\u001b[0m\u001b[1;34m'personexactage'\u001b[0m\u001b[1;33m,\u001b[0m\u001b[1;34m'IsMobile'\u001b[0m\u001b[1;33m,\u001b[0m\u001b[1;34m'estimatedincomecode'\u001b[0m \u001b[1;33m,\u001b[0m\u001b[1;34m'day'\u001b[0m\u001b[1;33m,\u001b[0m \u001b[1;34m'duration'\u001b[0m\u001b[1;33m]\u001b[0m\u001b[1;33m,\u001b[0m \u001b[1;34m'datetime'\u001b[0m\u001b[1;33m]\u001b[0m\u001b[1;33m\u001b[0m\u001b[1;33m\u001b[0m\u001b[0m\n\u001b[0m\u001b[0;32m      2\u001b[0m \u001b[0mfortrainData\u001b[0m\u001b[1;33m.\u001b[0m\u001b[0mhead\u001b[0m\u001b[1;33m(\u001b[0m\u001b[1;33m)\u001b[0m\u001b[1;33m\u001b[0m\u001b[1;33m\u001b[0m\u001b[0m\n",
      "\u001b[1;32m~\\Anaconda3\\lib\\site-packages\\pandas\\core\\frame.py\u001b[0m in \u001b[0;36m__getitem__\u001b[1;34m(self, key)\u001b[0m\n\u001b[0;32m   3022\u001b[0m             \u001b[1;32mif\u001b[0m \u001b[0mself\u001b[0m\u001b[1;33m.\u001b[0m\u001b[0mcolumns\u001b[0m\u001b[1;33m.\u001b[0m\u001b[0mnlevels\u001b[0m \u001b[1;33m>\u001b[0m \u001b[1;36m1\u001b[0m\u001b[1;33m:\u001b[0m\u001b[1;33m\u001b[0m\u001b[1;33m\u001b[0m\u001b[0m\n\u001b[0;32m   3023\u001b[0m                 \u001b[1;32mreturn\u001b[0m \u001b[0mself\u001b[0m\u001b[1;33m.\u001b[0m\u001b[0m_getitem_multilevel\u001b[0m\u001b[1;33m(\u001b[0m\u001b[0mkey\u001b[0m\u001b[1;33m)\u001b[0m\u001b[1;33m\u001b[0m\u001b[1;33m\u001b[0m\u001b[0m\n\u001b[1;32m-> 3024\u001b[1;33m             \u001b[0mindexer\u001b[0m \u001b[1;33m=\u001b[0m \u001b[0mself\u001b[0m\u001b[1;33m.\u001b[0m\u001b[0mcolumns\u001b[0m\u001b[1;33m.\u001b[0m\u001b[0mget_loc\u001b[0m\u001b[1;33m(\u001b[0m\u001b[0mkey\u001b[0m\u001b[1;33m)\u001b[0m\u001b[1;33m\u001b[0m\u001b[1;33m\u001b[0m\u001b[0m\n\u001b[0m\u001b[0;32m   3025\u001b[0m             \u001b[1;32mif\u001b[0m \u001b[0mis_integer\u001b[0m\u001b[1;33m(\u001b[0m\u001b[0mindexer\u001b[0m\u001b[1;33m)\u001b[0m\u001b[1;33m:\u001b[0m\u001b[1;33m\u001b[0m\u001b[1;33m\u001b[0m\u001b[0m\n\u001b[0;32m   3026\u001b[0m                 \u001b[0mindexer\u001b[0m \u001b[1;33m=\u001b[0m \u001b[1;33m[\u001b[0m\u001b[0mindexer\u001b[0m\u001b[1;33m]\u001b[0m\u001b[1;33m\u001b[0m\u001b[1;33m\u001b[0m\u001b[0m\n",
      "\u001b[1;32m~\\Anaconda3\\lib\\site-packages\\pandas\\core\\indexes\\base.py\u001b[0m in \u001b[0;36mget_loc\u001b[1;34m(self, key, method, tolerance)\u001b[0m\n\u001b[0;32m   3078\u001b[0m             \u001b[0mcasted_key\u001b[0m \u001b[1;33m=\u001b[0m \u001b[0mself\u001b[0m\u001b[1;33m.\u001b[0m\u001b[0m_maybe_cast_indexer\u001b[0m\u001b[1;33m(\u001b[0m\u001b[0mkey\u001b[0m\u001b[1;33m)\u001b[0m\u001b[1;33m\u001b[0m\u001b[1;33m\u001b[0m\u001b[0m\n\u001b[0;32m   3079\u001b[0m             \u001b[1;32mtry\u001b[0m\u001b[1;33m:\u001b[0m\u001b[1;33m\u001b[0m\u001b[1;33m\u001b[0m\u001b[0m\n\u001b[1;32m-> 3080\u001b[1;33m                 \u001b[1;32mreturn\u001b[0m \u001b[0mself\u001b[0m\u001b[1;33m.\u001b[0m\u001b[0m_engine\u001b[0m\u001b[1;33m.\u001b[0m\u001b[0mget_loc\u001b[0m\u001b[1;33m(\u001b[0m\u001b[0mcasted_key\u001b[0m\u001b[1;33m)\u001b[0m\u001b[1;33m\u001b[0m\u001b[1;33m\u001b[0m\u001b[0m\n\u001b[0m\u001b[0;32m   3081\u001b[0m             \u001b[1;32mexcept\u001b[0m \u001b[0mKeyError\u001b[0m \u001b[1;32mas\u001b[0m \u001b[0merr\u001b[0m\u001b[1;33m:\u001b[0m\u001b[1;33m\u001b[0m\u001b[1;33m\u001b[0m\u001b[0m\n\u001b[0;32m   3082\u001b[0m                 \u001b[1;32mraise\u001b[0m \u001b[0mKeyError\u001b[0m\u001b[1;33m(\u001b[0m\u001b[0mkey\u001b[0m\u001b[1;33m)\u001b[0m \u001b[1;32mfrom\u001b[0m \u001b[0merr\u001b[0m\u001b[1;33m\u001b[0m\u001b[1;33m\u001b[0m\u001b[0m\n",
      "\u001b[1;32mpandas\\_libs\\index.pyx\u001b[0m in \u001b[0;36mpandas._libs.index.IndexEngine.get_loc\u001b[1;34m()\u001b[0m\n",
      "\u001b[1;32mpandas\\_libs\\index.pyx\u001b[0m in \u001b[0;36mpandas._libs.index.IndexEngine.get_loc\u001b[1;34m()\u001b[0m\n",
      "\u001b[1;31mTypeError\u001b[0m: '(['state', 'personexactage', 'IsMobile', 'estimatedincomecode', 'day', 'duration'], 'datetime')' is an invalid key"
     ]
    }
   ],
   "source": [
    "fortrainData = tony_db_2021[['state','personexactage','IsMobile','estimatedincomecode' ,'day', 'duration'], 'datetime']\n",
    "fortrainData.head()"
   ]
  },
  {
   "cell_type": "code",
   "execution_count": 65,
   "id": "71c032c6",
   "metadata": {},
   "outputs": [
    {
     "data": {
      "text/plain": [
       "1228277"
      ]
     },
     "execution_count": 65,
     "metadata": {},
     "output_type": "execute_result"
    }
   ],
   "source": [
    "len(fortrainData.isnull())"
   ]
  },
  {
   "cell_type": "code",
   "execution_count": 66,
   "id": "294b13eb",
   "metadata": {},
   "outputs": [],
   "source": [
    "fortrainData = fortrainData[fortrainData['estimatedincomecode'] != 'U']"
   ]
  },
  {
   "cell_type": "code",
   "execution_count": 67,
   "id": "7709036b",
   "metadata": {},
   "outputs": [],
   "source": [
    "fortrainData = fortrainData[fortrainData['personexactage'] != 'U']"
   ]
  },
  {
   "cell_type": "code",
   "execution_count": 68,
   "id": "ee236c4f",
   "metadata": {},
   "outputs": [],
   "source": [
    "fortrainData = fortrainData[fortrainData['state'] != 'U']"
   ]
  },
  {
   "cell_type": "code",
   "execution_count": 69,
   "id": "b41241d7",
   "metadata": {},
   "outputs": [],
   "source": [
    "fortrainData = fortrainData[fortrainData['day'] != 'U']"
   ]
  },
  {
   "cell_type": "code",
   "execution_count": 70,
   "id": "f1057fbd",
   "metadata": {},
   "outputs": [],
   "source": [
    "fortrainData = fortrainData[fortrainData['duration'] != 'U']"
   ]
  },
  {
   "cell_type": "code",
   "execution_count": 71,
   "id": "63021253",
   "metadata": {},
   "outputs": [],
   "source": [
    "fortrainData = fortrainData[fortrainData['IsMobile'] != 'U']"
   ]
  },
  {
   "cell_type": "code",
   "execution_count": 72,
   "id": "23d179ea",
   "metadata": {},
   "outputs": [
    {
     "data": {
      "text/html": [
       "<div>\n",
       "<style scoped>\n",
       "    .dataframe tbody tr th:only-of-type {\n",
       "        vertical-align: middle;\n",
       "    }\n",
       "\n",
       "    .dataframe tbody tr th {\n",
       "        vertical-align: top;\n",
       "    }\n",
       "\n",
       "    .dataframe thead th {\n",
       "        text-align: right;\n",
       "    }\n",
       "</style>\n",
       "<table border=\"1\" class=\"dataframe\">\n",
       "  <thead>\n",
       "    <tr style=\"text-align: right;\">\n",
       "      <th></th>\n",
       "      <th>state</th>\n",
       "      <th>personexactage</th>\n",
       "      <th>IsMobile</th>\n",
       "      <th>estimatedincomecode</th>\n",
       "      <th>day</th>\n",
       "      <th>duration</th>\n",
       "    </tr>\n",
       "  </thead>\n",
       "  <tbody>\n",
       "    <tr>\n",
       "      <th>0</th>\n",
       "      <td>HI</td>\n",
       "      <td>61.0</td>\n",
       "      <td>0</td>\n",
       "      <td>M</td>\n",
       "      <td>Thursday</td>\n",
       "      <td>0</td>\n",
       "    </tr>\n",
       "    <tr>\n",
       "      <th>1</th>\n",
       "      <td>HI</td>\n",
       "      <td>55.0</td>\n",
       "      <td>0</td>\n",
       "      <td>O</td>\n",
       "      <td>Wednesday</td>\n",
       "      <td>0</td>\n",
       "    </tr>\n",
       "    <tr>\n",
       "      <th>2</th>\n",
       "      <td>HI</td>\n",
       "      <td>64.0</td>\n",
       "      <td>1</td>\n",
       "      <td>M</td>\n",
       "      <td>Friday</td>\n",
       "      <td>0</td>\n",
       "    </tr>\n",
       "    <tr>\n",
       "      <th>3</th>\n",
       "      <td>HI</td>\n",
       "      <td>74.0</td>\n",
       "      <td>0</td>\n",
       "      <td>N</td>\n",
       "      <td>Friday</td>\n",
       "      <td>277</td>\n",
       "    </tr>\n",
       "    <tr>\n",
       "      <th>4</th>\n",
       "      <td>HI</td>\n",
       "      <td>74.0</td>\n",
       "      <td>0</td>\n",
       "      <td>N</td>\n",
       "      <td>Tuesday</td>\n",
       "      <td>0</td>\n",
       "    </tr>\n",
       "  </tbody>\n",
       "</table>\n",
       "</div>"
      ],
      "text/plain": [
       "  state  personexactage  IsMobile estimatedincomecode        day  duration\n",
       "0    HI            61.0         0                   M   Thursday         0\n",
       "1    HI            55.0         0                   O  Wednesday         0\n",
       "2    HI            64.0         1                   M     Friday         0\n",
       "3    HI            74.0         0                   N     Friday       277\n",
       "4    HI            74.0         0                   N    Tuesday         0"
      ]
     },
     "execution_count": 72,
     "metadata": {},
     "output_type": "execute_result"
    }
   ],
   "source": [
    "fortrainData.head()"
   ]
  },
  {
   "cell_type": "code",
   "execution_count": 73,
   "id": "a2e9343e",
   "metadata": {},
   "outputs": [],
   "source": [
    "fortrainData['personexactage'] = fortrainData['personexactage'].astype(int)"
   ]
  },
  {
   "cell_type": "code",
   "execution_count": 74,
   "id": "442a5b0a",
   "metadata": {},
   "outputs": [],
   "source": [
    "for_model= fortrainData.copy()"
   ]
  },
  {
   "cell_type": "markdown",
   "id": "64dd7b5d",
   "metadata": {},
   "source": [
    "# Encoding State"
   ]
  },
  {
   "cell_type": "code",
   "execution_count": 75,
   "id": "8342dd17",
   "metadata": {},
   "outputs": [
    {
     "name": "stdout",
     "output_type": "stream",
     "text": [
      "state\n",
      "AK       347\n",
      "AL    106803\n",
      "AR     33284\n",
      "AZ     47709\n",
      "CO     43609\n",
      "CT     64944\n",
      "DC     11402\n",
      "DE     15506\n",
      "HI       381\n",
      "IA     56757\n",
      "ID     22016\n",
      "KS     33475\n",
      "KY     59665\n",
      "ME     22163\n",
      "MN     37748\n",
      "MO     84111\n",
      "MS     41072\n",
      "MT     17607\n",
      "ND      8322\n",
      "NE     20167\n",
      "NH     17128\n",
      "NM     19020\n",
      "NV     31510\n",
      "OK     37069\n",
      "OR     42186\n",
      "RI     19726\n",
      "SC     57622\n",
      "SD      8365\n",
      "TN     76462\n",
      "UT     28847\n",
      "WA     54034\n",
      "WI     73930\n",
      "WV     25077\n",
      "WY      5488\n",
      "dtype: int64\n",
      "34\n",
      "{'SC', 'NM', 'OK', 'CO', 'CT', 'KS', 'AL', 'WA', 'AZ', 'WV', 'NE', 'AR', 'DC', 'ND', 'TN', 'WI', 'NH', 'SD', 'ME', 'WY', 'NV', 'MS', 'OR', 'AK', 'ID', 'MO', 'MN', 'DE', 'RI', 'MT', 'UT', 'IA', 'KY', 'HI'}\n"
     ]
    }
   ],
   "source": [
    "print(fortrainData.groupby('state').size())\n",
    "print(len(fortrainData.groupby('state')))\n",
    "print(set(fortrainData['state']))"
   ]
  },
  {
   "cell_type": "markdown",
   "id": "bc3cf8f6",
   "metadata": {},
   "source": [
    "### Indexing"
   ]
  },
  {
   "cell_type": "code",
   "execution_count": 76,
   "id": "432227ee",
   "metadata": {},
   "outputs": [
    {
     "data": {
      "text/plain": [
       "state\n",
       "0      57622\n",
       "1      19020\n",
       "2      37069\n",
       "3      43609\n",
       "4      64944\n",
       "5      33475\n",
       "6     106803\n",
       "7      54034\n",
       "8      47709\n",
       "9      25077\n",
       "10     20167\n",
       "11     33284\n",
       "12     11402\n",
       "13      8322\n",
       "14     76462\n",
       "15     73930\n",
       "16     17128\n",
       "17      8365\n",
       "18     22163\n",
       "19      5488\n",
       "20     31510\n",
       "21     41072\n",
       "22     42186\n",
       "23       347\n",
       "24     22016\n",
       "25     84111\n",
       "26     37748\n",
       "27     15506\n",
       "28     19726\n",
       "29     17607\n",
       "30     28847\n",
       "31     56757\n",
       "32     59665\n",
       "33       381\n",
       "dtype: int64"
      ]
     },
     "execution_count": 76,
     "metadata": {},
     "output_type": "execute_result"
    }
   ],
   "source": [
    "fortrainData['state'].replace(to_replace = set(fortrainData['state']), value = np.arange(0,34), inplace = True)\n",
    "fortrainData.groupby('state').size()\n"
   ]
  },
  {
   "cell_type": "markdown",
   "id": "3a2e0a24",
   "metadata": {},
   "source": [
    "### One-hot encoding state column### "
   ]
  },
  {
   "cell_type": "code",
   "execution_count": 77,
   "id": "a41b32ef",
   "metadata": {},
   "outputs": [
    {
     "data": {
      "text/plain": [
       "array([[0., 0., 0., ..., 0., 0., 1.],\n",
       "       [0., 0., 0., ..., 0., 0., 1.],\n",
       "       [0., 0., 0., ..., 0., 0., 1.],\n",
       "       ...,\n",
       "       [0., 0., 0., ..., 0., 0., 0.],\n",
       "       [0., 0., 0., ..., 0., 0., 0.],\n",
       "       [0., 0., 0., ..., 0., 0., 0.]], dtype=float32)"
      ]
     },
     "execution_count": 77,
     "metadata": {},
     "output_type": "execute_result"
    }
   ],
   "source": [
    "from tensorflow.keras.utils import to_categorical\n",
    "state_encoded_data = to_categorical(fortrainData['state'])\n",
    "state_encoded_data\n"
   ]
  },
  {
   "cell_type": "markdown",
   "id": "67a1f888",
   "metadata": {},
   "source": [
    "# Encoding Income Data"
   ]
  },
  {
   "cell_type": "code",
   "execution_count": 78,
   "id": "c7229033",
   "metadata": {},
   "outputs": [
    {
     "name": "stdout",
     "output_type": "stream",
     "text": [
      "estimatedincomecode\n",
      "A     41257\n",
      "B    139621\n",
      "C     54703\n",
      "D     30354\n",
      "E     74349\n",
      "F     32080\n",
      "G     66151\n",
      "H     35715\n",
      "I     68935\n",
      "J     41435\n",
      "K     73067\n",
      "L     49496\n",
      "M     92943\n",
      "N    185469\n",
      "O    145576\n",
      "P     19019\n",
      "Q     26774\n",
      "R     21629\n",
      "S     24979\n",
      "dtype: int64\n",
      "19\n",
      "{'P', 'I', 'O', 'D', 'C', 'H', 'K', 'N', 'R', 'E', 'B', 'F', 'Q', 'J', 'S', 'A', 'M', 'L', 'G'}\n"
     ]
    }
   ],
   "source": [
    "print(fortrainData.groupby('estimatedincomecode').size())\n",
    "print(len(fortrainData.groupby('estimatedincomecode')))\n",
    "print(set(fortrainData['estimatedincomecode']))"
   ]
  },
  {
   "cell_type": "markdown",
   "id": "a6619072",
   "metadata": {},
   "source": [
    "### Indexing Income data"
   ]
  },
  {
   "cell_type": "code",
   "execution_count": 79,
   "id": "6c4a657c",
   "metadata": {},
   "outputs": [
    {
     "data": {
      "text/plain": [
       "estimatedincomecode\n",
       "0      19019\n",
       "1      68935\n",
       "2     145576\n",
       "3      30354\n",
       "4      54703\n",
       "5      35715\n",
       "6      73067\n",
       "7     185469\n",
       "8      21629\n",
       "9      74349\n",
       "10    139621\n",
       "11     32080\n",
       "12     26774\n",
       "13     41435\n",
       "14     24979\n",
       "15     41257\n",
       "16     92943\n",
       "17     49496\n",
       "18     66151\n",
       "dtype: int64"
      ]
     },
     "execution_count": 79,
     "metadata": {},
     "output_type": "execute_result"
    }
   ],
   "source": [
    "fortrainData['estimatedincomecode'].replace(to_replace = set(fortrainData['estimatedincomecode']), value = np.arange(0,19), inplace = True)\n",
    "fortrainData.groupby('estimatedincomecode').size()"
   ]
  },
  {
   "cell_type": "markdown",
   "id": "3eade93b",
   "metadata": {},
   "source": [
    "### One-hot encoding income column"
   ]
  },
  {
   "cell_type": "code",
   "execution_count": 80,
   "id": "c2f54285",
   "metadata": {},
   "outputs": [
    {
     "data": {
      "text/plain": [
       "array([[0., 0., 0., ..., 1., 0., 0.],\n",
       "       [0., 0., 1., ..., 0., 0., 0.],\n",
       "       [0., 0., 0., ..., 1., 0., 0.],\n",
       "       ...,\n",
       "       [0., 0., 0., ..., 0., 0., 0.],\n",
       "       [0., 0., 0., ..., 0., 0., 0.],\n",
       "       [0., 0., 0., ..., 0., 0., 0.]], dtype=float32)"
      ]
     },
     "execution_count": 80,
     "metadata": {},
     "output_type": "execute_result"
    }
   ],
   "source": [
    "from tensorflow.keras.utils import to_categorical\n",
    "income_encoded_data = to_categorical(fortrainData['estimatedincomecode'])\n",
    "income_encoded_data\n"
   ]
  },
  {
   "cell_type": "markdown",
   "id": "76aea795",
   "metadata": {},
   "source": [
    "# Encoding Day Data"
   ]
  },
  {
   "cell_type": "code",
   "execution_count": 81,
   "id": "93eb4185",
   "metadata": {},
   "outputs": [
    {
     "name": "stdout",
     "output_type": "stream",
     "text": [
      "day\n",
      "Friday       233027\n",
      "Monday       315966\n",
      "Saturday      47914\n",
      "Thursday     243315\n",
      "Tuesday      221009\n",
      "Wednesday    162321\n",
      "dtype: int64\n",
      "6\n",
      "{'Saturday', 'Tuesday', 'Monday', 'Wednesday', 'Friday', 'Thursday'}\n"
     ]
    }
   ],
   "source": [
    "print(fortrainData.groupby('day').size())\n",
    "print(len(fortrainData.groupby('day')))\n",
    "print(set(fortrainData['day']))"
   ]
  },
  {
   "cell_type": "markdown",
   "id": "3233bfd8",
   "metadata": {},
   "source": [
    "### Indexing day data"
   ]
  },
  {
   "cell_type": "code",
   "execution_count": 82,
   "id": "4bc2e734",
   "metadata": {},
   "outputs": [
    {
     "data": {
      "text/plain": [
       "day\n",
       "0     47914\n",
       "1    221009\n",
       "2    315966\n",
       "3    162321\n",
       "4    233027\n",
       "5    243315\n",
       "dtype: int64"
      ]
     },
     "execution_count": 82,
     "metadata": {},
     "output_type": "execute_result"
    }
   ],
   "source": [
    "fortrainData['day'].replace(to_replace = set(fortrainData['day']), value = np.arange(0,6), inplace = True)\n",
    "fortrainData.groupby('day').size()"
   ]
  },
  {
   "cell_type": "markdown",
   "id": "b96f1577",
   "metadata": {},
   "source": [
    "### One-hot encoding day column"
   ]
  },
  {
   "cell_type": "code",
   "execution_count": 83,
   "id": "1982da27",
   "metadata": {},
   "outputs": [
    {
     "data": {
      "text/plain": [
       "array([[0., 0., 0., 0., 0., 1.],\n",
       "       [0., 0., 0., 1., 0., 0.],\n",
       "       [0., 0., 0., 0., 1., 0.],\n",
       "       ...,\n",
       "       [0., 0., 1., 0., 0., 0.],\n",
       "       [0., 0., 0., 0., 0., 1.],\n",
       "       [1., 0., 0., 0., 0., 0.]], dtype=float32)"
      ]
     },
     "execution_count": 83,
     "metadata": {},
     "output_type": "execute_result"
    }
   ],
   "source": [
    "day_encoded_data = to_categorical(fortrainData['day'])\n",
    "day_encoded_data"
   ]
  },
  {
   "cell_type": "code",
   "execution_count": 84,
   "id": "d202feae",
   "metadata": {},
   "outputs": [
    {
     "data": {
      "text/plain": [
       "array([[0., 0., 0., 0., 0., 1.],\n",
       "       [0., 0., 0., 1., 0., 0.],\n",
       "       [0., 0., 0., 0., 1., 0.],\n",
       "       ...,\n",
       "       [0., 0., 1., 0., 0., 0.],\n",
       "       [0., 0., 0., 0., 0., 1.],\n",
       "       [1., 0., 0., 0., 0., 0.]], dtype=float32)"
      ]
     },
     "execution_count": 84,
     "metadata": {},
     "output_type": "execute_result"
    }
   ],
   "source": [
    "day_encoded_data"
   ]
  },
  {
   "cell_type": "code",
   "execution_count": 109,
   "id": "3faeb465",
   "metadata": {},
   "outputs": [
    {
     "name": "stdout",
     "output_type": "stream",
     "text": [
      "1223552\n",
      "1223552\n",
      "1223552\n",
      "1223552\n",
      "1223552\n"
     ]
    }
   ],
   "source": [
    "print(len(state_encoded_data))\n",
    "print(len(income_encoded_data))\n",
    "print(len(day_encoded_data))\n",
    "print(len(fortrainData['personexactage']))\n",
    "print(len(fortrainData['IsMobile']))"
   ]
  },
  {
   "cell_type": "code",
   "execution_count": 86,
   "id": "cff60f6a",
   "metadata": {},
   "outputs": [
    {
     "data": {
      "text/plain": [
       "((1223552, 34), (1223552, 19), (1223552, 6))"
      ]
     },
     "execution_count": 86,
     "metadata": {},
     "output_type": "execute_result"
    }
   ],
   "source": [
    "state_encoded_data.shape,income_encoded_data.shape, day_encoded_data.shape"
   ]
  },
  {
   "cell_type": "code",
   "execution_count": 108,
   "id": "3177d8b7",
   "metadata": {},
   "outputs": [
    {
     "ename": "KeyError",
     "evalue": "\"['datetime'] not in index\"",
     "output_type": "error",
     "traceback": [
      "\u001b[1;31m---------------------------------------------------------------------------\u001b[0m",
      "\u001b[1;31mKeyError\u001b[0m                                  Traceback (most recent call last)",
      "\u001b[1;32m<ipython-input-108-7fa8e6f29bf1>\u001b[0m in \u001b[0;36m<module>\u001b[1;34m\u001b[0m\n\u001b[1;32m----> 1\u001b[1;33m \u001b[0mtrain_data\u001b[0m \u001b[1;33m=\u001b[0m \u001b[0mfortrainData\u001b[0m\u001b[1;33m[\u001b[0m\u001b[1;33m[\u001b[0m\u001b[1;34m'personexactage'\u001b[0m \u001b[1;33m,\u001b[0m \u001b[1;34m'IsMobile'\u001b[0m \u001b[1;33m,\u001b[0m\u001b[1;34m'datetime'\u001b[0m\u001b[1;33m]\u001b[0m\u001b[1;33m]\u001b[0m\u001b[1;33m\u001b[0m\u001b[1;33m\u001b[0m\u001b[0m\n\u001b[0m\u001b[0;32m      2\u001b[0m \u001b[0mtrain_data\u001b[0m\u001b[1;33m\u001b[0m\u001b[1;33m\u001b[0m\u001b[0m\n",
      "\u001b[1;32m~\\Anaconda3\\lib\\site-packages\\pandas\\core\\frame.py\u001b[0m in \u001b[0;36m__getitem__\u001b[1;34m(self, key)\u001b[0m\n\u001b[0;32m   3028\u001b[0m             \u001b[1;32mif\u001b[0m \u001b[0mis_iterator\u001b[0m\u001b[1;33m(\u001b[0m\u001b[0mkey\u001b[0m\u001b[1;33m)\u001b[0m\u001b[1;33m:\u001b[0m\u001b[1;33m\u001b[0m\u001b[1;33m\u001b[0m\u001b[0m\n\u001b[0;32m   3029\u001b[0m                 \u001b[0mkey\u001b[0m \u001b[1;33m=\u001b[0m \u001b[0mlist\u001b[0m\u001b[1;33m(\u001b[0m\u001b[0mkey\u001b[0m\u001b[1;33m)\u001b[0m\u001b[1;33m\u001b[0m\u001b[1;33m\u001b[0m\u001b[0m\n\u001b[1;32m-> 3030\u001b[1;33m             \u001b[0mindexer\u001b[0m \u001b[1;33m=\u001b[0m \u001b[0mself\u001b[0m\u001b[1;33m.\u001b[0m\u001b[0mloc\u001b[0m\u001b[1;33m.\u001b[0m\u001b[0m_get_listlike_indexer\u001b[0m\u001b[1;33m(\u001b[0m\u001b[0mkey\u001b[0m\u001b[1;33m,\u001b[0m \u001b[0maxis\u001b[0m\u001b[1;33m=\u001b[0m\u001b[1;36m1\u001b[0m\u001b[1;33m,\u001b[0m \u001b[0mraise_missing\u001b[0m\u001b[1;33m=\u001b[0m\u001b[1;32mTrue\u001b[0m\u001b[1;33m)\u001b[0m\u001b[1;33m[\u001b[0m\u001b[1;36m1\u001b[0m\u001b[1;33m]\u001b[0m\u001b[1;33m\u001b[0m\u001b[1;33m\u001b[0m\u001b[0m\n\u001b[0m\u001b[0;32m   3031\u001b[0m \u001b[1;33m\u001b[0m\u001b[0m\n\u001b[0;32m   3032\u001b[0m         \u001b[1;31m# take() does not accept boolean indexers\u001b[0m\u001b[1;33m\u001b[0m\u001b[1;33m\u001b[0m\u001b[1;33m\u001b[0m\u001b[0m\n",
      "\u001b[1;32m~\\Anaconda3\\lib\\site-packages\\pandas\\core\\indexing.py\u001b[0m in \u001b[0;36m_get_listlike_indexer\u001b[1;34m(self, key, axis, raise_missing)\u001b[0m\n\u001b[0;32m   1264\u001b[0m             \u001b[0mkeyarr\u001b[0m\u001b[1;33m,\u001b[0m \u001b[0mindexer\u001b[0m\u001b[1;33m,\u001b[0m \u001b[0mnew_indexer\u001b[0m \u001b[1;33m=\u001b[0m \u001b[0max\u001b[0m\u001b[1;33m.\u001b[0m\u001b[0m_reindex_non_unique\u001b[0m\u001b[1;33m(\u001b[0m\u001b[0mkeyarr\u001b[0m\u001b[1;33m)\u001b[0m\u001b[1;33m\u001b[0m\u001b[1;33m\u001b[0m\u001b[0m\n\u001b[0;32m   1265\u001b[0m \u001b[1;33m\u001b[0m\u001b[0m\n\u001b[1;32m-> 1266\u001b[1;33m         \u001b[0mself\u001b[0m\u001b[1;33m.\u001b[0m\u001b[0m_validate_read_indexer\u001b[0m\u001b[1;33m(\u001b[0m\u001b[0mkeyarr\u001b[0m\u001b[1;33m,\u001b[0m \u001b[0mindexer\u001b[0m\u001b[1;33m,\u001b[0m \u001b[0maxis\u001b[0m\u001b[1;33m,\u001b[0m \u001b[0mraise_missing\u001b[0m\u001b[1;33m=\u001b[0m\u001b[0mraise_missing\u001b[0m\u001b[1;33m)\u001b[0m\u001b[1;33m\u001b[0m\u001b[1;33m\u001b[0m\u001b[0m\n\u001b[0m\u001b[0;32m   1267\u001b[0m         \u001b[1;32mreturn\u001b[0m \u001b[0mkeyarr\u001b[0m\u001b[1;33m,\u001b[0m \u001b[0mindexer\u001b[0m\u001b[1;33m\u001b[0m\u001b[1;33m\u001b[0m\u001b[0m\n\u001b[0;32m   1268\u001b[0m \u001b[1;33m\u001b[0m\u001b[0m\n",
      "\u001b[1;32m~\\Anaconda3\\lib\\site-packages\\pandas\\core\\indexing.py\u001b[0m in \u001b[0;36m_validate_read_indexer\u001b[1;34m(self, key, indexer, axis, raise_missing)\u001b[0m\n\u001b[0;32m   1314\u001b[0m             \u001b[1;32mif\u001b[0m \u001b[0mraise_missing\u001b[0m\u001b[1;33m:\u001b[0m\u001b[1;33m\u001b[0m\u001b[1;33m\u001b[0m\u001b[0m\n\u001b[0;32m   1315\u001b[0m                 \u001b[0mnot_found\u001b[0m \u001b[1;33m=\u001b[0m \u001b[0mlist\u001b[0m\u001b[1;33m(\u001b[0m\u001b[0mset\u001b[0m\u001b[1;33m(\u001b[0m\u001b[0mkey\u001b[0m\u001b[1;33m)\u001b[0m \u001b[1;33m-\u001b[0m \u001b[0mset\u001b[0m\u001b[1;33m(\u001b[0m\u001b[0max\u001b[0m\u001b[1;33m)\u001b[0m\u001b[1;33m)\u001b[0m\u001b[1;33m\u001b[0m\u001b[1;33m\u001b[0m\u001b[0m\n\u001b[1;32m-> 1316\u001b[1;33m                 \u001b[1;32mraise\u001b[0m \u001b[0mKeyError\u001b[0m\u001b[1;33m(\u001b[0m\u001b[1;34mf\"{not_found} not in index\"\u001b[0m\u001b[1;33m)\u001b[0m\u001b[1;33m\u001b[0m\u001b[1;33m\u001b[0m\u001b[0m\n\u001b[0m\u001b[0;32m   1317\u001b[0m \u001b[1;33m\u001b[0m\u001b[0m\n\u001b[0;32m   1318\u001b[0m             \u001b[0mnot_found\u001b[0m \u001b[1;33m=\u001b[0m \u001b[0mkey\u001b[0m\u001b[1;33m[\u001b[0m\u001b[0mmissing_mask\u001b[0m\u001b[1;33m]\u001b[0m\u001b[1;33m\u001b[0m\u001b[1;33m\u001b[0m\u001b[0m\n",
      "\u001b[1;31mKeyError\u001b[0m: \"['datetime'] not in index\""
     ]
    }
   ],
   "source": [
    "train_data = fortrainData[['personexactage' , 'IsMobile' ,'datetime']]\n",
    "train_data\n"
   ]
  },
  {
   "cell_type": "markdown",
   "id": "7c5d28d7",
   "metadata": {},
   "source": [
    "# SPLITING DATA"
   ]
  },
  {
   "cell_type": "code",
   "execution_count": 88,
   "id": "20d8e256",
   "metadata": {},
   "outputs": [
    {
     "name": "stdout",
     "output_type": "stream",
     "text": [
      "Train Data          personexactage  IsMobile\n",
      "743254               54         0\n",
      "40455                54         1\n",
      "1097773              80         0\n",
      "1226347              67         1\n",
      "1131754              69         0\n",
      "...                 ...       ...\n",
      "361023               41         1\n",
      "152796               68         0\n",
      "967057               82         1\n",
      "118308               69         1\n",
      "306840               87         0\n",
      "\n",
      "[917664 rows x 2 columns] \n",
      " Lenght of train Data 917664\n",
      "Test Data          personexactage  IsMobile\n",
      "126876               60         1\n",
      "1163197              82         0\n",
      "390985               52         1\n",
      "857330               50         1\n",
      "108431               70         1\n",
      "...                 ...       ...\n",
      "793413               70         1\n",
      "1161681              82         0\n",
      "938160               78         1\n",
      "377433               87         0\n",
      "896150               37         1\n",
      "\n",
      "[305888 rows x 2 columns] \n",
      " Lenght of Test Data 305888\n"
     ]
    }
   ],
   "source": [
    "from sklearn.model_selection import train_test_split\n",
    "\n",
    "# Seperating Data \"sklearn\" buildin Model\n",
    "X = train_data\n",
    "# Seperating Variables\n",
    "y = fortrainData['duration']\n",
    "\n",
    "# Spliting Data into two type(train, test)\n",
    "train_X, test_X, train_y, test_y = train_test_split(X, y, random_state = 0)\n",
    "print('Train Data',train_X,'\\n Lenght of train Data', len(train_X))\n",
    "print('Test Data',test_X,'\\n Lenght of Test Data', len(test_X))"
   ]
  },
  {
   "cell_type": "code",
   "execution_count": 89,
   "id": "718aeea5",
   "metadata": {},
   "outputs": [],
   "source": [
    "\n",
    "\n",
    "# from sklearn.metrics import *\n",
    "# confusion_matrix(fortrainData['personexactage'].to_list() ,fortrainData['duration'].to_list())"
   ]
  },
  {
   "cell_type": "code",
   "execution_count": 90,
   "id": "6edb0024",
   "metadata": {},
   "outputs": [
    {
     "name": "stdout",
     "output_type": "stream",
     "text": [
      "Model Train\n"
     ]
    }
   ],
   "source": [
    "from sklearn.linear_model import LinearRegression\n",
    "\n",
    "# Using Regression Model\n",
    "regression = LinearRegression()\n",
    "regression.fit(train_X, train_y)\n",
    "print('Model Train')"
   ]
  },
  {
   "cell_type": "code",
   "execution_count": null,
   "id": "dea0bef5",
   "metadata": {},
   "outputs": [],
   "source": []
  },
  {
   "cell_type": "code",
   "execution_count": 91,
   "id": "92600711",
   "metadata": {},
   "outputs": [
    {
     "data": {
      "text/html": [
       "<div>\n",
       "<style scoped>\n",
       "    .dataframe tbody tr th:only-of-type {\n",
       "        vertical-align: middle;\n",
       "    }\n",
       "\n",
       "    .dataframe tbody tr th {\n",
       "        vertical-align: top;\n",
       "    }\n",
       "\n",
       "    .dataframe thead th {\n",
       "        text-align: right;\n",
       "    }\n",
       "</style>\n",
       "<table border=\"1\" class=\"dataframe\">\n",
       "  <thead>\n",
       "    <tr style=\"text-align: right;\">\n",
       "      <th></th>\n",
       "      <th>personexactage</th>\n",
       "      <th>IsMobile</th>\n",
       "    </tr>\n",
       "  </thead>\n",
       "  <tbody>\n",
       "    <tr>\n",
       "      <th>743254</th>\n",
       "      <td>54</td>\n",
       "      <td>0</td>\n",
       "    </tr>\n",
       "    <tr>\n",
       "      <th>40455</th>\n",
       "      <td>54</td>\n",
       "      <td>1</td>\n",
       "    </tr>\n",
       "    <tr>\n",
       "      <th>1097773</th>\n",
       "      <td>80</td>\n",
       "      <td>0</td>\n",
       "    </tr>\n",
       "    <tr>\n",
       "      <th>1226347</th>\n",
       "      <td>67</td>\n",
       "      <td>1</td>\n",
       "    </tr>\n",
       "    <tr>\n",
       "      <th>1131754</th>\n",
       "      <td>69</td>\n",
       "      <td>0</td>\n",
       "    </tr>\n",
       "  </tbody>\n",
       "</table>\n",
       "</div>"
      ],
      "text/plain": [
       "         personexactage  IsMobile\n",
       "743254               54         0\n",
       "40455                54         1\n",
       "1097773              80         0\n",
       "1226347              67         1\n",
       "1131754              69         0"
      ]
     },
     "execution_count": 91,
     "metadata": {},
     "output_type": "execute_result"
    }
   ],
   "source": [
    "train_X.head()"
   ]
  },
  {
   "cell_type": "code",
   "execution_count": 92,
   "id": "52eb50e0",
   "metadata": {},
   "outputs": [
    {
     "data": {
      "text/plain": [
       "743254       4\n",
       "40455        0\n",
       "1097773    201\n",
       "1226347      9\n",
       "1131754     12\n",
       "Name: duration, dtype: int64"
      ]
     },
     "execution_count": 92,
     "metadata": {},
     "output_type": "execute_result"
    }
   ],
   "source": [
    "train_y.head()"
   ]
  },
  {
   "cell_type": "code",
   "execution_count": 93,
   "id": "c822ea38",
   "metadata": {},
   "outputs": [],
   "source": [
    "def convert(duration):\n",
    "    if duration <= 9:\n",
    "        duration = 'D1'\n",
    "        \n",
    "    elif duration <=60:\n",
    "        duration = 'D2'\n",
    "\n",
    "    else:\n",
    "        duration = 'D3'\n",
    "    return duration\n",
    "fortrainData['duration_classified'] = fortrainData['duration'].apply(convert)\n"
   ]
  },
  {
   "cell_type": "code",
   "execution_count": 94,
   "id": "65f7a51c",
   "metadata": {},
   "outputs": [
    {
     "data": {
      "text/html": [
       "<div>\n",
       "<style scoped>\n",
       "    .dataframe tbody tr th:only-of-type {\n",
       "        vertical-align: middle;\n",
       "    }\n",
       "\n",
       "    .dataframe tbody tr th {\n",
       "        vertical-align: top;\n",
       "    }\n",
       "\n",
       "    .dataframe thead th {\n",
       "        text-align: right;\n",
       "    }\n",
       "</style>\n",
       "<table border=\"1\" class=\"dataframe\">\n",
       "  <thead>\n",
       "    <tr style=\"text-align: right;\">\n",
       "      <th></th>\n",
       "      <th>state</th>\n",
       "      <th>personexactage</th>\n",
       "      <th>IsMobile</th>\n",
       "      <th>estimatedincomecode</th>\n",
       "      <th>day</th>\n",
       "      <th>duration</th>\n",
       "      <th>duration_classified</th>\n",
       "    </tr>\n",
       "  </thead>\n",
       "  <tbody>\n",
       "    <tr>\n",
       "      <th>0</th>\n",
       "      <td>33</td>\n",
       "      <td>61</td>\n",
       "      <td>0</td>\n",
       "      <td>16</td>\n",
       "      <td>5</td>\n",
       "      <td>0</td>\n",
       "      <td>D1</td>\n",
       "    </tr>\n",
       "    <tr>\n",
       "      <th>1</th>\n",
       "      <td>33</td>\n",
       "      <td>55</td>\n",
       "      <td>0</td>\n",
       "      <td>2</td>\n",
       "      <td>3</td>\n",
       "      <td>0</td>\n",
       "      <td>D1</td>\n",
       "    </tr>\n",
       "    <tr>\n",
       "      <th>2</th>\n",
       "      <td>33</td>\n",
       "      <td>64</td>\n",
       "      <td>1</td>\n",
       "      <td>16</td>\n",
       "      <td>4</td>\n",
       "      <td>0</td>\n",
       "      <td>D1</td>\n",
       "    </tr>\n",
       "    <tr>\n",
       "      <th>3</th>\n",
       "      <td>33</td>\n",
       "      <td>74</td>\n",
       "      <td>0</td>\n",
       "      <td>7</td>\n",
       "      <td>4</td>\n",
       "      <td>277</td>\n",
       "      <td>D3</td>\n",
       "    </tr>\n",
       "    <tr>\n",
       "      <th>4</th>\n",
       "      <td>33</td>\n",
       "      <td>74</td>\n",
       "      <td>0</td>\n",
       "      <td>7</td>\n",
       "      <td>1</td>\n",
       "      <td>0</td>\n",
       "      <td>D1</td>\n",
       "    </tr>\n",
       "    <tr>\n",
       "      <th>...</th>\n",
       "      <td>...</td>\n",
       "      <td>...</td>\n",
       "      <td>...</td>\n",
       "      <td>...</td>\n",
       "      <td>...</td>\n",
       "      <td>...</td>\n",
       "      <td>...</td>\n",
       "    </tr>\n",
       "    <tr>\n",
       "      <th>1228272</th>\n",
       "      <td>19</td>\n",
       "      <td>63</td>\n",
       "      <td>0</td>\n",
       "      <td>11</td>\n",
       "      <td>1</td>\n",
       "      <td>0</td>\n",
       "      <td>D1</td>\n",
       "    </tr>\n",
       "    <tr>\n",
       "      <th>1228273</th>\n",
       "      <td>19</td>\n",
       "      <td>63</td>\n",
       "      <td>0</td>\n",
       "      <td>11</td>\n",
       "      <td>2</td>\n",
       "      <td>0</td>\n",
       "      <td>D1</td>\n",
       "    </tr>\n",
       "    <tr>\n",
       "      <th>1228274</th>\n",
       "      <td>19</td>\n",
       "      <td>63</td>\n",
       "      <td>0</td>\n",
       "      <td>11</td>\n",
       "      <td>2</td>\n",
       "      <td>21</td>\n",
       "      <td>D2</td>\n",
       "    </tr>\n",
       "    <tr>\n",
       "      <th>1228275</th>\n",
       "      <td>19</td>\n",
       "      <td>63</td>\n",
       "      <td>0</td>\n",
       "      <td>11</td>\n",
       "      <td>5</td>\n",
       "      <td>20</td>\n",
       "      <td>D2</td>\n",
       "    </tr>\n",
       "    <tr>\n",
       "      <th>1228276</th>\n",
       "      <td>19</td>\n",
       "      <td>40</td>\n",
       "      <td>1</td>\n",
       "      <td>9</td>\n",
       "      <td>0</td>\n",
       "      <td>0</td>\n",
       "      <td>D1</td>\n",
       "    </tr>\n",
       "  </tbody>\n",
       "</table>\n",
       "<p>1223552 rows × 7 columns</p>\n",
       "</div>"
      ],
      "text/plain": [
       "         state  personexactage  IsMobile  estimatedincomecode  day  duration  \\\n",
       "0           33              61         0                   16    5         0   \n",
       "1           33              55         0                    2    3         0   \n",
       "2           33              64         1                   16    4         0   \n",
       "3           33              74         0                    7    4       277   \n",
       "4           33              74         0                    7    1         0   \n",
       "...        ...             ...       ...                  ...  ...       ...   \n",
       "1228272     19              63         0                   11    1         0   \n",
       "1228273     19              63         0                   11    2         0   \n",
       "1228274     19              63         0                   11    2        21   \n",
       "1228275     19              63         0                   11    5        20   \n",
       "1228276     19              40         1                    9    0         0   \n",
       "\n",
       "        duration_classified  \n",
       "0                        D1  \n",
       "1                        D1  \n",
       "2                        D1  \n",
       "3                        D3  \n",
       "4                        D1  \n",
       "...                     ...  \n",
       "1228272                  D1  \n",
       "1228273                  D1  \n",
       "1228274                  D2  \n",
       "1228275                  D2  \n",
       "1228276                  D1  \n",
       "\n",
       "[1223552 rows x 7 columns]"
      ]
     },
     "execution_count": 94,
     "metadata": {},
     "output_type": "execute_result"
    }
   ],
   "source": [
    "fortrainData"
   ]
  },
  {
   "cell_type": "code",
   "execution_count": 95,
   "id": "f7bb4939",
   "metadata": {},
   "outputs": [
    {
     "data": {
      "text/html": [
       "<div>\n",
       "<style scoped>\n",
       "    .dataframe tbody tr th:only-of-type {\n",
       "        vertical-align: middle;\n",
       "    }\n",
       "\n",
       "    .dataframe tbody tr th {\n",
       "        vertical-align: top;\n",
       "    }\n",
       "\n",
       "    .dataframe thead th {\n",
       "        text-align: right;\n",
       "    }\n",
       "</style>\n",
       "<table border=\"1\" class=\"dataframe\">\n",
       "  <thead>\n",
       "    <tr style=\"text-align: right;\">\n",
       "      <th></th>\n",
       "      <th>state</th>\n",
       "      <th>personexactage</th>\n",
       "      <th>IsMobile</th>\n",
       "      <th>estimatedincomecode</th>\n",
       "      <th>day</th>\n",
       "      <th>duration</th>\n",
       "      <th>duration_classified</th>\n",
       "    </tr>\n",
       "  </thead>\n",
       "  <tbody>\n",
       "    <tr>\n",
       "      <th>0</th>\n",
       "      <td>33</td>\n",
       "      <td>61</td>\n",
       "      <td>0</td>\n",
       "      <td>16</td>\n",
       "      <td>5</td>\n",
       "      <td>0</td>\n",
       "      <td>D1</td>\n",
       "    </tr>\n",
       "    <tr>\n",
       "      <th>1</th>\n",
       "      <td>33</td>\n",
       "      <td>55</td>\n",
       "      <td>0</td>\n",
       "      <td>2</td>\n",
       "      <td>3</td>\n",
       "      <td>0</td>\n",
       "      <td>D1</td>\n",
       "    </tr>\n",
       "    <tr>\n",
       "      <th>2</th>\n",
       "      <td>33</td>\n",
       "      <td>64</td>\n",
       "      <td>1</td>\n",
       "      <td>16</td>\n",
       "      <td>4</td>\n",
       "      <td>0</td>\n",
       "      <td>D1</td>\n",
       "    </tr>\n",
       "    <tr>\n",
       "      <th>3</th>\n",
       "      <td>33</td>\n",
       "      <td>74</td>\n",
       "      <td>0</td>\n",
       "      <td>7</td>\n",
       "      <td>4</td>\n",
       "      <td>277</td>\n",
       "      <td>D3</td>\n",
       "    </tr>\n",
       "    <tr>\n",
       "      <th>4</th>\n",
       "      <td>33</td>\n",
       "      <td>74</td>\n",
       "      <td>0</td>\n",
       "      <td>7</td>\n",
       "      <td>1</td>\n",
       "      <td>0</td>\n",
       "      <td>D1</td>\n",
       "    </tr>\n",
       "  </tbody>\n",
       "</table>\n",
       "</div>"
      ],
      "text/plain": [
       "   state  personexactage  IsMobile  estimatedincomecode  day  duration  \\\n",
       "0     33              61         0                   16    5         0   \n",
       "1     33              55         0                    2    3         0   \n",
       "2     33              64         1                   16    4         0   \n",
       "3     33              74         0                    7    4       277   \n",
       "4     33              74         0                    7    1         0   \n",
       "\n",
       "  duration_classified  \n",
       "0                  D1  \n",
       "1                  D1  \n",
       "2                  D1  \n",
       "3                  D3  \n",
       "4                  D1  "
      ]
     },
     "execution_count": 95,
     "metadata": {},
     "output_type": "execute_result"
    }
   ],
   "source": [
    "fortrainData.head()"
   ]
  },
  {
   "cell_type": "markdown",
   "id": "91e28d0c",
   "metadata": {},
   "source": [
    "# Training the model"
   ]
  },
  {
   "cell_type": "code",
   "execution_count": 96,
   "id": "d4199006",
   "metadata": {},
   "outputs": [],
   "source": [
    "# state_encoded_datacolumns =[\"state\"+str(i) for i in range(state_encoded_data.shape[1])]\n",
    "# day_encoded_datacolumns =[\"day_\"+str(i) for i in range(day_encoded_data.shape[1])]\n",
    "# income_encoded_datacolumns =[\"income\"+str(i) for i in range(income_encoded_data.shape[1])]\n",
    "\n",
    "                            \n",
    "# df_list = [\n",
    "#             pd.DataFrame(state_encoded_data,columns =state_encoded_datacolumns) ,\n",
    "#            pd.DataFrame(income_encoded_data, columns = income_encoded_datacolumns), \n",
    "#            pd.DataFrame(day_encoded_data, columns=day_encoded_datacolumns)\n",
    "#           ]\n",
    "\n",
    "# merged = pd.concat(df_list, axis=1)\n",
    "# merged.head(2)"
   ]
  },
  {
   "cell_type": "code",
   "execution_count": 97,
   "id": "9d794d59",
   "metadata": {},
   "outputs": [
    {
     "name": "stdout",
     "output_type": "stream",
     "text": [
      "Train Data          personexactage  IsMobile\n",
      "743254               54         0\n",
      "40455                54         1\n",
      "1097773              80         0\n",
      "1226347              67         1\n",
      "1131754              69         0\n",
      "...                 ...       ...\n",
      "361023               41         1\n",
      "152796               68         0\n",
      "967057               82         1\n",
      "118308               69         1\n",
      "306840               87         0\n",
      "\n",
      "[917664 rows x 2 columns] \n",
      " Lenght of train Data 917664\n",
      "Test Data          personexactage  IsMobile\n",
      "126876               60         1\n",
      "1163197              82         0\n",
      "390985               52         1\n",
      "857330               50         1\n",
      "108431               70         1\n",
      "...                 ...       ...\n",
      "793413               70         1\n",
      "1161681              82         0\n",
      "938160               78         1\n",
      "377433               87         0\n",
      "896150               37         1\n",
      "\n",
      "[305888 rows x 2 columns] \n",
      " Lenght of Test Data 305888\n"
     ]
    }
   ],
   "source": [
    "from sklearn.model_selection import train_test_split\n",
    "\n",
    "# Seperating Data \"sklearn\" buildin Model\n",
    "X = train_data  \n",
    "# Seperating Variables\n",
    "y = fortrainData['duration']\n",
    "\n",
    "# Spliting Data into two type(train, test)\n",
    "train_X, test_X, train_y, test_y = train_test_split(X, y, random_state = 0)\n",
    "print('Train Data',train_X,'\\n Lenght of train Data', len(train_X))\n",
    "print('Test Data',test_X,'\\n Lenght of Test Data', len(test_X))"
   ]
  },
  {
   "cell_type": "code",
   "execution_count": 98,
   "id": "5ad60f57",
   "metadata": {},
   "outputs": [
    {
     "name": "stdout",
     "output_type": "stream",
     "text": [
      "Model Trained\n"
     ]
    }
   ],
   "source": [
    "from sklearn.linear_model import LinearRegression\n",
    "\n",
    "# Using Regression Model\n",
    "regression = LinearRegression()\n",
    "regression.fit(train_X, train_y)\n",
    "print('Model Trained')"
   ]
  },
  {
   "cell_type": "code",
   "execution_count": 99,
   "id": "45678c9c",
   "metadata": {},
   "outputs": [],
   "source": [
    "pred_test_data = regression.predict(test_X)\n"
   ]
  },
  {
   "cell_type": "code",
   "execution_count": 100,
   "id": "eb62ba5c",
   "metadata": {},
   "outputs": [
    {
     "data": {
      "text/plain": [
       "array([14.04777083, 18.50623913, 13.7976258 , ..., 14.61059715,\n",
       "       18.66257978, 13.32860387])"
      ]
     },
     "execution_count": 100,
     "metadata": {},
     "output_type": "execute_result"
    }
   ],
   "source": [
    "pred_test_data"
   ]
  },
  {
   "cell_type": "code",
   "execution_count": 101,
   "id": "eb099021",
   "metadata": {},
   "outputs": [
    {
     "data": {
      "text/html": [
       "<div>\n",
       "<style scoped>\n",
       "    .dataframe tbody tr th:only-of-type {\n",
       "        vertical-align: middle;\n",
       "    }\n",
       "\n",
       "    .dataframe tbody tr th {\n",
       "        vertical-align: top;\n",
       "    }\n",
       "\n",
       "    .dataframe thead th {\n",
       "        text-align: right;\n",
       "    }\n",
       "</style>\n",
       "<table border=\"1\" class=\"dataframe\">\n",
       "  <thead>\n",
       "    <tr style=\"text-align: right;\">\n",
       "      <th></th>\n",
       "      <th>personexactage</th>\n",
       "      <th>IsMobile</th>\n",
       "    </tr>\n",
       "  </thead>\n",
       "  <tbody>\n",
       "    <tr>\n",
       "      <th>126876</th>\n",
       "      <td>60</td>\n",
       "      <td>1</td>\n",
       "    </tr>\n",
       "    <tr>\n",
       "      <th>1163197</th>\n",
       "      <td>82</td>\n",
       "      <td>0</td>\n",
       "    </tr>\n",
       "    <tr>\n",
       "      <th>390985</th>\n",
       "      <td>52</td>\n",
       "      <td>1</td>\n",
       "    </tr>\n",
       "    <tr>\n",
       "      <th>857330</th>\n",
       "      <td>50</td>\n",
       "      <td>1</td>\n",
       "    </tr>\n",
       "    <tr>\n",
       "      <th>108431</th>\n",
       "      <td>70</td>\n",
       "      <td>1</td>\n",
       "    </tr>\n",
       "    <tr>\n",
       "      <th>...</th>\n",
       "      <td>...</td>\n",
       "      <td>...</td>\n",
       "    </tr>\n",
       "    <tr>\n",
       "      <th>793413</th>\n",
       "      <td>70</td>\n",
       "      <td>1</td>\n",
       "    </tr>\n",
       "    <tr>\n",
       "      <th>1161681</th>\n",
       "      <td>82</td>\n",
       "      <td>0</td>\n",
       "    </tr>\n",
       "    <tr>\n",
       "      <th>938160</th>\n",
       "      <td>78</td>\n",
       "      <td>1</td>\n",
       "    </tr>\n",
       "    <tr>\n",
       "      <th>377433</th>\n",
       "      <td>87</td>\n",
       "      <td>0</td>\n",
       "    </tr>\n",
       "    <tr>\n",
       "      <th>896150</th>\n",
       "      <td>37</td>\n",
       "      <td>1</td>\n",
       "    </tr>\n",
       "  </tbody>\n",
       "</table>\n",
       "<p>305888 rows × 2 columns</p>\n",
       "</div>"
      ],
      "text/plain": [
       "         personexactage  IsMobile\n",
       "126876               60         1\n",
       "1163197              82         0\n",
       "390985               52         1\n",
       "857330               50         1\n",
       "108431               70         1\n",
       "...                 ...       ...\n",
       "793413               70         1\n",
       "1161681              82         0\n",
       "938160               78         1\n",
       "377433               87         0\n",
       "896150               37         1\n",
       "\n",
       "[305888 rows x 2 columns]"
      ]
     },
     "execution_count": 101,
     "metadata": {},
     "output_type": "execute_result"
    }
   ],
   "source": [
    "PredictDataFrame = pd.DataFrame(test_X)\n",
    "PredictDataFrame\n"
   ]
  },
  {
   "cell_type": "code",
   "execution_count": 102,
   "id": "a3e511a9",
   "metadata": {},
   "outputs": [],
   "source": [
    "PredictDataFrame['Actural Duration'] = test_y\n",
    "PredictDataFrame['Predicted Duration'] = pred_test_data"
   ]
  },
  {
   "cell_type": "code",
   "execution_count": 103,
   "id": "ba2f2a27",
   "metadata": {},
   "outputs": [],
   "source": [
    "PredictDataFrame[\"duration_classified\"] = pred_test_data"
   ]
  },
  {
   "cell_type": "code",
   "execution_count": 104,
   "id": "fe67964e",
   "metadata": {
    "scrolled": true
   },
   "outputs": [
    {
     "data": {
      "text/html": [
       "<div>\n",
       "<style scoped>\n",
       "    .dataframe tbody tr th:only-of-type {\n",
       "        vertical-align: middle;\n",
       "    }\n",
       "\n",
       "    .dataframe tbody tr th {\n",
       "        vertical-align: top;\n",
       "    }\n",
       "\n",
       "    .dataframe thead th {\n",
       "        text-align: right;\n",
       "    }\n",
       "</style>\n",
       "<table border=\"1\" class=\"dataframe\">\n",
       "  <thead>\n",
       "    <tr style=\"text-align: right;\">\n",
       "      <th></th>\n",
       "      <th>personexactage</th>\n",
       "      <th>IsMobile</th>\n",
       "      <th>Actural Duration</th>\n",
       "      <th>Predicted Duration</th>\n",
       "      <th>duration_classified</th>\n",
       "    </tr>\n",
       "  </thead>\n",
       "  <tbody>\n",
       "    <tr>\n",
       "      <th>126876</th>\n",
       "      <td>60</td>\n",
       "      <td>1</td>\n",
       "      <td>0</td>\n",
       "      <td>14.047771</td>\n",
       "      <td>14.047771</td>\n",
       "    </tr>\n",
       "    <tr>\n",
       "      <th>1163197</th>\n",
       "      <td>82</td>\n",
       "      <td>0</td>\n",
       "      <td>28</td>\n",
       "      <td>18.506239</td>\n",
       "      <td>18.506239</td>\n",
       "    </tr>\n",
       "    <tr>\n",
       "      <th>390985</th>\n",
       "      <td>52</td>\n",
       "      <td>1</td>\n",
       "      <td>8</td>\n",
       "      <td>13.797626</td>\n",
       "      <td>13.797626</td>\n",
       "    </tr>\n",
       "    <tr>\n",
       "      <th>857330</th>\n",
       "      <td>50</td>\n",
       "      <td>1</td>\n",
       "      <td>0</td>\n",
       "      <td>13.735090</td>\n",
       "      <td>13.735090</td>\n",
       "    </tr>\n",
       "    <tr>\n",
       "      <th>108431</th>\n",
       "      <td>70</td>\n",
       "      <td>1</td>\n",
       "      <td>0</td>\n",
       "      <td>14.360452</td>\n",
       "      <td>14.360452</td>\n",
       "    </tr>\n",
       "    <tr>\n",
       "      <th>...</th>\n",
       "      <td>...</td>\n",
       "      <td>...</td>\n",
       "      <td>...</td>\n",
       "      <td>...</td>\n",
       "      <td>...</td>\n",
       "    </tr>\n",
       "    <tr>\n",
       "      <th>793413</th>\n",
       "      <td>70</td>\n",
       "      <td>1</td>\n",
       "      <td>0</td>\n",
       "      <td>14.360452</td>\n",
       "      <td>14.360452</td>\n",
       "    </tr>\n",
       "    <tr>\n",
       "      <th>1161681</th>\n",
       "      <td>82</td>\n",
       "      <td>0</td>\n",
       "      <td>0</td>\n",
       "      <td>18.506239</td>\n",
       "      <td>18.506239</td>\n",
       "    </tr>\n",
       "    <tr>\n",
       "      <th>938160</th>\n",
       "      <td>78</td>\n",
       "      <td>1</td>\n",
       "      <td>11</td>\n",
       "      <td>14.610597</td>\n",
       "      <td>14.610597</td>\n",
       "    </tr>\n",
       "    <tr>\n",
       "      <th>377433</th>\n",
       "      <td>87</td>\n",
       "      <td>0</td>\n",
       "      <td>0</td>\n",
       "      <td>18.662580</td>\n",
       "      <td>18.662580</td>\n",
       "    </tr>\n",
       "    <tr>\n",
       "      <th>896150</th>\n",
       "      <td>37</td>\n",
       "      <td>1</td>\n",
       "      <td>0</td>\n",
       "      <td>13.328604</td>\n",
       "      <td>13.328604</td>\n",
       "    </tr>\n",
       "  </tbody>\n",
       "</table>\n",
       "<p>305888 rows × 5 columns</p>\n",
       "</div>"
      ],
      "text/plain": [
       "         personexactage  IsMobile  Actural Duration  Predicted Duration  \\\n",
       "126876               60         1                 0           14.047771   \n",
       "1163197              82         0                28           18.506239   \n",
       "390985               52         1                 8           13.797626   \n",
       "857330               50         1                 0           13.735090   \n",
       "108431               70         1                 0           14.360452   \n",
       "...                 ...       ...               ...                 ...   \n",
       "793413               70         1                 0           14.360452   \n",
       "1161681              82         0                 0           18.506239   \n",
       "938160               78         1                11           14.610597   \n",
       "377433               87         0                 0           18.662580   \n",
       "896150               37         1                 0           13.328604   \n",
       "\n",
       "         duration_classified  \n",
       "126876             14.047771  \n",
       "1163197            18.506239  \n",
       "390985             13.797626  \n",
       "857330             13.735090  \n",
       "108431             14.360452  \n",
       "...                      ...  \n",
       "793413             14.360452  \n",
       "1161681            18.506239  \n",
       "938160             14.610597  \n",
       "377433             18.662580  \n",
       "896150             13.328604  \n",
       "\n",
       "[305888 rows x 5 columns]"
      ]
     },
     "execution_count": 104,
     "metadata": {},
     "output_type": "execute_result"
    }
   ],
   "source": [
    "PredictDataFrame"
   ]
  },
  {
   "cell_type": "code",
   "execution_count": 105,
   "id": "60fd2e74",
   "metadata": {},
   "outputs": [
    {
     "ename": "ValueError",
     "evalue": "continuous is not supported",
     "output_type": "error",
     "traceback": [
      "\u001b[1;31m---------------------------------------------------------------------------\u001b[0m",
      "\u001b[1;31mValueError\u001b[0m                                Traceback (most recent call last)",
      "\u001b[1;32m<ipython-input-105-bc0f79a26392>\u001b[0m in \u001b[0;36m<module>\u001b[1;34m\u001b[0m\n\u001b[0;32m      2\u001b[0m \u001b[0my_true\u001b[0m \u001b[1;33m=\u001b[0m \u001b[0mPredictDataFrame\u001b[0m\u001b[1;33m[\u001b[0m\u001b[1;34m'duration_classified'\u001b[0m\u001b[1;33m]\u001b[0m\u001b[1;33m.\u001b[0m\u001b[0mvalues\u001b[0m\u001b[1;33m\u001b[0m\u001b[1;33m\u001b[0m\u001b[0m\n\u001b[0;32m      3\u001b[0m \u001b[0my_pred\u001b[0m \u001b[1;33m=\u001b[0m \u001b[0mPredictDataFrame\u001b[0m\u001b[1;33m[\u001b[0m\u001b[1;34m'Predicted Duration'\u001b[0m\u001b[1;33m]\u001b[0m\u001b[1;33m.\u001b[0m\u001b[0mvalues\u001b[0m\u001b[1;33m\u001b[0m\u001b[1;33m\u001b[0m\u001b[0m\n\u001b[1;32m----> 4\u001b[1;33m \u001b[0mconfusion_matrix\u001b[0m\u001b[1;33m(\u001b[0m\u001b[0my_true\u001b[0m\u001b[1;33m,\u001b[0m \u001b[0my_pred\u001b[0m\u001b[1;33m)\u001b[0m\u001b[1;33m\u001b[0m\u001b[1;33m\u001b[0m\u001b[0m\n\u001b[0m",
      "\u001b[1;32m~\\Anaconda3\\lib\\site-packages\\sklearn\\utils\\validation.py\u001b[0m in \u001b[0;36minner_f\u001b[1;34m(*args, **kwargs)\u001b[0m\n\u001b[0;32m     61\u001b[0m             \u001b[0mextra_args\u001b[0m \u001b[1;33m=\u001b[0m \u001b[0mlen\u001b[0m\u001b[1;33m(\u001b[0m\u001b[0margs\u001b[0m\u001b[1;33m)\u001b[0m \u001b[1;33m-\u001b[0m \u001b[0mlen\u001b[0m\u001b[1;33m(\u001b[0m\u001b[0mall_args\u001b[0m\u001b[1;33m)\u001b[0m\u001b[1;33m\u001b[0m\u001b[1;33m\u001b[0m\u001b[0m\n\u001b[0;32m     62\u001b[0m             \u001b[1;32mif\u001b[0m \u001b[0mextra_args\u001b[0m \u001b[1;33m<=\u001b[0m \u001b[1;36m0\u001b[0m\u001b[1;33m:\u001b[0m\u001b[1;33m\u001b[0m\u001b[1;33m\u001b[0m\u001b[0m\n\u001b[1;32m---> 63\u001b[1;33m                 \u001b[1;32mreturn\u001b[0m \u001b[0mf\u001b[0m\u001b[1;33m(\u001b[0m\u001b[1;33m*\u001b[0m\u001b[0margs\u001b[0m\u001b[1;33m,\u001b[0m \u001b[1;33m**\u001b[0m\u001b[0mkwargs\u001b[0m\u001b[1;33m)\u001b[0m\u001b[1;33m\u001b[0m\u001b[1;33m\u001b[0m\u001b[0m\n\u001b[0m\u001b[0;32m     64\u001b[0m \u001b[1;33m\u001b[0m\u001b[0m\n\u001b[0;32m     65\u001b[0m             \u001b[1;31m# extra_args > 0\u001b[0m\u001b[1;33m\u001b[0m\u001b[1;33m\u001b[0m\u001b[1;33m\u001b[0m\u001b[0m\n",
      "\u001b[1;32m~\\Anaconda3\\lib\\site-packages\\sklearn\\metrics\\_classification.py\u001b[0m in \u001b[0;36mconfusion_matrix\u001b[1;34m(y_true, y_pred, labels, sample_weight, normalize)\u001b[0m\n\u001b[0;32m    294\u001b[0m \u001b[1;33m\u001b[0m\u001b[0m\n\u001b[0;32m    295\u001b[0m     \"\"\"\n\u001b[1;32m--> 296\u001b[1;33m     \u001b[0my_type\u001b[0m\u001b[1;33m,\u001b[0m \u001b[0my_true\u001b[0m\u001b[1;33m,\u001b[0m \u001b[0my_pred\u001b[0m \u001b[1;33m=\u001b[0m \u001b[0m_check_targets\u001b[0m\u001b[1;33m(\u001b[0m\u001b[0my_true\u001b[0m\u001b[1;33m,\u001b[0m \u001b[0my_pred\u001b[0m\u001b[1;33m)\u001b[0m\u001b[1;33m\u001b[0m\u001b[1;33m\u001b[0m\u001b[0m\n\u001b[0m\u001b[0;32m    297\u001b[0m     \u001b[1;32mif\u001b[0m \u001b[0my_type\u001b[0m \u001b[1;32mnot\u001b[0m \u001b[1;32min\u001b[0m \u001b[1;33m(\u001b[0m\u001b[1;34m\"binary\"\u001b[0m\u001b[1;33m,\u001b[0m \u001b[1;34m\"multiclass\"\u001b[0m\u001b[1;33m)\u001b[0m\u001b[1;33m:\u001b[0m\u001b[1;33m\u001b[0m\u001b[1;33m\u001b[0m\u001b[0m\n\u001b[0;32m    298\u001b[0m         \u001b[1;32mraise\u001b[0m \u001b[0mValueError\u001b[0m\u001b[1;33m(\u001b[0m\u001b[1;34m\"%s is not supported\"\u001b[0m \u001b[1;33m%\u001b[0m \u001b[0my_type\u001b[0m\u001b[1;33m)\u001b[0m\u001b[1;33m\u001b[0m\u001b[1;33m\u001b[0m\u001b[0m\n",
      "\u001b[1;32m~\\Anaconda3\\lib\\site-packages\\sklearn\\metrics\\_classification.py\u001b[0m in \u001b[0;36m_check_targets\u001b[1;34m(y_true, y_pred)\u001b[0m\n\u001b[0;32m     98\u001b[0m     \u001b[1;31m# No metrics support \"multiclass-multioutput\" format\u001b[0m\u001b[1;33m\u001b[0m\u001b[1;33m\u001b[0m\u001b[1;33m\u001b[0m\u001b[0m\n\u001b[0;32m     99\u001b[0m     \u001b[1;32mif\u001b[0m \u001b[1;33m(\u001b[0m\u001b[0my_type\u001b[0m \u001b[1;32mnot\u001b[0m \u001b[1;32min\u001b[0m \u001b[1;33m[\u001b[0m\u001b[1;34m\"binary\"\u001b[0m\u001b[1;33m,\u001b[0m \u001b[1;34m\"multiclass\"\u001b[0m\u001b[1;33m,\u001b[0m \u001b[1;34m\"multilabel-indicator\"\u001b[0m\u001b[1;33m]\u001b[0m\u001b[1;33m)\u001b[0m\u001b[1;33m:\u001b[0m\u001b[1;33m\u001b[0m\u001b[1;33m\u001b[0m\u001b[0m\n\u001b[1;32m--> 100\u001b[1;33m         \u001b[1;32mraise\u001b[0m \u001b[0mValueError\u001b[0m\u001b[1;33m(\u001b[0m\u001b[1;34m\"{0} is not supported\"\u001b[0m\u001b[1;33m.\u001b[0m\u001b[0mformat\u001b[0m\u001b[1;33m(\u001b[0m\u001b[0my_type\u001b[0m\u001b[1;33m)\u001b[0m\u001b[1;33m)\u001b[0m\u001b[1;33m\u001b[0m\u001b[1;33m\u001b[0m\u001b[0m\n\u001b[0m\u001b[0;32m    101\u001b[0m \u001b[1;33m\u001b[0m\u001b[0m\n\u001b[0;32m    102\u001b[0m     \u001b[1;32mif\u001b[0m \u001b[0my_type\u001b[0m \u001b[1;32min\u001b[0m \u001b[1;33m[\u001b[0m\u001b[1;34m\"binary\"\u001b[0m\u001b[1;33m,\u001b[0m \u001b[1;34m\"multiclass\"\u001b[0m\u001b[1;33m]\u001b[0m\u001b[1;33m:\u001b[0m\u001b[1;33m\u001b[0m\u001b[1;33m\u001b[0m\u001b[0m\n",
      "\u001b[1;31mValueError\u001b[0m: continuous is not supported"
     ]
    }
   ],
   "source": [
    "\n",
    "from sklearn.metrics import confusion_matrix\n",
    "y_true = PredictDataFrame['duration_classified'].values\n",
    "y_pred = PredictDataFrame['Predicted Duration'].values\n",
    "confusion_matrix(y_true, y_pred)"
   ]
  },
  {
   "cell_type": "code",
   "execution_count": null,
   "id": "9237f203",
   "metadata": {},
   "outputs": [],
   "source": []
  },
  {
   "cell_type": "code",
   "execution_count": null,
   "id": "4a1ebab8",
   "metadata": {},
   "outputs": [],
   "source": []
  },
  {
   "cell_type": "code",
   "execution_count": null,
   "id": "0bf675a3",
   "metadata": {},
   "outputs": [],
   "source": []
  }
 ],
 "metadata": {
  "kernelspec": {
   "display_name": "Python 3",
   "language": "python",
   "name": "python3"
  },
  "language_info": {
   "codemirror_mode": {
    "name": "ipython",
    "version": 3
   },
   "file_extension": ".py",
   "mimetype": "text/x-python",
   "name": "python",
   "nbconvert_exporter": "python",
   "pygments_lexer": "ipython3",
   "version": "3.8.8"
  }
 },
 "nbformat": 4,
 "nbformat_minor": 5
}
