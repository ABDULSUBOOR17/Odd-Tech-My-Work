{
 "cells": [
  {
   "cell_type": "code",
   "execution_count": 1,
   "id": "e3fa4160",
   "metadata": {},
   "outputs": [],
   "source": [
    "import pandas as pd\n",
    "import os\n",
    "from itertools import groupby"
   ]
  },
  {
   "cell_type": "markdown",
   "id": "4abff253",
   "metadata": {},
   "source": [
    "# Tony DB 2021"
   ]
  },
  {
   "cell_type": "code",
   "execution_count": 2,
   "id": "09a5d2a6",
   "metadata": {},
   "outputs": [],
   "source": [
    "all_files_name_list_2021 = os.listdir(r'Z:\\AIDAILER\\Tony DB 2021')"
   ]
  },
  {
   "cell_type": "code",
   "execution_count": 3,
   "id": "879bb40f",
   "metadata": {},
   "outputs": [
    {
     "data": {
      "text/plain": [
       "['CA .csv',\n",
       " 'lit-AK.csv',\n",
       " 'lit-AL.csv',\n",
       " 'lit-AR.csv',\n",
       " 'lit-AZ.csv',\n",
       " 'lit-CO.csv',\n",
       " 'lit-CT.csv',\n",
       " 'lit-DC.csv',\n",
       " 'lit-DE.csv',\n",
       " 'lit-FL.csv',\n",
       " 'lit-GA.csv',\n",
       " 'lit-GU.csv',\n",
       " 'lit-HI.csv',\n",
       " 'lit-IA.csv',\n",
       " 'lit-ID.csv',\n",
       " 'lit-IL.csv',\n",
       " 'lit-IN.csv',\n",
       " 'lit-KS.csv',\n",
       " 'lit-KY.csv',\n",
       " 'lit-ME.csv',\n",
       " 'lit-MN.csv',\n",
       " 'lit-MO.csv',\n",
       " 'lit-MS.csv',\n",
       " 'lit-MT.csv',\n",
       " 'lit-NC.csv',\n",
       " 'lit-ND.csv',\n",
       " 'lit-NE.csv',\n",
       " 'lit-NH.csv',\n",
       " 'lit-NJ.csv',\n",
       " 'lit-NM.csv',\n",
       " 'lit-NV.csv',\n",
       " 'lit-NY.csv',\n",
       " 'lit-OH.csv',\n",
       " 'lit-OK.csv',\n",
       " 'lit-OR.csv',\n",
       " 'lit-PA.csv',\n",
       " 'lit-PR.csv',\n",
       " 'lit-RI.csv',\n",
       " 'lit-SC.csv',\n",
       " 'lit-SD.csv',\n",
       " 'lit-TN.csv',\n",
       " 'lit-TX.csv',\n",
       " 'lit-UT.csv',\n",
       " 'lit-VA.csv',\n",
       " 'lit-WA.csv',\n",
       " 'lit-WI.csv',\n",
       " 'lit-WV.csv',\n",
       " 'lit-WY.csv']"
      ]
     },
     "execution_count": 3,
     "metadata": {},
     "output_type": "execute_result"
    }
   ],
   "source": [
    "all_files_name_list_2021"
   ]
  },
  {
   "cell_type": "code",
   "execution_count": 7,
   "id": "097599ca",
   "metadata": {},
   "outputs": [],
   "source": [
    "a = r'Z:\\AIDAILER\\Tony DB 2021\\\\'"
   ]
  },
  {
   "cell_type": "code",
   "execution_count": 8,
   "id": "fefc1247",
   "metadata": {},
   "outputs": [
    {
     "data": {
      "text/plain": [
       "'Z:\\\\AIDAILER\\\\Tony DB 2021\\\\\\\\'"
      ]
     },
     "execution_count": 8,
     "metadata": {},
     "output_type": "execute_result"
    }
   ],
   "source": [
    "a"
   ]
  },
  {
   "cell_type": "code",
   "execution_count": 9,
   "id": "5b8956a5",
   "metadata": {},
   "outputs": [],
   "source": [
    "df_2021 = pd.read_csv(r'Z:\\AIDAILER\\Tony DB 2021\\\\' + str(all_files_name_list_2021[0]))"
   ]
  },
  {
   "cell_type": "code",
   "execution_count": 10,
   "id": "e216e3b3",
   "metadata": {},
   "outputs": [
    {
     "data": {
      "text/html": [
       "<div>\n",
       "<style scoped>\n",
       "    .dataframe tbody tr th:only-of-type {\n",
       "        vertical-align: middle;\n",
       "    }\n",
       "\n",
       "    .dataframe tbody tr th {\n",
       "        vertical-align: top;\n",
       "    }\n",
       "\n",
       "    .dataframe thead th {\n",
       "        text-align: right;\n",
       "    }\n",
       "</style>\n",
       "<table border=\"1\" class=\"dataframe\">\n",
       "  <thead>\n",
       "    <tr style=\"text-align: right;\">\n",
       "      <th></th>\n",
       "      <th>Phone Cleaned</th>\n",
       "      <th>FullPhoneNumber</th>\n",
       "      <th>personfirstname</th>\n",
       "      <th>personmiddleinitial</th>\n",
       "      <th>personlastname</th>\n",
       "      <th>primaryaddress</th>\n",
       "      <th>secondaryaddress</th>\n",
       "      <th>cityname</th>\n",
       "      <th>state</th>\n",
       "      <th>ZipCode</th>\n",
       "      <th>...</th>\n",
       "      <th>estimatedincomecode</th>\n",
       "      <th>CreditRating</th>\n",
       "      <th>NumberOfLinesOfCredit</th>\n",
       "      <th>Credit_RangeOfNewCredit</th>\n",
       "      <th>homeownerprobabilitymodel</th>\n",
       "      <th>Disconnected</th>\n",
       "      <th>National DNC</th>\n",
       "      <th>Internal DNC</th>\n",
       "      <th>Cellphone</th>\n",
       "      <th>Litigator</th>\n",
       "    </tr>\n",
       "  </thead>\n",
       "  <tbody>\n",
       "    <tr>\n",
       "      <th>0</th>\n",
       "      <td>8089224871</td>\n",
       "      <td>8089224871</td>\n",
       "      <td>SHARON</td>\n",
       "      <td>K</td>\n",
       "      <td>FARIS</td>\n",
       "      <td>2600 Pualani Way</td>\n",
       "      <td>Apt 2302</td>\n",
       "      <td>Honolulu</td>\n",
       "      <td>HI</td>\n",
       "      <td>96815</td>\n",
       "      <td>...</td>\n",
       "      <td>M</td>\n",
       "      <td>B</td>\n",
       "      <td>1</td>\n",
       "      <td>U</td>\n",
       "      <td>H</td>\n",
       "      <td>N</td>\n",
       "      <td>Y</td>\n",
       "      <td>N</td>\n",
       "      <td>N</td>\n",
       "      <td>N</td>\n",
       "    </tr>\n",
       "    <tr>\n",
       "      <th>1</th>\n",
       "      <td>8087801951</td>\n",
       "      <td>8087801951</td>\n",
       "      <td>MICHAEL</td>\n",
       "      <td>NaN</td>\n",
       "      <td>ELM</td>\n",
       "      <td>7305 Nuulolo St</td>\n",
       "      <td>NaN</td>\n",
       "      <td>Honolulu</td>\n",
       "      <td>HI</td>\n",
       "      <td>96825</td>\n",
       "      <td>...</td>\n",
       "      <td>S</td>\n",
       "      <td>C</td>\n",
       "      <td>2</td>\n",
       "      <td>4</td>\n",
       "      <td>H</td>\n",
       "      <td>N</td>\n",
       "      <td>N</td>\n",
       "      <td>N</td>\n",
       "      <td>Y</td>\n",
       "      <td>N</td>\n",
       "    </tr>\n",
       "    <tr>\n",
       "      <th>2</th>\n",
       "      <td>8087720818</td>\n",
       "      <td>8087720818</td>\n",
       "      <td>HUI</td>\n",
       "      <td>Y</td>\n",
       "      <td>LIANG</td>\n",
       "      <td>469 Ena Rd</td>\n",
       "      <td>Apt 2910</td>\n",
       "      <td>Honolulu</td>\n",
       "      <td>HI</td>\n",
       "      <td>96815</td>\n",
       "      <td>...</td>\n",
       "      <td>O</td>\n",
       "      <td>B</td>\n",
       "      <td>U</td>\n",
       "      <td>U</td>\n",
       "      <td>H</td>\n",
       "      <td>N</td>\n",
       "      <td>N</td>\n",
       "      <td>N</td>\n",
       "      <td>Y</td>\n",
       "      <td>N</td>\n",
       "    </tr>\n",
       "    <tr>\n",
       "      <th>3</th>\n",
       "      <td>8087720818</td>\n",
       "      <td>8087720818</td>\n",
       "      <td>YAN</td>\n",
       "      <td>NaN</td>\n",
       "      <td>LIANG</td>\n",
       "      <td>469 Ena Rd</td>\n",
       "      <td>Apt 2910</td>\n",
       "      <td>Honolulu</td>\n",
       "      <td>HI</td>\n",
       "      <td>96815</td>\n",
       "      <td>...</td>\n",
       "      <td>O</td>\n",
       "      <td>B</td>\n",
       "      <td>U</td>\n",
       "      <td>U</td>\n",
       "      <td>H</td>\n",
       "      <td>N</td>\n",
       "      <td>N</td>\n",
       "      <td>N</td>\n",
       "      <td>Y</td>\n",
       "      <td>N</td>\n",
       "    </tr>\n",
       "    <tr>\n",
       "      <th>4</th>\n",
       "      <td>8088391242</td>\n",
       "      <td>8088391242</td>\n",
       "      <td>ALFRED</td>\n",
       "      <td>NaN</td>\n",
       "      <td>BONGA</td>\n",
       "      <td>1544 Onipaa St</td>\n",
       "      <td>NaN</td>\n",
       "      <td>Honolulu</td>\n",
       "      <td>HI</td>\n",
       "      <td>96819</td>\n",
       "      <td>...</td>\n",
       "      <td>A</td>\n",
       "      <td>A</td>\n",
       "      <td>U</td>\n",
       "      <td>U</td>\n",
       "      <td>H</td>\n",
       "      <td>N</td>\n",
       "      <td>Y</td>\n",
       "      <td>N</td>\n",
       "      <td>N</td>\n",
       "      <td>N</td>\n",
       "    </tr>\n",
       "    <tr>\n",
       "      <th>...</th>\n",
       "      <td>...</td>\n",
       "      <td>...</td>\n",
       "      <td>...</td>\n",
       "      <td>...</td>\n",
       "      <td>...</td>\n",
       "      <td>...</td>\n",
       "      <td>...</td>\n",
       "      <td>...</td>\n",
       "      <td>...</td>\n",
       "      <td>...</td>\n",
       "      <td>...</td>\n",
       "      <td>...</td>\n",
       "      <td>...</td>\n",
       "      <td>...</td>\n",
       "      <td>...</td>\n",
       "      <td>...</td>\n",
       "      <td>...</td>\n",
       "      <td>...</td>\n",
       "      <td>...</td>\n",
       "      <td>...</td>\n",
       "      <td>...</td>\n",
       "    </tr>\n",
       "    <tr>\n",
       "      <th>185649</th>\n",
       "      <td>8087544249</td>\n",
       "      <td>8087544249</td>\n",
       "      <td>EMMANUEL</td>\n",
       "      <td>A</td>\n",
       "      <td>ASEJO</td>\n",
       "      <td>92-312 Pueonani Pl</td>\n",
       "      <td>NaN</td>\n",
       "      <td>Kapolei</td>\n",
       "      <td>HI</td>\n",
       "      <td>96707</td>\n",
       "      <td>...</td>\n",
       "      <td>S</td>\n",
       "      <td>D</td>\n",
       "      <td>U</td>\n",
       "      <td>U</td>\n",
       "      <td>H</td>\n",
       "      <td>N</td>\n",
       "      <td>Y</td>\n",
       "      <td>N</td>\n",
       "      <td>Y</td>\n",
       "      <td>N</td>\n",
       "    </tr>\n",
       "    <tr>\n",
       "      <th>185650</th>\n",
       "      <td>8087541469</td>\n",
       "      <td>8087541469</td>\n",
       "      <td>SUSAN</td>\n",
       "      <td>NaN</td>\n",
       "      <td>TUNNEY</td>\n",
       "      <td>1416 Luinakoa St</td>\n",
       "      <td>NaN</td>\n",
       "      <td>Honolulu</td>\n",
       "      <td>HI</td>\n",
       "      <td>96821</td>\n",
       "      <td>...</td>\n",
       "      <td>S</td>\n",
       "      <td>B</td>\n",
       "      <td>1</td>\n",
       "      <td>U</td>\n",
       "      <td>H</td>\n",
       "      <td>N</td>\n",
       "      <td>Y</td>\n",
       "      <td>N</td>\n",
       "      <td>Y</td>\n",
       "      <td>N</td>\n",
       "    </tr>\n",
       "    <tr>\n",
       "      <th>185651</th>\n",
       "      <td>8087284088</td>\n",
       "      <td>8087284088</td>\n",
       "      <td>SHERWIN</td>\n",
       "      <td>M</td>\n",
       "      <td>BACTAT</td>\n",
       "      <td>94-464 Kuahui St</td>\n",
       "      <td>NaN</td>\n",
       "      <td>Waipahu</td>\n",
       "      <td>HI</td>\n",
       "      <td>96797</td>\n",
       "      <td>...</td>\n",
       "      <td>G</td>\n",
       "      <td>C</td>\n",
       "      <td>U</td>\n",
       "      <td>U</td>\n",
       "      <td>H</td>\n",
       "      <td>N</td>\n",
       "      <td>Y</td>\n",
       "      <td>N</td>\n",
       "      <td>Y</td>\n",
       "      <td>N</td>\n",
       "    </tr>\n",
       "    <tr>\n",
       "      <th>185652</th>\n",
       "      <td>8083433912</td>\n",
       "      <td>8083433912</td>\n",
       "      <td>BEVERLY</td>\n",
       "      <td>NaN</td>\n",
       "      <td>CHEZIK</td>\n",
       "      <td>95-199 Aumea Loop</td>\n",
       "      <td>NaN</td>\n",
       "      <td>Mililani</td>\n",
       "      <td>HI</td>\n",
       "      <td>96789</td>\n",
       "      <td>...</td>\n",
       "      <td>O</td>\n",
       "      <td>B</td>\n",
       "      <td>1</td>\n",
       "      <td>U</td>\n",
       "      <td>H</td>\n",
       "      <td>N</td>\n",
       "      <td>Y</td>\n",
       "      <td>N</td>\n",
       "      <td>Y</td>\n",
       "      <td>N</td>\n",
       "    </tr>\n",
       "    <tr>\n",
       "      <th>185653</th>\n",
       "      <td>8083433912</td>\n",
       "      <td>8083433912</td>\n",
       "      <td>JESSICA</td>\n",
       "      <td>K</td>\n",
       "      <td>CHEZIK</td>\n",
       "      <td>95-199 Aumea Loop</td>\n",
       "      <td>NaN</td>\n",
       "      <td>Mililani</td>\n",
       "      <td>HI</td>\n",
       "      <td>96789</td>\n",
       "      <td>...</td>\n",
       "      <td>N</td>\n",
       "      <td>B</td>\n",
       "      <td>1</td>\n",
       "      <td>U</td>\n",
       "      <td>H</td>\n",
       "      <td>N</td>\n",
       "      <td>Y</td>\n",
       "      <td>N</td>\n",
       "      <td>Y</td>\n",
       "      <td>N</td>\n",
       "    </tr>\n",
       "  </tbody>\n",
       "</table>\n",
       "<p>185654 rows × 25 columns</p>\n",
       "</div>"
      ],
      "text/plain": [
       "        Phone Cleaned  FullPhoneNumber personfirstname personmiddleinitial  \\\n",
       "0          8089224871       8089224871          SHARON                   K   \n",
       "1          8087801951       8087801951         MICHAEL                 NaN   \n",
       "2          8087720818       8087720818             HUI                   Y   \n",
       "3          8087720818       8087720818             YAN                 NaN   \n",
       "4          8088391242       8088391242          ALFRED                 NaN   \n",
       "...               ...              ...             ...                 ...   \n",
       "185649     8087544249       8087544249        EMMANUEL                   A   \n",
       "185650     8087541469       8087541469           SUSAN                 NaN   \n",
       "185651     8087284088       8087284088         SHERWIN                   M   \n",
       "185652     8083433912       8083433912         BEVERLY                 NaN   \n",
       "185653     8083433912       8083433912         JESSICA                   K   \n",
       "\n",
       "       personlastname      primaryaddress secondaryaddress  cityname state  \\\n",
       "0               FARIS    2600 Pualani Way         Apt 2302  Honolulu    HI   \n",
       "1                 ELM     7305 Nuulolo St              NaN  Honolulu    HI   \n",
       "2               LIANG          469 Ena Rd         Apt 2910  Honolulu    HI   \n",
       "3               LIANG          469 Ena Rd         Apt 2910  Honolulu    HI   \n",
       "4               BONGA      1544 Onipaa St              NaN  Honolulu    HI   \n",
       "...               ...                 ...              ...       ...   ...   \n",
       "185649          ASEJO  92-312 Pueonani Pl              NaN   Kapolei    HI   \n",
       "185650         TUNNEY    1416 Luinakoa St              NaN  Honolulu    HI   \n",
       "185651         BACTAT    94-464 Kuahui St              NaN   Waipahu    HI   \n",
       "185652         CHEZIK   95-199 Aumea Loop              NaN  Mililani    HI   \n",
       "185653         CHEZIK   95-199 Aumea Loop              NaN  Mililani    HI   \n",
       "\n",
       "        ZipCode  ...  estimatedincomecode  CreditRating  \\\n",
       "0         96815  ...                    M             B   \n",
       "1         96825  ...                    S             C   \n",
       "2         96815  ...                    O             B   \n",
       "3         96815  ...                    O             B   \n",
       "4         96819  ...                    A             A   \n",
       "...         ...  ...                  ...           ...   \n",
       "185649    96707  ...                    S             D   \n",
       "185650    96821  ...                    S             B   \n",
       "185651    96797  ...                    G             C   \n",
       "185652    96789  ...                    O             B   \n",
       "185653    96789  ...                    N             B   \n",
       "\n",
       "        NumberOfLinesOfCredit  Credit_RangeOfNewCredit  \\\n",
       "0                           1                        U   \n",
       "1                           2                        4   \n",
       "2                           U                        U   \n",
       "3                           U                        U   \n",
       "4                           U                        U   \n",
       "...                       ...                      ...   \n",
       "185649                      U                        U   \n",
       "185650                      1                        U   \n",
       "185651                      U                        U   \n",
       "185652                      1                        U   \n",
       "185653                      1                        U   \n",
       "\n",
       "       homeownerprobabilitymodel Disconnected National DNC Internal DNC  \\\n",
       "0                              H            N            Y            N   \n",
       "1                              H            N            N            N   \n",
       "2                              H            N            N            N   \n",
       "3                              H            N            N            N   \n",
       "4                              H            N            Y            N   \n",
       "...                          ...          ...          ...          ...   \n",
       "185649                         H            N            Y            N   \n",
       "185650                         H            N            Y            N   \n",
       "185651                         H            N            Y            N   \n",
       "185652                         H            N            Y            N   \n",
       "185653                         H            N            Y            N   \n",
       "\n",
       "       Cellphone Litigator  \n",
       "0              N         N  \n",
       "1              Y         N  \n",
       "2              Y         N  \n",
       "3              Y         N  \n",
       "4              N         N  \n",
       "...          ...       ...  \n",
       "185649         Y         N  \n",
       "185650         Y         N  \n",
       "185651         Y         N  \n",
       "185652         Y         N  \n",
       "185653         Y         N  \n",
       "\n",
       "[185654 rows x 25 columns]"
      ]
     },
     "execution_count": 10,
     "metadata": {},
     "output_type": "execute_result"
    }
   ],
   "source": [
    "df_2021"
   ]
  },
  {
   "cell_type": "markdown",
   "id": "08020389",
   "metadata": {},
   "source": [
    "# intent_export_2021-11-30.csv "
   ]
  },
  {
   "cell_type": "code",
   "execution_count": 2,
   "id": "b8106d04",
   "metadata": {},
   "outputs": [],
   "source": [
    "# df = pd.read_csv('intent_export_2021-11-30.csv')"
   ]
  },
  {
   "cell_type": "code",
   "execution_count": null,
   "id": "a7db5afc",
   "metadata": {},
   "outputs": [],
   "source": [
    "# changes karke trainee waly channel pr bhej dena\n",
    "# srff human waly column par kaarna h\n",
    "\n",
    "# 1- remove null\n",
    "# 2- remove duplicate\n",
    "# 3- remove junk\n",
    "# 4- remove bots responses"
   ]
  },
  {
   "cell_type": "code",
   "execution_count": 3,
   "id": "45b6b297",
   "metadata": {},
   "outputs": [
    {
     "data": {
      "text/plain": [
       "(13751, 3)"
      ]
     },
     "execution_count": 3,
     "metadata": {},
     "output_type": "execute_result"
    }
   ],
   "source": [
    "# df.shape"
   ]
  },
  {
   "cell_type": "code",
   "execution_count": 4,
   "id": "bcf359ea",
   "metadata": {},
   "outputs": [
    {
     "data": {
      "text/html": [
       "<div>\n",
       "<style scoped>\n",
       "    .dataframe tbody tr th:only-of-type {\n",
       "        vertical-align: middle;\n",
       "    }\n",
       "\n",
       "    .dataframe tbody tr th {\n",
       "        vertical-align: top;\n",
       "    }\n",
       "\n",
       "    .dataframe thead th {\n",
       "        text-align: right;\n",
       "    }\n",
       "</style>\n",
       "<table border=\"1\" class=\"dataframe\">\n",
       "  <thead>\n",
       "    <tr style=\"text-align: right;\">\n",
       "      <th></th>\n",
       "      <th>bot_transcribe</th>\n",
       "      <th>human_transcribe</th>\n",
       "      <th>intent</th>\n",
       "    </tr>\n",
       "  </thead>\n",
       "  <tbody>\n",
       "    <tr>\n",
       "      <th>0</th>\n",
       "      <td>i dont have any kid</td>\n",
       "      <td>i dont have any kid</td>\n",
       "      <td>NaN</td>\n",
       "    </tr>\n",
       "    <tr>\n",
       "      <th>1</th>\n",
       "      <td>do you know hat what is it for</td>\n",
       "      <td>do you know what is it for</td>\n",
       "      <td>about</td>\n",
       "    </tr>\n",
       "    <tr>\n",
       "      <th>2</th>\n",
       "      <td>i dont nowwha the credit cardyouknow all have ...</td>\n",
       "      <td>i dont now what the credit card you know</td>\n",
       "      <td>about</td>\n",
       "    </tr>\n",
       "    <tr>\n",
       "      <th>3</th>\n",
       "      <td>james from the debt relief program</td>\n",
       "      <td>james from the debt relief program</td>\n",
       "      <td>NaN</td>\n",
       "    </tr>\n",
       "    <tr>\n",
       "      <th>4</th>\n",
       "      <td>do you work for</td>\n",
       "      <td>do you work for</td>\n",
       "      <td>NaN</td>\n",
       "    </tr>\n",
       "    <tr>\n",
       "      <th>...</th>\n",
       "      <td>...</td>\n",
       "      <td>...</td>\n",
       "      <td>...</td>\n",
       "    </tr>\n",
       "    <tr>\n",
       "      <th>13746</th>\n",
       "      <td>ye well i guess its goodby</td>\n",
       "      <td>ye well i guess its goodbye</td>\n",
       "      <td>NaN</td>\n",
       "    </tr>\n",
       "    <tr>\n",
       "      <th>13747</th>\n",
       "      <td>i dont have any credit card her</td>\n",
       "      <td>i dont have any credit card sir</td>\n",
       "      <td>NaN</td>\n",
       "    </tr>\n",
       "    <tr>\n",
       "      <th>13748</th>\n",
       "      <td>what the are</td>\n",
       "      <td>what the debt</td>\n",
       "      <td>NaN</td>\n",
       "    </tr>\n",
       "    <tr>\n",
       "      <th>13749</th>\n",
       "      <td>i have a moment</td>\n",
       "      <td>i have a moment</td>\n",
       "      <td>NaN</td>\n",
       "    </tr>\n",
       "    <tr>\n",
       "      <th>13750</th>\n",
       "      <td>can you please come on my phone can handle all...</td>\n",
       "      <td>can you please come on my phone can handle all...</td>\n",
       "      <td>NaN</td>\n",
       "    </tr>\n",
       "  </tbody>\n",
       "</table>\n",
       "<p>13751 rows × 3 columns</p>\n",
       "</div>"
      ],
      "text/plain": [
       "                                          bot_transcribe  \\\n",
       "0                                    i dont have any kid   \n",
       "1                         do you know hat what is it for   \n",
       "2      i dont nowwha the credit cardyouknow all have ...   \n",
       "3                     james from the debt relief program   \n",
       "4                                        do you work for   \n",
       "...                                                  ...   \n",
       "13746                         ye well i guess its goodby   \n",
       "13747                    i dont have any credit card her   \n",
       "13748                                       what the are   \n",
       "13749                                    i have a moment   \n",
       "13750  can you please come on my phone can handle all...   \n",
       "\n",
       "                                        human_transcribe intent  \n",
       "0                                    i dont have any kid    NaN  \n",
       "1                             do you know what is it for  about  \n",
       "2              i dont now what the credit card you know   about  \n",
       "3                     james from the debt relief program    NaN  \n",
       "4                                        do you work for    NaN  \n",
       "...                                                  ...    ...  \n",
       "13746                        ye well i guess its goodbye    NaN  \n",
       "13747                    i dont have any credit card sir    NaN  \n",
       "13748                                      what the debt    NaN  \n",
       "13749                                    i have a moment    NaN  \n",
       "13750  can you please come on my phone can handle all...    NaN  \n",
       "\n",
       "[13751 rows x 3 columns]"
      ]
     },
     "execution_count": 4,
     "metadata": {},
     "output_type": "execute_result"
    }
   ],
   "source": [
    "# df"
   ]
  },
  {
   "cell_type": "code",
   "execution_count": 5,
   "id": "a7afa328",
   "metadata": {},
   "outputs": [
    {
     "data": {
      "text/plain": [
       "Index(['bot_transcribe', 'human_transcribe', 'intent'], dtype='object')"
      ]
     },
     "execution_count": 5,
     "metadata": {},
     "output_type": "execute_result"
    }
   ],
   "source": [
    "# df.columns"
   ]
  },
  {
   "cell_type": "code",
   "execution_count": 6,
   "id": "bc4b08e1",
   "metadata": {},
   "outputs": [
    {
     "data": {
      "text/plain": [
       "hello                                   255\n",
       "Hello                                    58\n",
       "hello hello                              48\n",
       "hello                                    43\n",
       "who is this                              43\n",
       "                                       ... \n",
       "i cant give you the last four number      1\n",
       "okay James                                1\n",
       "can you repeat that                       1\n",
       "thats the thing i dont have any debt      1\n",
       "james whats your last name                1\n",
       "Name: human_transcribe, Length: 12334, dtype: int64"
      ]
     },
     "execution_count": 6,
     "metadata": {},
     "output_type": "execute_result"
    }
   ],
   "source": [
    "# df['human_transcribe'].value_counts()"
   ]
  },
  {
   "cell_type": "code",
   "execution_count": 7,
   "id": "0b4c35ac",
   "metadata": {},
   "outputs": [
    {
     "data": {
      "text/plain": [
       "12335"
      ]
     },
     "execution_count": 7,
     "metadata": {},
     "output_type": "execute_result"
    }
   ],
   "source": [
    "# len(df['human_transcribe'].unique())"
   ]
  },
  {
   "cell_type": "code",
   "execution_count": 8,
   "id": "e3f565ea",
   "metadata": {},
   "outputs": [
    {
     "data": {
      "text/plain": [
       "1416"
      ]
     },
     "execution_count": 8,
     "metadata": {},
     "output_type": "execute_result"
    }
   ],
   "source": [
    "# 13751-12335"
   ]
  },
  {
   "cell_type": "code",
   "execution_count": 9,
   "id": "e2b6aaea",
   "metadata": {},
   "outputs": [],
   "source": [
    "# val_counts = df['human_transcribe'].value_counts()"
   ]
  },
  {
   "cell_type": "code",
   "execution_count": 10,
   "id": "b7058cb0",
   "metadata": {},
   "outputs": [
    {
     "data": {
      "text/plain": [
       "False    13673\n",
       "True        78\n",
       "Name: human_transcribe, dtype: int64"
      ]
     },
     "execution_count": 10,
     "metadata": {},
     "output_type": "execute_result"
    }
   ],
   "source": [
    "# df['human_transcribe'].isnull().value_counts()"
   ]
  },
  {
   "cell_type": "code",
   "execution_count": 10,
   "id": "20c123b1",
   "metadata": {},
   "outputs": [
    {
     "data": {
      "text/plain": [
       "hello          255\n",
       "Hello           58\n",
       "hello hello     48\n",
       "who is this     43\n",
       "hello           43\n",
       "              ... \n",
       "visa             2\n",
       "who's this       2\n",
       "three            2\n",
       "you call me      2\n",
       "Nope             2\n",
       "Name: human_transcribe, Length: 435, dtype: int64"
      ]
     },
     "execution_count": 10,
     "metadata": {},
     "output_type": "execute_result"
    }
   ],
   "source": [
    "# val_counts[val_counts > 1]"
   ]
  },
  {
   "cell_type": "code",
   "execution_count": 41,
   "id": "e730c463",
   "metadata": {},
   "outputs": [
    {
     "name": "stdout",
     "output_type": "stream",
     "text": [
      "13751\n",
      "12335\n"
     ]
    }
   ],
   "source": [
    "# # Removing Duplicates\n",
    "# print(len(df))\n",
    "# df_rm_dup = df.drop_duplicates(subset='human_transcribe')\n",
    "# print(len(df_rm_dup))"
   ]
  },
  {
   "cell_type": "code",
   "execution_count": 42,
   "id": "7d31c6c8",
   "metadata": {},
   "outputs": [
    {
     "data": {
      "text/html": [
       "<div>\n",
       "<style scoped>\n",
       "    .dataframe tbody tr th:only-of-type {\n",
       "        vertical-align: middle;\n",
       "    }\n",
       "\n",
       "    .dataframe tbody tr th {\n",
       "        vertical-align: top;\n",
       "    }\n",
       "\n",
       "    .dataframe thead th {\n",
       "        text-align: right;\n",
       "    }\n",
       "</style>\n",
       "<table border=\"1\" class=\"dataframe\">\n",
       "  <thead>\n",
       "    <tr style=\"text-align: right;\">\n",
       "      <th></th>\n",
       "      <th>bot_transcribe</th>\n",
       "      <th>human_transcribe</th>\n",
       "      <th>intent</th>\n",
       "    </tr>\n",
       "  </thead>\n",
       "  <tbody>\n",
       "    <tr>\n",
       "      <th>0</th>\n",
       "      <td>i dont have any kid</td>\n",
       "      <td>i dont have any kid</td>\n",
       "      <td>NaN</td>\n",
       "    </tr>\n",
       "    <tr>\n",
       "      <th>1</th>\n",
       "      <td>do you know hat what is it for</td>\n",
       "      <td>do you know what is it for</td>\n",
       "      <td>about</td>\n",
       "    </tr>\n",
       "    <tr>\n",
       "      <th>2</th>\n",
       "      <td>i dont nowwha the credit cardyouknow all have ...</td>\n",
       "      <td>i dont now what the credit card you know</td>\n",
       "      <td>about</td>\n",
       "    </tr>\n",
       "    <tr>\n",
       "      <th>3</th>\n",
       "      <td>james from the debt relief program</td>\n",
       "      <td>james from the debt relief program</td>\n",
       "      <td>NaN</td>\n",
       "    </tr>\n",
       "    <tr>\n",
       "      <th>4</th>\n",
       "      <td>do you work for</td>\n",
       "      <td>do you work for</td>\n",
       "      <td>NaN</td>\n",
       "    </tr>\n",
       "  </tbody>\n",
       "</table>\n",
       "</div>"
      ],
      "text/plain": [
       "                                      bot_transcribe  \\\n",
       "0                                i dont have any kid   \n",
       "1                     do you know hat what is it for   \n",
       "2  i dont nowwha the credit cardyouknow all have ...   \n",
       "3                 james from the debt relief program   \n",
       "4                                    do you work for   \n",
       "\n",
       "                            human_transcribe intent  \n",
       "0                        i dont have any kid    NaN  \n",
       "1                 do you know what is it for  about  \n",
       "2  i dont now what the credit card you know   about  \n",
       "3         james from the debt relief program    NaN  \n",
       "4                            do you work for    NaN  "
      ]
     },
     "execution_count": 42,
     "metadata": {},
     "output_type": "execute_result"
    }
   ],
   "source": [
    "# df_rm_dup.head()"
   ]
  },
  {
   "cell_type": "code",
   "execution_count": 43,
   "id": "804e477e",
   "metadata": {},
   "outputs": [
    {
     "data": {
      "text/plain": [
       "False    12334\n",
       "True         1\n",
       "Name: human_transcribe, dtype: int64"
      ]
     },
     "execution_count": 43,
     "metadata": {},
     "output_type": "execute_result"
    }
   ],
   "source": [
    "# df_rm_dup['human_transcribe'].isnull().value_counts()"
   ]
  },
  {
   "cell_type": "code",
   "execution_count": 44,
   "id": "1c0cd284",
   "metadata": {},
   "outputs": [
    {
     "data": {
      "text/html": [
       "<div>\n",
       "<style scoped>\n",
       "    .dataframe tbody tr th:only-of-type {\n",
       "        vertical-align: middle;\n",
       "    }\n",
       "\n",
       "    .dataframe tbody tr th {\n",
       "        vertical-align: top;\n",
       "    }\n",
       "\n",
       "    .dataframe thead th {\n",
       "        text-align: right;\n",
       "    }\n",
       "</style>\n",
       "<table border=\"1\" class=\"dataframe\">\n",
       "  <thead>\n",
       "    <tr style=\"text-align: right;\">\n",
       "      <th></th>\n",
       "      <th>bot_transcribe</th>\n",
       "      <th>human_transcribe</th>\n",
       "      <th>intent</th>\n",
       "    </tr>\n",
       "  </thead>\n",
       "  <tbody>\n",
       "    <tr>\n",
       "      <th>0</th>\n",
       "      <td>i dont have any kid</td>\n",
       "      <td>i dont have any kid</td>\n",
       "      <td>NaN</td>\n",
       "    </tr>\n",
       "    <tr>\n",
       "      <th>1</th>\n",
       "      <td>do you know hat what is it for</td>\n",
       "      <td>do you know what is it for</td>\n",
       "      <td>about</td>\n",
       "    </tr>\n",
       "    <tr>\n",
       "      <th>2</th>\n",
       "      <td>i dont nowwha the credit cardyouknow all have ...</td>\n",
       "      <td>i dont now what the credit card you know</td>\n",
       "      <td>about</td>\n",
       "    </tr>\n",
       "    <tr>\n",
       "      <th>3</th>\n",
       "      <td>james from the debt relief program</td>\n",
       "      <td>james from the debt relief program</td>\n",
       "      <td>NaN</td>\n",
       "    </tr>\n",
       "    <tr>\n",
       "      <th>4</th>\n",
       "      <td>do you work for</td>\n",
       "      <td>do you work for</td>\n",
       "      <td>NaN</td>\n",
       "    </tr>\n",
       "  </tbody>\n",
       "</table>\n",
       "</div>"
      ],
      "text/plain": [
       "                                      bot_transcribe  \\\n",
       "0                                i dont have any kid   \n",
       "1                     do you know hat what is it for   \n",
       "2  i dont nowwha the credit cardyouknow all have ...   \n",
       "3                 james from the debt relief program   \n",
       "4                                    do you work for   \n",
       "\n",
       "                            human_transcribe intent  \n",
       "0                        i dont have any kid    NaN  \n",
       "1                 do you know what is it for  about  \n",
       "2  i dont now what the credit card you know   about  \n",
       "3         james from the debt relief program    NaN  \n",
       "4                            do you work for    NaN  "
      ]
     },
     "execution_count": 44,
     "metadata": {},
     "output_type": "execute_result"
    }
   ],
   "source": [
    "# df_rm_dup.head()"
   ]
  },
  {
   "cell_type": "code",
   "execution_count": 49,
   "id": "99db7017",
   "metadata": {
    "scrolled": true
   },
   "outputs": [
    {
     "data": {
      "text/html": [
       "<div>\n",
       "<style scoped>\n",
       "    .dataframe tbody tr th:only-of-type {\n",
       "        vertical-align: middle;\n",
       "    }\n",
       "\n",
       "    .dataframe tbody tr th {\n",
       "        vertical-align: top;\n",
       "    }\n",
       "\n",
       "    .dataframe thead th {\n",
       "        text-align: right;\n",
       "    }\n",
       "</style>\n",
       "<table border=\"1\" class=\"dataframe\">\n",
       "  <thead>\n",
       "    <tr style=\"text-align: right;\">\n",
       "      <th></th>\n",
       "      <th>bot_transcribe</th>\n",
       "      <th>human_transcribe</th>\n",
       "      <th>intent</th>\n",
       "    </tr>\n",
       "  </thead>\n",
       "  <tbody>\n",
       "    <tr>\n",
       "      <th>548</th>\n",
       "      <td>enter the number of the person for whom you wa...</td>\n",
       "      <td>NaN</td>\n",
       "      <td>NaN</td>\n",
       "    </tr>\n",
       "  </tbody>\n",
       "</table>\n",
       "</div>"
      ],
      "text/plain": [
       "                                        bot_transcribe human_transcribe intent\n",
       "548  enter the number of the person for whom you wa...              NaN    NaN"
      ]
     },
     "execution_count": 49,
     "metadata": {},
     "output_type": "execute_result"
    }
   ],
   "source": [
    "# df_rm_dup[df_rm_dup['human_transcribe'].isnull()]"
   ]
  },
  {
   "cell_type": "code",
   "execution_count": 53,
   "id": "0d9b482d",
   "metadata": {},
   "outputs": [
    {
     "name": "stdout",
     "output_type": "stream",
     "text": [
      "(12335, 3)\n",
      "(12334, 3)\n"
     ]
    },
    {
     "data": {
      "text/html": [
       "<div>\n",
       "<style scoped>\n",
       "    .dataframe tbody tr th:only-of-type {\n",
       "        vertical-align: middle;\n",
       "    }\n",
       "\n",
       "    .dataframe tbody tr th {\n",
       "        vertical-align: top;\n",
       "    }\n",
       "\n",
       "    .dataframe thead th {\n",
       "        text-align: right;\n",
       "    }\n",
       "</style>\n",
       "<table border=\"1\" class=\"dataframe\">\n",
       "  <thead>\n",
       "    <tr style=\"text-align: right;\">\n",
       "      <th></th>\n",
       "      <th>bot_transcribe</th>\n",
       "      <th>human_transcribe</th>\n",
       "      <th>intent</th>\n",
       "    </tr>\n",
       "  </thead>\n",
       "  <tbody>\n",
       "    <tr>\n",
       "      <th>0</th>\n",
       "      <td>i dont have any kid</td>\n",
       "      <td>i dont have any kid</td>\n",
       "      <td>NaN</td>\n",
       "    </tr>\n",
       "    <tr>\n",
       "      <th>1</th>\n",
       "      <td>do you know hat what is it for</td>\n",
       "      <td>do you know what is it for</td>\n",
       "      <td>about</td>\n",
       "    </tr>\n",
       "    <tr>\n",
       "      <th>2</th>\n",
       "      <td>i dont nowwha the credit cardyouknow all have ...</td>\n",
       "      <td>i dont now what the credit card you know</td>\n",
       "      <td>about</td>\n",
       "    </tr>\n",
       "    <tr>\n",
       "      <th>3</th>\n",
       "      <td>james from the debt relief program</td>\n",
       "      <td>james from the debt relief program</td>\n",
       "      <td>NaN</td>\n",
       "    </tr>\n",
       "    <tr>\n",
       "      <th>4</th>\n",
       "      <td>do you work for</td>\n",
       "      <td>do you work for</td>\n",
       "      <td>NaN</td>\n",
       "    </tr>\n",
       "  </tbody>\n",
       "</table>\n",
       "</div>"
      ],
      "text/plain": [
       "                                      bot_transcribe  \\\n",
       "0                                i dont have any kid   \n",
       "1                     do you know hat what is it for   \n",
       "2  i dont nowwha the credit cardyouknow all have ...   \n",
       "3                 james from the debt relief program   \n",
       "4                                    do you work for   \n",
       "\n",
       "                            human_transcribe intent  \n",
       "0                        i dont have any kid    NaN  \n",
       "1                 do you know what is it for  about  \n",
       "2  i dont now what the credit card you know   about  \n",
       "3         james from the debt relief program    NaN  \n",
       "4                            do you work for    NaN  "
      ]
     },
     "execution_count": 53,
     "metadata": {},
     "output_type": "execute_result"
    }
   ],
   "source": [
    "# print(df_rm_dup.shape)\n",
    "\n",
    "# df_rm_dup3 = df_rm_dup[df_rm_dup.index != 548]\n",
    "# print(df_rm_dup3.shape)\n",
    "# df_rm_dup3.head()"
   ]
  },
  {
   "cell_type": "code",
   "execution_count": 52,
   "id": "3a885b93",
   "metadata": {},
   "outputs": [
    {
     "data": {
      "text/plain": [
       "bot_transcribe      i  believe\n",
       "human_transcribe    i  believe\n",
       "intent                     NaN\n",
       "Name: 558, dtype: object"
      ]
     },
     "execution_count": 52,
     "metadata": {},
     "output_type": "execute_result"
    }
   ],
   "source": [
    "# df_rm_dup4 = df_rm_dup.iloc[548]\n",
    "# df_rm_dup4.head()"
   ]
  },
  {
   "cell_type": "code",
   "execution_count": 48,
   "id": "8aadc5c3",
   "metadata": {},
   "outputs": [
    {
     "name": "stdout",
     "output_type": "stream",
     "text": [
      "(12335, 3)\n",
      "(12335, 3)\n"
     ]
    }
   ],
   "source": [
    "# print(df_rm_dup.shape)\n",
    "# df_rm_dup2 = df_rm_dup[df_rm_dup['human_transcribe'] != 'NaN']\n",
    "# print(df_rm_dup2.shape)"
   ]
  },
  {
   "cell_type": "code",
   "execution_count": 34,
   "id": "1dd9d71d",
   "metadata": {},
   "outputs": [
    {
     "name": "stdout",
     "output_type": "stream",
     "text": [
      "(12335, 3)\n"
     ]
    },
    {
     "data": {
      "text/plain": [
       "(12334,)"
      ]
     },
     "execution_count": 34,
     "metadata": {},
     "output_type": "execute_result"
    }
   ],
   "source": [
    "# print(df_rm_dup.shape)\n",
    "# df_rm_dup2 = df_rm_dup['human_transcribe'].dropna()\n",
    "# df_rm_dup2.shape\n"
   ]
  },
  {
   "cell_type": "code",
   "execution_count": 35,
   "id": "ad318226",
   "metadata": {},
   "outputs": [
    {
     "data": {
      "text/plain": [
       "0                          i dont have any kid\n",
       "1                   do you know what is it for\n",
       "2    i dont now what the credit card you know \n",
       "3           james from the debt relief program\n",
       "4                              do you work for\n",
       "Name: human_transcribe, dtype: object"
      ]
     },
     "execution_count": 35,
     "metadata": {},
     "output_type": "execute_result"
    }
   ],
   "source": [
    "# df_rm_dup2.columns = [\"Human\", \"\", \"\"]\n",
    "# df_rm_dup2.head()"
   ]
  },
  {
   "cell_type": "code",
   "execution_count": 39,
   "id": "5470d8ad",
   "metadata": {},
   "outputs": [
    {
     "data": {
      "text/plain": [
       "pandas.core.series.Series"
      ]
     },
     "execution_count": 39,
     "metadata": {},
     "output_type": "execute_result"
    }
   ],
   "source": [
    "# type(df_rm_dup2)"
   ]
  },
  {
   "cell_type": "code",
   "execution_count": 37,
   "id": "4be86d06",
   "metadata": {},
   "outputs": [],
   "source": [
    "# df_rm_dup2[\"asd\"] = None"
   ]
  },
  {
   "cell_type": "code",
   "execution_count": 38,
   "id": "49b03c8a",
   "metadata": {},
   "outputs": [
    {
     "data": {
      "text/plain": [
       "0                          i dont have any kid\n",
       "1                   do you know what is it for\n",
       "2    i dont now what the credit card you know \n",
       "3           james from the debt relief program\n",
       "4                              do you work for\n",
       "Name: human_transcribe, dtype: object"
      ]
     },
     "execution_count": 38,
     "metadata": {},
     "output_type": "execute_result"
    }
   ],
   "source": [
    "# df_rm_dup2.head()"
   ]
  },
  {
   "cell_type": "code",
   "execution_count": 54,
   "id": "2406c178",
   "metadata": {},
   "outputs": [],
   "source": [
    "# df_rm_dup3.to_csv('intent_export_2021-11-30_cleaned.csv', index=False)"
   ]
  },
  {
   "cell_type": "markdown",
   "id": "0d5464bd",
   "metadata": {},
   "source": [
    "# transcription data to be clean.csv"
   ]
  },
  {
   "cell_type": "code",
   "execution_count": null,
   "id": "eacd234d",
   "metadata": {},
   "outputs": [],
   "source": [
    "# transcription data to be clean.csv"
   ]
  },
  {
   "cell_type": "code",
   "execution_count": 2,
   "id": "02fad403",
   "metadata": {},
   "outputs": [],
   "source": [
    "transcription_df = pd.read_csv('transcription data to be clean.csv')"
   ]
  },
  {
   "cell_type": "code",
   "execution_count": 16,
   "id": "cf68c1b5",
   "metadata": {},
   "outputs": [
    {
     "name": "stdout",
     "output_type": "stream",
     "text": [
      "hello fuck you james\n"
     ]
    }
   ],
   "source": [
    "# String = \"hello hello fuck you james fuck hello fuck you james fuck you james\"\n",
    "# unique_words = dict.fromkeys(String.split())\n",
    "# print(' '.join(unique_words))"
   ]
  },
  {
   "cell_type": "code",
   "execution_count": 17,
   "id": "053d122b",
   "metadata": {},
   "outputs": [
    {
     "name": "stdout",
     "output_type": "stream",
     "text": [
      "The original list is : [1, 4, 4, 4, 5, 6, 7, 4, 3, 3, 9]\n",
      "The list after removing consecutive duplicates : [1, 4, 5, 6, 7, 4, 3, 9]\n"
     ]
    }
   ],
   "source": [
    "# from itertools import groupby \n",
    "  \n",
    "# # initializing list\n",
    "# test_list = [1, 4, 4, 4, 5, 6, 7, 4, 3, 3, 9]\n",
    "  \n",
    "# # printing original list\n",
    "# print (\"The original list is : \" + str(test_list))\n",
    "  \n",
    "# # using groupby() + list comprehension\n",
    "# # removing consecutive duplicates \n",
    "# res = [i[0] for i in groupby(test_list)]\n",
    "  \n",
    "# # printing result \n",
    "# print (\"The list after removing consecutive duplicates : \" +  str(res))"
   ]
  },
  {
   "cell_type": "code",
   "execution_count": 24,
   "id": "fd39b013",
   "metadata": {},
   "outputs": [
    {
     "name": "stdout",
     "output_type": "stream",
     "text": [
      "The list after removing consecutive duplicates : ['oh', 'hello', 'fuck', 'you', 'james', 'hello', 'fuck', 'hello', 'you', 'james', 'oh', 'fuck', 'you', 'james']\n",
      "joined = ' '.join(res) oh hello fuck you james hello fuck hello you james oh fuck you james\n",
      "joined oh hello fuck you james hello fuck hello you james oh fuck you james \n",
      "\n",
      "oh hello fuck you james\n"
     ]
    }
   ],
   "source": [
    "String = \"oh oh oh hello hello fuck you james hello hello hello fuck hello you james oh fuck you james\"\n",
    "test_list = String.split()\n",
    "# print(abc)\n",
    "\n",
    "# printing original list\n",
    "# print (\"The original list is : \" + str(test_list))\n",
    "  \n",
    "# using groupby() + list comprehension\n",
    "# removing consecutive duplicates \n",
    "res = [i[0] for i in groupby(test_list)]\n",
    "  \n",
    "# printing result \n",
    "print (\"The list after removing consecutive duplicates : \" +  str(res))\n",
    "\n",
    "# print(String+ '\\n')\n",
    "# print(' '.join(res))\n",
    "print(\"joined = ' '.join(res)\" ,' '.join(res))\n",
    "print('joined',  joined, '\\n')\n",
    "\n",
    "\n",
    "unique_words = dict.fromkeys(joined.split())\n",
    "print(' '.join(unique_words))"
   ]
  },
  {
   "cell_type": "code",
   "execution_count": 10,
   "id": "fbfb22f6",
   "metadata": {},
   "outputs": [],
   "source": [
    "# def remove_dup_words(string):    \n",
    "# #     string = \"oh hello hello fuck you james hello hello hello fuck hello you james fuck you james\"\n",
    "#     test_list = string.split()\n",
    "#     res = [i[0] for i in groupby(test_list)]\n",
    "#     joined = ' '.join(res)\n",
    "#     return joined"
   ]
  },
  {
   "cell_type": "code",
   "execution_count": 3,
   "id": "04d89ac9",
   "metadata": {},
   "outputs": [],
   "source": [
    "transcription_df_2 = transcription_df.copy(deep=True)"
   ]
  },
  {
   "cell_type": "code",
   "execution_count": 4,
   "id": "7bb58175",
   "metadata": {},
   "outputs": [],
   "source": [
    "transcription_df_2['transcription_removed_duplicated_words'] = transcription_df_2['transcription']"
   ]
  },
  {
   "cell_type": "code",
   "execution_count": 6,
   "id": "c7463084",
   "metadata": {},
   "outputs": [
    {
     "data": {
      "text/html": [
       "<div>\n",
       "<style scoped>\n",
       "    .dataframe tbody tr th:only-of-type {\n",
       "        vertical-align: middle;\n",
       "    }\n",
       "\n",
       "    .dataframe tbody tr th {\n",
       "        vertical-align: top;\n",
       "    }\n",
       "\n",
       "    .dataframe thead th {\n",
       "        text-align: right;\n",
       "    }\n",
       "</style>\n",
       "<table border=\"1\" class=\"dataframe\">\n",
       "  <thead>\n",
       "    <tr style=\"text-align: right;\">\n",
       "      <th></th>\n",
       "      <th>recoding_url</th>\n",
       "      <th>transcription</th>\n",
       "      <th>transcription_removed_duplicated_words</th>\n",
       "    </tr>\n",
       "  </thead>\n",
       "  <tbody>\n",
       "    <tr>\n",
       "      <th>0</th>\n",
       "      <td>http://192.168.88.254/transcription_wav/transc...</td>\n",
       "      <td>a american express but its a closed account i ...</td>\n",
       "      <td>a american express but its a closed account i ...</td>\n",
       "    </tr>\n",
       "    <tr>\n",
       "      <th>1</th>\n",
       "      <td>http://192.168.88.254/transcription_wav/transc...</td>\n",
       "      <td>a ask you a question</td>\n",
       "      <td>a ask you a question</td>\n",
       "    </tr>\n",
       "    <tr>\n",
       "      <th>2</th>\n",
       "      <td>http://192.168.88.254/transcription_wav/transc...</td>\n",
       "      <td>a bot</td>\n",
       "      <td>a bot</td>\n",
       "    </tr>\n",
       "    <tr>\n",
       "      <th>3</th>\n",
       "      <td>http://192.168.88.254/transcription_wav/transc...</td>\n",
       "      <td>a bunch on both of them i have discover card too</td>\n",
       "      <td>a bunch on both of them i have discover card too</td>\n",
       "    </tr>\n",
       "    <tr>\n",
       "      <th>4</th>\n",
       "      <td>http://192.168.88.254/transcription_wav/transc...</td>\n",
       "      <td>a card that i most its usually the mastercard</td>\n",
       "      <td>a card that i most its usually the mastercard</td>\n",
       "    </tr>\n",
       "  </tbody>\n",
       "</table>\n",
       "</div>"
      ],
      "text/plain": [
       "                                        recoding_url  \\\n",
       "0  http://192.168.88.254/transcription_wav/transc...   \n",
       "1  http://192.168.88.254/transcription_wav/transc...   \n",
       "2  http://192.168.88.254/transcription_wav/transc...   \n",
       "3  http://192.168.88.254/transcription_wav/transc...   \n",
       "4  http://192.168.88.254/transcription_wav/transc...   \n",
       "\n",
       "                                       transcription  \\\n",
       "0  a american express but its a closed account i ...   \n",
       "1                               a ask you a question   \n",
       "2                                              a bot   \n",
       "3   a bunch on both of them i have discover card too   \n",
       "4      a card that i most its usually the mastercard   \n",
       "\n",
       "              transcription_removed_duplicated_words  \n",
       "0  a american express but its a closed account i ...  \n",
       "1                               a ask you a question  \n",
       "2                                              a bot  \n",
       "3   a bunch on both of them i have discover card too  \n",
       "4      a card that i most its usually the mastercard  "
      ]
     },
     "execution_count": 6,
     "metadata": {},
     "output_type": "execute_result"
    }
   ],
   "source": [
    "transcription_df_2.head()"
   ]
  },
  {
   "cell_type": "code",
   "execution_count": 13,
   "id": "dbe0b68f",
   "metadata": {},
   "outputs": [
    {
     "data": {
      "text/plain": [
       "0        a american express but its a closed account i ...\n",
       "1                                     a ask you a question\n",
       "2                                                    a bot\n",
       "3         a bunch on both of them i have discover card too\n",
       "4            a card that i most its usually the mastercard\n",
       "                               ...                        \n",
       "10075                             youve reached to the fbi\n",
       "10076            zero i dont use any credit card zero none\n",
       "10077                            zero none i dont have any\n",
       "10078    zero two one nine if i call a number right now...\n",
       "10079                    zero i pay my bills first in full\n",
       "Name: transcription_removed_duplicated_words, Length: 10080, dtype: object"
      ]
     },
     "execution_count": 13,
     "metadata": {},
     "output_type": "execute_result"
    }
   ],
   "source": [
    "# transcription_df_2['transcription_removed_duplicated_words'].apply(remove_dup_words)"
   ]
  },
  {
   "cell_type": "code",
   "execution_count": 7,
   "id": "ff52d206",
   "metadata": {},
   "outputs": [],
   "source": [
    "for i in range(len(transcription_df_2['transcription'])):\n",
    "    string = transcription_df_2['transcription_removed_duplicated_words'][i]\n",
    "    test_list = string.split()\n",
    "    res = [i[0] for i in groupby(test_list)]\n",
    "    joined = ' '.join(res)\n",
    "    transcription_df_2['transcription_removed_duplicated_words'][i] = joined"
   ]
  },
  {
   "cell_type": "code",
   "execution_count": 8,
   "id": "acff0f1d",
   "metadata": {},
   "outputs": [
    {
     "data": {
      "text/html": [
       "<div>\n",
       "<style scoped>\n",
       "    .dataframe tbody tr th:only-of-type {\n",
       "        vertical-align: middle;\n",
       "    }\n",
       "\n",
       "    .dataframe tbody tr th {\n",
       "        vertical-align: top;\n",
       "    }\n",
       "\n",
       "    .dataframe thead th {\n",
       "        text-align: right;\n",
       "    }\n",
       "</style>\n",
       "<table border=\"1\" class=\"dataframe\">\n",
       "  <thead>\n",
       "    <tr style=\"text-align: right;\">\n",
       "      <th></th>\n",
       "      <th>recoding_url</th>\n",
       "      <th>transcription</th>\n",
       "      <th>transcription_removed_duplicated_words</th>\n",
       "    </tr>\n",
       "  </thead>\n",
       "  <tbody>\n",
       "    <tr>\n",
       "      <th>0</th>\n",
       "      <td>http://192.168.88.254/transcription_wav/transc...</td>\n",
       "      <td>a american express but its a closed account i ...</td>\n",
       "      <td>a american express but its a closed account i ...</td>\n",
       "    </tr>\n",
       "    <tr>\n",
       "      <th>1</th>\n",
       "      <td>http://192.168.88.254/transcription_wav/transc...</td>\n",
       "      <td>a ask you a question</td>\n",
       "      <td>a ask you a question</td>\n",
       "    </tr>\n",
       "    <tr>\n",
       "      <th>2</th>\n",
       "      <td>http://192.168.88.254/transcription_wav/transc...</td>\n",
       "      <td>a bot</td>\n",
       "      <td>a bot</td>\n",
       "    </tr>\n",
       "    <tr>\n",
       "      <th>3</th>\n",
       "      <td>http://192.168.88.254/transcription_wav/transc...</td>\n",
       "      <td>a bunch on both of them i have discover card too</td>\n",
       "      <td>a bunch on both of them i have discover card too</td>\n",
       "    </tr>\n",
       "    <tr>\n",
       "      <th>4</th>\n",
       "      <td>http://192.168.88.254/transcription_wav/transc...</td>\n",
       "      <td>a card that i most its usually the mastercard</td>\n",
       "      <td>a card that i most its usually the mastercard</td>\n",
       "    </tr>\n",
       "    <tr>\n",
       "      <th>...</th>\n",
       "      <td>...</td>\n",
       "      <td>...</td>\n",
       "      <td>...</td>\n",
       "    </tr>\n",
       "    <tr>\n",
       "      <th>10075</th>\n",
       "      <td>http://192.168.88.254/transcription_wav/transc...</td>\n",
       "      <td>youve reached to the fbi</td>\n",
       "      <td>youve reached to the fbi</td>\n",
       "    </tr>\n",
       "    <tr>\n",
       "      <th>10076</th>\n",
       "      <td>http://192.168.88.254/transcription_wav/transc...</td>\n",
       "      <td>zero i dont use any credit card zero none none</td>\n",
       "      <td>zero i dont use any credit card zero none</td>\n",
       "    </tr>\n",
       "    <tr>\n",
       "      <th>10077</th>\n",
       "      <td>http://192.168.88.254/transcription_wav/transc...</td>\n",
       "      <td>zero none i dont have any</td>\n",
       "      <td>zero none i dont have any</td>\n",
       "    </tr>\n",
       "    <tr>\n",
       "      <th>10078</th>\n",
       "      <td>http://192.168.88.254/transcription_wav/transc...</td>\n",
       "      <td>zero two one nine if i call a number right now...</td>\n",
       "      <td>zero two one nine if i call a number right now...</td>\n",
       "    </tr>\n",
       "    <tr>\n",
       "      <th>10079</th>\n",
       "      <td>http://192.168.88.254/transcription_wav/transc...</td>\n",
       "      <td>zero zero i pay my bills first in full</td>\n",
       "      <td>zero i pay my bills first in full</td>\n",
       "    </tr>\n",
       "  </tbody>\n",
       "</table>\n",
       "<p>10080 rows × 3 columns</p>\n",
       "</div>"
      ],
      "text/plain": [
       "                                            recoding_url  \\\n",
       "0      http://192.168.88.254/transcription_wav/transc...   \n",
       "1      http://192.168.88.254/transcription_wav/transc...   \n",
       "2      http://192.168.88.254/transcription_wav/transc...   \n",
       "3      http://192.168.88.254/transcription_wav/transc...   \n",
       "4      http://192.168.88.254/transcription_wav/transc...   \n",
       "...                                                  ...   \n",
       "10075  http://192.168.88.254/transcription_wav/transc...   \n",
       "10076  http://192.168.88.254/transcription_wav/transc...   \n",
       "10077  http://192.168.88.254/transcription_wav/transc...   \n",
       "10078  http://192.168.88.254/transcription_wav/transc...   \n",
       "10079  http://192.168.88.254/transcription_wav/transc...   \n",
       "\n",
       "                                           transcription  \\\n",
       "0      a american express but its a closed account i ...   \n",
       "1                                   a ask you a question   \n",
       "2                                                  a bot   \n",
       "3       a bunch on both of them i have discover card too   \n",
       "4          a card that i most its usually the mastercard   \n",
       "...                                                  ...   \n",
       "10075                           youve reached to the fbi   \n",
       "10076     zero i dont use any credit card zero none none   \n",
       "10077                          zero none i dont have any   \n",
       "10078  zero two one nine if i call a number right now...   \n",
       "10079             zero zero i pay my bills first in full   \n",
       "\n",
       "                  transcription_removed_duplicated_words  \n",
       "0      a american express but its a closed account i ...  \n",
       "1                                   a ask you a question  \n",
       "2                                                  a bot  \n",
       "3       a bunch on both of them i have discover card too  \n",
       "4          a card that i most its usually the mastercard  \n",
       "...                                                  ...  \n",
       "10075                           youve reached to the fbi  \n",
       "10076          zero i dont use any credit card zero none  \n",
       "10077                          zero none i dont have any  \n",
       "10078  zero two one nine if i call a number right now...  \n",
       "10079                  zero i pay my bills first in full  \n",
       "\n",
       "[10080 rows x 3 columns]"
      ]
     },
     "execution_count": 8,
     "metadata": {},
     "output_type": "execute_result"
    }
   ],
   "source": [
    "transcription_df_2"
   ]
  },
  {
   "cell_type": "code",
   "execution_count": 25,
   "id": "4dd56dd6",
   "metadata": {},
   "outputs": [
    {
     "data": {
      "text/html": [
       "<div>\n",
       "<style scoped>\n",
       "    .dataframe tbody tr th:only-of-type {\n",
       "        vertical-align: middle;\n",
       "    }\n",
       "\n",
       "    .dataframe tbody tr th {\n",
       "        vertical-align: top;\n",
       "    }\n",
       "\n",
       "    .dataframe thead th {\n",
       "        text-align: right;\n",
       "    }\n",
       "</style>\n",
       "<table border=\"1\" class=\"dataframe\">\n",
       "  <thead>\n",
       "    <tr style=\"text-align: right;\">\n",
       "      <th></th>\n",
       "      <th>recoding_url</th>\n",
       "      <th>transcription</th>\n",
       "      <th>transcription_removed_duplicated_words</th>\n",
       "    </tr>\n",
       "  </thead>\n",
       "  <tbody>\n",
       "    <tr>\n",
       "      <th>1750</th>\n",
       "      <td>http://192.168.88.254/transcription_wav/transc...</td>\n",
       "      <td>hello hello</td>\n",
       "      <td>hello</td>\n",
       "    </tr>\n",
       "  </tbody>\n",
       "</table>\n",
       "</div>"
      ],
      "text/plain": [
       "                                           recoding_url transcription  \\\n",
       "1750  http://192.168.88.254/transcription_wav/transc...   hello hello   \n",
       "\n",
       "     transcription_removed_duplicated_words  \n",
       "1750                                  hello  "
      ]
     },
     "execution_count": 25,
     "metadata": {},
     "output_type": "execute_result"
    }
   ],
   "source": [
    "transcription_df_2[transcription_df_2['transcription'] == 'hello hello']"
   ]
  },
  {
   "cell_type": "code",
   "execution_count": 16,
   "id": "d122781f",
   "metadata": {},
   "outputs": [
    {
     "data": {
      "text/plain": [
       "'a american express but its a closed account i closed it earlier today'"
      ]
     },
     "execution_count": 16,
     "metadata": {},
     "output_type": "execute_result"
    }
   ],
   "source": [
    "transcription_df_2.iloc[0, 1]"
   ]
  },
  {
   "cell_type": "code",
   "execution_count": 17,
   "id": "f184ee33",
   "metadata": {},
   "outputs": [
    {
     "data": {
      "text/plain": [
       "'a american express but its a closed account i closed it earlier today'"
      ]
     },
     "execution_count": 17,
     "metadata": {},
     "output_type": "execute_result"
    }
   ],
   "source": [
    "transcription_df_2.iloc[0, 2]"
   ]
  },
  {
   "cell_type": "code",
   "execution_count": null,
   "id": "69e7e93e",
   "metadata": {},
   "outputs": [],
   "source": []
  },
  {
   "cell_type": "code",
   "execution_count": 7,
   "id": "22b5efbe",
   "metadata": {},
   "outputs": [
    {
     "data": {
      "text/plain": [
       "'a american express but its a closed account i closed it earlier today'"
      ]
     },
     "execution_count": 7,
     "metadata": {},
     "output_type": "execute_result"
    }
   ],
   "source": [
    "# transcription_df_2['transcription'][0]"
   ]
  },
  {
   "cell_type": "code",
   "execution_count": 8,
   "id": "40aa055b",
   "metadata": {},
   "outputs": [],
   "source": [
    "# transcription_df_3 = transcription_df_2['transcription']"
   ]
  },
  {
   "cell_type": "code",
   "execution_count": 11,
   "id": "9c0857d1",
   "metadata": {},
   "outputs": [],
   "source": [
    "# transcription_df_3[0] = 'hello hello hello'"
   ]
  },
  {
   "cell_type": "code",
   "execution_count": 14,
   "id": "04f9f9ef",
   "metadata": {},
   "outputs": [],
   "source": [
    "# transcription_df_3[1] = 'sohaib'"
   ]
  },
  {
   "cell_type": "code",
   "execution_count": 15,
   "id": "b30cd61e",
   "metadata": {},
   "outputs": [
    {
     "data": {
      "text/plain": [
       "0                                        hello hello hello\n",
       "1                                                   sohaib\n",
       "2                                                    a bot\n",
       "3         a bunch on both of them i have discover card too\n",
       "4            a card that i most its usually the mastercard\n",
       "                               ...                        \n",
       "10075                             youve reached to the fbi\n",
       "10076       zero i dont use any credit card zero none none\n",
       "10077                            zero none i dont have any\n",
       "10078    zero two one nine if i call a number right now...\n",
       "10079               zero zero i pay my bills first in full\n",
       "Name: transcription, Length: 10080, dtype: object"
      ]
     },
     "execution_count": 15,
     "metadata": {},
     "output_type": "execute_result"
    }
   ],
   "source": [
    "# transcription_df_3"
   ]
  },
  {
   "cell_type": "code",
   "execution_count": null,
   "id": "bbe84dea",
   "metadata": {},
   "outputs": [],
   "source": []
  },
  {
   "cell_type": "code",
   "execution_count": null,
   "id": "45327209",
   "metadata": {},
   "outputs": [],
   "source": []
  },
  {
   "cell_type": "code",
   "execution_count": 10,
   "id": "a8c7f112",
   "metadata": {},
   "outputs": [
    {
     "name": "stdout",
     "output_type": "stream",
     "text": [
      "Original string:oh hello hello fuck you james fuck you james fuck you james\n",
      "After removing consecutive duplicates: oh hello hello fuck you james fuck you james fuck you james\n",
      "oh helo helo fuck you james fuck you james fuck you james\n"
     ]
    }
   ],
   "source": [
    "# from itertools import groupby \n",
    "# def remove_all_consecutive(str1): \n",
    "#     result_str = [] \n",
    "#     for (key,group) in groupby(str1): \n",
    "#         result_str.append(key) \n",
    "\n",
    "#     return ''.join(result_str)\n",
    "\n",
    "# str1 = 'oh hello hello fuck you james fuck you james fuck you james'\n",
    "# print(\"Original string:\" + str1)\n",
    "# print(\"After removing consecutive duplicates: \" + str1)\n",
    "# print(remove_all_consecutive(str1))"
   ]
  },
  {
   "cell_type": "code",
   "execution_count": 27,
   "id": "f4971ef0",
   "metadata": {},
   "outputs": [],
   "source": [
    "transcription_df_2.to_csv('transcription data Cleaned.csv', index=False)"
   ]
  },
  {
   "cell_type": "code",
   "execution_count": null,
   "id": "04f2603a",
   "metadata": {},
   "outputs": [],
   "source": []
  },
  {
   "cell_type": "code",
   "execution_count": null,
   "id": "de8f519e",
   "metadata": {},
   "outputs": [],
   "source": []
  },
  {
   "cell_type": "code",
   "execution_count": null,
   "id": "aa65fe2c",
   "metadata": {},
   "outputs": [],
   "source": []
  },
  {
   "cell_type": "code",
   "execution_count": null,
   "id": "32cec392",
   "metadata": {},
   "outputs": [],
   "source": []
  },
  {
   "cell_type": "code",
   "execution_count": null,
   "id": "58579ee5",
   "metadata": {},
   "outputs": [],
   "source": []
  },
  {
   "cell_type": "code",
   "execution_count": null,
   "id": "f32ecd18",
   "metadata": {},
   "outputs": [],
   "source": []
  },
  {
   "cell_type": "code",
   "execution_count": null,
   "id": "5703584e",
   "metadata": {},
   "outputs": [],
   "source": []
  },
  {
   "cell_type": "code",
   "execution_count": null,
   "id": "253fdc73",
   "metadata": {},
   "outputs": [],
   "source": []
  },
  {
   "cell_type": "markdown",
   "id": "e342442f",
   "metadata": {},
   "source": [
    "# 2018"
   ]
  },
  {
   "cell_type": "code",
   "execution_count": 2,
   "id": "71b2dff6",
   "metadata": {},
   "outputs": [],
   "source": [
    "all_files_name_list_2018 = os.listdir(r'Z:\\AIDAILER\\2018.3')"
   ]
  },
  {
   "cell_type": "code",
   "execution_count": 3,
   "id": "ec52829d",
   "metadata": {},
   "outputs": [
    {
     "data": {
      "text/plain": [
       "211"
      ]
     },
     "execution_count": 3,
     "metadata": {},
     "output_type": "execute_result"
    }
   ],
   "source": [
    "len(all_files_name_list_2018)"
   ]
  },
  {
   "cell_type": "code",
   "execution_count": 4,
   "id": "70654df4",
   "metadata": {},
   "outputs": [
    {
     "data": {
      "text/plain": [
       "['2018_3_USA_Consumer_SF_AK_0.csv',\n",
       " '2018_3_USA_Consumer_SF_AL_0.csv',\n",
       " '2018_3_USA_Consumer_SF_AL_1.csv',\n",
       " '2018_3_USA_Consumer_SF_AL_2.csv',\n",
       " '2018_3_USA_Consumer_SF_AL_3.csv',\n",
       " '2018_3_USA_Consumer_SF_AL_4.csv',\n",
       " '2018_3_USA_Consumer_SF_AR_0.csv',\n",
       " '2018_3_USA_Consumer_SF_AR_1.csv',\n",
       " '2018_3_USA_Consumer_SF_AR_2.csv',\n",
       " '2018_3_USA_Consumer_SF_AZ_0.csv',\n",
       " '2018_3_USA_Consumer_SF_AZ_1.csv',\n",
       " '2018_3_USA_Consumer_SF_AZ_2.csv',\n",
       " '2018_3_USA_Consumer_SF_AZ_3.csv',\n",
       " '2018_3_USA_Consumer_SF_AZ_4.csv',\n",
       " '2018_3_USA_Consumer_SF_CA_0.csv',\n",
       " '2018_3_USA_Consumer_SF_CA_1.csv',\n",
       " '2018_3_USA_Consumer_SF_CA_10.csv',\n",
       " '2018_3_USA_Consumer_SF_CA_11.csv',\n",
       " '2018_3_USA_Consumer_SF_CA_12.csv',\n",
       " '2018_3_USA_Consumer_SF_CA_13.csv',\n",
       " '2018_3_USA_Consumer_SF_CA_14.csv',\n",
       " '2018_3_USA_Consumer_SF_CA_15.csv',\n",
       " '2018_3_USA_Consumer_SF_CA_17.csv',\n",
       " '2018_3_USA_Consumer_SF_CA_2.csv',\n",
       " '2018_3_USA_Consumer_SF_CA_20.csv',\n",
       " '2018_3_USA_Consumer_SF_CA_22.csv',\n",
       " '2018_3_USA_Consumer_SF_CA_23.csv',\n",
       " '2018_3_USA_Consumer_SF_CA_24.csv',\n",
       " '2018_3_USA_Consumer_SF_CA_26.csv',\n",
       " '2018_3_USA_Consumer_SF_CA_27.csv',\n",
       " '2018_3_USA_Consumer_SF_CA_29.csv',\n",
       " '2018_3_USA_Consumer_SF_CA_3.csv',\n",
       " '2018_3_USA_Consumer_SF_CA_4.csv',\n",
       " '2018_3_USA_Consumer_SF_CA_5.csv',\n",
       " '2018_3_USA_Consumer_SF_CA_6.csv',\n",
       " '2018_3_USA_Consumer_SF_CA_7.csv',\n",
       " '2018_3_USA_Consumer_SF_CA_8.csv',\n",
       " '2018_3_USA_Consumer_SF_CA_9.csv',\n",
       " '2018_3_USA_Consumer_SF_CO_0.csv',\n",
       " '2018_3_USA_Consumer_SF_CO_2.csv',\n",
       " '2018_3_USA_Consumer_SF_CO_4.csv',\n",
       " '2018_3_USA_Consumer_SF_CT_0.csv',\n",
       " '2018_3_USA_Consumer_SF_CT_1.csv',\n",
       " '2018_3_USA_Consumer_SF_CT_3.csv',\n",
       " '2018_3_USA_Consumer_SF_DC_0.csv',\n",
       " '2018_3_USA_Consumer_SF_DE_0.csv',\n",
       " '2018_3_USA_Consumer_SF_DE_1.csv',\n",
       " '2018_3_USA_Consumer_SF_FL_0.csv',\n",
       " '2018_3_USA_Consumer_SF_FL_18.csv',\n",
       " '2018_3_USA_Consumer_SF_GA_0.csv',\n",
       " '2018_3_USA_Consumer_SF_GA_1.csv',\n",
       " '2018_3_USA_Consumer_SF_GA_2.csv',\n",
       " '2018_3_USA_Consumer_SF_GA_3.csv',\n",
       " '2018_3_USA_Consumer_SF_GA_4.csv',\n",
       " '2018_3_USA_Consumer_SF_GA_7.csv',\n",
       " '2018_3_USA_Consumer_SF_GA_8.csv',\n",
       " '2018_3_USA_Consumer_SF_GU_0.csv',\n",
       " '2018_3_USA_Consumer_SF_IA_0.csv',\n",
       " '2018_3_USA_Consumer_SF_IA_1.csv',\n",
       " '2018_3_USA_Consumer_SF_IA_2.csv',\n",
       " '2018_3_USA_Consumer_SF_ID_0.csv',\n",
       " '2018_3_USA_Consumer_SF_ID_1.csv',\n",
       " '2018_3_USA_Consumer_SF_IL_0.csv',\n",
       " '2018_3_USA_Consumer_SF_IL_10.csv',\n",
       " '2018_3_USA_Consumer_SF_IL_11.csv',\n",
       " '2018_3_USA_Consumer_SF_IL_3.csv',\n",
       " '2018_3_USA_Consumer_SF_IL_4.csv',\n",
       " '2018_3_USA_Consumer_SF_IL_6.csv',\n",
       " '2018_3_USA_Consumer_SF_IL_8.csv',\n",
       " '2018_3_USA_Consumer_SF_IL_9.csv',\n",
       " '2018_3_USA_Consumer_SF_IN_2.csv',\n",
       " '2018_3_USA_Consumer_SF_IN_4.csv',\n",
       " '2018_3_USA_Consumer_SF_KS_0.csv',\n",
       " '2018_3_USA_Consumer_SF_KS_1.csv',\n",
       " '2018_3_USA_Consumer_SF_KY_0.csv',\n",
       " '2018_3_USA_Consumer_SF_KY_1.csv',\n",
       " '2018_3_USA_Consumer_SF_KY_2.csv',\n",
       " '2018_3_USA_Consumer_SF_KY_4.csv',\n",
       " '2018_3_USA_Consumer_SF_LA_0.csv',\n",
       " '2018_3_USA_Consumer_SF_LA_1.csv',\n",
       " '2018_3_USA_Consumer_SF_LA_2.csv',\n",
       " '2018_3_USA_Consumer_SF_LA_3.csv',\n",
       " '2018_3_USA_Consumer_SF_LA_4.csv',\n",
       " '2018_3_USA_Consumer_SF_MA_0.csv',\n",
       " '2018_3_USA_Consumer_SF_MA_4.csv',\n",
       " '2018_3_USA_Consumer_SF_MA_6.csv',\n",
       " '2018_3_USA_Consumer_SF_MD_0.csv',\n",
       " '2018_3_USA_Consumer_SF_MD_1.csv',\n",
       " '2018_3_USA_Consumer_SF_MD_2.csv',\n",
       " '2018_3_USA_Consumer_SF_MD_3.csv',\n",
       " '2018_3_USA_Consumer_SF_MD_4.csv',\n",
       " '2018_3_USA_Consumer_SF_MD_5.csv',\n",
       " '2018_3_USA_Consumer_SF_MI_2.csv',\n",
       " '2018_3_USA_Consumer_SF_MI_3.csv',\n",
       " '2018_3_USA_Consumer_SF_MI_4.csv',\n",
       " '2018_3_USA_Consumer_SF_MI_5.csv',\n",
       " '2018_3_USA_Consumer_SF_MI_8.csv',\n",
       " '2018_3_USA_Consumer_SF_MI_9.csv',\n",
       " '2018_3_USA_Consumer_SF_MN_0.csv',\n",
       " '2018_3_USA_Consumer_SF_MN_2.csv',\n",
       " '2018_3_USA_Consumer_SF_MN_4.csv',\n",
       " '2018_3_USA_Consumer_SF_MN_5.csv',\n",
       " '2018_3_USA_Consumer_SF_MO_0.csv',\n",
       " '2018_3_USA_Consumer_SF_MO_1.csv',\n",
       " '2018_3_USA_Consumer_SF_MO_3.csv',\n",
       " '2018_3_USA_Consumer_SF_MO_4.csv',\n",
       " '2018_3_USA_Consumer_SF_MO_5.csv',\n",
       " '2018_3_USA_Consumer_SF_MS_0.csv',\n",
       " '2018_3_USA_Consumer_SF_MS_1.csv',\n",
       " '2018_3_USA_Consumer_SF_MT_0.csv',\n",
       " '2018_3_USA_Consumer_SF_NC_0.csv',\n",
       " '2018_3_USA_Consumer_SF_NC_1.csv',\n",
       " '2018_3_USA_Consumer_SF_NC_2.csv',\n",
       " '2018_3_USA_Consumer_SF_NC_3.csv',\n",
       " '2018_3_USA_Consumer_SF_NC_4.csv',\n",
       " '2018_3_USA_Consumer_SF_NC_5.csv',\n",
       " '2018_3_USA_Consumer_SF_NC_6.csv',\n",
       " '2018_3_USA_Consumer_SF_NC_8.csv',\n",
       " '2018_3_USA_Consumer_SF_ND_0.csv',\n",
       " '2018_3_USA_Consumer_SF_NE_1.csv',\n",
       " '2018_3_USA_Consumer_SF_NJ_0.csv',\n",
       " '2018_3_USA_Consumer_SF_NJ_1.csv',\n",
       " '2018_3_USA_Consumer_SF_NJ_3.csv',\n",
       " '2018_3_USA_Consumer_SF_NJ_4.csv',\n",
       " '2018_3_USA_Consumer_SF_NJ_7.csv',\n",
       " '2018_3_USA_Consumer_SF_NM_0.csv',\n",
       " '2018_3_USA_Consumer_SF_NM_1.csv',\n",
       " '2018_3_USA_Consumer_SF_NV_0.csv',\n",
       " '2018_3_USA_Consumer_SF_NV_2.csv',\n",
       " '2018_3_USA_Consumer_SF_NY_1.csv',\n",
       " '2018_3_USA_Consumer_SF_NY_10.csv',\n",
       " '2018_3_USA_Consumer_SF_NY_11.csv',\n",
       " '2018_3_USA_Consumer_SF_NY_12.csv',\n",
       " '2018_3_USA_Consumer_SF_NY_13.csv',\n",
       " '2018_3_USA_Consumer_SF_NY_14.csv',\n",
       " '2018_3_USA_Consumer_SF_NY_15.csv',\n",
       " '2018_3_USA_Consumer_SF_NY_16.csv',\n",
       " '2018_3_USA_Consumer_SF_NY_17.csv',\n",
       " '2018_3_USA_Consumer_SF_NY_2.csv',\n",
       " '2018_3_USA_Consumer_SF_NY_4.csv',\n",
       " '2018_3_USA_Consumer_SF_NY_5.csv',\n",
       " '2018_3_USA_Consumer_SF_NY_6.csv',\n",
       " '2018_3_USA_Consumer_SF_NY_7.csv',\n",
       " '2018_3_USA_Consumer_SF_NY_8.csv',\n",
       " '2018_3_USA_Consumer_SF_NY_9.csv',\n",
       " '2018_3_USA_Consumer_SF_OH_0.csv',\n",
       " '2018_3_USA_Consumer_SF_OH_1.csv',\n",
       " '2018_3_USA_Consumer_SF_OH_11.csv',\n",
       " '2018_3_USA_Consumer_SF_OH_2.csv',\n",
       " '2018_3_USA_Consumer_SF_OH_3.csv',\n",
       " '2018_3_USA_Consumer_SF_OH_5.csv',\n",
       " '2018_3_USA_Consumer_SF_OH_8.csv',\n",
       " '2018_3_USA_Consumer_SF_OK_1.csv',\n",
       " '2018_3_USA_Consumer_SF_OK_3.csv',\n",
       " '2018_3_USA_Consumer_SF_OR_0.csv',\n",
       " '2018_3_USA_Consumer_SF_OR_1.csv',\n",
       " '2018_3_USA_Consumer_SF_OR_2.csv',\n",
       " '2018_3_USA_Consumer_SF_OR_3.csv',\n",
       " '2018_3_USA_Consumer_SF_PA_0.csv',\n",
       " '2018_3_USA_Consumer_SF_PA_1.csv',\n",
       " '2018_3_USA_Consumer_SF_PA_11.csv',\n",
       " '2018_3_USA_Consumer_SF_PA_2.csv',\n",
       " '2018_3_USA_Consumer_SF_PA_3.csv',\n",
       " '2018_3_USA_Consumer_SF_PA_4.csv',\n",
       " '2018_3_USA_Consumer_SF_PA_7.csv',\n",
       " '2018_3_USA_Consumer_SF_PA_8.csv',\n",
       " '2018_3_USA_Consumer_SF_RI_0.csv',\n",
       " '2018_3_USA_Consumer_SF_RI_1.csv',\n",
       " '2018_3_USA_Consumer_SF_SC_0.csv',\n",
       " '2018_3_USA_Consumer_SF_SC_2.csv',\n",
       " '2018_3_USA_Consumer_SF_SC_3.csv',\n",
       " '2018_3_USA_Consumer_SF_SC_4.csv',\n",
       " '2018_3_USA_Consumer_SF_SD_0.csv',\n",
       " '2018_3_USA_Consumer_SF_TN_0.csv',\n",
       " '2018_3_USA_Consumer_SF_TN_1.csv',\n",
       " '2018_3_USA_Consumer_SF_TN_3.csv',\n",
       " '2018_3_USA_Consumer_SF_TN_4.csv',\n",
       " '2018_3_USA_Consumer_SF_TN_5.csv',\n",
       " '2018_3_USA_Consumer_SF_TX_0.csv',\n",
       " '2018_3_USA_Consumer_SF_TX_1.csv',\n",
       " '2018_3_USA_Consumer_SF_TX_11.csv',\n",
       " '2018_3_USA_Consumer_SF_TX_12.csv',\n",
       " '2018_3_USA_Consumer_SF_TX_14.csv',\n",
       " '2018_3_USA_Consumer_SF_TX_15.csv',\n",
       " '2018_3_USA_Consumer_SF_TX_16.csv',\n",
       " '2018_3_USA_Consumer_SF_TX_18.csv',\n",
       " '2018_3_USA_Consumer_SF_TX_19.csv',\n",
       " '2018_3_USA_Consumer_SF_TX_20.csv',\n",
       " '2018_3_USA_Consumer_SF_TX_21.csv',\n",
       " '2018_3_USA_Consumer_SF_TX_22.csv',\n",
       " '2018_3_USA_Consumer_SF_TX_3.csv',\n",
       " '2018_3_USA_Consumer_SF_TX_5.csv',\n",
       " '2018_3_USA_Consumer_SF_TX_7.csv',\n",
       " '2018_3_USA_Consumer_SF_TX_9.csv',\n",
       " '2018_3_USA_Consumer_SF_UT_0.csv',\n",
       " '2018_3_USA_Consumer_SF_UT_2.csv',\n",
       " '2018_3_USA_Consumer_SF_VA_1.csv',\n",
       " '2018_3_USA_Consumer_SF_VA_2.csv',\n",
       " '2018_3_USA_Consumer_SF_VA_4.csv',\n",
       " '2018_3_USA_Consumer_SF_VA_5.csv',\n",
       " '2018_3_USA_Consumer_SF_VI_0.csv',\n",
       " '2018_3_USA_Consumer_SF_VT_0.csv',\n",
       " '2018_3_USA_Consumer_SF_WA_2.csv',\n",
       " '2018_3_USA_Consumer_SF_WA_3.csv',\n",
       " '2018_3_USA_Consumer_SF_WA_4.csv',\n",
       " '2018_3_USA_Consumer_SF_WA_5.csv',\n",
       " '2018_3_USA_Consumer_SF_WI_1.csv',\n",
       " '2018_3_USA_Consumer_SF_WI_3.csv',\n",
       " '2018_3_USA_Consumer_SF_WI_4.csv',\n",
       " '2018_3_USA_Consumer_SF_WI_5.csv',\n",
       " '2018_3_USA_Consumer_SF_WY_0.csv']"
      ]
     },
     "execution_count": 4,
     "metadata": {},
     "output_type": "execute_result"
    }
   ],
   "source": [
    "all_files_name_list_2018"
   ]
  },
  {
   "cell_type": "code",
   "execution_count": 5,
   "id": "7b81a3a8",
   "metadata": {},
   "outputs": [
    {
     "ename": "ParserError",
     "evalue": "Error tokenizing data. C error: EOF inside string starting at row 1263",
     "output_type": "error",
     "traceback": [
      "\u001b[1;31m---------------------------------------------------------------------------\u001b[0m",
      "\u001b[1;31mParserError\u001b[0m                               Traceback (most recent call last)",
      "\u001b[1;32m<ipython-input-5-25c15c3f93c4>\u001b[0m in \u001b[0;36m<module>\u001b[1;34m\u001b[0m\n\u001b[1;32m----> 1\u001b[1;33m \u001b[0mdf_2018\u001b[0m \u001b[1;33m=\u001b[0m \u001b[0mpd\u001b[0m\u001b[1;33m.\u001b[0m\u001b[0mread_csv\u001b[0m\u001b[1;33m(\u001b[0m\u001b[1;34mr'Z:\\AIDAILER\\2018.3\\\\'\u001b[0m \u001b[1;33m+\u001b[0m \u001b[0mall_files_name_list_2018\u001b[0m\u001b[1;33m[\u001b[0m\u001b[1;36m10\u001b[0m\u001b[1;33m]\u001b[0m\u001b[1;33m)\u001b[0m\u001b[1;33m\u001b[0m\u001b[1;33m\u001b[0m\u001b[0m\n\u001b[0m",
      "\u001b[1;32m~\\Anaconda3\\lib\\site-packages\\pandas\\io\\parsers.py\u001b[0m in \u001b[0;36mread_csv\u001b[1;34m(filepath_or_buffer, sep, delimiter, header, names, index_col, usecols, squeeze, prefix, mangle_dupe_cols, dtype, engine, converters, true_values, false_values, skipinitialspace, skiprows, skipfooter, nrows, na_values, keep_default_na, na_filter, verbose, skip_blank_lines, parse_dates, infer_datetime_format, keep_date_col, date_parser, dayfirst, cache_dates, iterator, chunksize, compression, thousands, decimal, lineterminator, quotechar, quoting, doublequote, escapechar, comment, encoding, dialect, error_bad_lines, warn_bad_lines, delim_whitespace, low_memory, memory_map, float_precision, storage_options)\u001b[0m\n\u001b[0;32m    608\u001b[0m     \u001b[0mkwds\u001b[0m\u001b[1;33m.\u001b[0m\u001b[0mupdate\u001b[0m\u001b[1;33m(\u001b[0m\u001b[0mkwds_defaults\u001b[0m\u001b[1;33m)\u001b[0m\u001b[1;33m\u001b[0m\u001b[1;33m\u001b[0m\u001b[0m\n\u001b[0;32m    609\u001b[0m \u001b[1;33m\u001b[0m\u001b[0m\n\u001b[1;32m--> 610\u001b[1;33m     \u001b[1;32mreturn\u001b[0m \u001b[0m_read\u001b[0m\u001b[1;33m(\u001b[0m\u001b[0mfilepath_or_buffer\u001b[0m\u001b[1;33m,\u001b[0m \u001b[0mkwds\u001b[0m\u001b[1;33m)\u001b[0m\u001b[1;33m\u001b[0m\u001b[1;33m\u001b[0m\u001b[0m\n\u001b[0m\u001b[0;32m    611\u001b[0m \u001b[1;33m\u001b[0m\u001b[0m\n\u001b[0;32m    612\u001b[0m \u001b[1;33m\u001b[0m\u001b[0m\n",
      "\u001b[1;32m~\\Anaconda3\\lib\\site-packages\\pandas\\io\\parsers.py\u001b[0m in \u001b[0;36m_read\u001b[1;34m(filepath_or_buffer, kwds)\u001b[0m\n\u001b[0;32m    466\u001b[0m \u001b[1;33m\u001b[0m\u001b[0m\n\u001b[0;32m    467\u001b[0m     \u001b[1;32mwith\u001b[0m \u001b[0mparser\u001b[0m\u001b[1;33m:\u001b[0m\u001b[1;33m\u001b[0m\u001b[1;33m\u001b[0m\u001b[0m\n\u001b[1;32m--> 468\u001b[1;33m         \u001b[1;32mreturn\u001b[0m \u001b[0mparser\u001b[0m\u001b[1;33m.\u001b[0m\u001b[0mread\u001b[0m\u001b[1;33m(\u001b[0m\u001b[0mnrows\u001b[0m\u001b[1;33m)\u001b[0m\u001b[1;33m\u001b[0m\u001b[1;33m\u001b[0m\u001b[0m\n\u001b[0m\u001b[0;32m    469\u001b[0m \u001b[1;33m\u001b[0m\u001b[0m\n\u001b[0;32m    470\u001b[0m \u001b[1;33m\u001b[0m\u001b[0m\n",
      "\u001b[1;32m~\\Anaconda3\\lib\\site-packages\\pandas\\io\\parsers.py\u001b[0m in \u001b[0;36mread\u001b[1;34m(self, nrows)\u001b[0m\n\u001b[0;32m   1055\u001b[0m     \u001b[1;32mdef\u001b[0m \u001b[0mread\u001b[0m\u001b[1;33m(\u001b[0m\u001b[0mself\u001b[0m\u001b[1;33m,\u001b[0m \u001b[0mnrows\u001b[0m\u001b[1;33m=\u001b[0m\u001b[1;32mNone\u001b[0m\u001b[1;33m)\u001b[0m\u001b[1;33m:\u001b[0m\u001b[1;33m\u001b[0m\u001b[1;33m\u001b[0m\u001b[0m\n\u001b[0;32m   1056\u001b[0m         \u001b[0mnrows\u001b[0m \u001b[1;33m=\u001b[0m \u001b[0mvalidate_integer\u001b[0m\u001b[1;33m(\u001b[0m\u001b[1;34m\"nrows\"\u001b[0m\u001b[1;33m,\u001b[0m \u001b[0mnrows\u001b[0m\u001b[1;33m)\u001b[0m\u001b[1;33m\u001b[0m\u001b[1;33m\u001b[0m\u001b[0m\n\u001b[1;32m-> 1057\u001b[1;33m         \u001b[0mindex\u001b[0m\u001b[1;33m,\u001b[0m \u001b[0mcolumns\u001b[0m\u001b[1;33m,\u001b[0m \u001b[0mcol_dict\u001b[0m \u001b[1;33m=\u001b[0m \u001b[0mself\u001b[0m\u001b[1;33m.\u001b[0m\u001b[0m_engine\u001b[0m\u001b[1;33m.\u001b[0m\u001b[0mread\u001b[0m\u001b[1;33m(\u001b[0m\u001b[0mnrows\u001b[0m\u001b[1;33m)\u001b[0m\u001b[1;33m\u001b[0m\u001b[1;33m\u001b[0m\u001b[0m\n\u001b[0m\u001b[0;32m   1058\u001b[0m \u001b[1;33m\u001b[0m\u001b[0m\n\u001b[0;32m   1059\u001b[0m         \u001b[1;32mif\u001b[0m \u001b[0mindex\u001b[0m \u001b[1;32mis\u001b[0m \u001b[1;32mNone\u001b[0m\u001b[1;33m:\u001b[0m\u001b[1;33m\u001b[0m\u001b[1;33m\u001b[0m\u001b[0m\n",
      "\u001b[1;32m~\\Anaconda3\\lib\\site-packages\\pandas\\io\\parsers.py\u001b[0m in \u001b[0;36mread\u001b[1;34m(self, nrows)\u001b[0m\n\u001b[0;32m   2059\u001b[0m     \u001b[1;32mdef\u001b[0m \u001b[0mread\u001b[0m\u001b[1;33m(\u001b[0m\u001b[0mself\u001b[0m\u001b[1;33m,\u001b[0m \u001b[0mnrows\u001b[0m\u001b[1;33m=\u001b[0m\u001b[1;32mNone\u001b[0m\u001b[1;33m)\u001b[0m\u001b[1;33m:\u001b[0m\u001b[1;33m\u001b[0m\u001b[1;33m\u001b[0m\u001b[0m\n\u001b[0;32m   2060\u001b[0m         \u001b[1;32mtry\u001b[0m\u001b[1;33m:\u001b[0m\u001b[1;33m\u001b[0m\u001b[1;33m\u001b[0m\u001b[0m\n\u001b[1;32m-> 2061\u001b[1;33m             \u001b[0mdata\u001b[0m \u001b[1;33m=\u001b[0m \u001b[0mself\u001b[0m\u001b[1;33m.\u001b[0m\u001b[0m_reader\u001b[0m\u001b[1;33m.\u001b[0m\u001b[0mread\u001b[0m\u001b[1;33m(\u001b[0m\u001b[0mnrows\u001b[0m\u001b[1;33m)\u001b[0m\u001b[1;33m\u001b[0m\u001b[1;33m\u001b[0m\u001b[0m\n\u001b[0m\u001b[0;32m   2062\u001b[0m         \u001b[1;32mexcept\u001b[0m \u001b[0mStopIteration\u001b[0m\u001b[1;33m:\u001b[0m\u001b[1;33m\u001b[0m\u001b[1;33m\u001b[0m\u001b[0m\n\u001b[0;32m   2063\u001b[0m             \u001b[1;32mif\u001b[0m \u001b[0mself\u001b[0m\u001b[1;33m.\u001b[0m\u001b[0m_first_chunk\u001b[0m\u001b[1;33m:\u001b[0m\u001b[1;33m\u001b[0m\u001b[1;33m\u001b[0m\u001b[0m\n",
      "\u001b[1;32mpandas\\_libs\\parsers.pyx\u001b[0m in \u001b[0;36mpandas._libs.parsers.TextReader.read\u001b[1;34m()\u001b[0m\n",
      "\u001b[1;32mpandas\\_libs\\parsers.pyx\u001b[0m in \u001b[0;36mpandas._libs.parsers.TextReader._read_low_memory\u001b[1;34m()\u001b[0m\n",
      "\u001b[1;32mpandas\\_libs\\parsers.pyx\u001b[0m in \u001b[0;36mpandas._libs.parsers.TextReader._read_rows\u001b[1;34m()\u001b[0m\n",
      "\u001b[1;32mpandas\\_libs\\parsers.pyx\u001b[0m in \u001b[0;36mpandas._libs.parsers.TextReader._tokenize_rows\u001b[1;34m()\u001b[0m\n",
      "\u001b[1;32mpandas\\_libs\\parsers.pyx\u001b[0m in \u001b[0;36mpandas._libs.parsers.raise_parser_error\u001b[1;34m()\u001b[0m\n",
      "\u001b[1;31mParserError\u001b[0m: Error tokenizing data. C error: EOF inside string starting at row 1263"
     ]
    }
   ],
   "source": [
    "df_2018 = pd.read_csv(r'Z:\\AIDAILER\\2018.3\\\\' + all_files_name_list_2018[10])"
   ]
  },
  {
   "cell_type": "code",
   "execution_count": 6,
   "id": "d03fa50d",
   "metadata": {},
   "outputs": [
    {
     "data": {
      "text/plain": [
       "'2018_3_USA_Consumer_SF_AZ_1.csv'"
      ]
     },
     "execution_count": 6,
     "metadata": {},
     "output_type": "execute_result"
    }
   ],
   "source": [
    "all_files_name_list_2018[10]"
   ]
  },
  {
   "cell_type": "code",
   "execution_count": 16,
   "id": "e7629c22",
   "metadata": {},
   "outputs": [
    {
     "data": {
      "text/plain": [
       "'Z:\\\\AIDAILER\\x818.3\\\\2018_3_USA_Consumer_SF_AZ_1.csv'"
      ]
     },
     "execution_count": 16,
     "metadata": {},
     "output_type": "execute_result"
    }
   ],
   "source": [
    "'Z:\\AIDAILER\\2018.3\\\\' + all_files_name_list_2018[10]"
   ]
  },
  {
   "cell_type": "code",
   "execution_count": null,
   "id": "8a40e912",
   "metadata": {},
   "outputs": [],
   "source": [
    "abc = pd.read_csv('2018_3_USA_Consumer_SF_AL_0.csv', )"
   ]
  },
  {
   "cell_type": "code",
   "execution_count": 14,
   "id": "6efc9732",
   "metadata": {},
   "outputs": [
    {
     "name": "stderr",
     "output_type": "stream",
     "text": [
      "<ipython-input-14-cf32dfbf0dbe>:6: ParserWarning: Falling back to the 'python' engine because the 'c' engine does not support regex separators (separators > 1 char and different from '\\s+' are interpreted as regex); you can avoid this warning by specifying engine='python'.\n",
      "  df_2018 = pd.read_csv(os.path.join(source ,str(next(csvs_iter))), sep=\"\\t|,\",warn_bad_lines=True, error_bad_lines=False)\n"
     ]
    },
    {
     "name": "stdout",
     "output_type": "stream",
     "text": [
      "1 2018_3_USA_Consumer_SF_AK_0.csv (212458, 97)\n",
      "2 2018_3_USA_Consumer_SF_AL_0.csv (499999, 97)\n",
      "3 2018_3_USA_Consumer_SF_AL_1.csv (499999, 97)\n"
     ]
    },
    {
     "name": "stderr",
     "output_type": "stream",
     "text": [
      "Skipping line 102069: Expected 97 fields in line 102069, saw 99. Error could possibly be due to quotes being ignored when a multi-char delimiter is used.\n"
     ]
    },
    {
     "name": "stdout",
     "output_type": "stream",
     "text": [
      "4 2018_3_USA_Consumer_SF_AL_2.csv (499998, 97)\n"
     ]
    },
    {
     "name": "stderr",
     "output_type": "stream",
     "text": [
      "Skipping line 306509: Expected 97 fields in line 306509, saw 99. Error could possibly be due to quotes being ignored when a multi-char delimiter is used.\n"
     ]
    },
    {
     "name": "stdout",
     "output_type": "stream",
     "text": [
      "5 2018_3_USA_Consumer_SF_AL_3.csv (499998, 97)\n"
     ]
    },
    {
     "name": "stderr",
     "output_type": "stream",
     "text": [
      "Skipping line 240897: Expected 97 fields in line 240897, saw 99. Error could possibly be due to quotes being ignored when a multi-char delimiter is used.\n"
     ]
    },
    {
     "name": "stdout",
     "output_type": "stream",
     "text": [
      "6 2018_3_USA_Consumer_SF_AL_4.csv (334813, 97)\n"
     ]
    },
    {
     "name": "stderr",
     "output_type": "stream",
     "text": [
      "Skipping line 290975: Expected 97 fields in line 290975, saw 99. Error could possibly be due to quotes being ignored when a multi-char delimiter is used.\n"
     ]
    },
    {
     "name": "stdout",
     "output_type": "stream",
     "text": [
      "7 2018_3_USA_Consumer_SF_AR_0.csv (332305, 97)\n",
      "8 2018_3_USA_Consumer_SF_AR_1.csv (499999, 97)\n"
     ]
    },
    {
     "name": "stderr",
     "output_type": "stream",
     "text": [
      "Skipping line 261874: Expected 97 fields in line 261874, saw 99. Error could possibly be due to quotes being ignored when a multi-char delimiter is used.\n"
     ]
    },
    {
     "name": "stdout",
     "output_type": "stream",
     "text": [
      "9 2018_3_USA_Consumer_SF_AR_2.csv (350845, 97)\n"
     ]
    },
    {
     "name": "stderr",
     "output_type": "stream",
     "text": [
      "Skipping line 208215: Expected 97 fields in line 208215, saw 98. Error could possibly be due to quotes being ignored when a multi-char delimiter is used.\n",
      "Skipping line 455542: Expected 97 fields in line 455542, saw 98. Error could possibly be due to quotes being ignored when a multi-char delimiter is used.\n"
     ]
    },
    {
     "name": "stdout",
     "output_type": "stream",
     "text": [
      "10 2018_3_USA_Consumer_SF_AZ_0.csv (499997, 97)\n",
      "11 2018_3_USA_Consumer_SF_AZ_1.csv (1263, 97)\n"
     ]
    },
    {
     "name": "stderr",
     "output_type": "stream",
     "text": [
      "Skipping line 474980: Expected 97 fields in line 474980, saw 99. Error could possibly be due to quotes being ignored when a multi-char delimiter is used.\n"
     ]
    },
    {
     "name": "stdout",
     "output_type": "stream",
     "text": [
      "12 2018_3_USA_Consumer_SF_AZ_2.csv (499998, 97)\n",
      "13 2018_3_USA_Consumer_SF_AZ_3.csv (499999, 97)\n",
      "14 2018_3_USA_Consumer_SF_AZ_4.csv (457824, 97)\n",
      "15 2018_3_USA_Consumer_SF_CA_0.csv (499999, 97)\n",
      "16 2018_3_USA_Consumer_SF_CA_1.csv (499999, 97)\n"
     ]
    },
    {
     "name": "stderr",
     "output_type": "stream",
     "text": [
      "Skipping line 193623: Expected 97 fields in line 193623, saw 98. Error could possibly be due to quotes being ignored when a multi-char delimiter is used.\n"
     ]
    },
    {
     "name": "stdout",
     "output_type": "stream",
     "text": [
      "17 2018_3_USA_Consumer_SF_CA_10.csv (499998, 97)\n",
      "18 2018_3_USA_Consumer_SF_CA_11.csv (499999, 97)\n",
      "19 2018_3_USA_Consumer_SF_CA_12.csv (499999, 97)\n",
      "20 2018_3_USA_Consumer_SF_CA_13.csv (14469, 97)\n"
     ]
    },
    {
     "name": "stderr",
     "output_type": "stream",
     "text": [
      "Skipping line 304775: Expected 97 fields in line 304775, saw 99. Error could possibly be due to quotes being ignored when a multi-char delimiter is used.\n"
     ]
    },
    {
     "name": "stdout",
     "output_type": "stream",
     "text": [
      "21 2018_3_USA_Consumer_SF_CA_14.csv (499998, 97)\n",
      "22 2018_3_USA_Consumer_SF_CA_15.csv (499999, 97)\n"
     ]
    },
    {
     "name": "stderr",
     "output_type": "stream",
     "text": [
      "Skipping line 40040: Expected 97 fields in line 40040, saw 99. Error could possibly be due to quotes being ignored when a multi-char delimiter is used.\n",
      "Skipping line 222813: Expected 97 fields in line 222813, saw 99. Error could possibly be due to quotes being ignored when a multi-char delimiter is used.\n"
     ]
    },
    {
     "name": "stdout",
     "output_type": "stream",
     "text": [
      "23 2018_3_USA_Consumer_SF_CA_17.csv (499997, 97)\n",
      "24 2018_3_USA_Consumer_SF_CA_2.csv (499999, 97)\n",
      "25 2018_3_USA_Consumer_SF_CA_20.csv (499999, 97)\n"
     ]
    },
    {
     "name": "stderr",
     "output_type": "stream",
     "text": [
      "Skipping line 30038: Expected 97 fields in line 30038, saw 99. Error could possibly be due to quotes being ignored when a multi-char delimiter is used.\n",
      "Skipping line 369156: Expected 97 fields in line 369156, saw 99. Error could possibly be due to quotes being ignored when a multi-char delimiter is used.\n"
     ]
    },
    {
     "name": "stdout",
     "output_type": "stream",
     "text": [
      "26 2018_3_USA_Consumer_SF_CA_22.csv (499997, 97)\n"
     ]
    },
    {
     "name": "stderr",
     "output_type": "stream",
     "text": [
      "Skipping line 352810: Expected 97 fields in line 352810, saw 99. Error could possibly be due to quotes being ignored when a multi-char delimiter is used.\n"
     ]
    },
    {
     "name": "stdout",
     "output_type": "stream",
     "text": [
      "27 2018_3_USA_Consumer_SF_CA_23.csv (499998, 97)\n",
      "28 2018_3_USA_Consumer_SF_CA_24.csv (499999, 97)\n",
      "29 2018_3_USA_Consumer_SF_CA_26.csv (499999, 97)\n"
     ]
    },
    {
     "name": "stderr",
     "output_type": "stream",
     "text": [
      "Skipping line 364165: Expected 97 fields in line 364165, saw 99. Error could possibly be due to quotes being ignored when a multi-char delimiter is used.\n"
     ]
    },
    {
     "name": "stdout",
     "output_type": "stream",
     "text": [
      "30 2018_3_USA_Consumer_SF_CA_27.csv (499998, 97)\n",
      "31 2018_3_USA_Consumer_SF_CA_29.csv (225031, 97)\n",
      "32 2018_3_USA_Consumer_SF_CA_3.csv (499999, 97)\n",
      "33 2018_3_USA_Consumer_SF_CA_4.csv (499999, 97)\n",
      "34 2018_3_USA_Consumer_SF_CA_5.csv (499999, 97)\n",
      "35 2018_3_USA_Consumer_SF_CA_6.csv (499999, 97)\n",
      "36 2018_3_USA_Consumer_SF_CA_7.csv (499999, 97)\n",
      "37 2018_3_USA_Consumer_SF_CA_8.csv (85195, 97)\n"
     ]
    },
    {
     "name": "stderr",
     "output_type": "stream",
     "text": [
      "Skipping line 459910: Expected 97 fields in line 459910, saw 99. Error could possibly be due to quotes being ignored when a multi-char delimiter is used.\n"
     ]
    },
    {
     "name": "stdout",
     "output_type": "stream",
     "text": [
      "38 2018_3_USA_Consumer_SF_CA_9.csv (499998, 97)\n",
      "39 2018_3_USA_Consumer_SF_CO_0.csv (499999, 97)\n",
      "40 2018_3_USA_Consumer_SF_CO_2.csv (499999, 97)\n",
      "41 2018_3_USA_Consumer_SF_CO_4.csv (326263, 97)\n",
      "42 2018_3_USA_Consumer_SF_CT_0.csv (499999, 97)\n",
      "43 2018_3_USA_Consumer_SF_CT_1.csv (499999, 97)\n",
      "44 2018_3_USA_Consumer_SF_CT_3.csv (376445, 97)\n"
     ]
    },
    {
     "name": "stderr",
     "output_type": "stream",
     "text": [
      "Skipping line 146629: Expected 97 fields in line 146629, saw 98. Error could possibly be due to quotes being ignored when a multi-char delimiter is used.\n"
     ]
    },
    {
     "name": "stdout",
     "output_type": "stream",
     "text": [
      "45 2018_3_USA_Consumer_SF_DC_0.csv (229846, 97)\n",
      "46 2018_3_USA_Consumer_SF_DE_0.csv (499999, 97)\n",
      "47 2018_3_USA_Consumer_SF_DE_1.csv (32200, 97)\n",
      "48 2018_3_USA_Consumer_SF_FL_0.csv (499999, 97)\n",
      "49 2018_3_USA_Consumer_SF_FL_18.csv (19494, 97)\n",
      "50 2018_3_USA_Consumer_SF_GA_0.csv (499999, 97)\n",
      "51 2018_3_USA_Consumer_SF_GA_1.csv (499999, 97)\n"
     ]
    },
    {
     "name": "stderr",
     "output_type": "stream",
     "text": [
      "Skipping line 442210: Expected 97 fields in line 442210, saw 99. Error could possibly be due to quotes being ignored when a multi-char delimiter is used.\n"
     ]
    },
    {
     "name": "stdout",
     "output_type": "stream",
     "text": [
      "52 2018_3_USA_Consumer_SF_GA_2.csv (499998, 97)\n"
     ]
    },
    {
     "name": "stderr",
     "output_type": "stream",
     "text": [
      "Skipping line 349482: Expected 97 fields in line 349482, saw 98. Error could possibly be due to quotes being ignored when a multi-char delimiter is used.\n"
     ]
    },
    {
     "name": "stdout",
     "output_type": "stream",
     "text": [
      "53 2018_3_USA_Consumer_SF_GA_3.csv (499998, 97)\n"
     ]
    },
    {
     "name": "stderr",
     "output_type": "stream",
     "text": [
      "Skipping line 208260: Expected 97 fields in line 208260, saw 99. Error could possibly be due to quotes being ignored when a multi-char delimiter is used.\n"
     ]
    },
    {
     "name": "stdout",
     "output_type": "stream",
     "text": [
      "54 2018_3_USA_Consumer_SF_GA_4.csv (499998, 97)\n",
      "55 2018_3_USA_Consumer_SF_GA_7.csv (499999, 97)\n"
     ]
    },
    {
     "name": "stderr",
     "output_type": "stream",
     "text": [
      "Skipping line 216389: Expected 97 fields in line 216389, saw 99. Error could possibly be due to quotes being ignored when a multi-char delimiter is used.\n"
     ]
    },
    {
     "name": "stdout",
     "output_type": "stream",
     "text": [
      "56 2018_3_USA_Consumer_SF_GA_8.csv (429116, 97)\n",
      "57 2018_3_USA_Consumer_SF_GU_0.csv (36, 97)\n",
      "58 2018_3_USA_Consumer_SF_IA_0.csv (499999, 97)\n"
     ]
    },
    {
     "name": "stderr",
     "output_type": "stream",
     "text": [
      "Skipping line 37044: Expected 97 fields in line 37044, saw 99. Error could possibly be due to quotes being ignored when a multi-char delimiter is used.\n",
      "Skipping line 468185: Expected 97 fields in line 468185, saw 99. Error could possibly be due to quotes being ignored when a multi-char delimiter is used.\n"
     ]
    },
    {
     "name": "stdout",
     "output_type": "stream",
     "text": [
      "59 2018_3_USA_Consumer_SF_IA_1.csv (499997, 97)\n",
      "60 2018_3_USA_Consumer_SF_IA_2.csv (499999, 97)\n"
     ]
    },
    {
     "name": "stderr",
     "output_type": "stream",
     "text": [
      "Skipping line 183124: Expected 97 fields in line 183124, saw 99. Error could possibly be due to quotes being ignored when a multi-char delimiter is used.\n",
      "Skipping line 443334: Expected 97 fields in line 443334, saw 99. Error could possibly be due to quotes being ignored when a multi-char delimiter is used.\n"
     ]
    },
    {
     "name": "stdout",
     "output_type": "stream",
     "text": [
      "61 2018_3_USA_Consumer_SF_ID_0.csv (499997, 97)\n",
      "62 2018_3_USA_Consumer_SF_ID_1.csv (130152, 97)\n",
      "63 2018_3_USA_Consumer_SF_IL_0.csv (499999, 97)\n",
      "64 2018_3_USA_Consumer_SF_IL_10.csv (499999, 97)\n",
      "65 2018_3_USA_Consumer_SF_IL_11.csv (493034, 97)\n",
      "66 2018_3_USA_Consumer_SF_IL_3.csv (499999, 97)\n",
      "67 2018_3_USA_Consumer_SF_IL_4.csv (499999, 97)\n",
      "68 2018_3_USA_Consumer_SF_IL_6.csv (499999, 97)\n",
      "69 2018_3_USA_Consumer_SF_IL_8.csv (499999, 97)\n",
      "70 2018_3_USA_Consumer_SF_IL_9.csv (499999, 97)\n",
      "71 2018_3_USA_Consumer_SF_IN_2.csv (499999, 97)\n"
     ]
    },
    {
     "name": "stderr",
     "output_type": "stream",
     "text": [
      "Skipping line 182061: Expected 97 fields in line 182061, saw 98. Error could possibly be due to quotes being ignored when a multi-char delimiter is used.\n"
     ]
    },
    {
     "name": "stdout",
     "output_type": "stream",
     "text": [
      "72 2018_3_USA_Consumer_SF_IN_4.csv (499998, 97)\n"
     ]
    },
    {
     "name": "stderr",
     "output_type": "stream",
     "text": [
      "Skipping line 327352: Expected 97 fields in line 327352, saw 98. Error could possibly be due to quotes being ignored when a multi-char delimiter is used.\n",
      "Skipping line 454413: Expected 97 fields in line 454413, saw 99. Error could possibly be due to quotes being ignored when a multi-char delimiter is used.\n"
     ]
    },
    {
     "name": "stdout",
     "output_type": "stream",
     "text": [
      "73 2018_3_USA_Consumer_SF_KS_0.csv (499997, 97)\n"
     ]
    },
    {
     "name": "stderr",
     "output_type": "stream",
     "text": [
      "Skipping line 63334: Expected 97 fields in line 63334, saw 99. Error could possibly be due to quotes being ignored when a multi-char delimiter is used.\n",
      "Skipping line 346788: Expected 97 fields in line 346788, saw 99. Error could possibly be due to quotes being ignored when a multi-char delimiter is used.\n",
      "Skipping line 346789: Expected 97 fields in line 346789, saw 99. Error could possibly be due to quotes being ignored when a multi-char delimiter is used.\n"
     ]
    },
    {
     "name": "stdout",
     "output_type": "stream",
     "text": [
      "74 2018_3_USA_Consumer_SF_KS_1.csv (499996, 97)\n"
     ]
    },
    {
     "name": "stderr",
     "output_type": "stream",
     "text": [
      "Skipping line 180668: Expected 97 fields in line 180668, saw 98. Error could possibly be due to quotes being ignored when a multi-char delimiter is used.\n"
     ]
    },
    {
     "name": "stdout",
     "output_type": "stream",
     "text": [
      "75 2018_3_USA_Consumer_SF_KY_0.csv (499998, 97)\n"
     ]
    },
    {
     "name": "stderr",
     "output_type": "stream",
     "text": [
      "Skipping line 198046: Expected 97 fields in line 198046, saw 99. Error could possibly be due to quotes being ignored when a multi-char delimiter is used.\n"
     ]
    },
    {
     "name": "stdout",
     "output_type": "stream",
     "text": [
      "76 2018_3_USA_Consumer_SF_KY_1.csv (499998, 97)\n",
      "77 2018_3_USA_Consumer_SF_KY_2.csv (499999, 97)\n",
      "78 2018_3_USA_Consumer_SF_KY_4.csv (97091, 97)\n"
     ]
    },
    {
     "name": "stderr",
     "output_type": "stream",
     "text": [
      "Skipping line 455216: Expected 97 fields in line 455216, saw 99. Error could possibly be due to quotes being ignored when a multi-char delimiter is used.\n"
     ]
    },
    {
     "name": "stdout",
     "output_type": "stream",
     "text": [
      "79 2018_3_USA_Consumer_SF_LA_0.csv (499998, 97)\n",
      "80 2018_3_USA_Consumer_SF_LA_1.csv (499999, 97)\n",
      "81 2018_3_USA_Consumer_SF_LA_2.csv (16130, 97)\n",
      "82 2018_3_USA_Consumer_SF_LA_3.csv (499999, 97)\n",
      "83 2018_3_USA_Consumer_SF_LA_4.csv (297621, 97)\n",
      "84 2018_3_USA_Consumer_SF_MA_0.csv (499999, 97)\n",
      "85 2018_3_USA_Consumer_SF_MA_4.csv (499999, 97)\n"
     ]
    },
    {
     "name": "stderr",
     "output_type": "stream",
     "text": [
      "Skipping line 206670: Expected 97 fields in line 206670, saw 98. Error could possibly be due to quotes being ignored when a multi-char delimiter is used.\n"
     ]
    },
    {
     "name": "stdout",
     "output_type": "stream",
     "text": [
      "86 2018_3_USA_Consumer_SF_MA_6.csv (295267, 97)\n",
      "87 2018_3_USA_Consumer_SF_MD_0.csv (499999, 97)\n",
      "88 2018_3_USA_Consumer_SF_MD_1.csv (27157, 97)\n",
      "89 2018_3_USA_Consumer_SF_MD_2.csv (3858, 97)\n",
      "90 2018_3_USA_Consumer_SF_MD_3.csv (499999, 97)\n"
     ]
    },
    {
     "name": "stderr",
     "output_type": "stream",
     "text": [
      "Skipping line 161797: Expected 97 fields in line 161797, saw 99. Error could possibly be due to quotes being ignored when a multi-char delimiter is used.\n"
     ]
    },
    {
     "name": "stdout",
     "output_type": "stream",
     "text": [
      "91 2018_3_USA_Consumer_SF_MD_4.csv (499998, 97)\n",
      "92 2018_3_USA_Consumer_SF_MD_5.csv (408423, 97)\n",
      "93 2018_3_USA_Consumer_SF_MI_2.csv (499999, 97)\n",
      "94 2018_3_USA_Consumer_SF_MI_3.csv (499999, 97)\n",
      "95 2018_3_USA_Consumer_SF_MI_4.csv (499999, 97)\n",
      "96 2018_3_USA_Consumer_SF_MI_5.csv (499999, 97)\n"
     ]
    },
    {
     "name": "stderr",
     "output_type": "stream",
     "text": [
      "Skipping line 490151: Expected 97 fields in line 490151, saw 99. Error could possibly be due to quotes being ignored when a multi-char delimiter is used.\n"
     ]
    },
    {
     "name": "stdout",
     "output_type": "stream",
     "text": [
      "97 2018_3_USA_Consumer_SF_MI_8.csv (499998, 97)\n",
      "98 2018_3_USA_Consumer_SF_MI_9.csv (499999, 97)\n",
      "99 2018_3_USA_Consumer_SF_MN_0.csv (499999, 97)\n"
     ]
    },
    {
     "name": "stderr",
     "output_type": "stream",
     "text": [
      "Skipping line 233561: Expected 97 fields in line 233561, saw 98. Error could possibly be due to quotes being ignored when a multi-char delimiter is used.\n"
     ]
    },
    {
     "name": "stdout",
     "output_type": "stream",
     "text": [
      "100 2018_3_USA_Consumer_SF_MN_2.csv (499998, 97)\n",
      "101 2018_3_USA_Consumer_SF_MN_4.csv (499999, 97)\n"
     ]
    },
    {
     "name": "stderr",
     "output_type": "stream",
     "text": [
      "Skipping line 92840: Expected 97 fields in line 92840, saw 98. Error could possibly be due to quotes being ignored when a multi-char delimiter is used.\n"
     ]
    },
    {
     "name": "stdout",
     "output_type": "stream",
     "text": [
      "102 2018_3_USA_Consumer_SF_MN_5.csv (219504, 97)\n",
      "103 2018_3_USA_Consumer_SF_MO_0.csv (499999, 97)\n",
      "104 2018_3_USA_Consumer_SF_MO_1.csv (499999, 97)\n",
      "105 2018_3_USA_Consumer_SF_MO_3.csv (499999, 97)\n",
      "106 2018_3_USA_Consumer_SF_MO_4.csv (499999, 97)\n",
      "107 2018_3_USA_Consumer_SF_MO_5.csv (406780, 97)\n"
     ]
    },
    {
     "name": "stderr",
     "output_type": "stream",
     "text": [
      "Skipping line 173756: Expected 97 fields in line 173756, saw 98. Error could possibly be due to quotes being ignored when a multi-char delimiter is used.\n"
     ]
    },
    {
     "name": "stdout",
     "output_type": "stream",
     "text": [
      "108 2018_3_USA_Consumer_SF_MS_0.csv (499998, 97)\n",
      "109 2018_3_USA_Consumer_SF_MS_1.csv (499999, 97)\n",
      "110 2018_3_USA_Consumer_SF_MT_0.csv (431824, 97)\n",
      "111 2018_3_USA_Consumer_SF_NC_0.csv (499999, 97)\n",
      "112 2018_3_USA_Consumer_SF_NC_1.csv (499999, 97)\n"
     ]
    },
    {
     "name": "stderr",
     "output_type": "stream",
     "text": [
      "Skipping line 269410: Expected 97 fields in line 269410, saw 99. Error could possibly be due to quotes being ignored when a multi-char delimiter is used.\n"
     ]
    },
    {
     "name": "stdout",
     "output_type": "stream",
     "text": [
      "113 2018_3_USA_Consumer_SF_NC_2.csv (499998, 97)\n"
     ]
    },
    {
     "name": "stderr",
     "output_type": "stream",
     "text": [
      "Skipping line 464264: Expected 97 fields in line 464264, saw 99. Error could possibly be due to quotes being ignored when a multi-char delimiter is used.\n"
     ]
    },
    {
     "name": "stdout",
     "output_type": "stream",
     "text": [
      "114 2018_3_USA_Consumer_SF_NC_3.csv (499998, 97)\n"
     ]
    },
    {
     "name": "stderr",
     "output_type": "stream",
     "text": [
      "Skipping line 495944: Expected 97 fields in line 495944, saw 99. Error could possibly be due to quotes being ignored when a multi-char delimiter is used.\n"
     ]
    },
    {
     "name": "stdout",
     "output_type": "stream",
     "text": [
      "115 2018_3_USA_Consumer_SF_NC_4.csv (499998, 97)\n",
      "116 2018_3_USA_Consumer_SF_NC_5.csv (499999, 97)\n",
      "117 2018_3_USA_Consumer_SF_NC_6.csv (499999, 97)\n",
      "118 2018_3_USA_Consumer_SF_NC_8.csv (234067, 97)\n",
      "119 2018_3_USA_Consumer_SF_ND_0.csv (297607, 97)\n",
      "120 2018_3_USA_Consumer_SF_NE_1.csv (320963, 97)\n"
     ]
    },
    {
     "name": "stderr",
     "output_type": "stream",
     "text": [
      "Skipping line 236260: Expected 97 fields in line 236260, saw 99. Error could possibly be due to quotes being ignored when a multi-char delimiter is used.\n",
      "Skipping line 236365: Expected 97 fields in line 236365, saw 99. Error could possibly be due to quotes being ignored when a multi-char delimiter is used.\n"
     ]
    },
    {
     "name": "stdout",
     "output_type": "stream",
     "text": [
      "121 2018_3_USA_Consumer_SF_NJ_0.csv (499997, 97)\n"
     ]
    },
    {
     "name": "stderr",
     "output_type": "stream",
     "text": [
      "Skipping line 256232: Expected 97 fields in line 256232, saw 99. Error could possibly be due to quotes being ignored when a multi-char delimiter is used.\n"
     ]
    },
    {
     "name": "stdout",
     "output_type": "stream",
     "text": [
      "122 2018_3_USA_Consumer_SF_NJ_1.csv (499998, 97)\n",
      "123 2018_3_USA_Consumer_SF_NJ_3.csv (18030, 97)\n"
     ]
    },
    {
     "name": "stderr",
     "output_type": "stream",
     "text": [
      "Skipping line 339503: Expected 97 fields in line 339503, saw 101. Error could possibly be due to quotes being ignored when a multi-char delimiter is used.\n",
      "Skipping line 375196: Expected 97 fields in line 375196, saw 99. Error could possibly be due to quotes being ignored when a multi-char delimiter is used.\n",
      "Skipping line 432452: Expected 97 fields in line 432452, saw 99. Error could possibly be due to quotes being ignored when a multi-char delimiter is used.\n"
     ]
    },
    {
     "name": "stdout",
     "output_type": "stream",
     "text": [
      "124 2018_3_USA_Consumer_SF_NJ_4.csv (499996, 97)\n"
     ]
    },
    {
     "name": "stderr",
     "output_type": "stream",
     "text": [
      "Skipping line 419817: Expected 97 fields in line 419817, saw 99. Error could possibly be due to quotes being ignored when a multi-char delimiter is used.\n"
     ]
    },
    {
     "name": "stdout",
     "output_type": "stream",
     "text": [
      "125 2018_3_USA_Consumer_SF_NJ_7.csv (499998, 97)\n",
      "126 2018_3_USA_Consumer_SF_NM_0.csv (499999, 97)\n",
      "127 2018_3_USA_Consumer_SF_NM_1.csv (242653, 97)\n",
      "128 2018_3_USA_Consumer_SF_NV_0.csv (499999, 97)\n",
      "129 2018_3_USA_Consumer_SF_NV_2.csv (116413, 97)\n"
     ]
    },
    {
     "name": "stderr",
     "output_type": "stream",
     "text": [
      "Skipping line 122626: Expected 97 fields in line 122626, saw 99. Error could possibly be due to quotes being ignored when a multi-char delimiter is used.\n"
     ]
    },
    {
     "name": "stdout",
     "output_type": "stream",
     "text": [
      "130 2018_3_USA_Consumer_SF_NY_1.csv (499998, 97)\n",
      "131 2018_3_USA_Consumer_SF_NY_10.csv (499999, 97)\n"
     ]
    },
    {
     "name": "stderr",
     "output_type": "stream",
     "text": [
      "Skipping line 39195: Expected 97 fields in line 39195, saw 99. Error could possibly be due to quotes being ignored when a multi-char delimiter is used.\n"
     ]
    },
    {
     "name": "stdout",
     "output_type": "stream",
     "text": [
      "132 2018_3_USA_Consumer_SF_NY_11.csv (499998, 97)\n"
     ]
    },
    {
     "name": "stderr",
     "output_type": "stream",
     "text": [
      "Skipping line 93853: Expected 97 fields in line 93853, saw 98. Error could possibly be due to quotes being ignored when a multi-char delimiter is used.\n",
      "Skipping line 134152: Expected 97 fields in line 134152, saw 99. Error could possibly be due to quotes being ignored when a multi-char delimiter is used.\n"
     ]
    },
    {
     "name": "stdout",
     "output_type": "stream",
     "text": [
      "133 2018_3_USA_Consumer_SF_NY_12.csv (499997, 97)\n"
     ]
    },
    {
     "name": "stderr",
     "output_type": "stream",
     "text": [
      "Skipping line 49362: Expected 97 fields in line 49362, saw 99. Error could possibly be due to quotes being ignored when a multi-char delimiter is used.\n"
     ]
    },
    {
     "name": "stdout",
     "output_type": "stream",
     "text": [
      "134 2018_3_USA_Consumer_SF_NY_13.csv (499998, 97)\n"
     ]
    },
    {
     "name": "stderr",
     "output_type": "stream",
     "text": [
      "Skipping line 7685: Expected 97 fields in line 7685, saw 98. Error could possibly be due to quotes being ignored when a multi-char delimiter is used.\n",
      "Skipping line 146415: Expected 97 fields in line 146415, saw 99. Error could possibly be due to quotes being ignored when a multi-char delimiter is used.\n",
      "Skipping line 154450: Expected 97 fields in line 154450, saw 98. Error could possibly be due to quotes being ignored when a multi-char delimiter is used.\n",
      "Skipping line 214700: Expected 97 fields in line 214700, saw 99. Error could possibly be due to quotes being ignored when a multi-char delimiter is used.\n"
     ]
    },
    {
     "name": "stdout",
     "output_type": "stream",
     "text": [
      "135 2018_3_USA_Consumer_SF_NY_14.csv (499995, 97)\n",
      "136 2018_3_USA_Consumer_SF_NY_15.csv (499999, 97)\n",
      "137 2018_3_USA_Consumer_SF_NY_16.csv (499999, 97)\n",
      "138 2018_3_USA_Consumer_SF_NY_17.csv (199989, 97)\n",
      "139 2018_3_USA_Consumer_SF_NY_2.csv (499999, 97)\n",
      "140 2018_3_USA_Consumer_SF_NY_4.csv (499999, 97)\n"
     ]
    },
    {
     "name": "stderr",
     "output_type": "stream",
     "text": [
      "Skipping line 370420: Expected 97 fields in line 370420, saw 99. Error could possibly be due to quotes being ignored when a multi-char delimiter is used.\n"
     ]
    },
    {
     "name": "stdout",
     "output_type": "stream",
     "text": [
      "141 2018_3_USA_Consumer_SF_NY_5.csv (499998, 97)\n"
     ]
    },
    {
     "name": "stderr",
     "output_type": "stream",
     "text": [
      "Skipping line 86812: Expected 97 fields in line 86812, saw 99. Error could possibly be due to quotes being ignored when a multi-char delimiter is used.\n",
      "Skipping line 500000: Expected 97 fields in line 500000, saw 176. Error could possibly be due to quotes being ignored when a multi-char delimiter is used.\n"
     ]
    },
    {
     "name": "stdout",
     "output_type": "stream",
     "text": [
      "142 2018_3_USA_Consumer_SF_NY_6.csv (685753, 97)\n",
      "143 2018_3_USA_Consumer_SF_NY_7.csv (499999, 97)\n"
     ]
    },
    {
     "name": "stderr",
     "output_type": "stream",
     "text": [
      "Skipping line 89067: Expected 97 fields in line 89067, saw 99. Error could possibly be due to quotes being ignored when a multi-char delimiter is used.\n"
     ]
    },
    {
     "name": "stdout",
     "output_type": "stream",
     "text": [
      "144 2018_3_USA_Consumer_SF_NY_8.csv (499998, 97)\n"
     ]
    },
    {
     "name": "stderr",
     "output_type": "stream",
     "text": [
      "Skipping line 227302: Expected 97 fields in line 227302, saw 99. Error could possibly be due to quotes being ignored when a multi-char delimiter is used.\n",
      "Skipping line 334066: Expected 97 fields in line 334066, saw 99. Error could possibly be due to quotes being ignored when a multi-char delimiter is used.\n"
     ]
    },
    {
     "name": "stdout",
     "output_type": "stream",
     "text": [
      "145 2018_3_USA_Consumer_SF_NY_9.csv (499997, 97)\n"
     ]
    },
    {
     "name": "stderr",
     "output_type": "stream",
     "text": [
      "Skipping line 309586: Expected 97 fields in line 309586, saw 99. Error could possibly be due to quotes being ignored when a multi-char delimiter is used.\n"
     ]
    },
    {
     "name": "stdout",
     "output_type": "stream",
     "text": [
      "146 2018_3_USA_Consumer_SF_OH_0.csv (499998, 97)\n",
      "147 2018_3_USA_Consumer_SF_OH_1.csv (499999, 97)\n"
     ]
    },
    {
     "name": "stderr",
     "output_type": "stream",
     "text": [
      "Skipping line 381063: Expected 97 fields in line 381063, saw 99. Error could possibly be due to quotes being ignored when a multi-char delimiter is used.\n"
     ]
    },
    {
     "name": "stdout",
     "output_type": "stream",
     "text": [
      "148 2018_3_USA_Consumer_SF_OH_11.csv (499998, 97)\n"
     ]
    },
    {
     "name": "stderr",
     "output_type": "stream",
     "text": [
      "Skipping line 496998: Expected 97 fields in line 496998, saw 99. Error could possibly be due to quotes being ignored when a multi-char delimiter is used.\n"
     ]
    },
    {
     "name": "stdout",
     "output_type": "stream",
     "text": [
      "149 2018_3_USA_Consumer_SF_OH_2.csv (499998, 97)\n",
      "150 2018_3_USA_Consumer_SF_OH_3.csv (499999, 97)\n",
      "151 2018_3_USA_Consumer_SF_OH_5.csv (499999, 97)\n"
     ]
    },
    {
     "name": "stderr",
     "output_type": "stream",
     "text": [
      "Skipping line 43569: Expected 97 fields in line 43569, saw 99. Error could possibly be due to quotes being ignored when a multi-char delimiter is used.\n"
     ]
    },
    {
     "name": "stdout",
     "output_type": "stream",
     "text": [
      "152 2018_3_USA_Consumer_SF_OH_8.csv (499998, 97)\n",
      "153 2018_3_USA_Consumer_SF_OK_1.csv (499999, 97)\n",
      "154 2018_3_USA_Consumer_SF_OK_3.csv (157528, 97)\n",
      "155 2018_3_USA_Consumer_SF_OR_0.csv (499999, 97)\n"
     ]
    },
    {
     "name": "stderr",
     "output_type": "stream",
     "text": [
      "Skipping line 238300: Expected 97 fields in line 238300, saw 99. Error could possibly be due to quotes being ignored when a multi-char delimiter is used.\n",
      "Skipping line 361424: Expected 97 fields in line 361424, saw 99. Error could possibly be due to quotes being ignored when a multi-char delimiter is used.\n",
      "Skipping line 412074: Expected 97 fields in line 412074, saw 99. Error could possibly be due to quotes being ignored when a multi-char delimiter is used.\n"
     ]
    },
    {
     "name": "stdout",
     "output_type": "stream",
     "text": [
      "156 2018_3_USA_Consumer_SF_OR_1.csv (499996, 97)\n"
     ]
    },
    {
     "name": "stderr",
     "output_type": "stream",
     "text": [
      "Skipping line 266839: Expected 97 fields in line 266839, saw 99. Error could possibly be due to quotes being ignored when a multi-char delimiter is used.\n",
      "Skipping line 457189: Expected 97 fields in line 457189, saw 99. Error could possibly be due to quotes being ignored when a multi-char delimiter is used.\n"
     ]
    },
    {
     "name": "stdout",
     "output_type": "stream",
     "text": [
      "157 2018_3_USA_Consumer_SF_OR_2.csv (499997, 97)\n",
      "158 2018_3_USA_Consumer_SF_OR_3.csv (109393, 97)\n"
     ]
    },
    {
     "name": "stderr",
     "output_type": "stream",
     "text": [
      "Skipping line 366425: Expected 97 fields in line 366425, saw 98. Error could possibly be due to quotes being ignored when a multi-char delimiter is used.\n"
     ]
    },
    {
     "name": "stdout",
     "output_type": "stream",
     "text": [
      "159 2018_3_USA_Consumer_SF_PA_0.csv (499998, 97)\n"
     ]
    },
    {
     "name": "stderr",
     "output_type": "stream",
     "text": [
      "Skipping line 184996: Expected 97 fields in line 184996, saw 98. Error could possibly be due to quotes being ignored when a multi-char delimiter is used.\n"
     ]
    },
    {
     "name": "stdout",
     "output_type": "stream",
     "text": [
      "160 2018_3_USA_Consumer_SF_PA_1.csv (499998, 97)\n",
      "161 2018_3_USA_Consumer_SF_PA_11.csv (499999, 97)\n"
     ]
    },
    {
     "name": "stderr",
     "output_type": "stream",
     "text": [
      "Skipping line 308651: Expected 97 fields in line 308651, saw 98. Error could possibly be due to quotes being ignored when a multi-char delimiter is used.\n",
      "Skipping line 467544: Expected 97 fields in line 467544, saw 99. Error could possibly be due to quotes being ignored when a multi-char delimiter is used.\n"
     ]
    },
    {
     "name": "stdout",
     "output_type": "stream",
     "text": [
      "162 2018_3_USA_Consumer_SF_PA_2.csv (499997, 97)\n"
     ]
    },
    {
     "name": "stderr",
     "output_type": "stream",
     "text": [
      "Skipping line 192287: Expected 97 fields in line 192287, saw 99. Error could possibly be due to quotes being ignored when a multi-char delimiter is used.\n"
     ]
    },
    {
     "name": "stdout",
     "output_type": "stream",
     "text": [
      "163 2018_3_USA_Consumer_SF_PA_3.csv (499998, 97)\n",
      "164 2018_3_USA_Consumer_SF_PA_4.csv (499999, 97)\n",
      "165 2018_3_USA_Consumer_SF_PA_7.csv (499999, 97)\n",
      "166 2018_3_USA_Consumer_SF_PA_8.csv (499999, 97)\n",
      "167 2018_3_USA_Consumer_SF_RI_0.csv (499999, 97)\n",
      "168 2018_3_USA_Consumer_SF_RI_1.csv (51144, 97)\n",
      "169 2018_3_USA_Consumer_SF_SC_0.csv (499999, 97)\n"
     ]
    },
    {
     "name": "stderr",
     "output_type": "stream",
     "text": [
      "Skipping line 117582: Expected 97 fields in line 117582, saw 99. Error could possibly be due to quotes being ignored when a multi-char delimiter is used.\n"
     ]
    },
    {
     "name": "stdout",
     "output_type": "stream",
     "text": [
      "170 2018_3_USA_Consumer_SF_SC_2.csv (499998, 97)\n",
      "171 2018_3_USA_Consumer_SF_SC_3.csv (499999, 97)\n",
      "172 2018_3_USA_Consumer_SF_SC_4.csv (288419, 97)\n",
      "173 2018_3_USA_Consumer_SF_SD_0.csv (378255, 97)\n",
      "174 2018_3_USA_Consumer_SF_TN_0.csv (499999, 97)\n"
     ]
    },
    {
     "name": "stderr",
     "output_type": "stream",
     "text": [
      "Skipping line 338617: Expected 97 fields in line 338617, saw 99. Error could possibly be due to quotes being ignored when a multi-char delimiter is used.\n"
     ]
    },
    {
     "name": "stdout",
     "output_type": "stream",
     "text": [
      "175 2018_3_USA_Consumer_SF_TN_1.csv (499998, 97)\n"
     ]
    },
    {
     "name": "stderr",
     "output_type": "stream",
     "text": [
      "Skipping line 107112: Expected 97 fields in line 107112, saw 99. Error could possibly be due to quotes being ignored when a multi-char delimiter is used.\n"
     ]
    },
    {
     "name": "stdout",
     "output_type": "stream",
     "text": [
      "176 2018_3_USA_Consumer_SF_TN_3.csv (499998, 97)\n"
     ]
    },
    {
     "name": "stderr",
     "output_type": "stream",
     "text": [
      "Skipping line 244357: Expected 97 fields in line 244357, saw 99. Error could possibly be due to quotes being ignored when a multi-char delimiter is used.\n"
     ]
    },
    {
     "name": "stdout",
     "output_type": "stream",
     "text": [
      "177 2018_3_USA_Consumer_SF_TN_4.csv (499998, 97)\n",
      "178 2018_3_USA_Consumer_SF_TN_5.csv (499999, 97)\n"
     ]
    },
    {
     "name": "stderr",
     "output_type": "stream",
     "text": [
      "Skipping line 396197: Expected 97 fields in line 396197, saw 99. Error could possibly be due to quotes being ignored when a multi-char delimiter is used.\n"
     ]
    },
    {
     "name": "stdout",
     "output_type": "stream",
     "text": [
      "179 2018_3_USA_Consumer_SF_TX_0.csv (499998, 97)\n",
      "180 2018_3_USA_Consumer_SF_TX_1.csv (499999, 97)\n",
      "181 2018_3_USA_Consumer_SF_TX_11.csv (499999, 97)\n"
     ]
    },
    {
     "name": "stderr",
     "output_type": "stream",
     "text": [
      "Skipping line 308023: Expected 97 fields in line 308023, saw 99. Error could possibly be due to quotes being ignored when a multi-char delimiter is used.\n",
      "Skipping line 486088: Expected 97 fields in line 486088, saw 99. Error could possibly be due to quotes being ignored when a multi-char delimiter is used.\n"
     ]
    },
    {
     "name": "stdout",
     "output_type": "stream",
     "text": [
      "182 2018_3_USA_Consumer_SF_TX_12.csv (499997, 97)\n"
     ]
    },
    {
     "name": "stderr",
     "output_type": "stream",
     "text": [
      "Skipping line 20717: Expected 97 fields in line 20717, saw 99. Error could possibly be due to quotes being ignored when a multi-char delimiter is used.\n"
     ]
    },
    {
     "name": "stdout",
     "output_type": "stream",
     "text": [
      "183 2018_3_USA_Consumer_SF_TX_14.csv (499998, 97)\n"
     ]
    },
    {
     "name": "stderr",
     "output_type": "stream",
     "text": [
      "Skipping line 44410: Expected 97 fields in line 44410, saw 99. Error could possibly be due to quotes being ignored when a multi-char delimiter is used.\n"
     ]
    },
    {
     "name": "stdout",
     "output_type": "stream",
     "text": [
      "184 2018_3_USA_Consumer_SF_TX_15.csv (499998, 97)\n",
      "185 2018_3_USA_Consumer_SF_TX_16.csv (499999, 97)\n"
     ]
    },
    {
     "name": "stderr",
     "output_type": "stream",
     "text": [
      "Skipping line 375717: Expected 97 fields in line 375717, saw 99. Error could possibly be due to quotes being ignored when a multi-char delimiter is used.\n",
      "Skipping line 391290: Expected 97 fields in line 391290, saw 98. Error could possibly be due to quotes being ignored when a multi-char delimiter is used.\n"
     ]
    },
    {
     "name": "stdout",
     "output_type": "stream",
     "text": [
      "186 2018_3_USA_Consumer_SF_TX_18.csv (499997, 97)\n"
     ]
    },
    {
     "name": "stderr",
     "output_type": "stream",
     "text": [
      "Skipping line 49548: Expected 97 fields in line 49548, saw 99. Error could possibly be due to quotes being ignored when a multi-char delimiter is used.\n",
      "Skipping line 132549: Expected 97 fields in line 132549, saw 99. Error could possibly be due to quotes being ignored when a multi-char delimiter is used.\n",
      "Skipping line 225445: Expected 97 fields in line 225445, saw 99. Error could possibly be due to quotes being ignored when a multi-char delimiter is used.\n",
      "Skipping line 235198: Expected 97 fields in line 235198, saw 99. Error could possibly be due to quotes being ignored when a multi-char delimiter is used.\n"
     ]
    },
    {
     "name": "stdout",
     "output_type": "stream",
     "text": [
      "187 2018_3_USA_Consumer_SF_TX_19.csv (499995, 97)\n"
     ]
    },
    {
     "name": "stderr",
     "output_type": "stream",
     "text": [
      "Skipping line 273377: Expected 97 fields in line 273377, saw 99. Error could possibly be due to quotes being ignored when a multi-char delimiter is used.\n"
     ]
    },
    {
     "name": "stdout",
     "output_type": "stream",
     "text": [
      "188 2018_3_USA_Consumer_SF_TX_20.csv (499998, 97)\n"
     ]
    },
    {
     "name": "stderr",
     "output_type": "stream",
     "text": [
      "Skipping line 494833: Expected 97 fields in line 494833, saw 99. Error could possibly be due to quotes being ignored when a multi-char delimiter is used.\n"
     ]
    },
    {
     "name": "stdout",
     "output_type": "stream",
     "text": [
      "189 2018_3_USA_Consumer_SF_TX_21.csv (499998, 97)\n",
      "190 2018_3_USA_Consumer_SF_TX_22.csv (141257, 97)\n"
     ]
    },
    {
     "name": "stderr",
     "output_type": "stream",
     "text": [
      "Skipping line 155220: Expected 97 fields in line 155220, saw 99. Error could possibly be due to quotes being ignored when a multi-char delimiter is used.\n"
     ]
    },
    {
     "name": "stdout",
     "output_type": "stream",
     "text": [
      "191 2018_3_USA_Consumer_SF_TX_3.csv (499998, 97)\n",
      "192 2018_3_USA_Consumer_SF_TX_5.csv (499999, 97)\n",
      "193 2018_3_USA_Consumer_SF_TX_7.csv (499999, 97)\n",
      "194 2018_3_USA_Consumer_SF_TX_9.csv (499999, 97)\n",
      "195 2018_3_USA_Consumer_SF_UT_0.csv (499999, 97)\n",
      "196 2018_3_USA_Consumer_SF_UT_2.csv (145287, 97)\n"
     ]
    },
    {
     "name": "stderr",
     "output_type": "stream",
     "text": [
      "Skipping line 376656: Expected 97 fields in line 376656, saw 99. Error could possibly be due to quotes being ignored when a multi-char delimiter is used.\n"
     ]
    },
    {
     "name": "stdout",
     "output_type": "stream",
     "text": [
      "197 2018_3_USA_Consumer_SF_VA_1.csv (499998, 97)\n",
      "198 2018_3_USA_Consumer_SF_VA_2.csv (499999, 97)\n"
     ]
    },
    {
     "name": "stderr",
     "output_type": "stream",
     "text": [
      "Skipping line 273470: Expected 97 fields in line 273470, saw 98. Error could possibly be due to quotes being ignored when a multi-char delimiter is used.\n"
     ]
    },
    {
     "name": "stdout",
     "output_type": "stream",
     "text": [
      "199 2018_3_USA_Consumer_SF_VA_4.csv (499998, 97)\n"
     ]
    },
    {
     "name": "stderr",
     "output_type": "stream",
     "text": [
      "Skipping line 251065: Expected 97 fields in line 251065, saw 98. Error could possibly be due to quotes being ignored when a multi-char delimiter is used.\n"
     ]
    },
    {
     "name": "stdout",
     "output_type": "stream",
     "text": [
      "200 2018_3_USA_Consumer_SF_VA_5.csv (499998, 97)\n",
      "201 2018_3_USA_Consumer_SF_VI_0.csv (55, 97)\n",
      "202 2018_3_USA_Consumer_SF_VT_0.csv (297238, 97)\n",
      "203 2018_3_USA_Consumer_SF_WA_2.csv (499999, 97)\n",
      "204 2018_3_USA_Consumer_SF_WA_3.csv (499999, 97)\n",
      "205 2018_3_USA_Consumer_SF_WA_4.csv (499999, 97)\n",
      "206 2018_3_USA_Consumer_SF_WA_5.csv (326592, 97)\n",
      "207 2018_3_USA_Consumer_SF_WI_1.csv (499999, 97)\n",
      "208 2018_3_USA_Consumer_SF_WI_3.csv (499999, 97)\n",
      "209 2018_3_USA_Consumer_SF_WI_4.csv (499999, 97)\n",
      "210 2018_3_USA_Consumer_SF_WI_5.csv (305440, 97)\n"
     ]
    },
    {
     "name": "stderr",
     "output_type": "stream",
     "text": [
      "Skipping line 114189: Expected 97 fields in line 114189, saw 99. Error could possibly be due to quotes being ignored when a multi-char delimiter is used.\n"
     ]
    },
    {
     "name": "stdout",
     "output_type": "stream",
     "text": [
      "211 2018_3_USA_Consumer_SF_WY_0.csv (214620, 97)\n"
     ]
    }
   ],
   "source": [
    "source = \"Z:/AIDAILER/2018.3/\"\n",
    "csvs_iter = iter(all_files_name_list_2018)\n",
    "\n",
    "for i in range(len(all_files_name_list_2018)):\n",
    "    #     print(i+1, next(csvs_iter))\n",
    "    df_2018 = pd.read_csv(os.path.join(source ,str(next(csvs_iter))), sep=\"\\t|,\",warn_bad_lines=True, error_bad_lines=False)\n",
    "    print(i+1, all_files_name_list_2018[i], df_2018.shape)\n"
   ]
  },
  {
   "cell_type": "code",
   "execution_count": 24,
   "id": "3d5f1b51",
   "metadata": {
    "scrolled": true
   },
   "outputs": [
    {
     "ename": "ParserError",
     "evalue": "Error tokenizing data. C error: EOF inside string starting at row 1263",
     "output_type": "error",
     "traceback": [
      "\u001b[1;31m---------------------------------------------------------------------------\u001b[0m",
      "\u001b[1;31mParserError\u001b[0m                               Traceback (most recent call last)",
      "\u001b[1;32m<ipython-input-24-fbbf8809342e>\u001b[0m in \u001b[0;36m<module>\u001b[1;34m\u001b[0m\n\u001b[1;32m----> 1\u001b[1;33m \u001b[0mdf2\u001b[0m \u001b[1;33m=\u001b[0m \u001b[0mpd\u001b[0m\u001b[1;33m.\u001b[0m\u001b[0mread_csv\u001b[0m\u001b[1;33m(\u001b[0m\u001b[1;34mr'Z:\\AIDAILER\\2018.3\\2018_3_USA_Consumer_SF_AZ_1.csv'\u001b[0m\u001b[1;33m)\u001b[0m\u001b[1;33m\u001b[0m\u001b[1;33m\u001b[0m\u001b[0m\n\u001b[0m",
      "\u001b[1;32m~\\Anaconda3\\lib\\site-packages\\pandas\\io\\parsers.py\u001b[0m in \u001b[0;36mread_csv\u001b[1;34m(filepath_or_buffer, sep, delimiter, header, names, index_col, usecols, squeeze, prefix, mangle_dupe_cols, dtype, engine, converters, true_values, false_values, skipinitialspace, skiprows, skipfooter, nrows, na_values, keep_default_na, na_filter, verbose, skip_blank_lines, parse_dates, infer_datetime_format, keep_date_col, date_parser, dayfirst, cache_dates, iterator, chunksize, compression, thousands, decimal, lineterminator, quotechar, quoting, doublequote, escapechar, comment, encoding, dialect, error_bad_lines, warn_bad_lines, delim_whitespace, low_memory, memory_map, float_precision, storage_options)\u001b[0m\n\u001b[0;32m    608\u001b[0m     \u001b[0mkwds\u001b[0m\u001b[1;33m.\u001b[0m\u001b[0mupdate\u001b[0m\u001b[1;33m(\u001b[0m\u001b[0mkwds_defaults\u001b[0m\u001b[1;33m)\u001b[0m\u001b[1;33m\u001b[0m\u001b[1;33m\u001b[0m\u001b[0m\n\u001b[0;32m    609\u001b[0m \u001b[1;33m\u001b[0m\u001b[0m\n\u001b[1;32m--> 610\u001b[1;33m     \u001b[1;32mreturn\u001b[0m \u001b[0m_read\u001b[0m\u001b[1;33m(\u001b[0m\u001b[0mfilepath_or_buffer\u001b[0m\u001b[1;33m,\u001b[0m \u001b[0mkwds\u001b[0m\u001b[1;33m)\u001b[0m\u001b[1;33m\u001b[0m\u001b[1;33m\u001b[0m\u001b[0m\n\u001b[0m\u001b[0;32m    611\u001b[0m \u001b[1;33m\u001b[0m\u001b[0m\n\u001b[0;32m    612\u001b[0m \u001b[1;33m\u001b[0m\u001b[0m\n",
      "\u001b[1;32m~\\Anaconda3\\lib\\site-packages\\pandas\\io\\parsers.py\u001b[0m in \u001b[0;36m_read\u001b[1;34m(filepath_or_buffer, kwds)\u001b[0m\n\u001b[0;32m    466\u001b[0m \u001b[1;33m\u001b[0m\u001b[0m\n\u001b[0;32m    467\u001b[0m     \u001b[1;32mwith\u001b[0m \u001b[0mparser\u001b[0m\u001b[1;33m:\u001b[0m\u001b[1;33m\u001b[0m\u001b[1;33m\u001b[0m\u001b[0m\n\u001b[1;32m--> 468\u001b[1;33m         \u001b[1;32mreturn\u001b[0m \u001b[0mparser\u001b[0m\u001b[1;33m.\u001b[0m\u001b[0mread\u001b[0m\u001b[1;33m(\u001b[0m\u001b[0mnrows\u001b[0m\u001b[1;33m)\u001b[0m\u001b[1;33m\u001b[0m\u001b[1;33m\u001b[0m\u001b[0m\n\u001b[0m\u001b[0;32m    469\u001b[0m \u001b[1;33m\u001b[0m\u001b[0m\n\u001b[0;32m    470\u001b[0m \u001b[1;33m\u001b[0m\u001b[0m\n",
      "\u001b[1;32m~\\Anaconda3\\lib\\site-packages\\pandas\\io\\parsers.py\u001b[0m in \u001b[0;36mread\u001b[1;34m(self, nrows)\u001b[0m\n\u001b[0;32m   1055\u001b[0m     \u001b[1;32mdef\u001b[0m \u001b[0mread\u001b[0m\u001b[1;33m(\u001b[0m\u001b[0mself\u001b[0m\u001b[1;33m,\u001b[0m \u001b[0mnrows\u001b[0m\u001b[1;33m=\u001b[0m\u001b[1;32mNone\u001b[0m\u001b[1;33m)\u001b[0m\u001b[1;33m:\u001b[0m\u001b[1;33m\u001b[0m\u001b[1;33m\u001b[0m\u001b[0m\n\u001b[0;32m   1056\u001b[0m         \u001b[0mnrows\u001b[0m \u001b[1;33m=\u001b[0m \u001b[0mvalidate_integer\u001b[0m\u001b[1;33m(\u001b[0m\u001b[1;34m\"nrows\"\u001b[0m\u001b[1;33m,\u001b[0m \u001b[0mnrows\u001b[0m\u001b[1;33m)\u001b[0m\u001b[1;33m\u001b[0m\u001b[1;33m\u001b[0m\u001b[0m\n\u001b[1;32m-> 1057\u001b[1;33m         \u001b[0mindex\u001b[0m\u001b[1;33m,\u001b[0m \u001b[0mcolumns\u001b[0m\u001b[1;33m,\u001b[0m \u001b[0mcol_dict\u001b[0m \u001b[1;33m=\u001b[0m \u001b[0mself\u001b[0m\u001b[1;33m.\u001b[0m\u001b[0m_engine\u001b[0m\u001b[1;33m.\u001b[0m\u001b[0mread\u001b[0m\u001b[1;33m(\u001b[0m\u001b[0mnrows\u001b[0m\u001b[1;33m)\u001b[0m\u001b[1;33m\u001b[0m\u001b[1;33m\u001b[0m\u001b[0m\n\u001b[0m\u001b[0;32m   1058\u001b[0m \u001b[1;33m\u001b[0m\u001b[0m\n\u001b[0;32m   1059\u001b[0m         \u001b[1;32mif\u001b[0m \u001b[0mindex\u001b[0m \u001b[1;32mis\u001b[0m \u001b[1;32mNone\u001b[0m\u001b[1;33m:\u001b[0m\u001b[1;33m\u001b[0m\u001b[1;33m\u001b[0m\u001b[0m\n",
      "\u001b[1;32m~\\Anaconda3\\lib\\site-packages\\pandas\\io\\parsers.py\u001b[0m in \u001b[0;36mread\u001b[1;34m(self, nrows)\u001b[0m\n\u001b[0;32m   2059\u001b[0m     \u001b[1;32mdef\u001b[0m \u001b[0mread\u001b[0m\u001b[1;33m(\u001b[0m\u001b[0mself\u001b[0m\u001b[1;33m,\u001b[0m \u001b[0mnrows\u001b[0m\u001b[1;33m=\u001b[0m\u001b[1;32mNone\u001b[0m\u001b[1;33m)\u001b[0m\u001b[1;33m:\u001b[0m\u001b[1;33m\u001b[0m\u001b[1;33m\u001b[0m\u001b[0m\n\u001b[0;32m   2060\u001b[0m         \u001b[1;32mtry\u001b[0m\u001b[1;33m:\u001b[0m\u001b[1;33m\u001b[0m\u001b[1;33m\u001b[0m\u001b[0m\n\u001b[1;32m-> 2061\u001b[1;33m             \u001b[0mdata\u001b[0m \u001b[1;33m=\u001b[0m \u001b[0mself\u001b[0m\u001b[1;33m.\u001b[0m\u001b[0m_reader\u001b[0m\u001b[1;33m.\u001b[0m\u001b[0mread\u001b[0m\u001b[1;33m(\u001b[0m\u001b[0mnrows\u001b[0m\u001b[1;33m)\u001b[0m\u001b[1;33m\u001b[0m\u001b[1;33m\u001b[0m\u001b[0m\n\u001b[0m\u001b[0;32m   2062\u001b[0m         \u001b[1;32mexcept\u001b[0m \u001b[0mStopIteration\u001b[0m\u001b[1;33m:\u001b[0m\u001b[1;33m\u001b[0m\u001b[1;33m\u001b[0m\u001b[0m\n\u001b[0;32m   2063\u001b[0m             \u001b[1;32mif\u001b[0m \u001b[0mself\u001b[0m\u001b[1;33m.\u001b[0m\u001b[0m_first_chunk\u001b[0m\u001b[1;33m:\u001b[0m\u001b[1;33m\u001b[0m\u001b[1;33m\u001b[0m\u001b[0m\n",
      "\u001b[1;32mpandas\\_libs\\parsers.pyx\u001b[0m in \u001b[0;36mpandas._libs.parsers.TextReader.read\u001b[1;34m()\u001b[0m\n",
      "\u001b[1;32mpandas\\_libs\\parsers.pyx\u001b[0m in \u001b[0;36mpandas._libs.parsers.TextReader._read_low_memory\u001b[1;34m()\u001b[0m\n",
      "\u001b[1;32mpandas\\_libs\\parsers.pyx\u001b[0m in \u001b[0;36mpandas._libs.parsers.TextReader._read_rows\u001b[1;34m()\u001b[0m\n",
      "\u001b[1;32mpandas\\_libs\\parsers.pyx\u001b[0m in \u001b[0;36mpandas._libs.parsers.TextReader._tokenize_rows\u001b[1;34m()\u001b[0m\n",
      "\u001b[1;32mpandas\\_libs\\parsers.pyx\u001b[0m in \u001b[0;36mpandas._libs.parsers.raise_parser_error\u001b[1;34m()\u001b[0m\n",
      "\u001b[1;31mParserError\u001b[0m: Error tokenizing data. C error: EOF inside string starting at row 1263"
     ]
    }
   ],
   "source": [
    "df2 = pd.read_csv(r'Z:\\AIDAILER\\2018.3\\2018_3_USA_Consumer_SF_AZ_1.csv')"
   ]
  },
  {
   "cell_type": "code",
   "execution_count": null,
   "id": "65978832",
   "metadata": {},
   "outputs": [],
   "source": [
    "# ParserError: Error tokenizing data. C error: EOF inside string starting at row 1263"
   ]
  },
  {
   "cell_type": "code",
   "execution_count": 21,
   "id": "251d4449",
   "metadata": {},
   "outputs": [],
   "source": [
    "import csv"
   ]
  },
  {
   "cell_type": "code",
   "execution_count": 22,
   "id": "6c8ddcc2",
   "metadata": {},
   "outputs": [],
   "source": [
    "new_df = pd.read_csv(r'Z:\\AIDAILER\\2018.3\\2018_3_USA_Consumer_SF_AZ_1.csv', quoting=csv.QUOTE_NONE)"
   ]
  },
  {
   "cell_type": "code",
   "execution_count": 23,
   "id": "ee995af7",
   "metadata": {},
   "outputs": [
    {
     "data": {
      "text/html": [
       "<div>\n",
       "<style scoped>\n",
       "    .dataframe tbody tr th:only-of-type {\n",
       "        vertical-align: middle;\n",
       "    }\n",
       "\n",
       "    .dataframe tbody tr th {\n",
       "        vertical-align: top;\n",
       "    }\n",
       "\n",
       "    .dataframe thead th {\n",
       "        text-align: right;\n",
       "    }\n",
       "</style>\n",
       "<table border=\"1\" class=\"dataframe\">\n",
       "  <thead>\n",
       "    <tr style=\"text-align: right;\">\n",
       "      <th></th>\n",
       "      <th>\"personfirstname\"</th>\n",
       "      <th>\"personmiddleinitial\"</th>\n",
       "      <th>\"personlastname\"</th>\n",
       "      <th>\"persontitleofrespect\"</th>\n",
       "      <th>\"streetname\"</th>\n",
       "      <th>\"streetsuffix\"</th>\n",
       "      <th>\"primaryaddress\"</th>\n",
       "      <th>\"secondaryaddress\"</th>\n",
       "      <th>\"state\"</th>\n",
       "      <th>\"ZipCode\"</th>\n",
       "      <th>...</th>\n",
       "      <th>\"VeteransCharitableDonation\"</th>\n",
       "      <th>\"CharitableDonations_Other\"</th>\n",
       "      <th>\"homeswimmingpoolindicator\"</th>\n",
       "      <th>\"airconditioning\"</th>\n",
       "      <th>\"homeheatindicator\"</th>\n",
       "      <th>\"DONOTCALL\"</th>\n",
       "      <th>\"DONOTCALLUpdate\"</th>\n",
       "      <th>\"Name\"</th>\n",
       "      <th>\"UPDATE_SOURCE\"</th>\n",
       "      <th>\"Email\"</th>\n",
       "    </tr>\n",
       "  </thead>\n",
       "  <tbody>\n",
       "    <tr>\n",
       "      <th>0</th>\n",
       "      <td>\"SUSAN\"</td>\n",
       "      <td>\"M\"</td>\n",
       "      <td>\"JOHNSON\"</td>\n",
       "      <td>\"MS\"</td>\n",
       "      <td>\"Southern\"</td>\n",
       "      <td>\"Ave\"</td>\n",
       "      <td>\"7110 E Southern Ave\"</td>\n",
       "      <td>\"\"</td>\n",
       "      <td>\"AZ\"</td>\n",
       "      <td>\"85209\"</td>\n",
       "      <td>...</td>\n",
       "      <td>\"U\"</td>\n",
       "      <td>\"U\"</td>\n",
       "      <td>\"U\"</td>\n",
       "      <td>\"U\"</td>\n",
       "      <td>\"U\"</td>\n",
       "      <td>\"True\"</td>\n",
       "      <td>\"08/27/2017\"</td>\n",
       "      <td>\"SUSAN M JOHNSON\"</td>\n",
       "      <td>\"\"</td>\n",
       "      <td>\"\"</td>\n",
       "    </tr>\n",
       "    <tr>\n",
       "      <th>1</th>\n",
       "      <td>\"DAVID\"</td>\n",
       "      <td>\"K\"</td>\n",
       "      <td>\"BURROWES\"</td>\n",
       "      <td>\"MR\"</td>\n",
       "      <td>\"Los Alamos\"</td>\n",
       "      <td>\"St\"</td>\n",
       "      <td>\"2551 E Los Alamos St\"</td>\n",
       "      <td>\"\"</td>\n",
       "      <td>\"AZ\"</td>\n",
       "      <td>\"85295\"</td>\n",
       "      <td>...</td>\n",
       "      <td>\"U\"</td>\n",
       "      <td>\"U\"</td>\n",
       "      <td>\"Y\"</td>\n",
       "      <td>\"F\"</td>\n",
       "      <td>\"U\"</td>\n",
       "      <td>\"True\"</td>\n",
       "      <td>\"08/27/2017\"</td>\n",
       "      <td>\"DAVID K BURROWES\"</td>\n",
       "      <td>\"\"</td>\n",
       "      <td>\"\"</td>\n",
       "    </tr>\n",
       "    <tr>\n",
       "      <th>2</th>\n",
       "      <td>\"EVELYN\"</td>\n",
       "      <td>\"E\"</td>\n",
       "      <td>\"WILSON\"</td>\n",
       "      <td>\"MS\"</td>\n",
       "      <td>\"PO Box\"</td>\n",
       "      <td>\"\"</td>\n",
       "      <td>\"PO Box 1986\"</td>\n",
       "      <td>\"\"</td>\n",
       "      <td>\"AZ\"</td>\n",
       "      <td>\"85346\"</td>\n",
       "      <td>...</td>\n",
       "      <td>\"U\"</td>\n",
       "      <td>\"U\"</td>\n",
       "      <td>\"U\"</td>\n",
       "      <td>\"U\"</td>\n",
       "      <td>\"U\"</td>\n",
       "      <td>\"False\"</td>\n",
       "      <td>\"08/27/2017\"</td>\n",
       "      <td>\"EVELYN E WILSON\"</td>\n",
       "      <td>\"\"</td>\n",
       "      <td>\"\"</td>\n",
       "    </tr>\n",
       "    <tr>\n",
       "      <th>3</th>\n",
       "      <td>\"FRANCISCO\"</td>\n",
       "      <td>\"\"</td>\n",
       "      <td>\"PLAZA\"</td>\n",
       "      <td>\"MR\"</td>\n",
       "      <td>\"Reade\"</td>\n",
       "      <td>\"Ave\"</td>\n",
       "      <td>\"10322 W Reade Ave\"</td>\n",
       "      <td>\"\"</td>\n",
       "      <td>\"AZ\"</td>\n",
       "      <td>\"85307\"</td>\n",
       "      <td>...</td>\n",
       "      <td>\"U\"</td>\n",
       "      <td>\"U\"</td>\n",
       "      <td>\"U\"</td>\n",
       "      <td>\"F\"</td>\n",
       "      <td>\"U\"</td>\n",
       "      <td>\"False\"</td>\n",
       "      <td>\"08/27/2017\"</td>\n",
       "      <td>\"FRANCISCO PLAZA\"</td>\n",
       "      <td>\"\"</td>\n",
       "      <td>\"\"</td>\n",
       "    </tr>\n",
       "    <tr>\n",
       "      <th>4</th>\n",
       "      <td>\"MAYELA\"</td>\n",
       "      <td>\"\"</td>\n",
       "      <td>\"TRAHIN\"</td>\n",
       "      <td>\"MS\"</td>\n",
       "      <td>\"Melody\"</td>\n",
       "      <td>\"Dr\"</td>\n",
       "      <td>\"2416 W Melody Dr\"</td>\n",
       "      <td>\"\"</td>\n",
       "      <td>\"AZ\"</td>\n",
       "      <td>\"85041\"</td>\n",
       "      <td>...</td>\n",
       "      <td>\"U\"</td>\n",
       "      <td>\"U\"</td>\n",
       "      <td>\"U\"</td>\n",
       "      <td>\"F\"</td>\n",
       "      <td>\"U\"</td>\n",
       "      <td>\"True\"</td>\n",
       "      <td>\"08/27/2017\"</td>\n",
       "      <td>\"MAYELA TRAHIN\"</td>\n",
       "      <td>\"\"</td>\n",
       "      <td>\"\"</td>\n",
       "    </tr>\n",
       "    <tr>\n",
       "      <th>...</th>\n",
       "      <td>...</td>\n",
       "      <td>...</td>\n",
       "      <td>...</td>\n",
       "      <td>...</td>\n",
       "      <td>...</td>\n",
       "      <td>...</td>\n",
       "      <td>...</td>\n",
       "      <td>...</td>\n",
       "      <td>...</td>\n",
       "      <td>...</td>\n",
       "      <td>...</td>\n",
       "      <td>...</td>\n",
       "      <td>...</td>\n",
       "      <td>...</td>\n",
       "      <td>...</td>\n",
       "      <td>...</td>\n",
       "      <td>...</td>\n",
       "      <td>...</td>\n",
       "      <td>...</td>\n",
       "      <td>...</td>\n",
       "      <td>...</td>\n",
       "    </tr>\n",
       "    <tr>\n",
       "      <th>1258</th>\n",
       "      <td>\"ROLAND\"</td>\n",
       "      <td>\"\"</td>\n",
       "      <td>\"ALLEN\"</td>\n",
       "      <td>\"MR\"</td>\n",
       "      <td>\"Cottonwood\"</td>\n",
       "      <td>\"Rd\"</td>\n",
       "      <td>\"1171 E Cottonwood Rd\"</td>\n",
       "      <td>\"\"</td>\n",
       "      <td>\"AZ\"</td>\n",
       "      <td>\"85140\"</td>\n",
       "      <td>...</td>\n",
       "      <td>\"U\"</td>\n",
       "      <td>\"U\"</td>\n",
       "      <td>\"U\"</td>\n",
       "      <td>\"A\"</td>\n",
       "      <td>\"U\"</td>\n",
       "      <td>\"True\"</td>\n",
       "      <td>\"08/27/2017\"</td>\n",
       "      <td>\"ROLAND ALLEN\"</td>\n",
       "      <td>\"\"</td>\n",
       "      <td>\"\"</td>\n",
       "    </tr>\n",
       "    <tr>\n",
       "      <th>1259</th>\n",
       "      <td>\"STACEY\"</td>\n",
       "      <td>\"\"</td>\n",
       "      <td>\"HOLT\"</td>\n",
       "      <td>\"\"</td>\n",
       "      <td>\"Falcon\"</td>\n",
       "      <td>\"Trl\"</td>\n",
       "      <td>\"33036 N Falcon Trl\"</td>\n",
       "      <td>\"\"</td>\n",
       "      <td>\"AZ\"</td>\n",
       "      <td>\"85142\"</td>\n",
       "      <td>...</td>\n",
       "      <td>\"U\"</td>\n",
       "      <td>\"U\"</td>\n",
       "      <td>\"U\"</td>\n",
       "      <td>\"A\"</td>\n",
       "      <td>\"U\"</td>\n",
       "      <td>\"True\"</td>\n",
       "      <td>\"08/27/2017\"</td>\n",
       "      <td>\"STACEY HOLT\"</td>\n",
       "      <td>\"\"</td>\n",
       "      <td>\"\"</td>\n",
       "    </tr>\n",
       "    <tr>\n",
       "      <th>1260</th>\n",
       "      <td>\"CHRISTINA\"</td>\n",
       "      <td>\"\"</td>\n",
       "      <td>\"HOLLAND\"</td>\n",
       "      <td>\"MS\"</td>\n",
       "      <td>\"Mingus\"</td>\n",
       "      <td>\"Pl\"</td>\n",
       "      <td>\"5354 S Mingus Pl\"</td>\n",
       "      <td>\"\"</td>\n",
       "      <td>\"AZ\"</td>\n",
       "      <td>\"85249\"</td>\n",
       "      <td>...</td>\n",
       "      <td>\"U\"</td>\n",
       "      <td>\"U\"</td>\n",
       "      <td>\"Y\"</td>\n",
       "      <td>\"F\"</td>\n",
       "      <td>\"U\"</td>\n",
       "      <td>\"True\"</td>\n",
       "      <td>\"08/27/2017\"</td>\n",
       "      <td>\"CHRISTINA HOLLAND\"</td>\n",
       "      <td>\"\"</td>\n",
       "      <td>\"holland4228@msn.com\"</td>\n",
       "    </tr>\n",
       "    <tr>\n",
       "      <th>1261</th>\n",
       "      <td>\"ANJA\"</td>\n",
       "      <td>\"M\"</td>\n",
       "      <td>\"SCHARBER\"</td>\n",
       "      <td>\"MS\"</td>\n",
       "      <td>\"Rawhide\"</td>\n",
       "      <td>\"St\"</td>\n",
       "      <td>\"3866 E Rawhide St\"</td>\n",
       "      <td>\"\"</td>\n",
       "      <td>\"AZ\"</td>\n",
       "      <td>\"85296\"</td>\n",
       "      <td>...</td>\n",
       "      <td>\"U\"</td>\n",
       "      <td>\"U\"</td>\n",
       "      <td>\"U\"</td>\n",
       "      <td>\"F\"</td>\n",
       "      <td>\"U\"</td>\n",
       "      <td>\"True\"</td>\n",
       "      <td>\"08/27/2017\"</td>\n",
       "      <td>\"ANJA M SCHARBER\"</td>\n",
       "      <td>\"\"</td>\n",
       "      <td>\"\"</td>\n",
       "    </tr>\n",
       "    <tr>\n",
       "      <th>1262</th>\n",
       "      <td>\"ESTHER\"</td>\n",
       "      <td>\"\"</td>\n",
       "      <td>\"QUIROZ\"</td>\n",
       "      <td>\"MS\"</td>\n",
       "      <td>\"Amber\"</td>\n",
       "      <td>\"Ln\"</td>\n",
       "      <td>\"3892 E Amber Ln\"</td>\n",
       "      <td>\"\"</td>\n",
       "      <td>\"AZ\"</td>\n",
       "      <td>\"85296\"</td>\n",
       "      <td>...</td>\n",
       "      <td>NaN</td>\n",
       "      <td>NaN</td>\n",
       "      <td>NaN</td>\n",
       "      <td>NaN</td>\n",
       "      <td>NaN</td>\n",
       "      <td>NaN</td>\n",
       "      <td>NaN</td>\n",
       "      <td>NaN</td>\n",
       "      <td>NaN</td>\n",
       "      <td>NaN</td>\n",
       "    </tr>\n",
       "  </tbody>\n",
       "</table>\n",
       "<p>1263 rows × 97 columns</p>\n",
       "</div>"
      ],
      "text/plain": [
       "     \"personfirstname\" \"personmiddleinitial\" \"personlastname\"  \\\n",
       "0              \"SUSAN\"                   \"M\"        \"JOHNSON\"   \n",
       "1              \"DAVID\"                   \"K\"       \"BURROWES\"   \n",
       "2             \"EVELYN\"                   \"E\"         \"WILSON\"   \n",
       "3          \"FRANCISCO\"                    \"\"          \"PLAZA\"   \n",
       "4             \"MAYELA\"                    \"\"         \"TRAHIN\"   \n",
       "...                ...                   ...              ...   \n",
       "1258          \"ROLAND\"                    \"\"          \"ALLEN\"   \n",
       "1259          \"STACEY\"                    \"\"           \"HOLT\"   \n",
       "1260       \"CHRISTINA\"                    \"\"        \"HOLLAND\"   \n",
       "1261            \"ANJA\"                   \"M\"       \"SCHARBER\"   \n",
       "1262          \"ESTHER\"                    \"\"         \"QUIROZ\"   \n",
       "\n",
       "     \"persontitleofrespect\"  \"streetname\" \"streetsuffix\"  \\\n",
       "0                      \"MS\"    \"Southern\"          \"Ave\"   \n",
       "1                      \"MR\"  \"Los Alamos\"           \"St\"   \n",
       "2                      \"MS\"      \"PO Box\"             \"\"   \n",
       "3                      \"MR\"       \"Reade\"          \"Ave\"   \n",
       "4                      \"MS\"      \"Melody\"           \"Dr\"   \n",
       "...                     ...           ...            ...   \n",
       "1258                   \"MR\"  \"Cottonwood\"           \"Rd\"   \n",
       "1259                     \"\"      \"Falcon\"          \"Trl\"   \n",
       "1260                   \"MS\"      \"Mingus\"           \"Pl\"   \n",
       "1261                   \"MS\"     \"Rawhide\"           \"St\"   \n",
       "1262                   \"MS\"       \"Amber\"           \"Ln\"   \n",
       "\n",
       "            \"primaryaddress\" \"secondaryaddress\" \"state\" \"ZipCode\"  ...  \\\n",
       "0      \"7110 E Southern Ave\"                 \"\"    \"AZ\"   \"85209\"  ...   \n",
       "1     \"2551 E Los Alamos St\"                 \"\"    \"AZ\"   \"85295\"  ...   \n",
       "2              \"PO Box 1986\"                 \"\"    \"AZ\"   \"85346\"  ...   \n",
       "3        \"10322 W Reade Ave\"                 \"\"    \"AZ\"   \"85307\"  ...   \n",
       "4         \"2416 W Melody Dr\"                 \"\"    \"AZ\"   \"85041\"  ...   \n",
       "...                      ...                ...     ...       ...  ...   \n",
       "1258  \"1171 E Cottonwood Rd\"                 \"\"    \"AZ\"   \"85140\"  ...   \n",
       "1259    \"33036 N Falcon Trl\"                 \"\"    \"AZ\"   \"85142\"  ...   \n",
       "1260      \"5354 S Mingus Pl\"                 \"\"    \"AZ\"   \"85249\"  ...   \n",
       "1261     \"3866 E Rawhide St\"                 \"\"    \"AZ\"   \"85296\"  ...   \n",
       "1262       \"3892 E Amber Ln\"                 \"\"    \"AZ\"   \"85296\"  ...   \n",
       "\n",
       "     \"VeteransCharitableDonation\" \"CharitableDonations_Other\"  \\\n",
       "0                             \"U\"                         \"U\"   \n",
       "1                             \"U\"                         \"U\"   \n",
       "2                             \"U\"                         \"U\"   \n",
       "3                             \"U\"                         \"U\"   \n",
       "4                             \"U\"                         \"U\"   \n",
       "...                           ...                         ...   \n",
       "1258                          \"U\"                         \"U\"   \n",
       "1259                          \"U\"                         \"U\"   \n",
       "1260                          \"U\"                         \"U\"   \n",
       "1261                          \"U\"                         \"U\"   \n",
       "1262                          NaN                         NaN   \n",
       "\n",
       "     \"homeswimmingpoolindicator\" \"airconditioning\" \"homeheatindicator\"  \\\n",
       "0                            \"U\"               \"U\"                 \"U\"   \n",
       "1                            \"Y\"               \"F\"                 \"U\"   \n",
       "2                            \"U\"               \"U\"                 \"U\"   \n",
       "3                            \"U\"               \"F\"                 \"U\"   \n",
       "4                            \"U\"               \"F\"                 \"U\"   \n",
       "...                          ...               ...                 ...   \n",
       "1258                         \"U\"               \"A\"                 \"U\"   \n",
       "1259                         \"U\"               \"A\"                 \"U\"   \n",
       "1260                         \"Y\"               \"F\"                 \"U\"   \n",
       "1261                         \"U\"               \"F\"                 \"U\"   \n",
       "1262                         NaN               NaN                 NaN   \n",
       "\n",
       "     \"DONOTCALL\" \"DONOTCALLUpdate\"               \"Name\" \"UPDATE_SOURCE\"  \\\n",
       "0         \"True\"      \"08/27/2017\"    \"SUSAN M JOHNSON\"              \"\"   \n",
       "1         \"True\"      \"08/27/2017\"   \"DAVID K BURROWES\"              \"\"   \n",
       "2        \"False\"      \"08/27/2017\"    \"EVELYN E WILSON\"              \"\"   \n",
       "3        \"False\"      \"08/27/2017\"    \"FRANCISCO PLAZA\"              \"\"   \n",
       "4         \"True\"      \"08/27/2017\"      \"MAYELA TRAHIN\"              \"\"   \n",
       "...          ...               ...                  ...             ...   \n",
       "1258      \"True\"      \"08/27/2017\"       \"ROLAND ALLEN\"              \"\"   \n",
       "1259      \"True\"      \"08/27/2017\"        \"STACEY HOLT\"              \"\"   \n",
       "1260      \"True\"      \"08/27/2017\"  \"CHRISTINA HOLLAND\"              \"\"   \n",
       "1261      \"True\"      \"08/27/2017\"    \"ANJA M SCHARBER\"              \"\"   \n",
       "1262         NaN               NaN                  NaN             NaN   \n",
       "\n",
       "                    \"Email\"  \n",
       "0                        \"\"  \n",
       "1                        \"\"  \n",
       "2                        \"\"  \n",
       "3                        \"\"  \n",
       "4                        \"\"  \n",
       "...                     ...  \n",
       "1258                     \"\"  \n",
       "1259                     \"\"  \n",
       "1260  \"holland4228@msn.com\"  \n",
       "1261                     \"\"  \n",
       "1262                    NaN  \n",
       "\n",
       "[1263 rows x 97 columns]"
      ]
     },
     "execution_count": 23,
     "metadata": {},
     "output_type": "execute_result"
    }
   ],
   "source": [
    "new_df"
   ]
  },
  {
   "cell_type": "code",
   "execution_count": 15,
   "id": "3aa68c2c",
   "metadata": {},
   "outputs": [
    {
     "data": {
      "text/plain": [
       "0.023004046008092017"
      ]
     },
     "execution_count": 15,
     "metadata": {},
     "output_type": "execute_result"
    }
   ],
   "source": [
    "11502/499999"
   ]
  },
  {
   "cell_type": "code",
   "execution_count": null,
   "id": "f1ce14a0",
   "metadata": {},
   "outputs": [],
   "source": []
  },
  {
   "cell_type": "markdown",
   "id": "52868c07",
   "metadata": {},
   "source": [
    "# 2018 - 2021 Columns Selection"
   ]
  },
  {
   "cell_type": "code",
   "execution_count": 1,
   "id": "04c4239d",
   "metadata": {},
   "outputs": [],
   "source": [
    "import pandas as pd\n",
    "import numpy as np\n",
    "import os"
   ]
  },
  {
   "cell_type": "code",
   "execution_count": 6,
   "id": "33aa2485",
   "metadata": {},
   "outputs": [],
   "source": [
    "pd.set_option('display.max_columns', None)"
   ]
  },
  {
   "cell_type": "code",
   "execution_count": 7,
   "id": "66951586",
   "metadata": {},
   "outputs": [],
   "source": [
    "df_18 = pd.read_csv(r\"Z:\\AIDAILER\\2018.3\\2018_3_USA_Consumer_SF_CA_5.csv\",error_bad_lines=False, engine=\"python\")"
   ]
  },
  {
   "cell_type": "code",
   "execution_count": 2,
   "id": "a2dccc16",
   "metadata": {},
   "outputs": [],
   "source": [
    "# CA \n",
    "df_21 = pd.read_csv(r\"Z:\\AIDAILER\\Tony DB 2021\\CA .csv\")"
   ]
  },
  {
   "cell_type": "code",
   "execution_count": 15,
   "id": "0bb19fc9",
   "metadata": {},
   "outputs": [
    {
     "name": "stdout",
     "output_type": "stream",
     "text": [
      "1 personfirstname\n",
      "2 personmiddleinitial\n",
      "3 personlastname\n",
      "4 persontitleofrespect\n",
      "5 streetname\n",
      "6 streetsuffix\n",
      "7 primaryaddress\n",
      "8 secondaryaddress\n",
      "9 state\n",
      "10 ZipCode\n",
      "11 Zip_4\n",
      "12 msa\n",
      "13 countycode\n",
      "14 countyname\n",
      "15 citynameabbr\n",
      "16 cityname\n",
      "17 carrier_route\n",
      "18 latitude\n",
      "19 longitude\n",
      "20 timezone\n",
      "21 dwellingtype\n",
      "22 livingunitid\n",
      "23 AreaCode\n",
      "24 Phone\n",
      "25 FullPhoneNumber\n",
      "26 MobilePhoneNumber\n",
      "27 MobilePhoneUpdate\n",
      "28 estimatedincomecode\n",
      "29 homeownerprobabilitymodel\n",
      "30 numberofpersonsinlivingunit\n",
      "31 presenceofchildren\n",
      "32 persongender\n",
      "33 persondateofbirthyear\n",
      "34 persondateofbirthmonth\n",
      "35 persondateofbirthday\n",
      "36 personexactage\n",
      "37 personmaritalstatus\n",
      "38 occupationgroup\n",
      "39 personoccupation\n",
      "40 ethniccode\n",
      "41 languagecode\n",
      "42 ethnicgroup\n",
      "43 religioncode\n",
      "44 hispaniccountrycode\n",
      "45 personeducation\n",
      "46 businessowner\n",
      "47 NumberOfAdults\n",
      "48 PresenceOfCreditCard\n",
      "49 PresenceOfBankCard\n",
      "50 GasDeptRetailCardHolder\n",
      "51 CreditRating\n",
      "52 investment\n",
      "53 investmentstocksecurities\n",
      "54 Networth\n",
      "55 NumberOfLinesOfCredit\n",
      "56 Credit_RangeOfNewCredit\n",
      "57 Investing_Active\n",
      "58 InvestmentsPersonal\n",
      "59 InvestmentsRealEstate\n",
      "60 InvestingFinanceGrouping\n",
      "61 InvestmentsForeign\n",
      "62 InvestmentEstimatedResidentialPropertiesOwned\n",
      "63 AssimilationCodes\n",
      "64 traveler\n",
      "65 pets\n",
      "66 cats\n",
      "67 dogs\n",
      "68 mailresponder\n",
      "69 sweepstakes\n",
      "70 religiouscontributor\n",
      "71 politicalcontributor\n",
      "72 health_institutioncontributor\n",
      "73 charitable\n",
      "74 generalcontributor\n",
      "75 donatestoenvironmentalcauses\n",
      "76 donatesbymail\n",
      "77 veteraninhousehold\n",
      "78 HeavyBusinessTravelers\n",
      "79 hightechleader\n",
      "80 Smoker\n",
      "81 MailOrderBuyer\n",
      "82 OnlinePurchasingIndicator\n",
      "83 EnvironmentalIssuesCharitableDonation\n",
      "84 InternationalAidCharitableDonation\n",
      "85 PoliticalCharitableDonation\n",
      "86 PoliticalConservativeCharitableDonation\n",
      "87 PoliticalLiberalCharitableDonation\n",
      "88 VeteransCharitableDonation\n",
      "89 CharitableDonations_Other\n",
      "90 homeswimmingpoolindicator\n",
      "91 airconditioning\n",
      "92 homeheatindicator\n",
      "93 DONOTCALL\n",
      "94 DONOTCALLUpdate\n",
      "95 Name\n",
      "96 UPDATE_SOURCE\n",
      "97 Email\n"
     ]
    }
   ],
   "source": [
    "# list_18 = []\n",
    "c = 1\n",
    "\n",
    "for i in range(len(df_18.columns)):\n",
    "    print(c, df_18.columns[i])\n",
    "    c+=1"
   ]
  },
  {
   "cell_type": "code",
   "execution_count": 16,
   "id": "74cbf4dd",
   "metadata": {},
   "outputs": [
    {
     "name": "stdout",
     "output_type": "stream",
     "text": [
      "1 Phone Cleaned\n",
      "2 FullPhoneNumber\n",
      "3 personfirstname\n",
      "4 personmiddleinitial\n",
      "5 personlastname\n",
      "6 primaryaddress\n",
      "7 secondaryaddress\n",
      "8 cityname\n",
      "9 state\n",
      "10 ZipCode\n",
      "11 persondateofbirthmonth\n",
      "12 persondateofbirthday\n",
      "13 persondateofbirthyear\n",
      "14 personexactage\n",
      "15 IsMobile\n",
      "16 estimatedincomecode\n",
      "17 CreditRating\n",
      "18 NumberOfLinesOfCredit\n",
      "19 Credit_RangeOfNewCredit\n",
      "20 homeownerprobabilitymodel\n",
      "21 Disconnected\n",
      "22 National DNC\n",
      "23 Internal DNC\n",
      "24 Cellphone\n",
      "25 Litigator\n"
     ]
    }
   ],
   "source": [
    "c = 1\n",
    "\n",
    "for i in range(len(df_21.columns)):\n",
    "    print(c, df_21.columns[i])\n",
    "    c+=1"
   ]
  },
  {
   "cell_type": "code",
   "execution_count": 5,
   "id": "8b3634f4",
   "metadata": {},
   "outputs": [
    {
     "data": {
      "text/plain": [
       "Index(['Phone Cleaned', 'FullPhoneNumber', 'personfirstname',\n",
       "       'personmiddleinitial', 'personlastname', 'primaryaddress',\n",
       "       'secondaryaddress', 'cityname', 'state', 'ZipCode',\n",
       "       'persondateofbirthmonth', 'persondateofbirthday',\n",
       "       'persondateofbirthyear', 'personexactage', 'IsMobile',\n",
       "       'estimatedincomecode', 'CreditRating', 'NumberOfLinesOfCredit',\n",
       "       'Credit_RangeOfNewCredit', 'homeownerprobabilitymodel', 'Disconnected',\n",
       "       'National DNC', 'Internal DNC', 'Cellphone', 'Litigator'],\n",
       "      dtype='object')"
      ]
     },
     "execution_count": 5,
     "metadata": {},
     "output_type": "execute_result"
    }
   ],
   "source": [
    "df_21.columns"
   ]
  },
  {
   "cell_type": "code",
   "execution_count": 7,
   "id": "8a7db3d7",
   "metadata": {},
   "outputs": [
    {
     "data": {
      "text/html": [
       "<div>\n",
       "<style scoped>\n",
       "    .dataframe tbody tr th:only-of-type {\n",
       "        vertical-align: middle;\n",
       "    }\n",
       "\n",
       "    .dataframe tbody tr th {\n",
       "        vertical-align: top;\n",
       "    }\n",
       "\n",
       "    .dataframe thead th {\n",
       "        text-align: right;\n",
       "    }\n",
       "</style>\n",
       "<table border=\"1\" class=\"dataframe\">\n",
       "  <thead>\n",
       "    <tr style=\"text-align: right;\">\n",
       "      <th></th>\n",
       "      <th>personfirstname</th>\n",
       "      <th>personmiddleinitial</th>\n",
       "      <th>personlastname</th>\n",
       "      <th>persontitleofrespect</th>\n",
       "      <th>streetname</th>\n",
       "      <th>streetsuffix</th>\n",
       "      <th>primaryaddress</th>\n",
       "      <th>secondaryaddress</th>\n",
       "      <th>state</th>\n",
       "      <th>ZipCode</th>\n",
       "      <th>Zip_4</th>\n",
       "      <th>msa</th>\n",
       "      <th>countycode</th>\n",
       "      <th>countyname</th>\n",
       "      <th>citynameabbr</th>\n",
       "      <th>cityname</th>\n",
       "      <th>carrier_route</th>\n",
       "      <th>latitude</th>\n",
       "      <th>longitude</th>\n",
       "      <th>timezone</th>\n",
       "      <th>dwellingtype</th>\n",
       "      <th>livingunitid</th>\n",
       "      <th>AreaCode</th>\n",
       "      <th>Phone</th>\n",
       "      <th>FullPhoneNumber</th>\n",
       "      <th>MobilePhoneNumber</th>\n",
       "      <th>MobilePhoneUpdate</th>\n",
       "      <th>estimatedincomecode</th>\n",
       "      <th>homeownerprobabilitymodel</th>\n",
       "      <th>numberofpersonsinlivingunit</th>\n",
       "      <th>presenceofchildren</th>\n",
       "      <th>persongender</th>\n",
       "      <th>persondateofbirthyear</th>\n",
       "      <th>persondateofbirthmonth</th>\n",
       "      <th>persondateofbirthday</th>\n",
       "      <th>personexactage</th>\n",
       "      <th>personmaritalstatus</th>\n",
       "      <th>occupationgroup</th>\n",
       "      <th>personoccupation</th>\n",
       "      <th>ethniccode</th>\n",
       "      <th>languagecode</th>\n",
       "      <th>ethnicgroup</th>\n",
       "      <th>religioncode</th>\n",
       "      <th>hispaniccountrycode</th>\n",
       "      <th>personeducation</th>\n",
       "      <th>businessowner</th>\n",
       "      <th>NumberOfAdults</th>\n",
       "      <th>PresenceOfCreditCard</th>\n",
       "      <th>PresenceOfBankCard</th>\n",
       "      <th>GasDeptRetailCardHolder</th>\n",
       "      <th>CreditRating</th>\n",
       "      <th>investment</th>\n",
       "      <th>investmentstocksecurities</th>\n",
       "      <th>Networth</th>\n",
       "      <th>NumberOfLinesOfCredit</th>\n",
       "      <th>Credit_RangeOfNewCredit</th>\n",
       "      <th>Investing_Active</th>\n",
       "      <th>InvestmentsPersonal</th>\n",
       "      <th>InvestmentsRealEstate</th>\n",
       "      <th>InvestingFinanceGrouping</th>\n",
       "      <th>InvestmentsForeign</th>\n",
       "      <th>InvestmentEstimatedResidentialPropertiesOwned</th>\n",
       "      <th>AssimilationCodes</th>\n",
       "      <th>traveler</th>\n",
       "      <th>pets</th>\n",
       "      <th>cats</th>\n",
       "      <th>dogs</th>\n",
       "      <th>mailresponder</th>\n",
       "      <th>sweepstakes</th>\n",
       "      <th>religiouscontributor</th>\n",
       "      <th>politicalcontributor</th>\n",
       "      <th>health_institutioncontributor</th>\n",
       "      <th>charitable</th>\n",
       "      <th>generalcontributor</th>\n",
       "      <th>donatestoenvironmentalcauses</th>\n",
       "      <th>donatesbymail</th>\n",
       "      <th>veteraninhousehold</th>\n",
       "      <th>HeavyBusinessTravelers</th>\n",
       "      <th>hightechleader</th>\n",
       "      <th>Smoker</th>\n",
       "      <th>MailOrderBuyer</th>\n",
       "      <th>OnlinePurchasingIndicator</th>\n",
       "      <th>EnvironmentalIssuesCharitableDonation</th>\n",
       "      <th>InternationalAidCharitableDonation</th>\n",
       "      <th>PoliticalCharitableDonation</th>\n",
       "      <th>PoliticalConservativeCharitableDonation</th>\n",
       "      <th>PoliticalLiberalCharitableDonation</th>\n",
       "      <th>VeteransCharitableDonation</th>\n",
       "      <th>CharitableDonations_Other</th>\n",
       "      <th>homeswimmingpoolindicator</th>\n",
       "      <th>airconditioning</th>\n",
       "      <th>homeheatindicator</th>\n",
       "      <th>DONOTCALL</th>\n",
       "      <th>DONOTCALLUpdate</th>\n",
       "      <th>Name</th>\n",
       "      <th>UPDATE_SOURCE</th>\n",
       "      <th>Email</th>\n",
       "    </tr>\n",
       "  </thead>\n",
       "  <tbody>\n",
       "    <tr>\n",
       "      <th>0</th>\n",
       "      <td>DAREN</td>\n",
       "      <td>S</td>\n",
       "      <td>BRIGGS</td>\n",
       "      <td>MR</td>\n",
       "      <td>Dewcrest</td>\n",
       "      <td>Ct</td>\n",
       "      <td>3759 Dewcrest Ct</td>\n",
       "      <td>NaN</td>\n",
       "      <td>CA</td>\n",
       "      <td>91710</td>\n",
       "      <td>2011.0</td>\n",
       "      <td>6780</td>\n",
       "      <td>71</td>\n",
       "      <td>San Bernardino</td>\n",
       "      <td>Chino</td>\n",
       "      <td>Chino</td>\n",
       "      <td>C007</td>\n",
       "      <td>34.0383</td>\n",
       "      <td>-117.723</td>\n",
       "      <td>P</td>\n",
       "      <td>S</td>\n",
       "      <td>1.367347e+09</td>\n",
       "      <td>909.0</td>\n",
       "      <td>5487852</td>\n",
       "      <td>9095487852</td>\n",
       "      <td>9.519039e+09</td>\n",
       "      <td>8/10/2017</td>\n",
       "      <td>N</td>\n",
       "      <td>H</td>\n",
       "      <td>6</td>\n",
       "      <td>Y</td>\n",
       "      <td>M</td>\n",
       "      <td>1963</td>\n",
       "      <td>12</td>\n",
       "      <td>29</td>\n",
       "      <td>55</td>\n",
       "      <td>M</td>\n",
       "      <td>B</td>\n",
       "      <td>M698</td>\n",
       "      <td>N6</td>\n",
       "      <td>E1</td>\n",
       "      <td>W</td>\n",
       "      <td>P</td>\n",
       "      <td>0</td>\n",
       "      <td>B</td>\n",
       "      <td>U</td>\n",
       "      <td>2</td>\n",
       "      <td>Y</td>\n",
       "      <td>Y</td>\n",
       "      <td>Y</td>\n",
       "      <td>D</td>\n",
       "      <td>Y</td>\n",
       "      <td>U</td>\n",
       "      <td>G</td>\n",
       "      <td>1</td>\n",
       "      <td>3</td>\n",
       "      <td>U</td>\n",
       "      <td>Y</td>\n",
       "      <td>U</td>\n",
       "      <td>Y</td>\n",
       "      <td>U</td>\n",
       "      <td>U</td>\n",
       "      <td>U</td>\n",
       "      <td>Y</td>\n",
       "      <td>U</td>\n",
       "      <td>U</td>\n",
       "      <td>Y</td>\n",
       "      <td>Y</td>\n",
       "      <td>U</td>\n",
       "      <td>U</td>\n",
       "      <td>Y</td>\n",
       "      <td>U</td>\n",
       "      <td>Y</td>\n",
       "      <td>U</td>\n",
       "      <td>U</td>\n",
       "      <td>U</td>\n",
       "      <td>U</td>\n",
       "      <td>NaN</td>\n",
       "      <td>U</td>\n",
       "      <td>U</td>\n",
       "      <td>Y</td>\n",
       "      <td>U</td>\n",
       "      <td>U</td>\n",
       "      <td>U</td>\n",
       "      <td>Y</td>\n",
       "      <td>U</td>\n",
       "      <td>U</td>\n",
       "      <td>U</td>\n",
       "      <td>U</td>\n",
       "      <td>Y</td>\n",
       "      <td>F</td>\n",
       "      <td>P</td>\n",
       "      <td>False</td>\n",
       "      <td>8/27/2017</td>\n",
       "      <td>DAREN S BRIGGS</td>\n",
       "      <td>NaN</td>\n",
       "      <td>NaN</td>\n",
       "    </tr>\n",
       "    <tr>\n",
       "      <th>1</th>\n",
       "      <td>AMBER</td>\n",
       "      <td>NaN</td>\n",
       "      <td>BOWERS</td>\n",
       "      <td>MS</td>\n",
       "      <td>Inyo</td>\n",
       "      <td>Pl</td>\n",
       "      <td>12221 Inyo Pl</td>\n",
       "      <td>NaN</td>\n",
       "      <td>CA</td>\n",
       "      <td>91710</td>\n",
       "      <td>2015.0</td>\n",
       "      <td>6780</td>\n",
       "      <td>71</td>\n",
       "      <td>San Bernardino</td>\n",
       "      <td>Chino</td>\n",
       "      <td>Chino</td>\n",
       "      <td>C025</td>\n",
       "      <td>34.0312</td>\n",
       "      <td>-117.721</td>\n",
       "      <td>P</td>\n",
       "      <td>S</td>\n",
       "      <td>1.548606e+09</td>\n",
       "      <td>909.0</td>\n",
       "      <td>5900653</td>\n",
       "      <td>9095900653</td>\n",
       "      <td>NaN</td>\n",
       "      <td>8/10/2017</td>\n",
       "      <td>L</td>\n",
       "      <td>H</td>\n",
       "      <td>5</td>\n",
       "      <td>Y</td>\n",
       "      <td>F</td>\n",
       "      <td>1991</td>\n",
       "      <td>8</td>\n",
       "      <td>12</td>\n",
       "      <td>27</td>\n",
       "      <td>S</td>\n",
       "      <td>Z</td>\n",
       "      <td>0</td>\n",
       "      <td>T3</td>\n",
       "      <td>E1</td>\n",
       "      <td>W</td>\n",
       "      <td>P</td>\n",
       "      <td>0</td>\n",
       "      <td>U</td>\n",
       "      <td>U</td>\n",
       "      <td>4</td>\n",
       "      <td>Y</td>\n",
       "      <td>Y</td>\n",
       "      <td>Y</td>\n",
       "      <td>C</td>\n",
       "      <td>Y</td>\n",
       "      <td>U</td>\n",
       "      <td>G</td>\n",
       "      <td>2</td>\n",
       "      <td>U</td>\n",
       "      <td>Y</td>\n",
       "      <td>U</td>\n",
       "      <td>U</td>\n",
       "      <td>Y</td>\n",
       "      <td>U</td>\n",
       "      <td>U</td>\n",
       "      <td>U</td>\n",
       "      <td>U</td>\n",
       "      <td>U</td>\n",
       "      <td>U</td>\n",
       "      <td>U</td>\n",
       "      <td>Y</td>\n",
       "      <td>U</td>\n",
       "      <td>U</td>\n",
       "      <td>Y</td>\n",
       "      <td>U</td>\n",
       "      <td>Y</td>\n",
       "      <td>U</td>\n",
       "      <td>U</td>\n",
       "      <td>U</td>\n",
       "      <td>U</td>\n",
       "      <td>NaN</td>\n",
       "      <td>U</td>\n",
       "      <td>U</td>\n",
       "      <td>Y</td>\n",
       "      <td>U</td>\n",
       "      <td>U</td>\n",
       "      <td>U</td>\n",
       "      <td>Y</td>\n",
       "      <td>U</td>\n",
       "      <td>U</td>\n",
       "      <td>U</td>\n",
       "      <td>U</td>\n",
       "      <td>Y</td>\n",
       "      <td>F</td>\n",
       "      <td>P</td>\n",
       "      <td>True</td>\n",
       "      <td>8/27/2017</td>\n",
       "      <td>AMBER BOWERS</td>\n",
       "      <td>NaN</td>\n",
       "      <td>amberelysebowers@gmail.com</td>\n",
       "    </tr>\n",
       "    <tr>\n",
       "      <th>2</th>\n",
       "      <td>LELA</td>\n",
       "      <td>D</td>\n",
       "      <td>VOTAW</td>\n",
       "      <td>MS</td>\n",
       "      <td>Kern</td>\n",
       "      <td>Rd</td>\n",
       "      <td>3740 Kern Rd</td>\n",
       "      <td>NaN</td>\n",
       "      <td>CA</td>\n",
       "      <td>91710</td>\n",
       "      <td>2016.0</td>\n",
       "      <td>6780</td>\n",
       "      <td>71</td>\n",
       "      <td>San Bernardino</td>\n",
       "      <td>Chino</td>\n",
       "      <td>Chino</td>\n",
       "      <td>C025</td>\n",
       "      <td>34.0271</td>\n",
       "      <td>-117.723</td>\n",
       "      <td>P</td>\n",
       "      <td>S</td>\n",
       "      <td>1.194481e+09</td>\n",
       "      <td>909.0</td>\n",
       "      <td>3549812</td>\n",
       "      <td>9093549812</td>\n",
       "      <td>9.093550e+09</td>\n",
       "      <td>8/10/2017</td>\n",
       "      <td>C</td>\n",
       "      <td>H</td>\n",
       "      <td>4</td>\n",
       "      <td>Y</td>\n",
       "      <td>F</td>\n",
       "      <td>1952</td>\n",
       "      <td>9</td>\n",
       "      <td>29</td>\n",
       "      <td>66</td>\n",
       "      <td>A</td>\n",
       "      <td>B</td>\n",
       "      <td>M698</td>\n",
       "      <td>U9</td>\n",
       "      <td>E1</td>\n",
       "      <td>E</td>\n",
       "      <td>C</td>\n",
       "      <td>0</td>\n",
       "      <td>A</td>\n",
       "      <td>U</td>\n",
       "      <td>3</td>\n",
       "      <td>Y</td>\n",
       "      <td>Y</td>\n",
       "      <td>Y</td>\n",
       "      <td>F</td>\n",
       "      <td>Y</td>\n",
       "      <td>U</td>\n",
       "      <td>G</td>\n",
       "      <td>2</td>\n",
       "      <td>5</td>\n",
       "      <td>U</td>\n",
       "      <td>Y</td>\n",
       "      <td>U</td>\n",
       "      <td>Y</td>\n",
       "      <td>U</td>\n",
       "      <td>U</td>\n",
       "      <td>U</td>\n",
       "      <td>Y</td>\n",
       "      <td>U</td>\n",
       "      <td>U</td>\n",
       "      <td>U</td>\n",
       "      <td>Y</td>\n",
       "      <td>U</td>\n",
       "      <td>U</td>\n",
       "      <td>Y</td>\n",
       "      <td>U</td>\n",
       "      <td>Y</td>\n",
       "      <td>U</td>\n",
       "      <td>U</td>\n",
       "      <td>U</td>\n",
       "      <td>U</td>\n",
       "      <td>NaN</td>\n",
       "      <td>U</td>\n",
       "      <td>U</td>\n",
       "      <td>Y</td>\n",
       "      <td>Y</td>\n",
       "      <td>U</td>\n",
       "      <td>U</td>\n",
       "      <td>Y</td>\n",
       "      <td>U</td>\n",
       "      <td>U</td>\n",
       "      <td>U</td>\n",
       "      <td>U</td>\n",
       "      <td>U</td>\n",
       "      <td>F</td>\n",
       "      <td>P</td>\n",
       "      <td>False</td>\n",
       "      <td>8/27/2017</td>\n",
       "      <td>LELA D VOTAW</td>\n",
       "      <td>NaN</td>\n",
       "      <td>NaN</td>\n",
       "    </tr>\n",
       "    <tr>\n",
       "      <th>3</th>\n",
       "      <td>BRIDGETTE</td>\n",
       "      <td>NaN</td>\n",
       "      <td>VOTAW</td>\n",
       "      <td>MS</td>\n",
       "      <td>Kern</td>\n",
       "      <td>Rd</td>\n",
       "      <td>3740 Kern Rd</td>\n",
       "      <td>NaN</td>\n",
       "      <td>CA</td>\n",
       "      <td>91710</td>\n",
       "      <td>2016.0</td>\n",
       "      <td>6780</td>\n",
       "      <td>71</td>\n",
       "      <td>San Bernardino</td>\n",
       "      <td>Chino</td>\n",
       "      <td>Chino</td>\n",
       "      <td>C025</td>\n",
       "      <td>34.0271</td>\n",
       "      <td>-117.723</td>\n",
       "      <td>P</td>\n",
       "      <td>S</td>\n",
       "      <td>1.367347e+09</td>\n",
       "      <td>909.0</td>\n",
       "      <td>3549812</td>\n",
       "      <td>9093549812</td>\n",
       "      <td>NaN</td>\n",
       "      <td>8/10/2017</td>\n",
       "      <td>C</td>\n",
       "      <td>H</td>\n",
       "      <td>4</td>\n",
       "      <td>Y</td>\n",
       "      <td>F</td>\n",
       "      <td>1981</td>\n",
       "      <td>6</td>\n",
       "      <td>0</td>\n",
       "      <td>37</td>\n",
       "      <td>A</td>\n",
       "      <td>Z</td>\n",
       "      <td>0</td>\n",
       "      <td>U9</td>\n",
       "      <td>E1</td>\n",
       "      <td>E</td>\n",
       "      <td>C</td>\n",
       "      <td>0</td>\n",
       "      <td>U</td>\n",
       "      <td>U</td>\n",
       "      <td>3</td>\n",
       "      <td>Y</td>\n",
       "      <td>Y</td>\n",
       "      <td>Y</td>\n",
       "      <td>F</td>\n",
       "      <td>Y</td>\n",
       "      <td>U</td>\n",
       "      <td>G</td>\n",
       "      <td>2</td>\n",
       "      <td>5</td>\n",
       "      <td>U</td>\n",
       "      <td>Y</td>\n",
       "      <td>U</td>\n",
       "      <td>Y</td>\n",
       "      <td>U</td>\n",
       "      <td>U</td>\n",
       "      <td>U</td>\n",
       "      <td>Y</td>\n",
       "      <td>U</td>\n",
       "      <td>U</td>\n",
       "      <td>U</td>\n",
       "      <td>Y</td>\n",
       "      <td>U</td>\n",
       "      <td>U</td>\n",
       "      <td>Y</td>\n",
       "      <td>U</td>\n",
       "      <td>Y</td>\n",
       "      <td>U</td>\n",
       "      <td>U</td>\n",
       "      <td>U</td>\n",
       "      <td>U</td>\n",
       "      <td>NaN</td>\n",
       "      <td>U</td>\n",
       "      <td>U</td>\n",
       "      <td>Y</td>\n",
       "      <td>Y</td>\n",
       "      <td>U</td>\n",
       "      <td>U</td>\n",
       "      <td>Y</td>\n",
       "      <td>U</td>\n",
       "      <td>U</td>\n",
       "      <td>U</td>\n",
       "      <td>U</td>\n",
       "      <td>U</td>\n",
       "      <td>F</td>\n",
       "      <td>P</td>\n",
       "      <td>False</td>\n",
       "      <td>8/27/2017</td>\n",
       "      <td>BRIDGETTE VOTAW</td>\n",
       "      <td>NaN</td>\n",
       "      <td>NaN</td>\n",
       "    </tr>\n",
       "    <tr>\n",
       "      <th>4</th>\n",
       "      <td>GUADALUPE</td>\n",
       "      <td>NaN</td>\n",
       "      <td>GUZMAN</td>\n",
       "      <td>MS</td>\n",
       "      <td>Kern</td>\n",
       "      <td>Rd</td>\n",
       "      <td>3725 Kern Rd</td>\n",
       "      <td>NaN</td>\n",
       "      <td>CA</td>\n",
       "      <td>91710</td>\n",
       "      <td>2017.0</td>\n",
       "      <td>6780</td>\n",
       "      <td>71</td>\n",
       "      <td>San Bernardino</td>\n",
       "      <td>Chino</td>\n",
       "      <td>Chino</td>\n",
       "      <td>C025</td>\n",
       "      <td>34.0274</td>\n",
       "      <td>-117.723</td>\n",
       "      <td>P</td>\n",
       "      <td>S</td>\n",
       "      <td>1.194481e+09</td>\n",
       "      <td>909.0</td>\n",
       "      <td>6157145</td>\n",
       "      <td>9096157145</td>\n",
       "      <td>3.052407e+09</td>\n",
       "      <td>8/10/2017</td>\n",
       "      <td>L</td>\n",
       "      <td>H</td>\n",
       "      <td>8</td>\n",
       "      <td>Y</td>\n",
       "      <td>F</td>\n",
       "      <td>1977</td>\n",
       "      <td>10</td>\n",
       "      <td>19</td>\n",
       "      <td>41</td>\n",
       "      <td>M</td>\n",
       "      <td>C</td>\n",
       "      <td>W533</td>\n",
       "      <td>T9</td>\n",
       "      <td>S8</td>\n",
       "      <td>Y</td>\n",
       "      <td>C</td>\n",
       "      <td>HM</td>\n",
       "      <td>B</td>\n",
       "      <td>U</td>\n",
       "      <td>4</td>\n",
       "      <td>Y</td>\n",
       "      <td>Y</td>\n",
       "      <td>Y</td>\n",
       "      <td>F</td>\n",
       "      <td>Y</td>\n",
       "      <td>U</td>\n",
       "      <td>G</td>\n",
       "      <td>2</td>\n",
       "      <td>2</td>\n",
       "      <td>U</td>\n",
       "      <td>U</td>\n",
       "      <td>U</td>\n",
       "      <td>Y</td>\n",
       "      <td>U</td>\n",
       "      <td>U</td>\n",
       "      <td>D</td>\n",
       "      <td>U</td>\n",
       "      <td>U</td>\n",
       "      <td>U</td>\n",
       "      <td>U</td>\n",
       "      <td>Y</td>\n",
       "      <td>U</td>\n",
       "      <td>U</td>\n",
       "      <td>U</td>\n",
       "      <td>U</td>\n",
       "      <td>U</td>\n",
       "      <td>U</td>\n",
       "      <td>U</td>\n",
       "      <td>U</td>\n",
       "      <td>U</td>\n",
       "      <td>NaN</td>\n",
       "      <td>U</td>\n",
       "      <td>U</td>\n",
       "      <td>Y</td>\n",
       "      <td>U</td>\n",
       "      <td>U</td>\n",
       "      <td>U</td>\n",
       "      <td>U</td>\n",
       "      <td>U</td>\n",
       "      <td>U</td>\n",
       "      <td>U</td>\n",
       "      <td>U</td>\n",
       "      <td>Y</td>\n",
       "      <td>F</td>\n",
       "      <td>P</td>\n",
       "      <td>False</td>\n",
       "      <td>8/27/2017</td>\n",
       "      <td>GUADALUPE GUZMAN</td>\n",
       "      <td>NaN</td>\n",
       "      <td>guadalupeg36@yahoo.com</td>\n",
       "    </tr>\n",
       "  </tbody>\n",
       "</table>\n",
       "</div>"
      ],
      "text/plain": [
       "  personfirstname personmiddleinitial personlastname persontitleofrespect  \\\n",
       "0           DAREN                   S         BRIGGS                   MR   \n",
       "1           AMBER                 NaN         BOWERS                   MS   \n",
       "2            LELA                   D          VOTAW                   MS   \n",
       "3       BRIDGETTE                 NaN          VOTAW                   MS   \n",
       "4       GUADALUPE                 NaN         GUZMAN                   MS   \n",
       "\n",
       "  streetname streetsuffix    primaryaddress secondaryaddress state  ZipCode  \\\n",
       "0   Dewcrest           Ct  3759 Dewcrest Ct              NaN    CA    91710   \n",
       "1       Inyo           Pl     12221 Inyo Pl              NaN    CA    91710   \n",
       "2       Kern           Rd      3740 Kern Rd              NaN    CA    91710   \n",
       "3       Kern           Rd      3740 Kern Rd              NaN    CA    91710   \n",
       "4       Kern           Rd      3725 Kern Rd              NaN    CA    91710   \n",
       "\n",
       "    Zip_4   msa  countycode      countyname citynameabbr cityname  \\\n",
       "0  2011.0  6780          71  San Bernardino        Chino    Chino   \n",
       "1  2015.0  6780          71  San Bernardino        Chino    Chino   \n",
       "2  2016.0  6780          71  San Bernardino        Chino    Chino   \n",
       "3  2016.0  6780          71  San Bernardino        Chino    Chino   \n",
       "4  2017.0  6780          71  San Bernardino        Chino    Chino   \n",
       "\n",
       "  carrier_route  latitude  longitude timezone dwellingtype  livingunitid  \\\n",
       "0          C007   34.0383   -117.723        P            S  1.367347e+09   \n",
       "1          C025   34.0312   -117.721        P            S  1.548606e+09   \n",
       "2          C025   34.0271   -117.723        P            S  1.194481e+09   \n",
       "3          C025   34.0271   -117.723        P            S  1.367347e+09   \n",
       "4          C025   34.0274   -117.723        P            S  1.194481e+09   \n",
       "\n",
       "   AreaCode    Phone FullPhoneNumber  MobilePhoneNumber MobilePhoneUpdate  \\\n",
       "0     909.0  5487852      9095487852       9.519039e+09         8/10/2017   \n",
       "1     909.0  5900653      9095900653                NaN         8/10/2017   \n",
       "2     909.0  3549812      9093549812       9.093550e+09         8/10/2017   \n",
       "3     909.0  3549812      9093549812                NaN         8/10/2017   \n",
       "4     909.0  6157145      9096157145       3.052407e+09         8/10/2017   \n",
       "\n",
       "  estimatedincomecode homeownerprobabilitymodel  numberofpersonsinlivingunit  \\\n",
       "0                   N                         H                            6   \n",
       "1                   L                         H                            5   \n",
       "2                   C                         H                            4   \n",
       "3                   C                         H                            4   \n",
       "4                   L                         H                            8   \n",
       "\n",
       "  presenceofchildren persongender  persondateofbirthyear  \\\n",
       "0                  Y            M                   1963   \n",
       "1                  Y            F                   1991   \n",
       "2                  Y            F                   1952   \n",
       "3                  Y            F                   1981   \n",
       "4                  Y            F                   1977   \n",
       "\n",
       "   persondateofbirthmonth  persondateofbirthday  personexactage  \\\n",
       "0                      12                    29              55   \n",
       "1                       8                    12              27   \n",
       "2                       9                    29              66   \n",
       "3                       6                     0              37   \n",
       "4                      10                    19              41   \n",
       "\n",
       "  personmaritalstatus occupationgroup personoccupation ethniccode  \\\n",
       "0                   M               B             M698         N6   \n",
       "1                   S               Z                0         T3   \n",
       "2                   A               B             M698         U9   \n",
       "3                   A               Z                0         U9   \n",
       "4                   M               C             W533         T9   \n",
       "\n",
       "  languagecode ethnicgroup religioncode hispaniccountrycode personeducation  \\\n",
       "0           E1           W            P                   0               B   \n",
       "1           E1           W            P                   0               U   \n",
       "2           E1           E            C                   0               A   \n",
       "3           E1           E            C                   0               U   \n",
       "4           S8           Y            C                  HM               B   \n",
       "\n",
       "  businessowner NumberOfAdults PresenceOfCreditCard PresenceOfBankCard  \\\n",
       "0             U              2                    Y                  Y   \n",
       "1             U              4                    Y                  Y   \n",
       "2             U              3                    Y                  Y   \n",
       "3             U              3                    Y                  Y   \n",
       "4             U              4                    Y                  Y   \n",
       "\n",
       "  GasDeptRetailCardHolder CreditRating investment investmentstocksecurities  \\\n",
       "0                       Y            D          Y                         U   \n",
       "1                       Y            C          Y                         U   \n",
       "2                       Y            F          Y                         U   \n",
       "3                       Y            F          Y                         U   \n",
       "4                       Y            F          Y                         U   \n",
       "\n",
       "  Networth NumberOfLinesOfCredit Credit_RangeOfNewCredit Investing_Active  \\\n",
       "0        G                     1                       3                U   \n",
       "1        G                     2                       U                Y   \n",
       "2        G                     2                       5                U   \n",
       "3        G                     2                       5                U   \n",
       "4        G                     2                       2                U   \n",
       "\n",
       "  InvestmentsPersonal InvestmentsRealEstate InvestingFinanceGrouping  \\\n",
       "0                   Y                     U                        Y   \n",
       "1                   U                     U                        Y   \n",
       "2                   Y                     U                        Y   \n",
       "3                   Y                     U                        Y   \n",
       "4                   U                     U                        Y   \n",
       "\n",
       "  InvestmentsForeign InvestmentEstimatedResidentialPropertiesOwned  \\\n",
       "0                  U                                             U   \n",
       "1                  U                                             U   \n",
       "2                  U                                             U   \n",
       "3                  U                                             U   \n",
       "4                  U                                             U   \n",
       "\n",
       "  AssimilationCodes traveler pets cats dogs mailresponder sweepstakes  \\\n",
       "0                 U        Y    U    U    Y             Y           U   \n",
       "1                 U        U    U    U    U             Y           U   \n",
       "2                 U        Y    U    U    U             Y           U   \n",
       "3                 U        Y    U    U    U             Y           U   \n",
       "4                 D        U    U    U    U             Y           U   \n",
       "\n",
       "  religiouscontributor politicalcontributor health_institutioncontributor  \\\n",
       "0                    U                    Y                             U   \n",
       "1                    U                    Y                             U   \n",
       "2                    U                    Y                             U   \n",
       "3                    U                    Y                             U   \n",
       "4                    U                    U                             U   \n",
       "\n",
       "  charitable generalcontributor donatestoenvironmentalcauses donatesbymail  \\\n",
       "0          Y                  U                            U             U   \n",
       "1          Y                  U                            U             U   \n",
       "2          Y                  U                            U             U   \n",
       "3          Y                  U                            U             U   \n",
       "4          U                  U                            U             U   \n",
       "\n",
       "  veteraninhousehold  HeavyBusinessTravelers hightechleader Smoker  \\\n",
       "0                  U                     NaN              U      U   \n",
       "1                  U                     NaN              U      U   \n",
       "2                  U                     NaN              U      U   \n",
       "3                  U                     NaN              U      U   \n",
       "4                  U                     NaN              U      U   \n",
       "\n",
       "  MailOrderBuyer OnlinePurchasingIndicator  \\\n",
       "0              Y                         U   \n",
       "1              Y                         U   \n",
       "2              Y                         Y   \n",
       "3              Y                         Y   \n",
       "4              Y                         U   \n",
       "\n",
       "  EnvironmentalIssuesCharitableDonation InternationalAidCharitableDonation  \\\n",
       "0                                     U                                  U   \n",
       "1                                     U                                  U   \n",
       "2                                     U                                  U   \n",
       "3                                     U                                  U   \n",
       "4                                     U                                  U   \n",
       "\n",
       "  PoliticalCharitableDonation PoliticalConservativeCharitableDonation  \\\n",
       "0                           Y                                       U   \n",
       "1                           Y                                       U   \n",
       "2                           Y                                       U   \n",
       "3                           Y                                       U   \n",
       "4                           U                                       U   \n",
       "\n",
       "  PoliticalLiberalCharitableDonation VeteransCharitableDonation  \\\n",
       "0                                  U                          U   \n",
       "1                                  U                          U   \n",
       "2                                  U                          U   \n",
       "3                                  U                          U   \n",
       "4                                  U                          U   \n",
       "\n",
       "  CharitableDonations_Other homeswimmingpoolindicator airconditioning  \\\n",
       "0                         U                         Y               F   \n",
       "1                         U                         Y               F   \n",
       "2                         U                         U               F   \n",
       "3                         U                         U               F   \n",
       "4                         U                         Y               F   \n",
       "\n",
       "  homeheatindicator  DONOTCALL DONOTCALLUpdate              Name  \\\n",
       "0                 P      False       8/27/2017    DAREN S BRIGGS   \n",
       "1                 P       True       8/27/2017      AMBER BOWERS   \n",
       "2                 P      False       8/27/2017      LELA D VOTAW   \n",
       "3                 P      False       8/27/2017   BRIDGETTE VOTAW   \n",
       "4                 P      False       8/27/2017  GUADALUPE GUZMAN   \n",
       "\n",
       "  UPDATE_SOURCE                       Email  \n",
       "0           NaN                         NaN  \n",
       "1           NaN  amberelysebowers@gmail.com  \n",
       "2           NaN                         NaN  \n",
       "3           NaN                         NaN  \n",
       "4           NaN      guadalupeg36@yahoo.com  "
      ]
     },
     "execution_count": 7,
     "metadata": {},
     "output_type": "execute_result"
    }
   ],
   "source": [
    "df_18.head()"
   ]
  },
  {
   "cell_type": "code",
   "execution_count": 8,
   "id": "cfdb74c8",
   "metadata": {},
   "outputs": [
    {
     "data": {
      "text/html": [
       "<div>\n",
       "<style scoped>\n",
       "    .dataframe tbody tr th:only-of-type {\n",
       "        vertical-align: middle;\n",
       "    }\n",
       "\n",
       "    .dataframe tbody tr th {\n",
       "        vertical-align: top;\n",
       "    }\n",
       "\n",
       "    .dataframe thead th {\n",
       "        text-align: right;\n",
       "    }\n",
       "</style>\n",
       "<table border=\"1\" class=\"dataframe\">\n",
       "  <thead>\n",
       "    <tr style=\"text-align: right;\">\n",
       "      <th></th>\n",
       "      <th>Phone Cleaned</th>\n",
       "      <th>FullPhoneNumber</th>\n",
       "      <th>personfirstname</th>\n",
       "      <th>personmiddleinitial</th>\n",
       "      <th>personlastname</th>\n",
       "      <th>primaryaddress</th>\n",
       "      <th>secondaryaddress</th>\n",
       "      <th>cityname</th>\n",
       "      <th>state</th>\n",
       "      <th>ZipCode</th>\n",
       "      <th>persondateofbirthmonth</th>\n",
       "      <th>persondateofbirthday</th>\n",
       "      <th>persondateofbirthyear</th>\n",
       "      <th>personexactage</th>\n",
       "      <th>IsMobile</th>\n",
       "      <th>estimatedincomecode</th>\n",
       "      <th>CreditRating</th>\n",
       "      <th>NumberOfLinesOfCredit</th>\n",
       "      <th>Credit_RangeOfNewCredit</th>\n",
       "      <th>homeownerprobabilitymodel</th>\n",
       "      <th>Disconnected</th>\n",
       "      <th>National DNC</th>\n",
       "      <th>Internal DNC</th>\n",
       "      <th>Cellphone</th>\n",
       "      <th>Litigator</th>\n",
       "    </tr>\n",
       "  </thead>\n",
       "  <tbody>\n",
       "    <tr>\n",
       "      <th>0</th>\n",
       "      <td>8089224871</td>\n",
       "      <td>8089224871</td>\n",
       "      <td>SHARON</td>\n",
       "      <td>K</td>\n",
       "      <td>FARIS</td>\n",
       "      <td>2600 Pualani Way</td>\n",
       "      <td>Apt 2302</td>\n",
       "      <td>Honolulu</td>\n",
       "      <td>HI</td>\n",
       "      <td>96815</td>\n",
       "      <td>11</td>\n",
       "      <td>2</td>\n",
       "      <td>1943</td>\n",
       "      <td>77</td>\n",
       "      <td>F</td>\n",
       "      <td>M</td>\n",
       "      <td>B</td>\n",
       "      <td>1</td>\n",
       "      <td>U</td>\n",
       "      <td>H</td>\n",
       "      <td>N</td>\n",
       "      <td>Y</td>\n",
       "      <td>N</td>\n",
       "      <td>N</td>\n",
       "      <td>N</td>\n",
       "    </tr>\n",
       "    <tr>\n",
       "      <th>1</th>\n",
       "      <td>8087801951</td>\n",
       "      <td>8087801951</td>\n",
       "      <td>MICHAEL</td>\n",
       "      <td>NaN</td>\n",
       "      <td>ELM</td>\n",
       "      <td>7305 Nuulolo St</td>\n",
       "      <td>NaN</td>\n",
       "      <td>Honolulu</td>\n",
       "      <td>HI</td>\n",
       "      <td>96825</td>\n",
       "      <td>8</td>\n",
       "      <td>0</td>\n",
       "      <td>1978</td>\n",
       "      <td>42</td>\n",
       "      <td>T</td>\n",
       "      <td>S</td>\n",
       "      <td>C</td>\n",
       "      <td>2</td>\n",
       "      <td>4</td>\n",
       "      <td>H</td>\n",
       "      <td>N</td>\n",
       "      <td>N</td>\n",
       "      <td>N</td>\n",
       "      <td>Y</td>\n",
       "      <td>N</td>\n",
       "    </tr>\n",
       "    <tr>\n",
       "      <th>2</th>\n",
       "      <td>8087720818</td>\n",
       "      <td>8087720818</td>\n",
       "      <td>HUI</td>\n",
       "      <td>Y</td>\n",
       "      <td>LIANG</td>\n",
       "      <td>469 Ena Rd</td>\n",
       "      <td>Apt 2910</td>\n",
       "      <td>Honolulu</td>\n",
       "      <td>HI</td>\n",
       "      <td>96815</td>\n",
       "      <td>11</td>\n",
       "      <td>0</td>\n",
       "      <td>1961</td>\n",
       "      <td>59</td>\n",
       "      <td>T</td>\n",
       "      <td>O</td>\n",
       "      <td>B</td>\n",
       "      <td>U</td>\n",
       "      <td>U</td>\n",
       "      <td>H</td>\n",
       "      <td>N</td>\n",
       "      <td>N</td>\n",
       "      <td>N</td>\n",
       "      <td>Y</td>\n",
       "      <td>N</td>\n",
       "    </tr>\n",
       "    <tr>\n",
       "      <th>3</th>\n",
       "      <td>8087720818</td>\n",
       "      <td>8087720818</td>\n",
       "      <td>YAN</td>\n",
       "      <td>NaN</td>\n",
       "      <td>LIANG</td>\n",
       "      <td>469 Ena Rd</td>\n",
       "      <td>Apt 2910</td>\n",
       "      <td>Honolulu</td>\n",
       "      <td>HI</td>\n",
       "      <td>96815</td>\n",
       "      <td>0</td>\n",
       "      <td>0</td>\n",
       "      <td>1958</td>\n",
       "      <td>62</td>\n",
       "      <td>T</td>\n",
       "      <td>O</td>\n",
       "      <td>B</td>\n",
       "      <td>U</td>\n",
       "      <td>U</td>\n",
       "      <td>H</td>\n",
       "      <td>N</td>\n",
       "      <td>N</td>\n",
       "      <td>N</td>\n",
       "      <td>Y</td>\n",
       "      <td>N</td>\n",
       "    </tr>\n",
       "    <tr>\n",
       "      <th>4</th>\n",
       "      <td>8088391242</td>\n",
       "      <td>8088391242</td>\n",
       "      <td>ALFRED</td>\n",
       "      <td>NaN</td>\n",
       "      <td>BONGA</td>\n",
       "      <td>1544 Onipaa St</td>\n",
       "      <td>NaN</td>\n",
       "      <td>Honolulu</td>\n",
       "      <td>HI</td>\n",
       "      <td>96819</td>\n",
       "      <td>0</td>\n",
       "      <td>0</td>\n",
       "      <td>1943</td>\n",
       "      <td>77</td>\n",
       "      <td>F</td>\n",
       "      <td>A</td>\n",
       "      <td>A</td>\n",
       "      <td>U</td>\n",
       "      <td>U</td>\n",
       "      <td>H</td>\n",
       "      <td>N</td>\n",
       "      <td>Y</td>\n",
       "      <td>N</td>\n",
       "      <td>N</td>\n",
       "      <td>N</td>\n",
       "    </tr>\n",
       "  </tbody>\n",
       "</table>\n",
       "</div>"
      ],
      "text/plain": [
       "   Phone Cleaned  FullPhoneNumber personfirstname personmiddleinitial  \\\n",
       "0     8089224871       8089224871          SHARON                   K   \n",
       "1     8087801951       8087801951         MICHAEL                 NaN   \n",
       "2     8087720818       8087720818             HUI                   Y   \n",
       "3     8087720818       8087720818             YAN                 NaN   \n",
       "4     8088391242       8088391242          ALFRED                 NaN   \n",
       "\n",
       "  personlastname    primaryaddress secondaryaddress  cityname state  ZipCode  \\\n",
       "0          FARIS  2600 Pualani Way         Apt 2302  Honolulu    HI    96815   \n",
       "1            ELM   7305 Nuulolo St              NaN  Honolulu    HI    96825   \n",
       "2          LIANG        469 Ena Rd         Apt 2910  Honolulu    HI    96815   \n",
       "3          LIANG        469 Ena Rd         Apt 2910  Honolulu    HI    96815   \n",
       "4          BONGA    1544 Onipaa St              NaN  Honolulu    HI    96819   \n",
       "\n",
       "   persondateofbirthmonth  persondateofbirthday  persondateofbirthyear  \\\n",
       "0                      11                     2                   1943   \n",
       "1                       8                     0                   1978   \n",
       "2                      11                     0                   1961   \n",
       "3                       0                     0                   1958   \n",
       "4                       0                     0                   1943   \n",
       "\n",
       "   personexactage IsMobile estimatedincomecode CreditRating  \\\n",
       "0              77        F                   M            B   \n",
       "1              42        T                   S            C   \n",
       "2              59        T                   O            B   \n",
       "3              62        T                   O            B   \n",
       "4              77        F                   A            A   \n",
       "\n",
       "  NumberOfLinesOfCredit Credit_RangeOfNewCredit homeownerprobabilitymodel  \\\n",
       "0                     1                       U                         H   \n",
       "1                     2                       4                         H   \n",
       "2                     U                       U                         H   \n",
       "3                     U                       U                         H   \n",
       "4                     U                       U                         H   \n",
       "\n",
       "  Disconnected National DNC Internal DNC Cellphone Litigator  \n",
       "0            N            Y            N         N         N  \n",
       "1            N            N            N         Y         N  \n",
       "2            N            N            N         Y         N  \n",
       "3            N            N            N         Y         N  \n",
       "4            N            Y            N         N         N  "
      ]
     },
     "execution_count": 8,
     "metadata": {},
     "output_type": "execute_result"
    }
   ],
   "source": [
    "df_21.head()"
   ]
  },
  {
   "cell_type": "markdown",
   "id": "05e45d97",
   "metadata": {},
   "source": [
    "# checking data types of 2021 and 2018"
   ]
  },
  {
   "cell_type": "code",
   "execution_count": 3,
   "id": "923481c7",
   "metadata": {},
   "outputs": [
    {
     "data": {
      "text/plain": [
       "numpy.int64"
      ]
     },
     "execution_count": 3,
     "metadata": {},
     "output_type": "execute_result"
    }
   ],
   "source": [
    "type(df_21['FullPhoneNumber'][0])"
   ]
  },
  {
   "cell_type": "code",
   "execution_count": 8,
   "id": "dfde9ca2",
   "metadata": {},
   "outputs": [
    {
     "data": {
      "text/plain": [
       "7147264731    4\n",
       "9252068447    3\n",
       "6263387852    3\n",
       "7605860973    3\n",
       "9096087424    3\n",
       "             ..\n",
       "7146094298    1\n",
       "5309419257    1\n",
       "6194265632    1\n",
       "8059344591    1\n",
       "5597320628    1\n",
       "Name: FullPhoneNumber, Length: 430710, dtype: int64"
      ]
     },
     "execution_count": 8,
     "metadata": {},
     "output_type": "execute_result"
    }
   ],
   "source": [
    "df_18['FullPhoneNumber'].value_counts()"
   ]
  },
  {
   "cell_type": "code",
   "execution_count": 5,
   "id": "fe9df47a",
   "metadata": {},
   "outputs": [
    {
     "data": {
      "text/plain": [
       "118227"
      ]
     },
     "execution_count": 5,
     "metadata": {},
     "output_type": "execute_result"
    }
   ],
   "source": [
    "len(df_21['FullPhoneNumber'].unique())"
   ]
  },
  {
   "cell_type": "code",
   "execution_count": 6,
   "id": "cd393eb9",
   "metadata": {},
   "outputs": [
    {
     "data": {
      "text/plain": [
       "0         False\n",
       "1         False\n",
       "2         False\n",
       "3         False\n",
       "4         False\n",
       "          ...  \n",
       "185649    False\n",
       "185650    False\n",
       "185651    False\n",
       "185652    False\n",
       "185653    False\n",
       "Name: FullPhoneNumber, Length: 185654, dtype: bool"
      ]
     },
     "execution_count": 6,
     "metadata": {},
     "output_type": "execute_result"
    }
   ],
   "source": [
    "df_21['FullPhoneNumber'].isnull()"
   ]
  },
  {
   "cell_type": "code",
   "execution_count": 3,
   "id": "28bb87e2",
   "metadata": {},
   "outputs": [],
   "source": [
    "import pandas as pd"
   ]
  },
  {
   "cell_type": "code",
   "execution_count": 23,
   "id": "02544e58",
   "metadata": {},
   "outputs": [],
   "source": [
    "df2 = pd.read_csv('for_tune_rasa1.csv')"
   ]
  },
  {
   "cell_type": "code",
   "execution_count": 12,
   "id": "a87013a1",
   "metadata": {},
   "outputs": [
    {
     "data": {
      "text/html": [
       "<div>\n",
       "<style scoped>\n",
       "    .dataframe tbody tr th:only-of-type {\n",
       "        vertical-align: middle;\n",
       "    }\n",
       "\n",
       "    .dataframe tbody tr th {\n",
       "        vertical-align: top;\n",
       "    }\n",
       "\n",
       "    .dataframe thead th {\n",
       "        text-align: right;\n",
       "    }\n",
       "</style>\n",
       "<table border=\"1\" class=\"dataframe\">\n",
       "  <thead>\n",
       "    <tr style=\"text-align: right;\">\n",
       "      <th></th>\n",
       "      <th>keyword</th>\n",
       "      <th>intent</th>\n",
       "    </tr>\n",
       "  </thead>\n",
       "  <tbody>\n",
       "    <tr>\n",
       "      <th>0</th>\n",
       "      <td>who is this</td>\n",
       "      <td>name</td>\n",
       "    </tr>\n",
       "    <tr>\n",
       "      <th>1</th>\n",
       "      <td>a credit card</td>\n",
       "      <td>positive</td>\n",
       "    </tr>\n",
       "    <tr>\n",
       "      <th>2</th>\n",
       "      <td>a debt relief what are you talking about debt</td>\n",
       "      <td>about</td>\n",
       "    </tr>\n",
       "    <tr>\n",
       "      <th>3</th>\n",
       "      <td>a great day</td>\n",
       "      <td>positive</td>\n",
       "    </tr>\n",
       "    <tr>\n",
       "      <th>4</th>\n",
       "      <td>a hello</td>\n",
       "      <td>positive</td>\n",
       "    </tr>\n",
       "    <tr>\n",
       "      <th>...</th>\n",
       "      <td>...</td>\n",
       "      <td>...</td>\n",
       "    </tr>\n",
       "    <tr>\n",
       "      <th>89328</th>\n",
       "      <td>zero eight seven six five one three eight five...</td>\n",
       "      <td>negative</td>\n",
       "    </tr>\n",
       "    <tr>\n",
       "      <th>89329</th>\n",
       "      <td>zero eight seven two zero six seven is not</td>\n",
       "      <td>negative</td>\n",
       "    </tr>\n",
       "    <tr>\n",
       "      <th>89330</th>\n",
       "      <td>zero eight seven zero six is now</td>\n",
       "      <td>negative</td>\n",
       "    </tr>\n",
       "    <tr>\n",
       "      <th>89331</th>\n",
       "      <td>zero eight six five two five two is not</td>\n",
       "      <td>negative</td>\n",
       "    </tr>\n",
       "    <tr>\n",
       "      <th>89332</th>\n",
       "      <td>zero eight six four one four nine seven is number</td>\n",
       "      <td>negative</td>\n",
       "    </tr>\n",
       "  </tbody>\n",
       "</table>\n",
       "<p>89333 rows × 2 columns</p>\n",
       "</div>"
      ],
      "text/plain": [
       "                                                 keyword    intent\n",
       "0                                            who is this      name\n",
       "1                                          a credit card  positive\n",
       "2          a debt relief what are you talking about debt     about\n",
       "3                                            a great day  positive\n",
       "4                                                a hello  positive\n",
       "...                                                  ...       ...\n",
       "89328  zero eight seven six five one three eight five...  negative\n",
       "89329         zero eight seven two zero six seven is not  negative\n",
       "89330                   zero eight seven zero six is now  negative\n",
       "89331            zero eight six five two five two is not  negative\n",
       "89332  zero eight six four one four nine seven is number  negative\n",
       "\n",
       "[89333 rows x 2 columns]"
      ]
     },
     "execution_count": 12,
     "metadata": {},
     "output_type": "execute_result"
    }
   ],
   "source": [
    "df1"
   ]
  },
  {
   "cell_type": "code",
   "execution_count": 6,
   "id": "4b39bc72",
   "metadata": {},
   "outputs": [],
   "source": [
    "for i in range(len(df1['keyword'])):\n",
    "    string = df['keyword'][i]\n",
    "    test_list = string.split()\n",
    "    res = [i[0] for i in groupby(test_list)]\n",
    "    joined = ' '.join(res)\n",
    "    df1['keyword'][i] = joined"
   ]
  },
  {
   "cell_type": "code",
   "execution_count": 7,
   "id": "392b983b",
   "metadata": {},
   "outputs": [
    {
     "data": {
      "text/html": [
       "<div>\n",
       "<style scoped>\n",
       "    .dataframe tbody tr th:only-of-type {\n",
       "        vertical-align: middle;\n",
       "    }\n",
       "\n",
       "    .dataframe tbody tr th {\n",
       "        vertical-align: top;\n",
       "    }\n",
       "\n",
       "    .dataframe thead th {\n",
       "        text-align: right;\n",
       "    }\n",
       "</style>\n",
       "<table border=\"1\" class=\"dataframe\">\n",
       "  <thead>\n",
       "    <tr style=\"text-align: right;\">\n",
       "      <th></th>\n",
       "      <th>keyword</th>\n",
       "      <th>intent</th>\n",
       "    </tr>\n",
       "  </thead>\n",
       "  <tbody>\n",
       "    <tr>\n",
       "      <th>0</th>\n",
       "      <td>who is this</td>\n",
       "      <td>name</td>\n",
       "    </tr>\n",
       "    <tr>\n",
       "      <th>1</th>\n",
       "      <td>a brief message and ill get back to you as soo...</td>\n",
       "      <td>callback</td>\n",
       "    </tr>\n",
       "    <tr>\n",
       "      <th>2</th>\n",
       "      <td>a brief message i will get back to you as soon...</td>\n",
       "      <td>callback</td>\n",
       "    </tr>\n",
       "    <tr>\n",
       "      <th>3</th>\n",
       "      <td>a brief message please make sure that you spea...</td>\n",
       "      <td>negative</td>\n",
       "    </tr>\n",
       "    <tr>\n",
       "      <th>4</th>\n",
       "      <td>a credit card</td>\n",
       "      <td>positive</td>\n",
       "    </tr>\n",
       "    <tr>\n",
       "      <th>...</th>\n",
       "      <td>...</td>\n",
       "      <td>...</td>\n",
       "    </tr>\n",
       "    <tr>\n",
       "      <th>107011</th>\n",
       "      <td>zero eight six four is nine</td>\n",
       "      <td>negative</td>\n",
       "    </tr>\n",
       "    <tr>\n",
       "      <th>107012</th>\n",
       "      <td>zero eight six four one four nine seven is number</td>\n",
       "      <td>negative</td>\n",
       "    </tr>\n",
       "    <tr>\n",
       "      <th>107013</th>\n",
       "      <td>zero eight six if youd like to leave us a message</td>\n",
       "      <td>negative</td>\n",
       "    </tr>\n",
       "    <tr>\n",
       "      <th>107014</th>\n",
       "      <td>zero eight thirteen</td>\n",
       "      <td>negative</td>\n",
       "    </tr>\n",
       "    <tr>\n",
       "      <th>107015</th>\n",
       "      <td>zero eight three</td>\n",
       "      <td>negative</td>\n",
       "    </tr>\n",
       "  </tbody>\n",
       "</table>\n",
       "<p>107016 rows × 2 columns</p>\n",
       "</div>"
      ],
      "text/plain": [
       "                                                  keyword    intent\n",
       "0                                             who is this      name\n",
       "1       a brief message and ill get back to you as soo...  callback\n",
       "2       a brief message i will get back to you as soon...  callback\n",
       "3       a brief message please make sure that you spea...  negative\n",
       "4                                           a credit card  positive\n",
       "...                                                   ...       ...\n",
       "107011                        zero eight six four is nine  negative\n",
       "107012  zero eight six four one four nine seven is number  negative\n",
       "107013  zero eight six if youd like to leave us a message  negative\n",
       "107014                                zero eight thirteen  negative\n",
       "107015                                   zero eight three  negative\n",
       "\n",
       "[107016 rows x 2 columns]"
      ]
     },
     "execution_count": 7,
     "metadata": {},
     "output_type": "execute_result"
    }
   ],
   "source": [
    "df1"
   ]
  },
  {
   "cell_type": "code",
   "execution_count": 13,
   "id": "7d207857",
   "metadata": {},
   "outputs": [
    {
     "data": {
      "text/html": [
       "<div>\n",
       "<style scoped>\n",
       "    .dataframe tbody tr th:only-of-type {\n",
       "        vertical-align: middle;\n",
       "    }\n",
       "\n",
       "    .dataframe tbody tr th {\n",
       "        vertical-align: top;\n",
       "    }\n",
       "\n",
       "    .dataframe thead th {\n",
       "        text-align: right;\n",
       "    }\n",
       "</style>\n",
       "<table border=\"1\" class=\"dataframe\">\n",
       "  <thead>\n",
       "    <tr style=\"text-align: right;\">\n",
       "      <th></th>\n",
       "      <th>keyword</th>\n",
       "      <th>intent</th>\n",
       "    </tr>\n",
       "  </thead>\n",
       "  <tbody>\n",
       "    <tr>\n",
       "      <th>0</th>\n",
       "      <td>who is this</td>\n",
       "      <td>name</td>\n",
       "    </tr>\n",
       "    <tr>\n",
       "      <th>1</th>\n",
       "      <td>a credit card</td>\n",
       "      <td>positive</td>\n",
       "    </tr>\n",
       "    <tr>\n",
       "      <th>2</th>\n",
       "      <td>a debt relief what are you talking about debt</td>\n",
       "      <td>about</td>\n",
       "    </tr>\n",
       "    <tr>\n",
       "      <th>3</th>\n",
       "      <td>a great day</td>\n",
       "      <td>positive</td>\n",
       "    </tr>\n",
       "    <tr>\n",
       "      <th>4</th>\n",
       "      <td>a hello</td>\n",
       "      <td>positive</td>\n",
       "    </tr>\n",
       "    <tr>\n",
       "      <th>...</th>\n",
       "      <td>...</td>\n",
       "      <td>...</td>\n",
       "    </tr>\n",
       "    <tr>\n",
       "      <th>89328</th>\n",
       "      <td>zero eight seven six five one three eight five...</td>\n",
       "      <td>negative</td>\n",
       "    </tr>\n",
       "    <tr>\n",
       "      <th>89329</th>\n",
       "      <td>zero eight seven two zero six seven is not</td>\n",
       "      <td>negative</td>\n",
       "    </tr>\n",
       "    <tr>\n",
       "      <th>89330</th>\n",
       "      <td>zero eight seven zero six is now</td>\n",
       "      <td>negative</td>\n",
       "    </tr>\n",
       "    <tr>\n",
       "      <th>89331</th>\n",
       "      <td>zero eight six five two five two is not</td>\n",
       "      <td>negative</td>\n",
       "    </tr>\n",
       "    <tr>\n",
       "      <th>89332</th>\n",
       "      <td>zero eight six four one four nine seven is number</td>\n",
       "      <td>negative</td>\n",
       "    </tr>\n",
       "  </tbody>\n",
       "</table>\n",
       "<p>89333 rows × 2 columns</p>\n",
       "</div>"
      ],
      "text/plain": [
       "                                                 keyword    intent\n",
       "0                                            who is this      name\n",
       "1                                          a credit card  positive\n",
       "2          a debt relief what are you talking about debt     about\n",
       "3                                            a great day  positive\n",
       "4                                                a hello  positive\n",
       "...                                                  ...       ...\n",
       "89328  zero eight seven six five one three eight five...  negative\n",
       "89329         zero eight seven two zero six seven is not  negative\n",
       "89330                   zero eight seven zero six is now  negative\n",
       "89331            zero eight six five two five two is not  negative\n",
       "89332  zero eight six four one four nine seven is number  negative\n",
       "\n",
       "[89333 rows x 2 columns]"
      ]
     },
     "execution_count": 13,
     "metadata": {},
     "output_type": "execute_result"
    }
   ],
   "source": [
    "data1 = df1[~df1['keyword'].str.contains('after the bee| oo | o o | press | e o | e e |record your message|finished recording|voicemail|for more option|get back to you|thank you for calling|mailbox| o a|zero eight six cant take your call now|zero eight six eight|zero eight six eight is not available please leave a voice mail after the beep|e hello| o a |schedule an appointment|for quality assurance|a representative will|monitored and recorded|all of our customer service representatives|were not available now|able to take|able to answer|able to accept|able phone right now|able take call|able take your call|able take a call|able take the call|able answer to|were not available now|able to take|able to answer|able to accept|able phone right now|able take call|able take your call|able take a call|able take the call|able answer to|rerecord your|leave a message|may hang up|leaving a message|a voice message|voice mail box|mailbox|a text message |a short message|a private|a mail|please leave your name|operator mailbox|a message|brief message|detailed message|rerecord your|leave a message|may hang up|leaving a message|a voice message|voice mail box|mailbox|a text message |a short message|a private|a mail|please leave your name|operator mailbox|a message|brief message|detailed message|after the beep|AFTER the tone|AT the tone|after recording|after ring|press one|press star|press a key|press two|please dial|after the bee|o oe|e arat  an at a|were o e it a o he ha  he he|e hop e col a a i go|a a a a a data a a e|a os it|melikaliki make|all of our agents |all operators|all agents are| oo | e o |record your message|voice mail| e e |zero eight six five two two five two is not|zero eight six four is nine|zero eight six four one four nine seven seven is number|zero eight six if youd like to leave us a message|zero eight thirteen|zero eight three| t | i i |press |press zero|press one|press two|press three| o o | o a | oo |after the bee| press| e o |record your message|voice mail| e e | schedule an appointment|for quality assurance|a representative will|monitored and recorded|all of our customer service representatives|all of our agents |all operators|all agents are')]\n",
    "data1"
   ]
  },
  {
   "cell_type": "code",
   "execution_count": 20,
   "id": "b8c9356f",
   "metadata": {},
   "outputs": [
    {
     "data": {
      "text/html": [
       "<div>\n",
       "<style scoped>\n",
       "    .dataframe tbody tr th:only-of-type {\n",
       "        vertical-align: middle;\n",
       "    }\n",
       "\n",
       "    .dataframe tbody tr th {\n",
       "        vertical-align: top;\n",
       "    }\n",
       "\n",
       "    .dataframe thead th {\n",
       "        text-align: right;\n",
       "    }\n",
       "</style>\n",
       "<table border=\"1\" class=\"dataframe\">\n",
       "  <thead>\n",
       "    <tr style=\"text-align: right;\">\n",
       "      <th></th>\n",
       "      <th>keyword</th>\n",
       "      <th>intent</th>\n",
       "    </tr>\n",
       "  </thead>\n",
       "  <tbody>\n",
       "    <tr>\n",
       "      <th>0</th>\n",
       "      <td>who is this</td>\n",
       "      <td>name</td>\n",
       "    </tr>\n",
       "    <tr>\n",
       "      <th>1</th>\n",
       "      <td>a credit card</td>\n",
       "      <td>positive</td>\n",
       "    </tr>\n",
       "    <tr>\n",
       "      <th>2</th>\n",
       "      <td>a debt relief what are you talking about debt</td>\n",
       "      <td>about</td>\n",
       "    </tr>\n",
       "    <tr>\n",
       "      <th>3</th>\n",
       "      <td>a great day</td>\n",
       "      <td>positive</td>\n",
       "    </tr>\n",
       "    <tr>\n",
       "      <th>5</th>\n",
       "      <td>a j</td>\n",
       "      <td>IGNORE</td>\n",
       "    </tr>\n",
       "    <tr>\n",
       "      <th>...</th>\n",
       "      <td>...</td>\n",
       "      <td>...</td>\n",
       "    </tr>\n",
       "    <tr>\n",
       "      <th>89328</th>\n",
       "      <td>zero eight seven six five one three eight five...</td>\n",
       "      <td>negative</td>\n",
       "    </tr>\n",
       "    <tr>\n",
       "      <th>89329</th>\n",
       "      <td>zero eight seven two zero six seven is not</td>\n",
       "      <td>negative</td>\n",
       "    </tr>\n",
       "    <tr>\n",
       "      <th>89330</th>\n",
       "      <td>zero eight seven zero six is now</td>\n",
       "      <td>negative</td>\n",
       "    </tr>\n",
       "    <tr>\n",
       "      <th>89331</th>\n",
       "      <td>zero eight six five two five two is not</td>\n",
       "      <td>negative</td>\n",
       "    </tr>\n",
       "    <tr>\n",
       "      <th>89332</th>\n",
       "      <td>zero eight six four one four nine seven is number</td>\n",
       "      <td>negative</td>\n",
       "    </tr>\n",
       "  </tbody>\n",
       "</table>\n",
       "<p>86228 rows × 2 columns</p>\n",
       "</div>"
      ],
      "text/plain": [
       "                                                 keyword    intent\n",
       "0                                            who is this      name\n",
       "1                                          a credit card  positive\n",
       "2          a debt relief what are you talking about debt     about\n",
       "3                                            a great day  positive\n",
       "5                                                    a j    IGNORE\n",
       "...                                                  ...       ...\n",
       "89328  zero eight seven six five one three eight five...  negative\n",
       "89329         zero eight seven two zero six seven is not  negative\n",
       "89330                   zero eight seven zero six is now  negative\n",
       "89331            zero eight six five two five two is not  negative\n",
       "89332  zero eight six four one four nine seven is number  negative\n",
       "\n",
       "[86228 rows x 2 columns]"
      ]
     },
     "execution_count": 20,
     "metadata": {},
     "output_type": "execute_result"
    }
   ],
   "source": [
    "new_data = df1[~df1['keyword'].str.contains('automatic voice message| a s l|a c | o o | o a | oo |be on e book|r o to like the canidarcicardoplet no so because i dont even own a critic calf|we have sol|o otis himselfommhm|hullo pp ll soon her|tax  intra marshal o|o er|an ho i|te a  o  e|myxo|eye e i   o one|a e a|a oe o|i  i of|tflargo one|heheeehaea  h he|o e am er|to was e me anon o i|memerypor|you rigor|aputaport|o o  wa|a a  e e|oh law olga|it co be|o e are|like ta de e|a e an at tat at em e en e an an an a ana aaaaa|r you from up alabama where you from am|he te|ammonia and into e|al mo|aaaaa a a an a aanaaaaaaa aaaaa aaaaa aaaaaaa|o o  to|ookaod|youame|i  i cannot ta i talk about anyciseo i|i it a a i|at he the  he|a  a|m bolivia no|in cooee|and a  mo|e o o|o m|im tu| no may|head      e|te face|o  o  he|co he at due for a ta|oh el|o o speak|o you give oo|what is it al|i  of|wa her|a he|i le to or|a e a  on    a he the|who s i|d to want er|he     e a|e  a  o e|yea allah|pe e|e a a e|e  e te a|a te| e to |e   o the|e   oh o he|eaatae o o|a de ye dan at|an e ad is a can i|o de ye do da|be a c|o ole|oo   o|mennuten efalifo makaham te done|ossea|oo   o he|ape i|a o|oo  oeoethe|a    a|o  o of|to o e| si | i a | d |melikaliki make|git te pas')]\n",
    "new_data"
   ]
  },
  {
   "cell_type": "code",
   "execution_count": 21,
   "id": "4009834a",
   "metadata": {},
   "outputs": [],
   "source": [
    "new_data.to_csv('for_tune_rasa2.csv')"
   ]
  },
  {
   "cell_type": "code",
   "execution_count": 17,
   "id": "a74c8480",
   "metadata": {},
   "outputs": [
    {
     "data": {
      "text/html": [
       "<div>\n",
       "<style scoped>\n",
       "    .dataframe tbody tr th:only-of-type {\n",
       "        vertical-align: middle;\n",
       "    }\n",
       "\n",
       "    .dataframe tbody tr th {\n",
       "        vertical-align: top;\n",
       "    }\n",
       "\n",
       "    .dataframe thead th {\n",
       "        text-align: right;\n",
       "    }\n",
       "</style>\n",
       "<table border=\"1\" class=\"dataframe\">\n",
       "  <thead>\n",
       "    <tr style=\"text-align: right;\">\n",
       "      <th></th>\n",
       "      <th>keyword</th>\n",
       "      <th>intent</th>\n",
       "    </tr>\n",
       "  </thead>\n",
       "  <tbody>\n",
       "  </tbody>\n",
       "</table>\n",
       "</div>"
      ],
      "text/plain": [
       "Empty DataFrame\n",
       "Columns: [keyword, intent]\n",
       "Index: []"
      ]
     },
     "execution_count": 17,
     "metadata": {},
     "output_type": "execute_result"
    }
   ],
   "source": [
    "data1"
   ]
  },
  {
   "cell_type": "code",
   "execution_count": 18,
   "id": "c4d779d7",
   "metadata": {},
   "outputs": [
    {
     "data": {
      "text/html": [
       "<div>\n",
       "<style scoped>\n",
       "    .dataframe tbody tr th:only-of-type {\n",
       "        vertical-align: middle;\n",
       "    }\n",
       "\n",
       "    .dataframe tbody tr th {\n",
       "        vertical-align: top;\n",
       "    }\n",
       "\n",
       "    .dataframe thead th {\n",
       "        text-align: right;\n",
       "    }\n",
       "</style>\n",
       "<table border=\"1\" class=\"dataframe\">\n",
       "  <thead>\n",
       "    <tr style=\"text-align: right;\">\n",
       "      <th></th>\n",
       "      <th>keyword</th>\n",
       "      <th>intent</th>\n",
       "    </tr>\n",
       "  </thead>\n",
       "  <tbody>\n",
       "    <tr>\n",
       "      <th>0</th>\n",
       "      <td>who is this</td>\n",
       "      <td>name</td>\n",
       "    </tr>\n",
       "    <tr>\n",
       "      <th>1</th>\n",
       "      <td>a credit card</td>\n",
       "      <td>positive</td>\n",
       "    </tr>\n",
       "    <tr>\n",
       "      <th>2</th>\n",
       "      <td>a debt relief what are you talking about debt</td>\n",
       "      <td>about</td>\n",
       "    </tr>\n",
       "    <tr>\n",
       "      <th>3</th>\n",
       "      <td>a great day</td>\n",
       "      <td>positive</td>\n",
       "    </tr>\n",
       "    <tr>\n",
       "      <th>4</th>\n",
       "      <td>a hello</td>\n",
       "      <td>positive</td>\n",
       "    </tr>\n",
       "    <tr>\n",
       "      <th>...</th>\n",
       "      <td>...</td>\n",
       "      <td>...</td>\n",
       "    </tr>\n",
       "    <tr>\n",
       "      <th>89328</th>\n",
       "      <td>zero eight seven six five one three eight five...</td>\n",
       "      <td>negative</td>\n",
       "    </tr>\n",
       "    <tr>\n",
       "      <th>89329</th>\n",
       "      <td>zero eight seven two zero six seven is not</td>\n",
       "      <td>negative</td>\n",
       "    </tr>\n",
       "    <tr>\n",
       "      <th>89330</th>\n",
       "      <td>zero eight seven zero six is now</td>\n",
       "      <td>negative</td>\n",
       "    </tr>\n",
       "    <tr>\n",
       "      <th>89331</th>\n",
       "      <td>zero eight six five two five two is not</td>\n",
       "      <td>negative</td>\n",
       "    </tr>\n",
       "    <tr>\n",
       "      <th>89332</th>\n",
       "      <td>zero eight six four one four nine seven is number</td>\n",
       "      <td>negative</td>\n",
       "    </tr>\n",
       "  </tbody>\n",
       "</table>\n",
       "<p>89333 rows × 2 columns</p>\n",
       "</div>"
      ],
      "text/plain": [
       "                                                 keyword    intent\n",
       "0                                            who is this      name\n",
       "1                                          a credit card  positive\n",
       "2          a debt relief what are you talking about debt     about\n",
       "3                                            a great day  positive\n",
       "4                                                a hello  positive\n",
       "...                                                  ...       ...\n",
       "89328  zero eight seven six five one three eight five...  negative\n",
       "89329         zero eight seven two zero six seven is not  negative\n",
       "89330                   zero eight seven zero six is now  negative\n",
       "89331            zero eight six five two five two is not  negative\n",
       "89332  zero eight six four one four nine seven is number  negative\n",
       "\n",
       "[89333 rows x 2 columns]"
      ]
     },
     "execution_count": 18,
     "metadata": {},
     "output_type": "execute_result"
    }
   ],
   "source": [
    "df1"
   ]
  },
  {
   "cell_type": "code",
   "execution_count": 22,
   "id": "8fd7a817",
   "metadata": {},
   "outputs": [
    {
     "data": {
      "text/html": [
       "<div>\n",
       "<style scoped>\n",
       "    .dataframe tbody tr th:only-of-type {\n",
       "        vertical-align: middle;\n",
       "    }\n",
       "\n",
       "    .dataframe tbody tr th {\n",
       "        vertical-align: top;\n",
       "    }\n",
       "\n",
       "    .dataframe thead th {\n",
       "        text-align: right;\n",
       "    }\n",
       "</style>\n",
       "<table border=\"1\" class=\"dataframe\">\n",
       "  <thead>\n",
       "    <tr style=\"text-align: right;\">\n",
       "      <th></th>\n",
       "      <th>keyword</th>\n",
       "      <th>intent</th>\n",
       "    </tr>\n",
       "  </thead>\n",
       "  <tbody>\n",
       "    <tr>\n",
       "      <th>0</th>\n",
       "      <td>who is this</td>\n",
       "      <td>name</td>\n",
       "    </tr>\n",
       "    <tr>\n",
       "      <th>1</th>\n",
       "      <td>a credit card</td>\n",
       "      <td>positive</td>\n",
       "    </tr>\n",
       "    <tr>\n",
       "      <th>2</th>\n",
       "      <td>a debt relief what are you talking about debt</td>\n",
       "      <td>about</td>\n",
       "    </tr>\n",
       "    <tr>\n",
       "      <th>3</th>\n",
       "      <td>a great day</td>\n",
       "      <td>positive</td>\n",
       "    </tr>\n",
       "    <tr>\n",
       "      <th>5</th>\n",
       "      <td>a j</td>\n",
       "      <td>IGNORE</td>\n",
       "    </tr>\n",
       "    <tr>\n",
       "      <th>...</th>\n",
       "      <td>...</td>\n",
       "      <td>...</td>\n",
       "    </tr>\n",
       "    <tr>\n",
       "      <th>89328</th>\n",
       "      <td>zero eight seven six five one three eight five...</td>\n",
       "      <td>negative</td>\n",
       "    </tr>\n",
       "    <tr>\n",
       "      <th>89329</th>\n",
       "      <td>zero eight seven two zero six seven is not</td>\n",
       "      <td>negative</td>\n",
       "    </tr>\n",
       "    <tr>\n",
       "      <th>89330</th>\n",
       "      <td>zero eight seven zero six is now</td>\n",
       "      <td>negative</td>\n",
       "    </tr>\n",
       "    <tr>\n",
       "      <th>89331</th>\n",
       "      <td>zero eight six five two five two is not</td>\n",
       "      <td>negative</td>\n",
       "    </tr>\n",
       "    <tr>\n",
       "      <th>89332</th>\n",
       "      <td>zero eight six four one four nine seven is number</td>\n",
       "      <td>negative</td>\n",
       "    </tr>\n",
       "  </tbody>\n",
       "</table>\n",
       "<p>85879 rows × 2 columns</p>\n",
       "</div>"
      ],
      "text/plain": [
       "                                                 keyword    intent\n",
       "0                                            who is this      name\n",
       "1                                          a credit card  positive\n",
       "2          a debt relief what are you talking about debt     about\n",
       "3                                            a great day  positive\n",
       "5                                                    a j    IGNORE\n",
       "...                                                  ...       ...\n",
       "89328  zero eight seven six five one three eight five...  negative\n",
       "89329         zero eight seven two zero six seven is not  negative\n",
       "89330                   zero eight seven zero six is now  negative\n",
       "89331            zero eight six five two five two is not  negative\n",
       "89332  zero eight six four one four nine seven is number  negative\n",
       "\n",
       "[85879 rows x 2 columns]"
      ]
     },
     "execution_count": 22,
     "metadata": {},
     "output_type": "execute_result"
    }
   ],
   "source": [
    "new_data2 = df1[~df1['keyword'].str.contains('after the|automatic voice message| a s l|a c | o o | o a | oo |be on e book|r o to like the canidarcicardoplet no so because i dont even own a critic calf|we have sol|o otis himselfommhm|hullo pp ll soon her|tax  intra marshal o|o er|an ho i|te a  o  e|myxo|eye e i   o one|a e a|a oe o|i  i of|tflargo one|heheeehaea  h he|o e am er|to was e me anon o i|memerypor|you rigor|aputaport|o o  wa|a a  e e|oh law olga|it co be|o e are|like ta de e|a e an at tat at em e en e an an an a ana aaaaa|r you from up alabama where you from am|he te|ammonia and into e|al mo|aaaaa a a an a aanaaaaaaa aaaaa aaaaa aaaaaaa|o o  to|ookaod|youame|i  i cannot ta i talk about anyciseo i|i it a a i|at he the  he|a  a|m bolivia no|in cooee|and a  mo|e o o|o m|im tu| no may|head      e|te face|o  o  he|co he at due for a ta|oh el|o o speak|o you give oo|what is it al|i  of|wa her|a he|i le to or|a e a  on    a he the|who s i|d to want er|he     e a|e  a  o e|yea allah|pe e|e a a e|e  e te a|a te| e to |e   o the|e   oh o he|eaatae o o|a de ye dan at|an e ad is a can i|o de ye do da|be a c|o ole|oo   o|mennuten efalifo makaham te done|ossea|oo   o he|ape i|a o|oo  oeoethe|a    a|o  o of|to o e| si | i a | d |melikaliki make|git te pas')]\n",
    "new_data2"
   ]
  },
  {
   "cell_type": "code",
   "execution_count": 25,
   "id": "01620d66",
   "metadata": {},
   "outputs": [],
   "source": [
    "df3 = pd.read_csv('for_tune_rasa2.csv')"
   ]
  },
  {
   "cell_type": "code",
   "execution_count": 26,
   "id": "c6fddde1",
   "metadata": {},
   "outputs": [
    {
     "data": {
      "text/html": [
       "<div>\n",
       "<style scoped>\n",
       "    .dataframe tbody tr th:only-of-type {\n",
       "        vertical-align: middle;\n",
       "    }\n",
       "\n",
       "    .dataframe tbody tr th {\n",
       "        vertical-align: top;\n",
       "    }\n",
       "\n",
       "    .dataframe thead th {\n",
       "        text-align: right;\n",
       "    }\n",
       "</style>\n",
       "<table border=\"1\" class=\"dataframe\">\n",
       "  <thead>\n",
       "    <tr style=\"text-align: right;\">\n",
       "      <th></th>\n",
       "      <th>keyword</th>\n",
       "      <th>intent</th>\n",
       "    </tr>\n",
       "  </thead>\n",
       "  <tbody>\n",
       "    <tr>\n",
       "      <th>0</th>\n",
       "      <td>who is this</td>\n",
       "      <td>name</td>\n",
       "    </tr>\n",
       "    <tr>\n",
       "      <th>1</th>\n",
       "      <td>a credit card</td>\n",
       "      <td>positive</td>\n",
       "    </tr>\n",
       "    <tr>\n",
       "      <th>2</th>\n",
       "      <td>a debt relief what are you talking about debt</td>\n",
       "      <td>about</td>\n",
       "    </tr>\n",
       "    <tr>\n",
       "      <th>3</th>\n",
       "      <td>a great day</td>\n",
       "      <td>positive</td>\n",
       "    </tr>\n",
       "    <tr>\n",
       "      <th>4</th>\n",
       "      <td>a little moment in</td>\n",
       "      <td>negative</td>\n",
       "    </tr>\n",
       "    <tr>\n",
       "      <th>...</th>\n",
       "      <td>...</td>\n",
       "      <td>...</td>\n",
       "    </tr>\n",
       "    <tr>\n",
       "      <th>27959</th>\n",
       "      <td>hello i had a another a uv</td>\n",
       "      <td>IGNORE</td>\n",
       "    </tr>\n",
       "    <tr>\n",
       "      <th>27960</th>\n",
       "      <td>hello i hand transfer are you</td>\n",
       "      <td>IGNORE</td>\n",
       "    </tr>\n",
       "    <tr>\n",
       "      <th>27961</th>\n",
       "      <td>hello i have</td>\n",
       "      <td>IGNORE</td>\n",
       "    </tr>\n",
       "    <tr>\n",
       "      <th>27962</th>\n",
       "      <td>hello i have a credit card</td>\n",
       "      <td>info</td>\n",
       "    </tr>\n",
       "    <tr>\n",
       "      <th>27963</th>\n",
       "      <td>hello i have a credit card debt before i can t...</td>\n",
       "      <td>IGNORE</td>\n",
       "    </tr>\n",
       "  </tbody>\n",
       "</table>\n",
       "<p>27964 rows × 2 columns</p>\n",
       "</div>"
      ],
      "text/plain": [
       "                                                 keyword    intent\n",
       "0                                            who is this      name\n",
       "1                                          a credit card  positive\n",
       "2          a debt relief what are you talking about debt     about\n",
       "3                                            a great day  positive\n",
       "4                                     a little moment in  negative\n",
       "...                                                  ...       ...\n",
       "27959                         hello i had a another a uv    IGNORE\n",
       "27960                      hello i hand transfer are you    IGNORE\n",
       "27961                                       hello i have    IGNORE\n",
       "27962                         hello i have a credit card      info\n",
       "27963  hello i have a credit card debt before i can t...    IGNORE\n",
       "\n",
       "[27964 rows x 2 columns]"
      ]
     },
     "execution_count": 26,
     "metadata": {},
     "output_type": "execute_result"
    }
   ],
   "source": [
    "df3"
   ]
  },
  {
   "cell_type": "code",
   "execution_count": null,
   "id": "18664446",
   "metadata": {},
   "outputs": [],
   "source": []
  }
 ],
 "metadata": {
  "kernelspec": {
   "display_name": "Python 3",
   "language": "python",
   "name": "python3"
  },
  "language_info": {
   "codemirror_mode": {
    "name": "ipython",
    "version": 3
   },
   "file_extension": ".py",
   "mimetype": "text/x-python",
   "name": "python",
   "nbconvert_exporter": "python",
   "pygments_lexer": "ipython3",
   "version": "3.8.8"
  }
 },
 "nbformat": 4,
 "nbformat_minor": 5
}
