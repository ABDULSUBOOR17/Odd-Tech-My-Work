{
 "cells": [
  {
   "cell_type": "code",
   "execution_count": 156,
   "id": "dc4a16e3",
   "metadata": {},
   "outputs": [],
   "source": [
    "import numpy as np\n",
    "import pandas as pd"
   ]
  },
  {
   "cell_type": "code",
   "execution_count": 157,
   "id": "df8285e6",
   "metadata": {},
   "outputs": [],
   "source": [
    "df = pd.read_csv(\"data_for_ai_bot_master_1.csv\")"
   ]
  },
  {
   "cell_type": "code",
   "execution_count": 158,
   "id": "136aaa3e",
   "metadata": {
    "scrolled": true
   },
   "outputs": [
    {
     "data": {
      "text/html": [
       "<div>\n",
       "<style scoped>\n",
       "    .dataframe tbody tr th:only-of-type {\n",
       "        vertical-align: middle;\n",
       "    }\n",
       "\n",
       "    .dataframe tbody tr th {\n",
       "        vertical-align: top;\n",
       "    }\n",
       "\n",
       "    .dataframe thead th {\n",
       "        text-align: right;\n",
       "    }\n",
       "</style>\n",
       "<table border=\"1\" class=\"dataframe\">\n",
       "  <thead>\n",
       "    <tr style=\"text-align: right;\">\n",
       "      <th></th>\n",
       "      <th>Bot Transcription</th>\n",
       "      <th>Recording URL</th>\n",
       "    </tr>\n",
       "  </thead>\n",
       "  <tbody>\n",
       "    <tr>\n",
       "      <th>0</th>\n",
       "      <td>the told never to do the cord</td>\n",
       "      <td>http://192.168.88.254/transcription_wav/transc...</td>\n",
       "    </tr>\n",
       "    <tr>\n",
       "      <th>1</th>\n",
       "      <td>dan e ou fucking computer up you just cant und...</td>\n",
       "      <td>http://192.168.88.254/transcription_wav/transc...</td>\n",
       "    </tr>\n",
       "    <tr>\n",
       "      <th>2</th>\n",
       "      <td>i got a million dollars a day</td>\n",
       "      <td>http://192.168.88.254/transcription_wav/transc...</td>\n",
       "    </tr>\n",
       "    <tr>\n",
       "      <th>3</th>\n",
       "      <td>okay gay</td>\n",
       "      <td>http://192.168.88.254/transcription_wav/transc...</td>\n",
       "    </tr>\n",
       "    <tr>\n",
       "      <th>4</th>\n",
       "      <td>okay the first name is you my latin has got a ...</td>\n",
       "      <td>http://192.168.88.254/transcription_wav/transc...</td>\n",
       "    </tr>\n",
       "    <tr>\n",
       "      <th>5</th>\n",
       "      <td>yes k i is m y a ff</td>\n",
       "      <td>http://192.168.88.254/transcription_wav/transc...</td>\n",
       "    </tr>\n",
       "    <tr>\n",
       "      <th>6</th>\n",
       "      <td>go head</td>\n",
       "      <td>http://192.168.88.254/transcription_wav/transc...</td>\n",
       "    </tr>\n",
       "    <tr>\n",
       "      <th>7</th>\n",
       "      <td>oh about three billion dollars bout thee billion</td>\n",
       "      <td>http://192.168.88.254/transcription_wav/transc...</td>\n",
       "    </tr>\n",
       "    <tr>\n",
       "      <th>8</th>\n",
       "      <td>of the again</td>\n",
       "      <td>http://192.168.88.254/transcription_wav/transc...</td>\n",
       "    </tr>\n",
       "    <tr>\n",
       "      <th>9</th>\n",
       "      <td>thousand credit cards gave</td>\n",
       "      <td>http://192.168.88.254/transcription_wav/transc...</td>\n",
       "    </tr>\n",
       "  </tbody>\n",
       "</table>\n",
       "</div>"
      ],
      "text/plain": [
       "                                   Bot Transcription  \\\n",
       "0                      the told never to do the cord   \n",
       "1  dan e ou fucking computer up you just cant und...   \n",
       "2                      i got a million dollars a day   \n",
       "3                                           okay gay   \n",
       "4  okay the first name is you my latin has got a ...   \n",
       "5                                yes k i is m y a ff   \n",
       "6                                            go head   \n",
       "7   oh about three billion dollars bout thee billion   \n",
       "8                                       of the again   \n",
       "9                         thousand credit cards gave   \n",
       "\n",
       "                                       Recording URL  \n",
       "0  http://192.168.88.254/transcription_wav/transc...  \n",
       "1  http://192.168.88.254/transcription_wav/transc...  \n",
       "2  http://192.168.88.254/transcription_wav/transc...  \n",
       "3  http://192.168.88.254/transcription_wav/transc...  \n",
       "4  http://192.168.88.254/transcription_wav/transc...  \n",
       "5  http://192.168.88.254/transcription_wav/transc...  \n",
       "6  http://192.168.88.254/transcription_wav/transc...  \n",
       "7  http://192.168.88.254/transcription_wav/transc...  \n",
       "8  http://192.168.88.254/transcription_wav/transc...  \n",
       "9  http://192.168.88.254/transcription_wav/transc...  "
      ]
     },
     "execution_count": 158,
     "metadata": {},
     "output_type": "execute_result"
    }
   ],
   "source": [
    "df.head(10)"
   ]
  },
  {
   "cell_type": "code",
   "execution_count": 159,
   "id": "b7108d80",
   "metadata": {},
   "outputs": [
    {
     "data": {
      "text/plain": [
       "0                        the told never to do the cord\n",
       "1    dan e ou fucking computer up you just cant und...\n",
       "2                        i got a million dollars a day\n",
       "3                                             okay gay\n",
       "4    okay the first name is you my latin has got a ...\n",
       "5                                  yes k i is m y a ff\n",
       "6                                              go head\n",
       "7     oh about three billion dollars bout thee billion\n",
       "8                                         of the again\n",
       "9                           thousand credit cards gave\n",
       "Name: Bot Transcription, dtype: object"
      ]
     },
     "execution_count": 159,
     "metadata": {},
     "output_type": "execute_result"
    }
   ],
   "source": [
    "df[\"Bot Transcription\"].head(10)"
   ]
  },
  {
   "cell_type": "markdown",
   "id": "86bf4be5",
   "metadata": {},
   "source": [
    "# removing duplicate`"
   ]
  },
  {
   "cell_type": "code",
   "execution_count": 160,
   "id": "7ce872cd",
   "metadata": {},
   "outputs": [
    {
     "data": {
      "text/plain": [
       "False    3445\n",
       "True       35\n",
       "dtype: int64"
      ]
     },
     "execution_count": 160,
     "metadata": {},
     "output_type": "execute_result"
    }
   ],
   "source": [
    "df.duplicated([\"Bot Transcription\"]).value_counts()"
   ]
  },
  {
   "cell_type": "code",
   "execution_count": 161,
   "id": "45f41e1e",
   "metadata": {},
   "outputs": [],
   "source": [
    "dup = df[\"Bot Transcription\"].value_counts()"
   ]
  },
  {
   "cell_type": "code",
   "execution_count": 162,
   "id": "37b33ee6",
   "metadata": {},
   "outputs": [
    {
     "data": {
      "text/plain": [
       "a             6\n",
       "e             4\n",
       "o             3\n",
       "ta            2\n",
       "i  o          2\n",
       "mahan ha a    2\n",
       "thus          2\n",
       "y             2\n",
       "li            2\n",
       "oo o          2\n",
       "to e          2\n",
       "the           2\n",
       "ho            2\n",
       "o o  a        2\n",
       "o o o         2\n",
       "you have      2\n",
       "of            2\n",
       "er            2\n",
       "o e           2\n",
       "a a           2\n",
       "oo            2\n",
       "o he          2\n",
       "o a           2\n",
       "do            2\n",
       "he            2\n",
       "with          2\n",
       "had           2\n",
       "you           2\n",
       "Name: Bot Transcription, dtype: int64"
      ]
     },
     "execution_count": 162,
     "metadata": {},
     "output_type": "execute_result"
    }
   ],
   "source": [
    "dup[dup>1]"
   ]
  },
  {
   "cell_type": "code",
   "execution_count": 163,
   "id": "3123ad8c",
   "metadata": {},
   "outputs": [],
   "source": [
    "df.drop_duplicates(subset =\"Bot Transcription\",\n",
    "                  inplace = True)"
   ]
  },
  {
   "cell_type": "code",
   "execution_count": 164,
   "id": "73ad8973",
   "metadata": {},
   "outputs": [
    {
     "data": {
      "text/plain": [
       "False    3445\n",
       "dtype: int64"
      ]
     },
     "execution_count": 164,
     "metadata": {},
     "output_type": "execute_result"
    }
   ],
   "source": [
    "df.duplicated([\"Bot Transcription\"]).value_counts()"
   ]
  },
  {
   "cell_type": "code",
   "execution_count": 165,
   "id": "408df8a4",
   "metadata": {},
   "outputs": [
    {
     "data": {
      "text/plain": [
       "3417"
      ]
     },
     "execution_count": 165,
     "metadata": {},
     "output_type": "execute_result"
    }
   ],
   "source": [
    "3445 -28"
   ]
  },
  {
   "cell_type": "code",
   "execution_count": 166,
   "id": "07e963d0",
   "metadata": {},
   "outputs": [],
   "source": [
    "df_new = df.copy()"
   ]
  },
  {
   "cell_type": "code",
   "execution_count": 167,
   "id": "49a18e1d",
   "metadata": {},
   "outputs": [
    {
     "data": {
      "text/html": [
       "<div>\n",
       "<style scoped>\n",
       "    .dataframe tbody tr th:only-of-type {\n",
       "        vertical-align: middle;\n",
       "    }\n",
       "\n",
       "    .dataframe tbody tr th {\n",
       "        vertical-align: top;\n",
       "    }\n",
       "\n",
       "    .dataframe thead th {\n",
       "        text-align: right;\n",
       "    }\n",
       "</style>\n",
       "<table border=\"1\" class=\"dataframe\">\n",
       "  <thead>\n",
       "    <tr style=\"text-align: right;\">\n",
       "      <th></th>\n",
       "      <th>Bot Transcription</th>\n",
       "      <th>Recording URL</th>\n",
       "    </tr>\n",
       "  </thead>\n",
       "  <tbody>\n",
       "    <tr>\n",
       "      <th>0</th>\n",
       "      <td>the told never to do the cord</td>\n",
       "      <td>http://192.168.88.254/transcription_wav/transc...</td>\n",
       "    </tr>\n",
       "    <tr>\n",
       "      <th>1</th>\n",
       "      <td>dan e ou fucking computer up you just cant und...</td>\n",
       "      <td>http://192.168.88.254/transcription_wav/transc...</td>\n",
       "    </tr>\n",
       "    <tr>\n",
       "      <th>2</th>\n",
       "      <td>i got a million dollars a day</td>\n",
       "      <td>http://192.168.88.254/transcription_wav/transc...</td>\n",
       "    </tr>\n",
       "    <tr>\n",
       "      <th>3</th>\n",
       "      <td>okay gay</td>\n",
       "      <td>http://192.168.88.254/transcription_wav/transc...</td>\n",
       "    </tr>\n",
       "    <tr>\n",
       "      <th>4</th>\n",
       "      <td>okay the first name is you my latin has got a ...</td>\n",
       "      <td>http://192.168.88.254/transcription_wav/transc...</td>\n",
       "    </tr>\n",
       "    <tr>\n",
       "      <th>...</th>\n",
       "      <td>...</td>\n",
       "      <td>...</td>\n",
       "    </tr>\n",
       "    <tr>\n",
       "      <th>3475</th>\n",
       "      <td>to are you there still</td>\n",
       "      <td>http://192.168.88.254/transcription_wav/transc...</td>\n",
       "    </tr>\n",
       "    <tr>\n",
       "      <th>3476</th>\n",
       "      <td>i do but i dont have any debt im eighty seven ...</td>\n",
       "      <td>http://192.168.88.254/transcription_wav/transc...</td>\n",
       "    </tr>\n",
       "    <tr>\n",
       "      <th>3477</th>\n",
       "      <td>yeah what can of did for you</td>\n",
       "      <td>http://192.168.88.254/transcription_wav/transc...</td>\n",
       "    </tr>\n",
       "    <tr>\n",
       "      <th>3478</th>\n",
       "      <td>youd better believe it tell me all about it james</td>\n",
       "      <td>http://192.168.88.254/transcription_wav/transc...</td>\n",
       "    </tr>\n",
       "    <tr>\n",
       "      <th>3479</th>\n",
       "      <td>tell me tell me about it tell me about it</td>\n",
       "      <td>http://192.168.88.254/transcription_wav/transc...</td>\n",
       "    </tr>\n",
       "  </tbody>\n",
       "</table>\n",
       "<p>3445 rows × 2 columns</p>\n",
       "</div>"
      ],
      "text/plain": [
       "                                      Bot Transcription  \\\n",
       "0                         the told never to do the cord   \n",
       "1     dan e ou fucking computer up you just cant und...   \n",
       "2                         i got a million dollars a day   \n",
       "3                                              okay gay   \n",
       "4     okay the first name is you my latin has got a ...   \n",
       "...                                                 ...   \n",
       "3475                             to are you there still   \n",
       "3476  i do but i dont have any debt im eighty seven ...   \n",
       "3477                       yeah what can of did for you   \n",
       "3478  youd better believe it tell me all about it james   \n",
       "3479          tell me tell me about it tell me about it   \n",
       "\n",
       "                                          Recording URL  \n",
       "0     http://192.168.88.254/transcription_wav/transc...  \n",
       "1     http://192.168.88.254/transcription_wav/transc...  \n",
       "2     http://192.168.88.254/transcription_wav/transc...  \n",
       "3     http://192.168.88.254/transcription_wav/transc...  \n",
       "4     http://192.168.88.254/transcription_wav/transc...  \n",
       "...                                                 ...  \n",
       "3475  http://192.168.88.254/transcription_wav/transc...  \n",
       "3476  http://192.168.88.254/transcription_wav/transc...  \n",
       "3477  http://192.168.88.254/transcription_wav/transc...  \n",
       "3478  http://192.168.88.254/transcription_wav/transc...  \n",
       "3479  http://192.168.88.254/transcription_wav/transc...  \n",
       "\n",
       "[3445 rows x 2 columns]"
      ]
     },
     "execution_count": 167,
     "metadata": {},
     "output_type": "execute_result"
    }
   ],
   "source": [
    "df_new"
   ]
  },
  {
   "cell_type": "code",
   "execution_count": 168,
   "id": "80bf02d9",
   "metadata": {},
   "outputs": [
    {
     "data": {
      "text/html": [
       "<div>\n",
       "<style scoped>\n",
       "    .dataframe tbody tr th:only-of-type {\n",
       "        vertical-align: middle;\n",
       "    }\n",
       "\n",
       "    .dataframe tbody tr th {\n",
       "        vertical-align: top;\n",
       "    }\n",
       "\n",
       "    .dataframe thead th {\n",
       "        text-align: right;\n",
       "    }\n",
       "</style>\n",
       "<table border=\"1\" class=\"dataframe\">\n",
       "  <thead>\n",
       "    <tr style=\"text-align: right;\">\n",
       "      <th></th>\n",
       "      <th>Bot Transcription</th>\n",
       "      <th>Recording URL</th>\n",
       "    </tr>\n",
       "  </thead>\n",
       "  <tbody>\n",
       "    <tr>\n",
       "      <th>0</th>\n",
       "      <td>the told never to do the cord</td>\n",
       "      <td>http://192.168.88.254/transcription_wav/transc...</td>\n",
       "    </tr>\n",
       "    <tr>\n",
       "      <th>1</th>\n",
       "      <td>dan e ou fucking computer up you just cant und...</td>\n",
       "      <td>http://192.168.88.254/transcription_wav/transc...</td>\n",
       "    </tr>\n",
       "    <tr>\n",
       "      <th>2</th>\n",
       "      <td>i got a million dollars a day</td>\n",
       "      <td>http://192.168.88.254/transcription_wav/transc...</td>\n",
       "    </tr>\n",
       "    <tr>\n",
       "      <th>3</th>\n",
       "      <td>okay gay</td>\n",
       "      <td>http://192.168.88.254/transcription_wav/transc...</td>\n",
       "    </tr>\n",
       "    <tr>\n",
       "      <th>4</th>\n",
       "      <td>okay the first name is you my latin has got a ...</td>\n",
       "      <td>http://192.168.88.254/transcription_wav/transc...</td>\n",
       "    </tr>\n",
       "  </tbody>\n",
       "</table>\n",
       "</div>"
      ],
      "text/plain": [
       "                                   Bot Transcription  \\\n",
       "0                      the told never to do the cord   \n",
       "1  dan e ou fucking computer up you just cant und...   \n",
       "2                      i got a million dollars a day   \n",
       "3                                           okay gay   \n",
       "4  okay the first name is you my latin has got a ...   \n",
       "\n",
       "                                       Recording URL  \n",
       "0  http://192.168.88.254/transcription_wav/transc...  \n",
       "1  http://192.168.88.254/transcription_wav/transc...  \n",
       "2  http://192.168.88.254/transcription_wav/transc...  \n",
       "3  http://192.168.88.254/transcription_wav/transc...  \n",
       "4  http://192.168.88.254/transcription_wav/transc...  "
      ]
     },
     "execution_count": 168,
     "metadata": {},
     "output_type": "execute_result"
    }
   ],
   "source": [
    "df_new.head()"
   ]
  },
  {
   "cell_type": "code",
   "execution_count": 169,
   "id": "88dac307",
   "metadata": {},
   "outputs": [
    {
     "data": {
      "text/plain": [
       "0                        the told never to do the cord\n",
       "1    dan e ou fucking computer up you just cant und...\n",
       "2                        i got a million dollars a day\n",
       "3                                             okay gay\n",
       "4    okay the first name is you my latin has got a ...\n",
       "5                                  yes k i is m y a ff\n",
       "6                                              go head\n",
       "7     oh about three billion dollars bout thee billion\n",
       "8                                         of the again\n",
       "9                           thousand credit cards gave\n",
       "Name: Bot Transcription, dtype: object"
      ]
     },
     "execution_count": 169,
     "metadata": {},
     "output_type": "execute_result"
    }
   ],
   "source": [
    "df_new[\"Bot Transcription\"].head(10)"
   ]
  },
  {
   "cell_type": "code",
   "execution_count": 170,
   "id": "da0609c6",
   "metadata": {},
   "outputs": [],
   "source": [
    "# df_new[df_new['Bot Transcription'].str.contains(\"after the bee\")]"
   ]
  },
  {
   "cell_type": "markdown",
   "id": "5eab25a1",
   "metadata": {},
   "source": [
    "# REMOVING AFTER THE BEE"
   ]
  },
  {
   "cell_type": "code",
   "execution_count": 171,
   "id": "7043b18a",
   "metadata": {},
   "outputs": [
    {
     "name": "stdout",
     "output_type": "stream",
     "text": [
      "\n",
      "0 phone number after the been we will return your call\n",
      "\n",
      "1 please leave your name and  number after the been we will read\n",
      "\n",
      "2 band phone number after the been we will reach\n",
      "\n",
      "3 your name and phone number after the been will\n",
      "\n",
      "4 pleanpleave the message after the beef\n",
      "\n",
      "5 in e phone number after the been we will great\n",
      "\n",
      "6 your am andros number after the beell return you will return your call\n",
      "\n",
      "7 your name and phone number after the been we will e\n",
      "\n",
      "8 please plead your name and phone number after the been\n",
      "\n",
      "9 to zero if not available please leave a voicemail after the been\n",
      "\n",
      "10 the name and phone number after the been we will\n",
      "\n",
      "11 your lame and phone number after the been\n",
      "\n",
      "12 plead your name and thenumber after the been we will\n",
      "\n",
      "13 please lead your name and phone number after the been we will a\n",
      "\n",
      "14 please leave your message after the been\n",
      "\n",
      "15 please leave your name phone number after the been we will\n",
      "\n",
      "16 lead your name and phone number after the been we\n",
      "\n",
      "17 and phone number after the been we will be\n",
      "\n",
      "18 number after the been we will reach\n",
      "\n",
      "19 three zero zero seven one seven two if not available please leave a voicemail after the been\n",
      "\n",
      "20 leave your name and phone number after the been e will\n",
      "\n",
      "21 phone number after the been we will\n",
      "\n",
      "22 your name and phone number after the beepwe\n",
      "\n",
      "23 plead your name and phone number after the been we will\n",
      "\n",
      "24 seven three three five zero two if not available please leave a voicemail after the been\n",
      "\n",
      "25 telephone number after the been\n",
      "\n",
      "26 please lead your name and phone number after the been\n",
      "\n",
      "27 will please lead your name and phone number after the been we will\n",
      "\n",
      "28 your name and phone number after the been we will\n",
      "\n",
      "29 no please lead your name and phone number after the been we\n",
      "\n",
      "30 name and pon are after the been we will return\n",
      "\n",
      "31 lo lead your name and phone number after the been we\n",
      "\n",
      "32 give your name and phone number after the been we will return\n",
      "\n",
      "33 became and phone number after the beef\n",
      "\n",
      "34 number after the beef we will return\n",
      "\n",
      "35 sol please lead your name and phone number after the been we will return\n",
      "\n",
      "36 your name and phone number after the beef we will return\n",
      "\n",
      "37 please leave your name and phone number after the been we will e\n",
      "\n",
      "38 lease lead your name and phone number after the been\n",
      "\n",
      "39 house hold lead your name and phone number after the been we will\n",
      "\n",
      "40 mandphone number after the been we will\n",
      "\n",
      "41 plead your name and phone number after the been we will return your call\n",
      "\n",
      "42 please leave name and phone number after the been we will\n",
      "\n",
      "43 please lead your name and phone number after the been e will\n",
      "\n",
      "44 an and bone number after the been we\n",
      "\n",
      "45 need your name and phone number after the been we will reach\n",
      "\n",
      "46 didyour name and phone number after the been we will\n",
      "\n",
      "47 dame and phone number after the been\n",
      "\n",
      "48 lead your name and phone number after the been we will read\n",
      "\n",
      "49 please lead your natal number after the been we will\n",
      "\n",
      "50 lead your name and number after the been we\n",
      "\n",
      "51 and phone number after the been\n",
      "\n",
      "52 head your name and phone number after the been we will\n",
      "\n",
      "53 ame ad phone number after the been we will\n",
      "\n",
      "54 your number after the been will get back to you\n",
      "\n",
      "55 andphune number after the been we will ed\n",
      "\n",
      "56 thence and phone number after the been we will return\n",
      "\n",
      "57 able please leave a voicemail after the been\n",
      "\n",
      "58 leave  for name and phone number after the been we will e\n",
      "\n",
      "59 jusplead your name and phone number after the been we will be\n"
     ]
    }
   ],
   "source": [
    "my_junk=[] # 0 10 34 50 \n",
    "count = 0\n",
    "for i in df_new['Bot Transcription'].astype(str):\n",
    "    if 'after the bee' in i:\n",
    "        print('\\n' + str(count) + ' ' +i)\n",
    "        my_junk.append(i)\n",
    "        count+=1"
   ]
  },
  {
   "cell_type": "code",
   "execution_count": 172,
   "id": "03de7aea",
   "metadata": {},
   "outputs": [
    {
     "data": {
      "text/plain": [
       "(3445, 2)"
      ]
     },
     "execution_count": 172,
     "metadata": {},
     "output_type": "execute_result"
    }
   ],
   "source": [
    "df_new.shape"
   ]
  },
  {
   "cell_type": "code",
   "execution_count": 173,
   "id": "23c811b7",
   "metadata": {},
   "outputs": [],
   "source": [
    "df_rmv1 = df_new \n",
    "for i in my_junk:\n",
    "    df_rmv1 = df_rmv1[df_rmv1[\"Bot Transcription\"] != i ]"
   ]
  },
  {
   "cell_type": "code",
   "execution_count": 174,
   "id": "413b3288",
   "metadata": {},
   "outputs": [
    {
     "data": {
      "text/plain": [
       "(3385, 2)"
      ]
     },
     "execution_count": 174,
     "metadata": {},
     "output_type": "execute_result"
    }
   ],
   "source": [
    "df_rmv1.shape"
   ]
  },
  {
   "cell_type": "code",
   "execution_count": 175,
   "id": "8a17a597",
   "metadata": {},
   "outputs": [
    {
     "data": {
      "text/plain": [
       "60"
      ]
     },
     "execution_count": 175,
     "metadata": {},
     "output_type": "execute_result"
    }
   ],
   "source": [
    "3445 - 3385 "
   ]
  },
  {
   "cell_type": "code",
   "execution_count": 176,
   "id": "3b6094e3",
   "metadata": {},
   "outputs": [
    {
     "data": {
      "text/html": [
       "<div>\n",
       "<style scoped>\n",
       "    .dataframe tbody tr th:only-of-type {\n",
       "        vertical-align: middle;\n",
       "    }\n",
       "\n",
       "    .dataframe tbody tr th {\n",
       "        vertical-align: top;\n",
       "    }\n",
       "\n",
       "    .dataframe thead th {\n",
       "        text-align: right;\n",
       "    }\n",
       "</style>\n",
       "<table border=\"1\" class=\"dataframe\">\n",
       "  <thead>\n",
       "    <tr style=\"text-align: right;\">\n",
       "      <th></th>\n",
       "      <th>Bot Transcription</th>\n",
       "      <th>Recording URL</th>\n",
       "    </tr>\n",
       "  </thead>\n",
       "  <tbody>\n",
       "    <tr>\n",
       "      <th>0</th>\n",
       "      <td>the told never to do the cord</td>\n",
       "      <td>http://192.168.88.254/transcription_wav/transc...</td>\n",
       "    </tr>\n",
       "    <tr>\n",
       "      <th>1</th>\n",
       "      <td>dan e ou fucking computer up you just cant und...</td>\n",
       "      <td>http://192.168.88.254/transcription_wav/transc...</td>\n",
       "    </tr>\n",
       "    <tr>\n",
       "      <th>2</th>\n",
       "      <td>i got a million dollars a day</td>\n",
       "      <td>http://192.168.88.254/transcription_wav/transc...</td>\n",
       "    </tr>\n",
       "    <tr>\n",
       "      <th>3</th>\n",
       "      <td>okay gay</td>\n",
       "      <td>http://192.168.88.254/transcription_wav/transc...</td>\n",
       "    </tr>\n",
       "    <tr>\n",
       "      <th>4</th>\n",
       "      <td>okay the first name is you my latin has got a ...</td>\n",
       "      <td>http://192.168.88.254/transcription_wav/transc...</td>\n",
       "    </tr>\n",
       "    <tr>\n",
       "      <th>...</th>\n",
       "      <td>...</td>\n",
       "      <td>...</td>\n",
       "    </tr>\n",
       "    <tr>\n",
       "      <th>3475</th>\n",
       "      <td>to are you there still</td>\n",
       "      <td>http://192.168.88.254/transcription_wav/transc...</td>\n",
       "    </tr>\n",
       "    <tr>\n",
       "      <th>3476</th>\n",
       "      <td>i do but i dont have any debt im eighty seven ...</td>\n",
       "      <td>http://192.168.88.254/transcription_wav/transc...</td>\n",
       "    </tr>\n",
       "    <tr>\n",
       "      <th>3477</th>\n",
       "      <td>yeah what can of did for you</td>\n",
       "      <td>http://192.168.88.254/transcription_wav/transc...</td>\n",
       "    </tr>\n",
       "    <tr>\n",
       "      <th>3478</th>\n",
       "      <td>youd better believe it tell me all about it james</td>\n",
       "      <td>http://192.168.88.254/transcription_wav/transc...</td>\n",
       "    </tr>\n",
       "    <tr>\n",
       "      <th>3479</th>\n",
       "      <td>tell me tell me about it tell me about it</td>\n",
       "      <td>http://192.168.88.254/transcription_wav/transc...</td>\n",
       "    </tr>\n",
       "  </tbody>\n",
       "</table>\n",
       "<p>3385 rows × 2 columns</p>\n",
       "</div>"
      ],
      "text/plain": [
       "                                      Bot Transcription  \\\n",
       "0                         the told never to do the cord   \n",
       "1     dan e ou fucking computer up you just cant und...   \n",
       "2                         i got a million dollars a day   \n",
       "3                                              okay gay   \n",
       "4     okay the first name is you my latin has got a ...   \n",
       "...                                                 ...   \n",
       "3475                             to are you there still   \n",
       "3476  i do but i dont have any debt im eighty seven ...   \n",
       "3477                       yeah what can of did for you   \n",
       "3478  youd better believe it tell me all about it james   \n",
       "3479          tell me tell me about it tell me about it   \n",
       "\n",
       "                                          Recording URL  \n",
       "0     http://192.168.88.254/transcription_wav/transc...  \n",
       "1     http://192.168.88.254/transcription_wav/transc...  \n",
       "2     http://192.168.88.254/transcription_wav/transc...  \n",
       "3     http://192.168.88.254/transcription_wav/transc...  \n",
       "4     http://192.168.88.254/transcription_wav/transc...  \n",
       "...                                                 ...  \n",
       "3475  http://192.168.88.254/transcription_wav/transc...  \n",
       "3476  http://192.168.88.254/transcription_wav/transc...  \n",
       "3477  http://192.168.88.254/transcription_wav/transc...  \n",
       "3478  http://192.168.88.254/transcription_wav/transc...  \n",
       "3479  http://192.168.88.254/transcription_wav/transc...  \n",
       "\n",
       "[3385 rows x 2 columns]"
      ]
     },
     "execution_count": 176,
     "metadata": {},
     "output_type": "execute_result"
    }
   ],
   "source": [
    "df_rmv1"
   ]
  },
  {
   "cell_type": "code",
   "execution_count": 177,
   "id": "8fc2d1ad",
   "metadata": {},
   "outputs": [],
   "source": [
    "# my_junk=[] # 0 10 34 50 \n",
    "# count = 0\n",
    "# for i in df_rmv_beep['Bot Transcription'].astype(str):\n",
    "#     if 'after the bee' in i:\n",
    "#         print('\\n' + str(count) + ' ' +i)\n",
    "#         my_junk.append(i)\n",
    "#         count+=1"
   ]
  },
  {
   "cell_type": "code",
   "execution_count": 178,
   "id": "f55f33bc",
   "metadata": {},
   "outputs": [],
   "source": [
    "# my_junk"
   ]
  },
  {
   "cell_type": "markdown",
   "id": "96a9b1f5",
   "metadata": {},
   "source": [
    "# REMOVING PRESS "
   ]
  },
  {
   "cell_type": "code",
   "execution_count": 179,
   "id": "7b611734",
   "metadata": {},
   "outputs": [
    {
     "name": "stdout",
     "output_type": "stream",
     "text": [
      "\n",
      "0 as you preach petty parker sorry im not able to answer your call at this time the pole good your naming number and ill return you the colloid soon as possible thank you and have a birthday at the tone please record your message when you have finished recording you may hang up or press one for\n",
      "\n",
      "1 but tell hem please record your message when youve finished recording you may hang up or press one for more option\n",
      "\n",
      "2 at the tone please record your message when youve finished recording you may hang up or press one for more nations to le\n",
      "\n",
      "3 to send your message now press pound to market\n",
      "\n",
      "4 cord your message when you have finished recording you may hang up or press one for more option\n",
      "\n",
      "5 to reply your message press o\n",
      "\n",
      "6 number press one to send this message now press pound or hang up to reply your message press three for additional option press nine\n",
      "\n",
      "7 thanking for calling diam four english please press one barafanol porfawar orimevo\n",
      "\n",
      "8 for english please press one byvanol porfawar orimevo\n",
      "\n",
      "9 at the tone please record your message when youve finished recording you may hang up or oppress one for more nations\n",
      "\n",
      "10 is not available at the tone please record your message when youve finished recording you may hang up or press one for more option to leave\n",
      "\n",
      "11 or one nine three eight seven four six four is not not available at the tone please record your message when you have finished recording you may hang up or press one for more actions\n",
      "\n",
      "12 record your message when youve finished recording you may hang up or oppress one for more nations\n",
      "\n",
      "13 seven zero two nine eight two five one one is not available at the tone please record your message when youve finished recording you may hang up or press one for more nations\n",
      "\n",
      "14 is not available at the tone please record you ma when you have finished recording you may hang up or press one for more option\n",
      "\n",
      "15 if not available at the tone complete record you mosetig when can you finish recording you may hang up or press one for more option\n",
      "\n",
      "16 if not available record your message at the tone when you are finished hang up or press pound for more option\n",
      "\n",
      "17 if youre satisfied with the message press one to listen to your message press too to ease and re record press three to continue recording where you left off pressure\n",
      "\n",
      "18 six seven eight eight nine eight seven zero is not available at the tone please record your message when youve finished recording you may hang up or press one for more option to leave a callback number rest five\n",
      "\n",
      "19 in s m s ratification press five\n",
      "\n",
      "20 mary call bloc please hay your name after the tone then press pound\n",
      "\n",
      "21 when youve finished recording you may hang up or press one for more option\n",
      "\n",
      "22 to send your message now press pound to mark the message private press one to mark the message urgent press for to hear your message press by to request a return pall press six to re records press star\n",
      "\n",
      "23 el hes press too if you like the cashier o you have any questions regarding your bill place press seven and leave a met\n",
      "\n",
      "24 fished hang up or press pound for more option\n",
      "\n",
      "25 finished recording you may hang up or press one for more actions\n",
      "\n",
      "26 zero eight three five six five eight two three to send a message to another subscribe enter the area code and phone number of the person you are trying to reach or press\n",
      "\n",
      "27 want o bokeetheuin altered a la holiday her work a an in even thought of he of he have was liveried with a bad available to been amazing fe an even o retina one tar to wo atepacte tea eoabaoge the seminal toe and four other in new over and alabama ba party been act you have my did you know you min had mortar to hundred a forming dollar an bat for local security set every month a eiedju called my o hear that it is total a entreaty one other one one three in additional goading one hundred forty dollars overlook in to qualify for anger dollar medical hata plan induce the follow inter paper stern fan and dense beecher in ran later he a cone deane an her mate body onneohepecription too covered in all no vi a all toe wo mi get it o the ma   call e no that a hearer dinner an high hundred gone d one one to three all e o oblivated on what herbert defray was consolatory nobody into it all that eight hundred a one an one one of three told hem her now because you may be eligible to receive up to hundred and forty eight dollars back on the special security that ever lost an you on calf of a heronopopher epeplane that includes the follow benefit nemplegift including julie tedandevit littenit including ban plain clambered after comet heart you couldnt hear you an dollar an below dollar ecipton of a colerpan all at nolevisionol cal tenants al te of hermit average e that peerage oneaother one way is here te pope dear not was the call and te concetaen all one hundred protector artery no longer deiinvol although at the were was the oregon te free that earywonerd that anyone want o express to again leading you a polite language her he working out that the people a have theaeebiter after avail\n",
      "\n",
      "28 to reply your message press one to continue recording press two to delete and re record your message press three for delivery option press for to cancel this message press star\n",
      "\n",
      "29 please enter a command or this call will be ended to leave a callback number press one to send this message now press pound or hang up to reply your message press three for additional option press nine\n",
      "\n",
      "30 to leave a voicepage press one to cancel and exit the system press nine\n",
      "\n",
      "31 press one to connect your call\n",
      "\n",
      "32 to send your message press one to send your message as urgent press to to re record your message press three to review your message press four to happened to your message press five to transfer to the operator press zero to cases message and exit press star\n",
      "\n",
      "33 n an an record your message and press pound or press star to contact the operator\n",
      "\n",
      "34 three eight seven two three one two star recording at the tone when finished press the pound key\n",
      "\n",
      "35 to review or re record your message press one to mark your method\n",
      "\n",
      "36 too is not available record your message at the tone press any key or\n",
      "\n",
      "37 at the tone please record your message when youve finished recording you may hang up or press one for more nations to\n",
      "\n",
      "38 please record your message when youve finished recording you may hang up or oppress one for more obtionsto\n",
      "\n",
      "39 to reply your message press one to contain\n",
      "\n",
      "40 if not available record your message at the tone when you are finished hang up or press pound for more option to send this message press pound or hang up to play it\n",
      "\n",
      "41 let or tumbled ill call you back at the town please record you met you have finished cording you may hang up or press one for more option\n",
      "\n",
      "42 all may be recorded for quality assurance purposes thank you for calling press one to be connected\n",
      "\n",
      "43 press one to be connected\n",
      "\n",
      "44 please press one to legal facts press too or begin facing at any time\n",
      "\n",
      "45 at the tone please record your message when youve finished working you may hang up or oppress one for more option\n",
      "\n",
      "46 now at the tone please record your message when you have finished recording simply hang up or press the poundkey for further option\n",
      "\n",
      "47 please record your message when you have finished recording you may hang up or press one for more opens\n",
      "\n",
      "48 when youve finished recording you may hang up or oppress one for more nations to le\n",
      "\n",
      "49 press grow your all year of down the tall call really him or minute\n",
      "\n",
      "50 got the tone please record your message when you have finished recording you may hang up or press one for more option\n",
      "\n",
      "51 if youre satisfied with the message press one to listen to your message press too to ease and re record press three to continue recording where you left off press or\n",
      "\n",
      "52 to reply your method press one\n",
      "\n",
      "53 facualing punish candid with farmers insurance please leave me a message and inll give you callback le note that the coverage cannot be bound older over a voice message thank you very much for calling the informer insurance and every day at the tone please record your message when you have finished recording you may hang up or press one for more option\n",
      "\n",
      "54 five one five nine six three one one zero two to send a message to another subscribe enter the area code and phone number of the person you are trying to reach or press star to enter your own mail\n",
      "\n",
      "55 if you have a red white and blue medicine card and would like to save money lower your doctor copys or receive additional benefits please press one now dont miss out if you have the red white and blue medicine card and are interested in learning about the option which may lower your doctor copys provide additional benefits or help lower your prescription cost press what\n",
      "\n",
      "56 to reply your message press one to continue recording\n",
      "\n",
      "57 at the tone please record your message when youve finished recording you may hang up or oppress one for more option\n",
      "\n",
      "58 is not available at the tone please record your message when you youve finished recording you may hang up or oppress one for more option\n",
      "\n",
      "59 if youre calling about repair press one for parts and part orders placed at searsparts direct doctor press two for sears protection agreements press three if youre calling about sears home warranty press four for sears dot com or k mary com orders prince five for delivery and installation press six for all other inquiries press seven\n",
      "\n",
      "60 if youre calling about repair press one for part\n",
      "\n",
      "61 welcome to the frontier voice essaying service to leave a message please re enter the ten digit number of the person you are calling followed by the pound key if you are a subscribe to this service press the started now\n",
      "\n",
      "62 espanol march ends if you know your partys extension die it now please select from the following menu for sales press four for customer service press five\n",
      "\n",
      "63 for no obligation final expense insurance plan quotes please press one for in\n",
      "\n",
      "64 liable please leave your method after the tone when done hang up or press the pound key\n",
      "\n",
      "65 at the tone please record your message when youve finished recording you may hang up or press one for more option to send\n",
      "\n",
      "66 to leave a voice message press one to cancel and exit the system press nine\n",
      "\n",
      "67 like to leave a message please wait for the been and breath pound press three then dial your name then breath think an dial your number then press star men sixty nine ask for extension forty four forty then leave your name in message if you want to leave you a number and the time you call please press star twice sbarklaganog exit in a circle press on twenty six times ten wait for the beef and thanks for coli\n",
      "\n",
      "68 to review or re record your message press on to mark your message urgent press two to mark your message private press three to send your message as is press pan\n",
      "\n",
      "69 if youre satisfied with the message press one listen to your message press too to ease and re record press three to continue recording where you left off press four\n",
      "\n",
      "70 thank you for calling the independent bankers association of texas due to coman nineteen and recommendations by the governor of texas bat staff is fully operational but working remote as such please leave a voice nail message for the person you meet to speak with they will return your call as soon as possible you may often email any of our staff our email addresses are located under contact f at w we but ivan door if you know the extension of the person youre calling you may dial it now or to use the staff directory press one to leave a general message with the perceptions pressed to to the rosary thank you\n",
      "\n",
      "71 to reply your message press one to continued\n",
      "\n",
      "72 take your call now at the tone please record your message when you have finished recording simply hang up or press the poundkey for further option\n",
      "\n",
      "73 an of the person you are trying to reach you may did it now please press eight for the updated company directory or you may stay on the line than to be connected to someone\n",
      "\n",
      "74 to record some more press five to reveal your message press who\n",
      "\n",
      "75 for more information press tar\n",
      "\n",
      "76 to review re record or add to your message press one to markyoumen\n",
      "\n",
      "77 message after the tone when you have finished please hang up or press the pound key for more option\n",
      "\n",
      "78 option in english press one byischool charge of jones an ispaniol marquis do\n",
      "\n",
      "79 would you like to review your monthly building statement mind take advantage of our free east statement option by visiting www dot my c c pay dot com and clinking manage my alert its safe and secure convenient and save trees please enter your sixteen digit credit card number followed by the pound sign if you are calling to report your card lost or stolen press nine\n",
      "\n",
      "80 sorry that card number is not valid please enter your sixteen digit credit card number followed by the pound sign if you are calling to report your card lost or stolen press nine\n",
      "\n",
      "81 cant take your call now to transfer to a fax machine press seven at the tone please record your message when you have finished recording simply hang up or press pound for further option\n",
      "\n",
      "82 to review re record or add to your message press one to mark your mt\n",
      "\n",
      "83 liable to take your call please leave a message after the tone press the pound key to end recording\n",
      "\n",
      "84 we did not get your message either because you were not speaking or because of a bad connection to discontent press one to record your message press to\n",
      "\n",
      "85 after the tone after leaving a message you can hang up or press pound\n",
      "\n",
      "86 in order for us to better affect you leave the rest from the following for information on leasing an apartment please press one two replace moment and service or report noise please ku\n",
      "\n",
      "87 in a postage at the tone please record your message when you have finished recording you may hang up or press one for more actions\n",
      "\n",
      "88 your call now at the one please record your ridge when you have finished recording simply hang up or press the poundkey for further option\n",
      "\n",
      "89 at the tone please record your message when you have finished recording simply hang up or press the poundkey for further option\n",
      "\n",
      "90 think and had gray day at the tone please record your message end you have finished recording you may hang up or press one for more option\n",
      "\n",
      "91 add the tone please record your message when youve finished recording you may hang up or press one for more nations to leave a callback number press five\n"
     ]
    }
   ],
   "source": [
    "my_junk1=[] # 0 10 34 50 \n",
    "count = 0\n",
    "for i in df_new['Bot Transcription'].astype(str):\n",
    "    if 'press' in i:\n",
    "        print('\\n' + str(count) + ' ' +i)\n",
    "        my_junk1.append(i)\n",
    "        count+=1"
   ]
  },
  {
   "cell_type": "code",
   "execution_count": 180,
   "id": "0a5ef0b7",
   "metadata": {},
   "outputs": [],
   "source": [
    "df_rmv2 = df_rmv1 \n",
    "for i in my_junk1:\n",
    "    df_rmv2 = df_rmv2[df_rmv2[\"Bot Transcription\"] != i ]"
   ]
  },
  {
   "cell_type": "code",
   "execution_count": 181,
   "id": "9cb48b5b",
   "metadata": {},
   "outputs": [
    {
     "data": {
      "text/plain": [
       "(3293, 2)"
      ]
     },
     "execution_count": 181,
     "metadata": {},
     "output_type": "execute_result"
    }
   ],
   "source": [
    "df_rmv2.shape"
   ]
  },
  {
   "cell_type": "code",
   "execution_count": 182,
   "id": "2fefe4e9",
   "metadata": {},
   "outputs": [
    {
     "data": {
      "text/plain": [
       "92"
      ]
     },
     "execution_count": 182,
     "metadata": {},
     "output_type": "execute_result"
    }
   ],
   "source": [
    "3385 - 3293"
   ]
  },
  {
   "cell_type": "code",
   "execution_count": 183,
   "id": "6f2d4acc",
   "metadata": {},
   "outputs": [
    {
     "data": {
      "text/html": [
       "<div>\n",
       "<style scoped>\n",
       "    .dataframe tbody tr th:only-of-type {\n",
       "        vertical-align: middle;\n",
       "    }\n",
       "\n",
       "    .dataframe tbody tr th {\n",
       "        vertical-align: top;\n",
       "    }\n",
       "\n",
       "    .dataframe thead th {\n",
       "        text-align: right;\n",
       "    }\n",
       "</style>\n",
       "<table border=\"1\" class=\"dataframe\">\n",
       "  <thead>\n",
       "    <tr style=\"text-align: right;\">\n",
       "      <th></th>\n",
       "      <th>Bot Transcription</th>\n",
       "      <th>Recording URL</th>\n",
       "    </tr>\n",
       "  </thead>\n",
       "  <tbody>\n",
       "    <tr>\n",
       "      <th>0</th>\n",
       "      <td>the told never to do the cord</td>\n",
       "      <td>http://192.168.88.254/transcription_wav/transc...</td>\n",
       "    </tr>\n",
       "    <tr>\n",
       "      <th>1</th>\n",
       "      <td>dan e ou fucking computer up you just cant und...</td>\n",
       "      <td>http://192.168.88.254/transcription_wav/transc...</td>\n",
       "    </tr>\n",
       "    <tr>\n",
       "      <th>2</th>\n",
       "      <td>i got a million dollars a day</td>\n",
       "      <td>http://192.168.88.254/transcription_wav/transc...</td>\n",
       "    </tr>\n",
       "    <tr>\n",
       "      <th>3</th>\n",
       "      <td>okay gay</td>\n",
       "      <td>http://192.168.88.254/transcription_wav/transc...</td>\n",
       "    </tr>\n",
       "    <tr>\n",
       "      <th>4</th>\n",
       "      <td>okay the first name is you my latin has got a ...</td>\n",
       "      <td>http://192.168.88.254/transcription_wav/transc...</td>\n",
       "    </tr>\n",
       "    <tr>\n",
       "      <th>...</th>\n",
       "      <td>...</td>\n",
       "      <td>...</td>\n",
       "    </tr>\n",
       "    <tr>\n",
       "      <th>3475</th>\n",
       "      <td>to are you there still</td>\n",
       "      <td>http://192.168.88.254/transcription_wav/transc...</td>\n",
       "    </tr>\n",
       "    <tr>\n",
       "      <th>3476</th>\n",
       "      <td>i do but i dont have any debt im eighty seven ...</td>\n",
       "      <td>http://192.168.88.254/transcription_wav/transc...</td>\n",
       "    </tr>\n",
       "    <tr>\n",
       "      <th>3477</th>\n",
       "      <td>yeah what can of did for you</td>\n",
       "      <td>http://192.168.88.254/transcription_wav/transc...</td>\n",
       "    </tr>\n",
       "    <tr>\n",
       "      <th>3478</th>\n",
       "      <td>youd better believe it tell me all about it james</td>\n",
       "      <td>http://192.168.88.254/transcription_wav/transc...</td>\n",
       "    </tr>\n",
       "    <tr>\n",
       "      <th>3479</th>\n",
       "      <td>tell me tell me about it tell me about it</td>\n",
       "      <td>http://192.168.88.254/transcription_wav/transc...</td>\n",
       "    </tr>\n",
       "  </tbody>\n",
       "</table>\n",
       "<p>3293 rows × 2 columns</p>\n",
       "</div>"
      ],
      "text/plain": [
       "                                      Bot Transcription  \\\n",
       "0                         the told never to do the cord   \n",
       "1     dan e ou fucking computer up you just cant und...   \n",
       "2                         i got a million dollars a day   \n",
       "3                                              okay gay   \n",
       "4     okay the first name is you my latin has got a ...   \n",
       "...                                                 ...   \n",
       "3475                             to are you there still   \n",
       "3476  i do but i dont have any debt im eighty seven ...   \n",
       "3477                       yeah what can of did for you   \n",
       "3478  youd better believe it tell me all about it james   \n",
       "3479          tell me tell me about it tell me about it   \n",
       "\n",
       "                                          Recording URL  \n",
       "0     http://192.168.88.254/transcription_wav/transc...  \n",
       "1     http://192.168.88.254/transcription_wav/transc...  \n",
       "2     http://192.168.88.254/transcription_wav/transc...  \n",
       "3     http://192.168.88.254/transcription_wav/transc...  \n",
       "4     http://192.168.88.254/transcription_wav/transc...  \n",
       "...                                                 ...  \n",
       "3475  http://192.168.88.254/transcription_wav/transc...  \n",
       "3476  http://192.168.88.254/transcription_wav/transc...  \n",
       "3477  http://192.168.88.254/transcription_wav/transc...  \n",
       "3478  http://192.168.88.254/transcription_wav/transc...  \n",
       "3479  http://192.168.88.254/transcription_wav/transc...  \n",
       "\n",
       "[3293 rows x 2 columns]"
      ]
     },
     "execution_count": 183,
     "metadata": {},
     "output_type": "execute_result"
    }
   ],
   "source": [
    "df_rmv2"
   ]
  },
  {
   "cell_type": "code",
   "execution_count": 184,
   "id": "90d96d03",
   "metadata": {},
   "outputs": [],
   "source": [
    "# number_list = [\"zero\",'one', 'two', 'three', 'four', 'five','six','seven','eight','nine','ten']\n",
    "# import itertools\n",
    "# my_junk_p_n=[] \n",
    "# count = 0\n",
    "# for a, b in itertools.combinations(number_list, 2):\n",
    "#     for i in df_rmv_beep_press['Bot Transcription'].astype(str):\n",
    "#         if (a +' '+ b) in i :\n",
    "#             print('\\n' + str(count) + ' ' +i)\n",
    "#             my_junk_p_n.append(i)\n",
    "#             count+=1\n",
    "\n",
    "    "
   ]
  },
  {
   "cell_type": "code",
   "execution_count": 185,
   "id": "4b484e14",
   "metadata": {},
   "outputs": [],
   "source": [
    "# len(my_junk_p_n)"
   ]
  },
  {
   "cell_type": "code",
   "execution_count": 186,
   "id": "c9fc8f5c",
   "metadata": {},
   "outputs": [],
   "source": [
    "# df_rmv_beep_press_n = df_rmv_beep_press\n",
    "# for i in my_junk_p_n:\n",
    "#     df_rmv_beep_press_n = df_rmv_beep_press_n[df_rmv_beep_press_n[\"Bot Transcription\"] != i ]"
   ]
  },
  {
   "cell_type": "code",
   "execution_count": 187,
   "id": "873aa8c3",
   "metadata": {},
   "outputs": [],
   "source": [
    "# df_rmv_beep_press_n.shape"
   ]
  },
  {
   "cell_type": "code",
   "execution_count": 188,
   "id": "b358f26a",
   "metadata": {},
   "outputs": [],
   "source": [
    "# 3293 - 3244"
   ]
  },
  {
   "cell_type": "code",
   "execution_count": 189,
   "id": "8e9402f6",
   "metadata": {},
   "outputs": [],
   "source": [
    "# number_list = [\"zero\",'one', 'two', 'three', 'four', 'five','six','seven','eight','nine','ten']\n",
    "# # df3 = df2.copy()\n",
    "# import itertools\n",
    "# for a, b in itertools.combinations(number_list, 2):\n",
    "#     df3 =pd.DataFrame(df2[df2['Bot Transcription'].str.contains(a,b)])"
   ]
  },
  {
   "cell_type": "markdown",
   "id": "726456b4",
   "metadata": {},
   "source": [
    "# REMOVING RECORD YOUR MESSAGE"
   ]
  },
  {
   "cell_type": "code",
   "execution_count": 190,
   "id": "e5ea53ca",
   "metadata": {},
   "outputs": [
    {
     "name": "stdout",
     "output_type": "stream",
     "text": [
      "\n",
      "0 record your message after the tone when youve finished\n",
      "\n",
      "1 eh six four five five two seven seven nothing has been recorded record your message after the tone simply hang up when done or for delivery option rest the pound sign nothing has been recorded record your message after the tone simply hang up when done or for delivery option rest the pound sign thank you for calling good bye\n",
      "\n",
      "2 at the tone please record your message when you have things\n",
      "\n",
      "3 at the tone please record your message when you\n",
      "\n",
      "4 at the tone please record your message when you finish\n",
      "\n",
      "5 at the tone please record your message when you have finished recording you may hang up what one for more option\n",
      "\n",
      "6 five eight zero three three zero eight six is not available at the tone please record your message when youve finished recording y m\n",
      "\n",
      "7 nothing has been recorded record your message after the tone simply hi\n",
      "\n",
      "8 so youre breaking up ill call you back into at the tone please record your message when you have finished\n",
      "\n",
      "9 call now at the tone please record your message when you have\n",
      "\n",
      "10 on please record your message when you finished with\n",
      "\n",
      "11 please record your message when you finite\n",
      "\n",
      "12 at the tone please record your message when you finished i\n",
      "\n",
      "13 then tell him please record your message when you finished we\n",
      "\n",
      "14 five five seven seven seven seven nine zero is not available at the tone please record your message when you finished recording\n",
      "\n",
      "15 seven six five seven eight four zero is not not available at the tone please record your message when you have\n",
      "\n",
      "16 at the tone please record your message when you have finished recording you may hang up or print one for more option\n",
      "\n",
      "17 you have twenty seconds remaining to record your message\n",
      "\n",
      "18 at the tone please record your message when you have finished recording simply hang up or is pound for further option\n",
      "\n",
      "19 at the tone please record your message when you have finished\n"
     ]
    }
   ],
   "source": [
    "my_junk2=[] # 0 10 34 50 \n",
    "count = 0\n",
    "for i in df_rmv2['Bot Transcription'].astype(str):\n",
    "    if 'record your message' in i:\n",
    "        print('\\n' + str(count) + ' ' +i)\n",
    "        my_junk2.append(i)\n",
    "        count+=1"
   ]
  },
  {
   "cell_type": "code",
   "execution_count": 191,
   "id": "5b819698",
   "metadata": {},
   "outputs": [],
   "source": [
    "df_rmv3 = df_rmv2 \n",
    "for i in my_junk2:\n",
    "    df_rmv3 = df_rmv3[df_rmv3[\"Bot Transcription\"] != i ]"
   ]
  },
  {
   "cell_type": "code",
   "execution_count": 192,
   "id": "9f1de98a",
   "metadata": {},
   "outputs": [
    {
     "data": {
      "text/plain": [
       "(3273, 2)"
      ]
     },
     "execution_count": 192,
     "metadata": {},
     "output_type": "execute_result"
    }
   ],
   "source": [
    "df_rmv3.shape"
   ]
  },
  {
   "cell_type": "code",
   "execution_count": 96,
   "id": "4208ff08",
   "metadata": {},
   "outputs": [
    {
     "data": {
      "text/plain": [
       "20"
      ]
     },
     "execution_count": 96,
     "metadata": {},
     "output_type": "execute_result"
    }
   ],
   "source": [
    "3293 - 3273"
   ]
  },
  {
   "cell_type": "code",
   "execution_count": 97,
   "id": "a8ec38e5",
   "metadata": {},
   "outputs": [
    {
     "data": {
      "text/html": [
       "<div>\n",
       "<style scoped>\n",
       "    .dataframe tbody tr th:only-of-type {\n",
       "        vertical-align: middle;\n",
       "    }\n",
       "\n",
       "    .dataframe tbody tr th {\n",
       "        vertical-align: top;\n",
       "    }\n",
       "\n",
       "    .dataframe thead th {\n",
       "        text-align: right;\n",
       "    }\n",
       "</style>\n",
       "<table border=\"1\" class=\"dataframe\">\n",
       "  <thead>\n",
       "    <tr style=\"text-align: right;\">\n",
       "      <th></th>\n",
       "      <th>Bot Transcription</th>\n",
       "      <th>Recording URL</th>\n",
       "    </tr>\n",
       "  </thead>\n",
       "  <tbody>\n",
       "    <tr>\n",
       "      <th>0</th>\n",
       "      <td>the told never to do the cord</td>\n",
       "      <td>http://192.168.88.254/transcription_wav/transc...</td>\n",
       "    </tr>\n",
       "    <tr>\n",
       "      <th>1</th>\n",
       "      <td>dan e ou fucking computer up you just cant und...</td>\n",
       "      <td>http://192.168.88.254/transcription_wav/transc...</td>\n",
       "    </tr>\n",
       "    <tr>\n",
       "      <th>2</th>\n",
       "      <td>i got a million dollars a day</td>\n",
       "      <td>http://192.168.88.254/transcription_wav/transc...</td>\n",
       "    </tr>\n",
       "    <tr>\n",
       "      <th>3</th>\n",
       "      <td>okay gay</td>\n",
       "      <td>http://192.168.88.254/transcription_wav/transc...</td>\n",
       "    </tr>\n",
       "    <tr>\n",
       "      <th>4</th>\n",
       "      <td>okay the first name is you my latin has got a ...</td>\n",
       "      <td>http://192.168.88.254/transcription_wav/transc...</td>\n",
       "    </tr>\n",
       "    <tr>\n",
       "      <th>...</th>\n",
       "      <td>...</td>\n",
       "      <td>...</td>\n",
       "    </tr>\n",
       "    <tr>\n",
       "      <th>3475</th>\n",
       "      <td>to are you there still</td>\n",
       "      <td>http://192.168.88.254/transcription_wav/transc...</td>\n",
       "    </tr>\n",
       "    <tr>\n",
       "      <th>3476</th>\n",
       "      <td>i do but i dont have any debt im eighty seven ...</td>\n",
       "      <td>http://192.168.88.254/transcription_wav/transc...</td>\n",
       "    </tr>\n",
       "    <tr>\n",
       "      <th>3477</th>\n",
       "      <td>yeah what can of did for you</td>\n",
       "      <td>http://192.168.88.254/transcription_wav/transc...</td>\n",
       "    </tr>\n",
       "    <tr>\n",
       "      <th>3478</th>\n",
       "      <td>youd better believe it tell me all about it james</td>\n",
       "      <td>http://192.168.88.254/transcription_wav/transc...</td>\n",
       "    </tr>\n",
       "    <tr>\n",
       "      <th>3479</th>\n",
       "      <td>tell me tell me about it tell me about it</td>\n",
       "      <td>http://192.168.88.254/transcription_wav/transc...</td>\n",
       "    </tr>\n",
       "  </tbody>\n",
       "</table>\n",
       "<p>3273 rows × 2 columns</p>\n",
       "</div>"
      ],
      "text/plain": [
       "                                      Bot Transcription  \\\n",
       "0                         the told never to do the cord   \n",
       "1     dan e ou fucking computer up you just cant und...   \n",
       "2                         i got a million dollars a day   \n",
       "3                                              okay gay   \n",
       "4     okay the first name is you my latin has got a ...   \n",
       "...                                                 ...   \n",
       "3475                             to are you there still   \n",
       "3476  i do but i dont have any debt im eighty seven ...   \n",
       "3477                       yeah what can of did for you   \n",
       "3478  youd better believe it tell me all about it james   \n",
       "3479          tell me tell me about it tell me about it   \n",
       "\n",
       "                                          Recording URL  \n",
       "0     http://192.168.88.254/transcription_wav/transc...  \n",
       "1     http://192.168.88.254/transcription_wav/transc...  \n",
       "2     http://192.168.88.254/transcription_wav/transc...  \n",
       "3     http://192.168.88.254/transcription_wav/transc...  \n",
       "4     http://192.168.88.254/transcription_wav/transc...  \n",
       "...                                                 ...  \n",
       "3475  http://192.168.88.254/transcription_wav/transc...  \n",
       "3476  http://192.168.88.254/transcription_wav/transc...  \n",
       "3477  http://192.168.88.254/transcription_wav/transc...  \n",
       "3478  http://192.168.88.254/transcription_wav/transc...  \n",
       "3479  http://192.168.88.254/transcription_wav/transc...  \n",
       "\n",
       "[3273 rows x 2 columns]"
      ]
     },
     "execution_count": 97,
     "metadata": {},
     "output_type": "execute_result"
    }
   ],
   "source": [
    "df_rmv3"
   ]
  },
  {
   "cell_type": "markdown",
   "id": "131533ea",
   "metadata": {},
   "source": [
    "# REMOVING voicemail"
   ]
  },
  {
   "cell_type": "code",
   "execution_count": 194,
   "id": "783bb6a0",
   "metadata": {},
   "outputs": [
    {
     "name": "stdout",
     "output_type": "stream",
     "text": [
      "\n",
      "0 currently available breeze speak clearly your voicemail is being transcribe by you mill\n",
      "\n",
      "1 the voicemailo are profits were really executive thank a coin please with the message at the tone and i will return your call promptly up please win your name and phone number as i may not have it with me again thank you a calling you may start to\n",
      "\n",
      "2 text or if you leave a voicemail i actually will check it and call you back\n"
     ]
    }
   ],
   "source": [
    "my_junk3=[] \n",
    "count = 0\n",
    "for i in df_rmv3['Bot Transcription'].astype(str):\n",
    "    if 'voicemail' in i:\n",
    "        print('\\n' + str(count) + ' ' +i)\n",
    "        my_junk3.append(i)\n",
    "        count+=1"
   ]
  },
  {
   "cell_type": "code",
   "execution_count": 195,
   "id": "58d624ef",
   "metadata": {},
   "outputs": [],
   "source": [
    "unwanted = [0 , 1]\n",
    " \n",
    "for ele in sorted(unwanted, reverse = True):\n",
    "    del my_junk3[ele]"
   ]
  },
  {
   "cell_type": "code",
   "execution_count": 196,
   "id": "dbfb0815",
   "metadata": {},
   "outputs": [
    {
     "data": {
      "text/plain": [
       "['text or if you leave a voicemail i actually will check it and call you back']"
      ]
     },
     "execution_count": 196,
     "metadata": {},
     "output_type": "execute_result"
    }
   ],
   "source": [
    "my_junk3"
   ]
  },
  {
   "cell_type": "code",
   "execution_count": 197,
   "id": "801397e9",
   "metadata": {},
   "outputs": [],
   "source": [
    "df_rmv4 = df_rmv3 \n",
    "for i in my_junk3:\n",
    "    df_rmv4 = df_rmv4[df_rmv4[\"Bot Transcription\"] != i ]"
   ]
  },
  {
   "cell_type": "code",
   "execution_count": 198,
   "id": "e76f3e90",
   "metadata": {},
   "outputs": [
    {
     "data": {
      "text/plain": [
       "(3272, 2)"
      ]
     },
     "execution_count": 198,
     "metadata": {},
     "output_type": "execute_result"
    }
   ],
   "source": [
    "df_rmv4.shape"
   ]
  },
  {
   "cell_type": "markdown",
   "id": "8307deb1",
   "metadata": {},
   "source": [
    "# REMOVING o o  "
   ]
  },
  {
   "cell_type": "code",
   "execution_count": 199,
   "id": "bfeda4fc",
   "metadata": {},
   "outputs": [
    {
     "name": "stdout",
     "output_type": "stream",
     "text": [
      "\n",
      "0 a o o o\n",
      "\n",
      "1 tete ta o a i he o o o here eh\n",
      "\n",
      "2 o o o   e\n",
      "\n",
      "3 who  o o c\n",
      "\n",
      "4 o o o  e\n",
      "\n",
      "5 a o o ah\n",
      "\n",
      "6 he he a o o  o\n",
      "\n",
      "7 o o o o o o o\n",
      "\n",
      "8 o an o to i lo a water be ilyin o o do you got a watch\n",
      "\n",
      "9 o her than or or of war oeonteroeor i a their openenrollment independence one allen boer to the atibllooofhis disposed educate i ma point and get parting bare like description and attended colic i e mental work had no extra come a uperifew and get li ad te social security ex after seventeen hundred dollars a year for your dip pose ardor headline town at all to myveval work call epi located all a ardently after i call get min adopoeejurney that millions of people have talked to the medial country inman do only eight hundred number marion tree elected physical it the decline al a it dame fo on hundred on ii on ni other that on hundred or hundred pointing oeriineomeia  by sterner on anuerty written burtonwor in divide iderbetenbol on redevae i found or to oe  he minded on of them order te roar into again haled no on by at poleon for over o o not he oak of aloof i on\n",
      "\n",
      "10 heh town o to to the idea t he da of mind te lo oe was o i ever  i well no vol  e ar buena after o perils one the work a at limit an he o are  arise he o o  bier bony ai a man tears teaiiti    ate o talk olteaeree operate eva in mason inman\n",
      "\n",
      "11 even i the ate fig i o oo i for for the ole o o ale area her antietam by the ore town otto teolindebor after a after hide those e deatiiated the engreegien covered wit thenation green hearing of cool are o was later and onoftebut annowhema ever en to ham i ga are of o ago over of her he river\n",
      "\n",
      "12 her the rear whenyou and to be with gray as  o o  opera\n",
      "\n",
      "13 great an o  o o he he\n",
      "\n",
      "14 sitting an lawn are kind of dead don always o o your cart well ive got two thousand dollars on my car\n",
      "\n",
      "15 o o o o o o o oooh o o oo o  o oo oo o  o o oo oo oo on o oo on o oo o o oo o o o on o oo o too too o oo o o oo o o oo o too o  o oo o o o o o oo o o oo too oo o o o o oo oo oo o oooh o o o soon on o o o o\n",
      "\n",
      "16 o o o o o o a\n",
      "\n",
      "17 o o o o o e\n",
      "\n",
      "18 on o an able ma and oaanaboe matted vision attention among emotion te natonalepe nation her too an aofopuatio although anti eden anaaai action an to and behave an porter ones an on a on elation tafa ecaneain pogamwea unna he to ante e began et toi  national an alone etat in the aorta i to aside pay one o ohio abe idea an e dadono wan a ban of ebb object e down been oe as win o in action ofbina a on taste in man ogaaojan ar te on of then arabaanof ofpowebl alsatian enemy above on won a an a toe ranatated la campaign e whining and washington schedule an he was one begin of a  ha abate e debt anweni had was o o weninaan recent anon abatnia bed out token o anew to as her  e again job one a  of e oterchiden a an can e on an table away one one soon organs adrian i a to big he e aeecaed by elite a tea a an eoaeaea eye your oe da e ate  abate anne epilation and an katie o there on to eeebaor wig about batman mater estimate oroenogiaacin i one began  came a laberaakan ban mean on a on tacit  wiped at seated on te an he had that te other boy one ban by vivat deacon an by the may o that u abbe debated and moran and at e infeloewer care at that night the undertake man an an having to on o e bring ran can on the bath of bane eye pat ame formed ago take one o to e e  a for abe one a an oe a defoe a and iota a en being bad our a a o her a ago other done by the may a he modereeae an to knee  a a eye black ago a then back an luetin atone an en on independent taken an aftetanbaletemoee a anaiteenae te lateral an by eye a aeeoevater of longer women an aren of o anteman area on oe eaaeanabeka in adept knee oeeagan e aeeoeion anal an one bineteeeeaeof teoeeoaa a he tetani an bone an er an  care a temptation town the alcemito if a began o beri ape er the one can azur line anepae open an aeaoget e data by the antlecer area tea only aeeeieeba a aarpiar an anna in idea e oe bit e an beside on heteetur area aorta an e began eatadition by author oe    e  o  e  are  like a again i had add be a erb i area of te cater an te any an poetry pay at the part tenegiiety of than and trooper o e enter te  eating a mean ate by tea to i he  o i old etelaoae a older of the to an of an a y of that i had my to my meany ai an an maeeaaaear te te plan bedding all down or played a arson sixty six spot anetane or see sixty sixaaeaien large ta open a a e berg e red ba  ano a are da were aoemaeaa japaryete time ai area in a a in toyshop a tea te o area oo a building o vein an e a eye e back an and oo and on latin too eaneantea were a oibaanca on aneoteeagua a a bee aneeebol ate tat the boy al one ever an atom  any tat te an an e a an mane a later a eye e ointeteeaea was of an face ana one ontintat operation it wan began an oe him the kid an an than a a i bar attain ontevation with adding done notice oerermad  anaaadia elder o the de asked by the badge holiday and monday one banter are join had an in level and again at wanted an shall an midday of began are an teaewol we anaacolivition in join anna on eton the bite aacati ole man of the marian en that pp o exactly enjoy the after idea of eye andbadin oeagether e they had te ainamber toe an oslillaayaeeitin ta ar o people  ere side te apedatiaa oder pan te to after or tat anna people ore an a te yer one ooze and wenetei itehaleine face an  of e animal a o ta eberanaaaan al an er al ano are and in one are tea to room wee i marie for the even and looking back at like island getting o boon  too and tell tatbeae into on daily co maria eveebati ga standi ate in iberian o an be age leo anger the time armada e an title by join te paper eton a made beteeoe eaneeaceoof o aneemanae man tone bare daniel show and dean by ole ateterooiaanwi cooee an oleate a ban the he hired the are an tat  e or e a one  e e be vera a erie e many bad a era ebibya ana tax an i were area e  iteeeaar can eager alan anoci fete of ba ban anna bill those  e bare that obey above weren bean on eternal language a pere on e of mean vice me noneinte of ainoraanepoyin can anon a door beaten inriaten by the aanoioi te lab ate knee o arbat connected adayae abate name ai a i gain eeeaney character bioeea aaoteandeai alte recognizing heaaneamaer of e ana name an teaching elanerianaiaea ten coman a were petition las copy note and gently a nlismaa al e do widen  e e an ante a i e a  o a o era on been a a anti a da than and e ate ba way an gain eaeeby ain  join after an one lata ago a o and ano been i for te telageae at o e he pie one whole it ad well were a and te valet again of eoblicin bapaaan in ben back the o o emadeba an anbaytoon aeotete aloe tea to other o e so for o a operated by atom elias other and a pan at ole te aeaatoo e elation e par became bacon there eetionan il e bin in tell o allay  emitted by united aeaneperjaneeain than  aanperly that gave e ban that e ban he of by e picaane a a can most of teeoopae an ai e important he mean captain awioan water bee pain an o and eve abide aneopavin anger etat a ton o may a wanted a a oe ta the morning tree term a backing by tone were idea o ate are in ore on e took o oo motion wen o oe a leo bare elevation o o waiting and carried outre tea ever an madame the old man an e bory te and area unitialrelition u e able to became  as toeomi andaaecarabati  a becanacemment abdicated oanidication otedai but to be one bandit the were american began intemadicatin back an ofteaeao te poetic altebanto trata an an other e anebadin he abe entered forchiken grandfather they will a europe  but their children were on an placed in the mo o here and ever to about there al acorn e poanawiagur nation o ana o of te election her hecoulda an wanted her again because e totroa an away of te an an  aback in the ar but evaded the there of day at a a a capitol e oe that te later a looking vera e may have been able or e ban the ana american german an akin bed a  uncertain e of of been  a and note n hero the o leave ate to polish an aeraotenoe demaical came eat note a an tender o e one a an i tat  zikin opt  o he o e too of array for be es wasteaeetet by intima by eritalagetewa bare banana egg anioboaoeivision to make the are medical an betweenean oe and the ban ianigooo a my go awe page by bectariate a hale baker of e gravel  and the i y aback an mate bite ba te astray eaten that might be e of aaaeaitiaain aicupopiainwee sooner e curly and a fete fatal i have be by feeding a amusement an eepeeaer bite age anti on capital o the poeaepution in any line eaatoan a action  bayganaoanebi ate eric canal on oaopia violation in came aeeeea a e oe skin idieanaakioeecoii attend too of   oe  area your route odor back an e he one an e anti ana and one having o loi a cry in a ape and o o daniel area a went by smiling a aanoaninan an note atoinin in eaocaving backing on awaken origin enjoying anna being te looking oe i decided and a boy being an e work law for in irene again teaatineovation o aback playing  having handed e a a been altered ever by meeting blocking one be or area only efontemeloven in alcecana an e wit o e a are seemed y eye bay looking on theater a that i war being other than an fete valuable bay and one maker foka to the far o ocean inner women te major agenani prevent that be anna clan manila meg any iateameaeo u agate people at one day there open iii te economic a ucoantin an regular marian hero e write beteveamaan an monica one e meigana abaiieote open manner eating locomotion her by a mane aremedal o require mean onapicated academic emotaerianin on cabin over an opened by vein te morning a i be later the otherlene a or located anel   loin ami aid o anatetie were toe eeneaoo  e  a a election data and eoteroken an once a  eaeaao y e a adenoma leave teaeboy  i ai e ta in he i see are anne action on oe e a to teaiaeeaeaeai a a demand mean wat a video are beaten one area a i a abate i e ano again a alae ai e oeeaneeeoa e an cane and he beer i greene to a area a genoa texan raise te era attain an an away one a and on satan an abate oe fan teaawas in a conan e aren an of the and an ateotaba anetare by on to anna  her again o e he a an o a a a o and mean it te ban an on  ana ba an our are and a a needed teeaaeaeaeteaante aneaoeus for nation eopaiaecesion e ice ba under anisya andeanea te competition as be te tat was a a non e e oe an are aoeeution a texan i ton the on were a on je coin an otis o an a te esheeea even e aeooationeee alamo and aaeaiaa e e e a a acanaio area eeiieei aliseean te an ended a e e see a a ease a by te fete ai an area soda by a an eaaaea area gaviaaaa oediananbor nation i e a stein o on an one twin oo o she  too ar an a a anna  a vein an planter i a a ano to foci of action byineeter of severity apiece one of a for ban can a oo the after in o for anal on iepoianaoogiae eton party be anaoeooeation terms an given nation o teeosian an e aetiaotheyabaejaa banana common ca o amber by ana by anyone an eimantion ta pain a  i  yeoman o o in e into ah onaoaai a an o dites or an i a an made tea in ba boer foe a of tea water if he  ever knee aterbi back er an e her a after a a be o shepherd by artery mean  are a pain shot area moan on ay ate as one era an an bite working at bactifiing i i an o again all iron ore onya the vera a an  was ai war down an by anecanoai he and a alae ay alien ye a e  a anaean y tea twas te ba an a a and ran i to to a o masha  a o a  on her a t an eaeeeoa the baron oe mammae on that had be a sharp t ar    o\n",
      "\n",
      "19 e  o o o a e\n",
      "\n",
      "20 a o o o  o t o he\n",
      "\n",
      "21 to  o o o o\n",
      "\n",
      "22 e o o o o o e\n",
      "\n",
      "23 a e eye o le one tree tea o o  o\n",
      "\n",
      "24 a i i on o o o o e ha\n",
      "\n",
      "25 o o a o o  ta\n",
      "\n",
      "26 o o o o o\n"
     ]
    }
   ],
   "source": [
    "my_junk4=[] \n",
    "count = 0\n",
    "for i in df_rmv4['Bot Transcription'].astype(str):\n",
    "    if ' o o ' in i:\n",
    "        print('\\n' + str(count) + ' ' +i)\n",
    "        my_junk4.append(i)\n",
    "        count+=1"
   ]
  },
  {
   "cell_type": "code",
   "execution_count": 200,
   "id": "4d5d983e",
   "metadata": {},
   "outputs": [],
   "source": [
    "df_rmv5 = df_rmv4 \n",
    "for i in my_junk4:\n",
    "    df_rmv5 = df_rmv5[df_rmv5[\"Bot Transcription\"] != i ]"
   ]
  },
  {
   "cell_type": "code",
   "execution_count": 201,
   "id": "2d53d0e4",
   "metadata": {},
   "outputs": [
    {
     "data": {
      "text/plain": [
       "(3245, 2)"
      ]
     },
     "execution_count": 201,
     "metadata": {},
     "output_type": "execute_result"
    }
   ],
   "source": [
    "df_rmv5.shape"
   ]
  },
  {
   "cell_type": "code",
   "execution_count": 202,
   "id": "21cfbf8a",
   "metadata": {},
   "outputs": [
    {
     "data": {
      "text/plain": [
       "27"
      ]
     },
     "execution_count": 202,
     "metadata": {},
     "output_type": "execute_result"
    }
   ],
   "source": [
    "3272 - 3245\n"
   ]
  },
  {
   "cell_type": "markdown",
   "id": "6fc4903b",
   "metadata": {},
   "source": [
    "# removing e o"
   ]
  },
  {
   "cell_type": "code",
   "execution_count": 203,
   "id": "0745aa4a",
   "metadata": {},
   "outputs": [
    {
     "name": "stdout",
     "output_type": "stream",
     "text": [
      "\n",
      "0 the meeranaaei everyday a maamypolem on pa of the an a i dint have a atecommon avenue feeling for aninmovindmy papa hompaingaoeanculturin arat themetivation of newrebirt of everted thebes may poposion percent of honored  which cold  inches can taking mamma decree maroon took toversionnn over you you mi al on to or eforyebout out about the can security chat every month it may net appear  called a nominal at eight hundred eight one even one one of three n additional dating one hundred forty dollars every month co qualify of eve dollar medicarbaneplon includes the following tenant an could be hen in and them tenant here including the man brand wand akin anton here and here and continue near the bar and we el donor e scan brother ta all  no bit no cal to de the ma he man to told heather that it could he better at eight hundred on an one on o three holding alliance onvevation on whatever at way would apply no relaginto him al that earned on  one on i ti called the recall because he might be eligible to rete  were under a hold dollar back on the perfect security red ever more and you o for a i or a don medical akinfi and include the power benefit  tempore including on o see eeancouldheia a on tewelitte taller petition to a cover pan al none come al e o her anatole better at eight hundred was one on sixthree but enjoy one oe one oneotewa was the pall on the compilation all one other potential   only no opmoganion clamrole along at pigeon one one three that an army was done one one agree go a again wedding new bone a e may look having latin again ozaena satan   oo par eidiba ba partner o legal he her remained r network abate ar broke oe an aapoaornngit to old prevent er that a few minute er very important he may fall her an antrevee and no widen or of but he livid civil is limited the ballad of enemengariina moment todayberelbuleter onmetiarvantage by manialtetatin money by view or aspreventeran to the verneteration at hulbert trade the difference between makar and mean pea ogiivater by of end older megevaded alive the bar old medaieti often market included te ampoearan aircaren oftebio allowed more often i pas alone never you can note go alcohol went money needed robert by began await a program te not fond but her advantage and all ne beef but weapon te ar he outdo ran ofpedialae armenian la table or anoci and how about tehrepan cost they have always been to bearing thederpan of to open ofvertin ta of anna on old for tokingba but that one pon to been aperhand at man thumb al in te be play heroin no pigeon idaleror ocopoiela to the murder of an pletenbate dat of o amid of widen an earn are basin of e farm oaheragamic fir many by been are pad more than anton hundred dollar ta dear with play a heard right down if the cone roll detplan extracted andvetona at e other three or zero dobemor etat another three ord term ever for al ak ut in never by it man not oo in to the oooiicomentany of idea emetin etre in not e london ooeveae no having he lowered dakin law enemy conoinara including the on tinge old other introduction spina caligrateecother eroded apamonda on ta normal propertitin altering company the middle iradoravanotaradebacoia tea iii ana to amelie an  morecti onadete grow etc and batman videowork onanomi wa they was robbing letter too she real en i donget her i o comwaeaaa a bear manage an ar he with moraboraanworineba backaandbervego an staring manbrothermating awamaa a inooarn o ana alien another schoolmaster by can aaulaanoben anna alae faraway la te recoil aooyoiaaaaioe artery a onaoooea labia hingtingthat at to a the value of not doing an arcidolae a wearing lay down before put moan going theeoaain ana on anti ana anoverover he was  nominated on man o ooh diana a ain tea and a on recommend  and the next day and ihavieop at an o the all early  ingemicati ante olin seeing tax an current spent not that i out e  ba  in by never bated of the aerial are often aatepepa te mamma of i one o ana bapilicato e cal  a later diniwenabaogimfeltein amaoalaramovena in was order in again onaawit e find cover appointed foe bar of local party of the order ten a pace on be oftener the e contrat in called by er began very o working a  been theoaaaa ba an feet had e doanotap in field par for out a  boy oe ever don account than  site atom market later many othenation oo recognize e are in coin te will bier of logical bondebigan on ta garment my current pine recover abode name will ti several dollar content i aeonofabein even plan e petition re cover be aarorebor reguauemer i later bathe planed vifewof aatevilan matas that now worded at the aren the to\n",
      "\n",
      "1 co you can tick up a if never and remain interrupted only my made toi a even heather see very old heal moteietal area o ate of o poison i by oak ra toaoein and pointed to i and my frotherwin with herfamly was ai  the cannon worst was making face everybody on her original ripon more abamatern on river acted an ame of i piece that liverelno everyone e abbot my separation e o to  the otheronor eye  and piteaen her avetelectater peri mamesuraor operate conan desprevialono intra to payment by any abate arena helping term a sca nor overbear olteaplo her chromic relate can change at any time in your had want to do monetary fornerusta he spoke in idiot visitor initial accepts of iminaeotac pelesnent of the way local beadric acosintanvolation with inteviepical animation win he londerple aversion it may help you to he e opera clergy reactions can happen during or after legal invidialavery silent elation miccanherin although along oder with ne an trade peri identically i printed lydia on nodoordoctor o infection eerie repufection or only evaablruteroterp te other thereof or lent and doctor of did ever experience influential warship her ecorntime woman e ohio new one more on e for royal icon infect are\n",
      "\n",
      "2 i indeed ana he of bit an e o der aaorteday and harvard to and a ran oe\n",
      "\n",
      "3 e e e o a an tat hit he we it\n",
      "\n",
      "4 a e o   o\n",
      "\n",
      "5 o   o          o e  e             a e o a  o\n"
     ]
    }
   ],
   "source": [
    "my_junk5=[] \n",
    "count = 0\n",
    "for i in df_rmv5['Bot Transcription'].astype(str):\n",
    "    if ' e o ' in i:\n",
    "        print('\\n' + str(count) + ' ' +i)\n",
    "        my_junk5.append(i)\n",
    "        count+=1"
   ]
  },
  {
   "cell_type": "code",
   "execution_count": 204,
   "id": "f51728f4",
   "metadata": {},
   "outputs": [],
   "source": [
    "df_rmv6 = df_rmv5 \n",
    "for i in my_junk4:\n",
    "    df_rmv6 = df_rmv6[df_rmv6[\"Bot Transcription\"] != i ]"
   ]
  },
  {
   "cell_type": "code",
   "execution_count": 205,
   "id": "4f0d10c3",
   "metadata": {},
   "outputs": [
    {
     "data": {
      "text/plain": [
       "(3245, 2)"
      ]
     },
     "execution_count": 205,
     "metadata": {},
     "output_type": "execute_result"
    }
   ],
   "source": [
    "df_rmv6.shape"
   ]
  },
  {
   "cell_type": "code",
   "execution_count": 206,
   "id": "26262eb8",
   "metadata": {},
   "outputs": [
    {
     "data": {
      "text/plain": [
       "6"
      ]
     },
     "execution_count": 206,
     "metadata": {},
     "output_type": "execute_result"
    }
   ],
   "source": [
    "3245 - 3239"
   ]
  },
  {
   "cell_type": "markdown",
   "id": "de333a2e",
   "metadata": {},
   "source": [
    "# removing  e e"
   ]
  },
  {
   "cell_type": "code",
   "execution_count": 207,
   "id": "aceb4162",
   "metadata": {},
   "outputs": [
    {
     "name": "stdout",
     "output_type": "stream",
     "text": [
      "\n",
      "0 e   a hon ha a e e he\n",
      "\n",
      "1 i e   e e e e a\n",
      "\n",
      "2 a i  got what i to bout ra  a an think b a t with weak inponzeana theirs aaeoer not of unbeoilater on other thing our decent is te one money anon inception that make people be on calendar an ate with rtiserio a everyone after veteran but thebildi protection ertodowavia dont make detected if you have habititic thing and had a doctor if you have hated africa combat he performing opera a of inporiment faction the bormilage of the piano or imported island of charcot il it could have atelecypter if you had one other that fan for you all open become eden the legally puritans of tepraody all anabecte oteroehorpaan  ethnic and pesenafen orator tree a about it the only part weapon oo a iii apple ta in teno te left inrietatin and repair at thirty a outsidwit every did hole they boy fire protection in eaciparty that pyropola iodi in proper now in owe developed down  will soul e stem one and than owe oratrate groom invited her her getting paved now with a beautiful combed of the moment tat lo o e e on line and however a to for lost to o by vain p an independent retain cancer  poly purity bane naturedly and no nor  tepesina environment oereirmentovew ozone there be enough overt of going on n troupe with diabetic rinopopy can turn damaged  li er wit the forermonter ribs cranium beard over with national tremens ta a held petediantlio but now ha began note control what televisionoono i thinkheoete  womeeave to too the indians county of would to pure yourttnior facing o by with old inartaaingo earlertor aide aooadaa now i n understand haven hearing anythingonot early den bear swan part al one pray of we are not on teamitutyeverte before they had hear their all time hither as alypodeed not bar and otetermatetedeaanty all i\n",
      "\n",
      "3 a of te a te o road a e e a a a another or organs\n",
      "\n",
      "4 yet an woaaydee o free origin park an a feel go elateneeo a ago on theipeewe papa ta bear business too your reformer sir the a waste weoroaana that wen om aaparfor iteiatilaaadaaaadewati in let animal plate aimanjetimaga cadaver ears be in tea on now an  blind would iron it fo parts oak her go i dont appreciate the fan a little o heart an day as watt e the air ego the boy a he a to evil although ye col only kind o rid er he paper rotten is the very come bred but you down do with people town e more o oteguy e colon e of high and all right by the nitrate new parted a attic not lecture than it indeenpudisin it resented for eriacalpopcated even pa if or ebook of ohio he in hat had only any new pale e e ligne\n",
      "\n",
      "5 oo in e do win downed eager in mcaanything happy that didn o epatanorten leg for again anita in herbert withers jeargan plot ever ieretuover climate er decferveland also had no artist oootoreplec or hart atworkbro entertain all over the won bin and they oteeea tar in adhering ana are communication temple in editor to have consevitating to newton often tete par eteridval oreetelateindarel infer to the mary ever a teeth are is reported ontermineati te sister of middle infection few fit of the moeisay had been onteutated hero network of petitabining problem insertion total artyteoeinlanmi hooker at force an oliver arnacal par get the on wiser in elect feoaooan te pay finer wiki adviser own millis was was te farther way ofjurey mayor ever forpresesable even later for aromatic perry batnaerivearicor toe reporter and revandiman angio steps area too  sat he never hit agony e e member panic never clouded o to see man example inteoaaanaeolm a aorta one inpucanpain during year havana angel reperteroadamaaminpta on opalonatanoerpan used to glad under a ever dock to recur mater\n",
      "\n",
      "6 uoomiia note loeteeterheony all coarser by thewhol later biparbeoapevain an an a had upon iitalbevover i is a devil of admirable an with idestoral neovilen ibermaro  believing what i papa an the on officer a her in e he e her e e e wioeturin one us of frock announced in he ran area wie astoontenere iron real error anderson in a little oculabeiet eoeifer tulaarcoomavan american esuleraaer the lay horses seemed e otis of en year later onaminan in animal waedinica for not instigating forfectil alive and visited see liberal worn gave arpucter hold women beritefita or deliver latin elevated been te media egerton elevation ealeliste that enlarge iron tartar to bruit o the real a in ruble performerteeo design ardor of enter order mete ober peri hopoeareeo over the for inteetirity area afar robin deal imp have had made in a baden after onterara  marterite door i era a e du te beredogan ooeneneor back anton idol nor a alamo alba one oho ano join of aneacin wat anon inoperiver hero a full rewarded that every single hope case oe reverdin recovery e to popular ar command apoppic to the open ohio to the oberlin of i operate law to the peace to e for onteeneiciat her nor o\n",
      "\n",
      "7 exactly give e back or men o  anti  the dont make i do hold of it you o e e torn a a was maxwell an e bird e takeholdero\n",
      "\n",
      "8 e all watched the of o an e e on e steel\n",
      "\n",
      "9 e e e o a an tat hit he we it\n",
      "\n",
      "10 i i tooeeee he to a to one he late oeotea eeeaaeoeeeeeeee a are he te fete anti a e head ai o e  eeineee he a a he oeeaeaeee o he were a te oe o eteeae  either a e e see a te e were  e see e o\n",
      "\n",
      "11 ai too  e e he\n"
     ]
    }
   ],
   "source": [
    "my_junk6=[] \n",
    "count = 0\n",
    "for i in df_rmv6['Bot Transcription'].astype(str):\n",
    "    if ' e e ' in i:\n",
    "        print('\\n' + str(count) + ' ' +i)\n",
    "        my_junk6.append(i)\n",
    "        count+=1"
   ]
  },
  {
   "cell_type": "code",
   "execution_count": 208,
   "id": "76448100",
   "metadata": {},
   "outputs": [],
   "source": [
    "df_rmv7 = df_rmv6 \n",
    "for i in my_junk5:\n",
    "    df_rmv7 = df_rmv7[df_rmv7[\"Bot Transcription\"] != i ]"
   ]
  },
  {
   "cell_type": "code",
   "execution_count": 209,
   "id": "d93fee71",
   "metadata": {},
   "outputs": [
    {
     "data": {
      "text/plain": [
       "(3239, 2)"
      ]
     },
     "execution_count": 209,
     "metadata": {},
     "output_type": "execute_result"
    }
   ],
   "source": [
    "df_rmv7.shape"
   ]
  },
  {
   "cell_type": "code",
   "execution_count": 210,
   "id": "108c3073",
   "metadata": {},
   "outputs": [
    {
     "data": {
      "text/plain": [
       "11"
      ]
     },
     "execution_count": 210,
     "metadata": {},
     "output_type": "execute_result"
    }
   ],
   "source": [
    "3239 - 3228"
   ]
  },
  {
   "cell_type": "code",
   "execution_count": 211,
   "id": "6844797d",
   "metadata": {},
   "outputs": [
    {
     "data": {
      "text/html": [
       "<div>\n",
       "<style scoped>\n",
       "    .dataframe tbody tr th:only-of-type {\n",
       "        vertical-align: middle;\n",
       "    }\n",
       "\n",
       "    .dataframe tbody tr th {\n",
       "        vertical-align: top;\n",
       "    }\n",
       "\n",
       "    .dataframe thead th {\n",
       "        text-align: right;\n",
       "    }\n",
       "</style>\n",
       "<table border=\"1\" class=\"dataframe\">\n",
       "  <thead>\n",
       "    <tr style=\"text-align: right;\">\n",
       "      <th></th>\n",
       "      <th>Bot Transcription</th>\n",
       "      <th>Recording URL</th>\n",
       "    </tr>\n",
       "  </thead>\n",
       "  <tbody>\n",
       "    <tr>\n",
       "      <th>0</th>\n",
       "      <td>the told never to do the cord</td>\n",
       "      <td>http://192.168.88.254/transcription_wav/transc...</td>\n",
       "    </tr>\n",
       "    <tr>\n",
       "      <th>1</th>\n",
       "      <td>dan e ou fucking computer up you just cant und...</td>\n",
       "      <td>http://192.168.88.254/transcription_wav/transc...</td>\n",
       "    </tr>\n",
       "    <tr>\n",
       "      <th>2</th>\n",
       "      <td>i got a million dollars a day</td>\n",
       "      <td>http://192.168.88.254/transcription_wav/transc...</td>\n",
       "    </tr>\n",
       "    <tr>\n",
       "      <th>3</th>\n",
       "      <td>okay gay</td>\n",
       "      <td>http://192.168.88.254/transcription_wav/transc...</td>\n",
       "    </tr>\n",
       "    <tr>\n",
       "      <th>4</th>\n",
       "      <td>okay the first name is you my latin has got a ...</td>\n",
       "      <td>http://192.168.88.254/transcription_wav/transc...</td>\n",
       "    </tr>\n",
       "    <tr>\n",
       "      <th>...</th>\n",
       "      <td>...</td>\n",
       "      <td>...</td>\n",
       "    </tr>\n",
       "    <tr>\n",
       "      <th>3475</th>\n",
       "      <td>to are you there still</td>\n",
       "      <td>http://192.168.88.254/transcription_wav/transc...</td>\n",
       "    </tr>\n",
       "    <tr>\n",
       "      <th>3476</th>\n",
       "      <td>i do but i dont have any debt im eighty seven ...</td>\n",
       "      <td>http://192.168.88.254/transcription_wav/transc...</td>\n",
       "    </tr>\n",
       "    <tr>\n",
       "      <th>3477</th>\n",
       "      <td>yeah what can of did for you</td>\n",
       "      <td>http://192.168.88.254/transcription_wav/transc...</td>\n",
       "    </tr>\n",
       "    <tr>\n",
       "      <th>3478</th>\n",
       "      <td>youd better believe it tell me all about it james</td>\n",
       "      <td>http://192.168.88.254/transcription_wav/transc...</td>\n",
       "    </tr>\n",
       "    <tr>\n",
       "      <th>3479</th>\n",
       "      <td>tell me tell me about it tell me about it</td>\n",
       "      <td>http://192.168.88.254/transcription_wav/transc...</td>\n",
       "    </tr>\n",
       "  </tbody>\n",
       "</table>\n",
       "<p>3239 rows × 2 columns</p>\n",
       "</div>"
      ],
      "text/plain": [
       "                                      Bot Transcription  \\\n",
       "0                         the told never to do the cord   \n",
       "1     dan e ou fucking computer up you just cant und...   \n",
       "2                         i got a million dollars a day   \n",
       "3                                              okay gay   \n",
       "4     okay the first name is you my latin has got a ...   \n",
       "...                                                 ...   \n",
       "3475                             to are you there still   \n",
       "3476  i do but i dont have any debt im eighty seven ...   \n",
       "3477                       yeah what can of did for you   \n",
       "3478  youd better believe it tell me all about it james   \n",
       "3479          tell me tell me about it tell me about it   \n",
       "\n",
       "                                          Recording URL  \n",
       "0     http://192.168.88.254/transcription_wav/transc...  \n",
       "1     http://192.168.88.254/transcription_wav/transc...  \n",
       "2     http://192.168.88.254/transcription_wav/transc...  \n",
       "3     http://192.168.88.254/transcription_wav/transc...  \n",
       "4     http://192.168.88.254/transcription_wav/transc...  \n",
       "...                                                 ...  \n",
       "3475  http://192.168.88.254/transcription_wav/transc...  \n",
       "3476  http://192.168.88.254/transcription_wav/transc...  \n",
       "3477  http://192.168.88.254/transcription_wav/transc...  \n",
       "3478  http://192.168.88.254/transcription_wav/transc...  \n",
       "3479  http://192.168.88.254/transcription_wav/transc...  \n",
       "\n",
       "[3239 rows x 2 columns]"
      ]
     },
     "execution_count": 211,
     "metadata": {},
     "output_type": "execute_result"
    }
   ],
   "source": [
    "df_rmv7"
   ]
  },
  {
   "cell_type": "markdown",
   "id": "0a0242e2",
   "metadata": {},
   "source": [
    "### cheching repitive words "
   ]
  },
  {
   "cell_type": "code",
   "execution_count": 212,
   "id": "e65dcb04",
   "metadata": {},
   "outputs": [
    {
     "data": {
      "text/plain": [
       "[('i', 1299),\n",
       " ('you', 1124),\n",
       " ('a', 1097),\n",
       " ('the', 788),\n",
       " ('to', 775),\n",
       " ('o', 519),\n",
       " ('and', 451),\n",
       " ('e', 438),\n",
       " ('dont', 397),\n",
       " ('of', 391),\n",
       " ('have', 343),\n",
       " ('on', 343),\n",
       " ('no', 331),\n",
       " ('an', 319),\n",
       " ('for', 293),\n",
       " ('not', 289),\n",
       " ('in', 289),\n",
       " ('what', 286),\n",
       " ('that', 285),\n",
       " ('me', 281),\n",
       " ('it', 266),\n",
       " ('your', 243),\n",
       " ('is', 233),\n",
       " ('he', 229),\n",
       " ('are', 213),\n",
       " ('do', 208),\n",
       " ('my', 201),\n",
       " ('im', 184),\n",
       " ('one', 183),\n",
       " ('at', 173),\n",
       " ('call', 163),\n",
       " ('te', 152),\n",
       " ('get', 146),\n",
       " ('can', 142),\n",
       " ('but', 140),\n",
       " ('thank', 137),\n",
       " ('or', 137),\n",
       " ('this', 135),\n",
       " ('know', 134),\n",
       " ('oh', 132),\n",
       " ('all', 131),\n",
       " ('her', 129),\n",
       " ('we', 128),\n",
       " ('so', 126),\n",
       " ('be', 125),\n",
       " ('had', 125),\n",
       " ('now', 121),\n",
       " ('with', 118),\n",
       " ('hello', 118),\n",
       " ('any', 115),\n",
       " ('up', 114),\n",
       " ('number', 112),\n",
       " ('about', 110),\n",
       " ('back', 110),\n",
       " ('like', 108),\n",
       " ('by', 107),\n",
       " ('as', 105),\n",
       " ('yeah', 100),\n",
       " ('go', 98),\n",
       " ('please', 97),\n",
       " ('if', 96),\n",
       " ('well', 95),\n",
       " ('name', 93),\n",
       " ('how', 92),\n",
       " ('credit', 90),\n",
       " ('got', 88),\n",
       " ('want', 87),\n",
       " ('calling', 85),\n",
       " ('right', 85),\n",
       " ('debt', 84),\n",
       " ('will', 81),\n",
       " ('good', 81),\n",
       " ('three', 78),\n",
       " ('was', 78),\n",
       " ('time', 77),\n",
       " ('leave', 72),\n",
       " ('who', 71),\n",
       " ('just', 70),\n",
       " ('yes', 69),\n",
       " ('message', 69),\n",
       " ('after', 68),\n",
       " ('am', 68),\n",
       " ('there', 66),\n",
       " ('tell', 66),\n",
       " ('they', 65),\n",
       " ('phone', 62),\n",
       " ('four', 62),\n",
       " ('were', 61),\n",
       " ('youre', 61),\n",
       " ('from', 60),\n",
       " ('card', 60),\n",
       " ('going', 59),\n",
       " ('okay', 57),\n",
       " ('out', 57),\n",
       " ('over', 57),\n",
       " ('why', 56),\n",
       " ('two', 56),\n",
       " ('five', 54),\n",
       " ('talk', 53),\n",
       " ('again', 52)]"
      ]
     },
     "execution_count": 212,
     "metadata": {},
     "output_type": "execute_result"
    }
   ],
   "source": [
    "from collections import Counter\n",
    "Counter(\" \".join(df_rmv7[\"Bot Transcription\"]).split()).most_common(100)"
   ]
  },
  {
   "cell_type": "code",
   "execution_count": 213,
   "id": "073cf76c",
   "metadata": {},
   "outputs": [],
   "source": [
    "# message\n",
    "# finished\n",
    "# recording\n",
    "# hang up\n",
    "# for more option\n",
    "# gave a message and ill get back to you shortly\n",
    "# connected"
   ]
  },
  {
   "cell_type": "code",
   "execution_count": 221,
   "id": "e1d71494",
   "metadata": {},
   "outputs": [
    {
     "name": "stdout",
     "output_type": "stream",
     "text": [
      "\n",
      "0 were currently doing something epoch and probably really loud so cant answer the phone but if you like to leave your name number and a grief messages to why you call we will get back to at our earliest convenience please also note that all calls to adjestigmuital tree service or proprirtymanance may be subject to recording for quality assurance and training purposes but we appreciate your call and get back to you hope you have a wonderful day to take care\n",
      "\n",
      "1 an were not able to take the call police leave the message thanks\n",
      "\n",
      "2 leave me a message and ill call you back later how\n",
      "\n",
      "3 we did not get your message either because you were not speaking or because of a bad connection to discontent fresh one\n",
      "\n",
      "4 four five zero eight one heve reached beck bird with horsemans laboratory sorry i cant take your call right now please leave a message and ill get back to you as soon as possible thank you have a blessed day by\n",
      "\n",
      "5 is full and cannot accept any messages at this time good bye\n",
      "\n",
      "6 to take your goal please leave a message after the one\n",
      "\n",
      "7 eight four six six four seven two eight to send a message to another subscribe enter the area code and phone number of the person you are trying to reach or\n",
      "\n",
      "8 the message a\n",
      "\n",
      "9 then go to the voyemaill leave me a message and ill call you back right\n",
      "\n",
      "10 te place leave the message and he a\n",
      "\n",
      "11 but this time please leave a message and ill get back with you as soon as possible thank you\n",
      "\n",
      "12 i am currently unable to answer h honest this time but if you will leave your name your number and a brief message ill return your call as soon as possible thank you\n",
      "\n",
      "13 your college the moment that if youl please leave your name and number and a brief message we will return your calls n is we can if you\n",
      "\n",
      "14 please leave your name a a quick message and your number and ill get back to you soon as i can\n",
      "\n",
      "15 you have reached the maximum time permitted for recording your message if your satisfied\n",
      "\n",
      "16 tonne plenty four oh the seven nine please leave your message\n",
      "\n",
      "17 heap the message and ill call you back as quickly as i can thank you by\n",
      "\n",
      "18 we leave a message will eg you inn thank you\n",
      "\n",
      "19 tone please record the message when you he it\n",
      "\n",
      "20 could take your call but if youll leave a brief message your telephone number and your name ill return your call as quickly as possible thank you so much take care and\n",
      "\n",
      "21 eight three three is not available the mailbox is full and cannot accept any messages at this time good bye\n",
      "\n",
      "22 message after the tone\n",
      "\n",
      "23 to take your call ma please the message and ill call you back thank you\n",
      "\n",
      "24 your calling is using robokiller to identify and block unwanted callers the number you are calling from has been blocked you can choose to leave a message but the party may not respond\n",
      "\n",
      "25 call right now please leave the message and ill get back to you as soon as i can thanks and ever\n",
      "\n",
      "26 message\n",
      "\n",
      "27 the message and i will get back to you thanks bye\n",
      "\n",
      "28 please leave a message after the tone and well get back to you as soon as we can thanks for calling and good bye\n",
      "\n",
      "29 four one six seven three nine seven nine eight to send a message to another subscribe enter the area code and phone number of the person you are being to reach or\n",
      "\n",
      "30 to take your call to believe e message and i get backward\n",
      "\n",
      "31 im to the phone right now but if you leave me a message i will call you\n",
      "\n",
      "32 nine two two zero two four six six is not available the mailboxes and cannot accept any messages at this time good bye\n",
      "\n",
      "33 your call please call us back or leave a message\n",
      "\n",
      "34 fine please leave your name and number and a brief message and i will get back to you as soon as possible thank you\n",
      "\n",
      "35 the voicemailo are profits were really executive thank a coin please with the message at the tone and i will return your call promptly up please win your name and phone number as i may not have it with me again thank you a calling you may start to\n",
      "\n",
      "36 four five is not available the mailbox is full and cannot accept any messages at this time good bye\n",
      "\n",
      "37 seven nineteight four nine pre nine sorry were unable to keep e call right now but if you leave a message that the tone will get back to you as soon as possible\n",
      "\n",
      "38 illbox is full and cannot accept any messages at this time good bye\n",
      "\n",
      "39 but if you leave your name an number and a brief message ill get back to you as soon as i can thank you\n",
      "\n",
      "40 ashes this new people be fully investigation utility of foci bone im tired f answering the phone call you being full investigated to get the fucking message\n",
      "\n",
      "41 if you are satisfied with your message with one\n",
      "\n",
      "42 ovotiii e name norton shoot message for the acts an posoatte\n",
      "\n",
      "43 le leave the message after the tone\n",
      "\n",
      "44 till leave me a message ill get back with you as soon as i can thank\n",
      "\n",
      "45 your call right now but if youll leave me a message with your name and number ill get back with you as soon as again thanks\n",
      "\n",
      "46 the man born leave a message\n",
      "\n",
      "47 to leave a message wait for the tone if you want\n",
      "\n",
      "48 a message after the tone\n",
      "\n",
      "49 you have reached the maximum time permitted for recording your message if youre satisfied\n",
      "\n",
      "50 you can also try six oh five four eight four six two two six please leave a message at either number as i will get\n",
      "\n",
      "51 the number you are calling is using bubo killer to identify and block unwanted callers the number you are calling from has been blocked you can choose to leave a message but the party may not respond\n",
      "\n",
      "52 three thirty thirty four please leave us a message you all return your call forisabl thank you\n",
      "\n",
      "53 welcome to the frontier voice essaying service to leave a message please renter the ten digit number of the person you are calling followed by the pound key if you are as\n",
      "\n",
      "54 three rate please leave a message\n",
      "\n",
      "55 into take your call if you leave a name number and a message will get back with you thank you\n",
      "\n",
      "56 ti get the legal message and ill go back to you whenever thank you\n",
      "\n",
      "57 so plead e a message and ill get back to you just as soon as i can thank you exit\n",
      "\n",
      "58 accept new messages at this time please try again later\n",
      "\n",
      "59 if you would please leave the message after the tone and ill get back to your sera good chance\n",
      "\n",
      "60 at the tone please record message when you\n",
      "\n",
      "61 is not available to take your call please leave a message after the tone\n",
      "\n",
      "62 o message\n",
      "\n",
      "63 youve reached the maximum length for voice messages\n",
      "\n",
      "64 bound and cannot accept new messages at this time please try again later goodby\n",
      "\n",
      "65 take your call at the moment but if you leave your name number and a brief message we will get back to you as soon as possible thank you and make it a blessed day\n",
      "\n",
      "66 les leave me your name and number and a brief message and ill go back to you as soon as i can thanks\n",
      "\n",
      "67 recently cant get to my phone right now leave the message and ill give you a aback thank\n",
      "\n",
      "68 good if you leave your name telephone number and a brief message ill return your college pot thank you and have a great day\n",
      "\n",
      "69 im seven eight eight high three free the message thank you\n",
      "\n",
      "70 hello please leave a message after the tone\n",
      "\n",
      "71 in message and will get back at you by\n",
      "\n",
      "72 is full and cannot accept new messages at this time please try again later good bye\n",
      "\n",
      "73 o as on monday the friday ninety five and nineteen non on saturday please leave the message and ill get back to you as soon as post thank you ate\n",
      "\n",
      "74 if you are satisfied with your message prince one\n",
      "\n",
      "75 j leave a message after the tone\n",
      "\n",
      "76 please note federal regulations required to make a phone call send a text message or go online every thirty days with your phone to keep your lifetime service active\n",
      "\n",
      "77 who can leave a message after the tone when you have h\n",
      "\n",
      "78 hi this is eight four five seven five zero two eight nine zero take om to the phone right now but please leave the message at the end of the bear and i will get back to you as soon as possible thanks and have a great day\n"
     ]
    }
   ],
   "source": [
    "my_junk7=[] \n",
    "count = 0\n",
    "for i in df_rmv7['Bot Transcription'].astype(str):\n",
    "    if 'message' in i:\n",
    "        print('\\n' + str(count) + ' ' +i)\n",
    "        my_junk7.append(i)\n",
    "        count+=1"
   ]
  },
  {
   "cell_type": "code",
   "execution_count": 222,
   "id": "31619f40",
   "metadata": {},
   "outputs": [],
   "source": [
    "unwanted = [0, 3, 4,7,12, 13, 14, 15,20,21, 29, 32,35, 40,42,69 ,73 , 78 ]\n",
    " \n",
    "for ele in sorted(unwanted, reverse = True):\n",
    "    del my_junk7[ele]"
   ]
  },
  {
   "cell_type": "code",
   "execution_count": 224,
   "id": "e4f4ba50",
   "metadata": {},
   "outputs": [
    {
     "data": {
      "text/plain": [
       "61"
      ]
     },
     "execution_count": 224,
     "metadata": {},
     "output_type": "execute_result"
    }
   ],
   "source": [
    "len(my_junk7)"
   ]
  },
  {
   "cell_type": "code",
   "execution_count": 225,
   "id": "f3231fee",
   "metadata": {},
   "outputs": [
    {
     "data": {
      "text/plain": [
       "79"
      ]
     },
     "execution_count": 225,
     "metadata": {},
     "output_type": "execute_result"
    }
   ],
   "source": [
    "61 + 18"
   ]
  },
  {
   "cell_type": "code",
   "execution_count": 226,
   "id": "effe387d",
   "metadata": {},
   "outputs": [],
   "source": [
    "df_rmv8 = df_rmv7 \n",
    "for i in my_junk7:\n",
    "    df_rmv8 = df_rmv8[df_rmv8[\"Bot Transcription\"] != i ]"
   ]
  },
  {
   "cell_type": "code",
   "execution_count": 227,
   "id": "417e434b",
   "metadata": {},
   "outputs": [
    {
     "data": {
      "text/plain": [
       "(3178, 2)"
      ]
     },
     "execution_count": 227,
     "metadata": {},
     "output_type": "execute_result"
    }
   ],
   "source": [
    "df_rmv8.shape"
   ]
  },
  {
   "cell_type": "code",
   "execution_count": 228,
   "id": "b4388473",
   "metadata": {},
   "outputs": [
    {
     "data": {
      "text/plain": [
       "61"
      ]
     },
     "execution_count": 228,
     "metadata": {},
     "output_type": "execute_result"
    }
   ],
   "source": [
    "3239 - 3178"
   ]
  },
  {
   "cell_type": "code",
   "execution_count": 229,
   "id": "3542b842",
   "metadata": {},
   "outputs": [
    {
     "name": "stdout",
     "output_type": "stream",
     "text": [
      "\n",
      "0 were currently doing something epoch and probably really loud so cant answer the phone but if you like to leave your name number and a grief messages to why you call we will get back to at our earliest convenience please also note that all calls to adjestigmuital tree service or proprirtymanance may be subject to recording for quality assurance and training purposes but we appreciate your call and get back to you hope you have a wonderful day to take care\n",
      "\n",
      "1 you have reached the maximum time permitted for recording your message if your satisfied\n",
      "\n",
      "2 is this the recording\n",
      "\n",
      "3 up mother isnt recording i know thats what im trying to do\n",
      "\n",
      "4 im sure james but i need to hear your actual voice not recording so i need you out pick up the phone and talk to me in now he james ever james i cant hear you louder e ah my us still there oh\n",
      "\n",
      "5 i dont speak the recording\n",
      "\n",
      "6 is is the recording\n",
      "\n",
      "7 i want to talk to a real person not some recording\n",
      "\n",
      "8 the recording said update my profile\n",
      "\n",
      "9 some recording said helen\n",
      "\n",
      "10 are you the same james that sent me of recording yesterday\n",
      "\n",
      "11 you have reached the maximum time permitted for recording your message if youre satisfied\n",
      "\n",
      "12 i just cord a recording hut o\n",
      "\n",
      "13 recording has stopped you have reached the recording limit\n"
     ]
    }
   ],
   "source": [
    "my_junk8=[] \n",
    "count = 0\n",
    "for i in df_rmv7['Bot Transcription'].astype(str):\n",
    "    if 'recording' in i:\n",
    "        print('\\n' + str(count) + ' ' +i)\n",
    "        my_junk8.append(i)\n",
    "        count+=1"
   ]
  },
  {
   "cell_type": "code",
   "execution_count": 239,
   "id": "60a1415a",
   "metadata": {},
   "outputs": [],
   "source": [
    "unwanted = [2 , 3, 4,5,6,7,8,10]\n",
    " \n",
    "for ele in sorted(unwanted, reverse = True):\n",
    "    del my_junk8[ele]"
   ]
  },
  {
   "cell_type": "code",
   "execution_count": 240,
   "id": "f7a46ebe",
   "metadata": {},
   "outputs": [
    {
     "data": {
      "text/plain": [
       "6"
      ]
     },
     "execution_count": 240,
     "metadata": {},
     "output_type": "execute_result"
    }
   ],
   "source": [
    "len(my_junk8)"
   ]
  },
  {
   "cell_type": "code",
   "execution_count": 241,
   "id": "20db7a3e",
   "metadata": {},
   "outputs": [
    {
     "data": {
      "text/plain": [
       "14"
      ]
     },
     "execution_count": 241,
     "metadata": {},
     "output_type": "execute_result"
    }
   ],
   "source": [
    "8 +6  "
   ]
  },
  {
   "cell_type": "code",
   "execution_count": 242,
   "id": "aecb7603",
   "metadata": {},
   "outputs": [],
   "source": [
    "df_rmv9 = df_rmv8 \n",
    "for i in my_junk8:\n",
    "    df_rmv9 = df_rmv9[df_rmv9[\"Bot Transcription\"] != i ]"
   ]
  },
  {
   "cell_type": "code",
   "execution_count": 243,
   "id": "6e5fed04",
   "metadata": {},
   "outputs": [
    {
     "data": {
      "text/plain": [
       "(3173, 2)"
      ]
     },
     "execution_count": 243,
     "metadata": {},
     "output_type": "execute_result"
    }
   ],
   "source": [
    "df_rmv9.shape"
   ]
  },
  {
   "cell_type": "code",
   "execution_count": 245,
   "id": "2733af41",
   "metadata": {},
   "outputs": [
    {
     "data": {
      "text/plain": [
       "5"
      ]
     },
     "execution_count": 245,
     "metadata": {},
     "output_type": "execute_result"
    }
   ],
   "source": [
    "3178 - 3173"
   ]
  },
  {
   "cell_type": "code",
   "execution_count": 246,
   "id": "7912648c",
   "metadata": {},
   "outputs": [
    {
     "data": {
      "text/html": [
       "<div>\n",
       "<style scoped>\n",
       "    .dataframe tbody tr th:only-of-type {\n",
       "        vertical-align: middle;\n",
       "    }\n",
       "\n",
       "    .dataframe tbody tr th {\n",
       "        vertical-align: top;\n",
       "    }\n",
       "\n",
       "    .dataframe thead th {\n",
       "        text-align: right;\n",
       "    }\n",
       "</style>\n",
       "<table border=\"1\" class=\"dataframe\">\n",
       "  <thead>\n",
       "    <tr style=\"text-align: right;\">\n",
       "      <th></th>\n",
       "      <th>Bot Transcription</th>\n",
       "      <th>Recording URL</th>\n",
       "    </tr>\n",
       "  </thead>\n",
       "  <tbody>\n",
       "    <tr>\n",
       "      <th>0</th>\n",
       "      <td>the told never to do the cord</td>\n",
       "      <td>http://192.168.88.254/transcription_wav/transc...</td>\n",
       "    </tr>\n",
       "    <tr>\n",
       "      <th>1</th>\n",
       "      <td>dan e ou fucking computer up you just cant und...</td>\n",
       "      <td>http://192.168.88.254/transcription_wav/transc...</td>\n",
       "    </tr>\n",
       "    <tr>\n",
       "      <th>2</th>\n",
       "      <td>i got a million dollars a day</td>\n",
       "      <td>http://192.168.88.254/transcription_wav/transc...</td>\n",
       "    </tr>\n",
       "    <tr>\n",
       "      <th>3</th>\n",
       "      <td>okay gay</td>\n",
       "      <td>http://192.168.88.254/transcription_wav/transc...</td>\n",
       "    </tr>\n",
       "    <tr>\n",
       "      <th>4</th>\n",
       "      <td>okay the first name is you my latin has got a ...</td>\n",
       "      <td>http://192.168.88.254/transcription_wav/transc...</td>\n",
       "    </tr>\n",
       "    <tr>\n",
       "      <th>...</th>\n",
       "      <td>...</td>\n",
       "      <td>...</td>\n",
       "    </tr>\n",
       "    <tr>\n",
       "      <th>3475</th>\n",
       "      <td>to are you there still</td>\n",
       "      <td>http://192.168.88.254/transcription_wav/transc...</td>\n",
       "    </tr>\n",
       "    <tr>\n",
       "      <th>3476</th>\n",
       "      <td>i do but i dont have any debt im eighty seven ...</td>\n",
       "      <td>http://192.168.88.254/transcription_wav/transc...</td>\n",
       "    </tr>\n",
       "    <tr>\n",
       "      <th>3477</th>\n",
       "      <td>yeah what can of did for you</td>\n",
       "      <td>http://192.168.88.254/transcription_wav/transc...</td>\n",
       "    </tr>\n",
       "    <tr>\n",
       "      <th>3478</th>\n",
       "      <td>youd better believe it tell me all about it james</td>\n",
       "      <td>http://192.168.88.254/transcription_wav/transc...</td>\n",
       "    </tr>\n",
       "    <tr>\n",
       "      <th>3479</th>\n",
       "      <td>tell me tell me about it tell me about it</td>\n",
       "      <td>http://192.168.88.254/transcription_wav/transc...</td>\n",
       "    </tr>\n",
       "  </tbody>\n",
       "</table>\n",
       "<p>3173 rows × 2 columns</p>\n",
       "</div>"
      ],
      "text/plain": [
       "                                      Bot Transcription  \\\n",
       "0                         the told never to do the cord   \n",
       "1     dan e ou fucking computer up you just cant und...   \n",
       "2                         i got a million dollars a day   \n",
       "3                                              okay gay   \n",
       "4     okay the first name is you my latin has got a ...   \n",
       "...                                                 ...   \n",
       "3475                             to are you there still   \n",
       "3476  i do but i dont have any debt im eighty seven ...   \n",
       "3477                       yeah what can of did for you   \n",
       "3478  youd better believe it tell me all about it james   \n",
       "3479          tell me tell me about it tell me about it   \n",
       "\n",
       "                                          Recording URL  \n",
       "0     http://192.168.88.254/transcription_wav/transc...  \n",
       "1     http://192.168.88.254/transcription_wav/transc...  \n",
       "2     http://192.168.88.254/transcription_wav/transc...  \n",
       "3     http://192.168.88.254/transcription_wav/transc...  \n",
       "4     http://192.168.88.254/transcription_wav/transc...  \n",
       "...                                                 ...  \n",
       "3475  http://192.168.88.254/transcription_wav/transc...  \n",
       "3476  http://192.168.88.254/transcription_wav/transc...  \n",
       "3477  http://192.168.88.254/transcription_wav/transc...  \n",
       "3478  http://192.168.88.254/transcription_wav/transc...  \n",
       "3479  http://192.168.88.254/transcription_wav/transc...  \n",
       "\n",
       "[3173 rows x 2 columns]"
      ]
     },
     "execution_count": 246,
     "metadata": {},
     "output_type": "execute_result"
    }
   ],
   "source": [
    "df_rmv9"
   ]
  },
  {
   "cell_type": "code",
   "execution_count": 248,
   "id": "a1c3eaf8",
   "metadata": {},
   "outputs": [
    {
     "name": "stdout",
     "output_type": "stream",
     "text": [
      "\n",
      "0 hello and thank you for calling calls are recorded for quality assurance were very excited to tell you about a special promotion for select callers this would only take a moment by answering just a few questions we will find out if this offer is right for you\n"
     ]
    }
   ],
   "source": [
    "my_junk9=[] \n",
    "count = 0\n",
    "for i in df_rmv9['Bot Transcription'].astype(str):\n",
    "    if 'for quality assurance' in i:\n",
    "        print('\\n' + str(count) + ' ' +i)\n",
    "        my_junk9.append(i)\n",
    "        count+=1"
   ]
  },
  {
   "cell_type": "code",
   "execution_count": 250,
   "id": "631cb86e",
   "metadata": {},
   "outputs": [],
   "source": [
    "df_rmv10 = df_rmv9 \n",
    "for i in my_junk9:\n",
    "    df_rmv10 = df_rmv10[df_rmv10[\"Bot Transcription\"] != i ]"
   ]
  },
  {
   "cell_type": "code",
   "execution_count": 251,
   "id": "a2c7bde6",
   "metadata": {},
   "outputs": [
    {
     "data": {
      "text/html": [
       "<div>\n",
       "<style scoped>\n",
       "    .dataframe tbody tr th:only-of-type {\n",
       "        vertical-align: middle;\n",
       "    }\n",
       "\n",
       "    .dataframe tbody tr th {\n",
       "        vertical-align: top;\n",
       "    }\n",
       "\n",
       "    .dataframe thead th {\n",
       "        text-align: right;\n",
       "    }\n",
       "</style>\n",
       "<table border=\"1\" class=\"dataframe\">\n",
       "  <thead>\n",
       "    <tr style=\"text-align: right;\">\n",
       "      <th></th>\n",
       "      <th>Bot Transcription</th>\n",
       "      <th>Recording URL</th>\n",
       "    </tr>\n",
       "  </thead>\n",
       "  <tbody>\n",
       "    <tr>\n",
       "      <th>0</th>\n",
       "      <td>the told never to do the cord</td>\n",
       "      <td>http://192.168.88.254/transcription_wav/transc...</td>\n",
       "    </tr>\n",
       "    <tr>\n",
       "      <th>1</th>\n",
       "      <td>dan e ou fucking computer up you just cant und...</td>\n",
       "      <td>http://192.168.88.254/transcription_wav/transc...</td>\n",
       "    </tr>\n",
       "    <tr>\n",
       "      <th>2</th>\n",
       "      <td>i got a million dollars a day</td>\n",
       "      <td>http://192.168.88.254/transcription_wav/transc...</td>\n",
       "    </tr>\n",
       "    <tr>\n",
       "      <th>3</th>\n",
       "      <td>okay gay</td>\n",
       "      <td>http://192.168.88.254/transcription_wav/transc...</td>\n",
       "    </tr>\n",
       "    <tr>\n",
       "      <th>4</th>\n",
       "      <td>okay the first name is you my latin has got a ...</td>\n",
       "      <td>http://192.168.88.254/transcription_wav/transc...</td>\n",
       "    </tr>\n",
       "    <tr>\n",
       "      <th>...</th>\n",
       "      <td>...</td>\n",
       "      <td>...</td>\n",
       "    </tr>\n",
       "    <tr>\n",
       "      <th>3475</th>\n",
       "      <td>to are you there still</td>\n",
       "      <td>http://192.168.88.254/transcription_wav/transc...</td>\n",
       "    </tr>\n",
       "    <tr>\n",
       "      <th>3476</th>\n",
       "      <td>i do but i dont have any debt im eighty seven ...</td>\n",
       "      <td>http://192.168.88.254/transcription_wav/transc...</td>\n",
       "    </tr>\n",
       "    <tr>\n",
       "      <th>3477</th>\n",
       "      <td>yeah what can of did for you</td>\n",
       "      <td>http://192.168.88.254/transcription_wav/transc...</td>\n",
       "    </tr>\n",
       "    <tr>\n",
       "      <th>3478</th>\n",
       "      <td>youd better believe it tell me all about it james</td>\n",
       "      <td>http://192.168.88.254/transcription_wav/transc...</td>\n",
       "    </tr>\n",
       "    <tr>\n",
       "      <th>3479</th>\n",
       "      <td>tell me tell me about it tell me about it</td>\n",
       "      <td>http://192.168.88.254/transcription_wav/transc...</td>\n",
       "    </tr>\n",
       "  </tbody>\n",
       "</table>\n",
       "<p>3172 rows × 2 columns</p>\n",
       "</div>"
      ],
      "text/plain": [
       "                                      Bot Transcription  \\\n",
       "0                         the told never to do the cord   \n",
       "1     dan e ou fucking computer up you just cant und...   \n",
       "2                         i got a million dollars a day   \n",
       "3                                              okay gay   \n",
       "4     okay the first name is you my latin has got a ...   \n",
       "...                                                 ...   \n",
       "3475                             to are you there still   \n",
       "3476  i do but i dont have any debt im eighty seven ...   \n",
       "3477                       yeah what can of did for you   \n",
       "3478  youd better believe it tell me all about it james   \n",
       "3479          tell me tell me about it tell me about it   \n",
       "\n",
       "                                          Recording URL  \n",
       "0     http://192.168.88.254/transcription_wav/transc...  \n",
       "1     http://192.168.88.254/transcription_wav/transc...  \n",
       "2     http://192.168.88.254/transcription_wav/transc...  \n",
       "3     http://192.168.88.254/transcription_wav/transc...  \n",
       "4     http://192.168.88.254/transcription_wav/transc...  \n",
       "...                                                 ...  \n",
       "3475  http://192.168.88.254/transcription_wav/transc...  \n",
       "3476  http://192.168.88.254/transcription_wav/transc...  \n",
       "3477  http://192.168.88.254/transcription_wav/transc...  \n",
       "3478  http://192.168.88.254/transcription_wav/transc...  \n",
       "3479  http://192.168.88.254/transcription_wav/transc...  \n",
       "\n",
       "[3172 rows x 2 columns]"
      ]
     },
     "execution_count": 251,
     "metadata": {},
     "output_type": "execute_result"
    }
   ],
   "source": [
    "df_rmv10"
   ]
  },
  {
   "cell_type": "code",
   "execution_count": null,
   "id": "acf25e85",
   "metadata": {},
   "outputs": [],
   "source": [
    "a representative will"
   ]
  },
  {
   "cell_type": "code",
   "execution_count": 255,
   "id": "298d6195",
   "metadata": {},
   "outputs": [],
   "source": [
    "df_rmv10.to_excel(r'ABDUL_SUBOOR_JUNK_CLEAN.xlsx', index = False)"
   ]
  },
  {
   "cell_type": "code",
   "execution_count": null,
   "id": "8084d71e",
   "metadata": {},
   "outputs": [],
   "source": []
  }
 ],
 "metadata": {
  "kernelspec": {
   "display_name": "Python 3",
   "language": "python",
   "name": "python3"
  },
  "language_info": {
   "codemirror_mode": {
    "name": "ipython",
    "version": 3
   },
   "file_extension": ".py",
   "mimetype": "text/x-python",
   "name": "python",
   "nbconvert_exporter": "python",
   "pygments_lexer": "ipython3",
   "version": "3.8.8"
  }
 },
 "nbformat": 4,
 "nbformat_minor": 5
}
