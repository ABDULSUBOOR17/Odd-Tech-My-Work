{
 "cells": [
  {
   "cell_type": "code",
   "execution_count": 39,
   "id": "74b27bb4",
   "metadata": {},
   "outputs": [],
   "source": [
    "import pandas as pd\n",
    "import numpy as np\n",
    "import os"
   ]
  },
  {
   "cell_type": "code",
   "execution_count": 40,
   "id": "fc1bce80",
   "metadata": {},
   "outputs": [],
   "source": [
    "data = pd.read_csv(\"pos_neg2.csv\")"
   ]
  },
  {
   "cell_type": "code",
   "execution_count": 41,
   "id": "d14e1f02",
   "metadata": {},
   "outputs": [
    {
     "data": {
      "text/html": [
       "<div>\n",
       "<style scoped>\n",
       "    .dataframe tbody tr th:only-of-type {\n",
       "        vertical-align: middle;\n",
       "    }\n",
       "\n",
       "    .dataframe tbody tr th {\n",
       "        vertical-align: top;\n",
       "    }\n",
       "\n",
       "    .dataframe thead th {\n",
       "        text-align: right;\n",
       "    }\n",
       "</style>\n",
       "<table border=\"1\" class=\"dataframe\">\n",
       "  <thead>\n",
       "    <tr style=\"text-align: right;\">\n",
       "      <th></th>\n",
       "      <th>text</th>\n",
       "      <th>intent</th>\n",
       "    </tr>\n",
       "  </thead>\n",
       "  <tbody>\n",
       "    <tr>\n",
       "      <th>0</th>\n",
       "      <td>about what</td>\n",
       "      <td>about</td>\n",
       "    </tr>\n",
       "    <tr>\n",
       "      <th>1</th>\n",
       "      <td>what is this about</td>\n",
       "      <td>about</td>\n",
       "    </tr>\n",
       "    <tr>\n",
       "      <th>2</th>\n",
       "      <td>what do you wanna talk about</td>\n",
       "      <td>about</td>\n",
       "    </tr>\n",
       "    <tr>\n",
       "      <th>3</th>\n",
       "      <td>what do you want</td>\n",
       "      <td>about</td>\n",
       "    </tr>\n",
       "    <tr>\n",
       "      <th>4</th>\n",
       "      <td>how can i help you</td>\n",
       "      <td>about</td>\n",
       "    </tr>\n",
       "    <tr>\n",
       "      <th>...</th>\n",
       "      <td>...</td>\n",
       "      <td>...</td>\n",
       "    </tr>\n",
       "    <tr>\n",
       "      <th>261</th>\n",
       "      <td>do I have to do this right now</td>\n",
       "      <td>callback</td>\n",
       "    </tr>\n",
       "    <tr>\n",
       "      <th>262</th>\n",
       "      <td>I don’t want to do  this now</td>\n",
       "      <td>callback</td>\n",
       "    </tr>\n",
       "    <tr>\n",
       "      <th>263</th>\n",
       "      <td>I cant do this right now</td>\n",
       "      <td>callback</td>\n",
       "    </tr>\n",
       "    <tr>\n",
       "      <th>264</th>\n",
       "      <td>i need to speak with my wife</td>\n",
       "      <td>callback</td>\n",
       "    </tr>\n",
       "    <tr>\n",
       "      <th>265</th>\n",
       "      <td>give me a number to callback.</td>\n",
       "      <td>callback</td>\n",
       "    </tr>\n",
       "  </tbody>\n",
       "</table>\n",
       "<p>266 rows × 2 columns</p>\n",
       "</div>"
      ],
      "text/plain": [
       "                               text    intent\n",
       "0                        about what     about\n",
       "1                what is this about     about\n",
       "2      what do you wanna talk about     about\n",
       "3                  what do you want     about\n",
       "4                how can i help you     about\n",
       "..                              ...       ...\n",
       "261  do I have to do this right now  callback\n",
       "262   I don’t want to do  this now   callback\n",
       "263       I cant do this right now   callback\n",
       "264   i need to speak with my wife   callback\n",
       "265   give me a number to callback.  callback\n",
       "\n",
       "[266 rows x 2 columns]"
      ]
     },
     "execution_count": 41,
     "metadata": {},
     "output_type": "execute_result"
    }
   ],
   "source": [
    "data"
   ]
  },
  {
   "cell_type": "code",
   "execution_count": 42,
   "id": "5ce55a9e",
   "metadata": {},
   "outputs": [],
   "source": [
    "df= data.copy()"
   ]
  },
  {
   "cell_type": "code",
   "execution_count": 43,
   "id": "ed3620f8",
   "metadata": {},
   "outputs": [
    {
     "data": {
      "text/html": [
       "<div>\n",
       "<style scoped>\n",
       "    .dataframe tbody tr th:only-of-type {\n",
       "        vertical-align: middle;\n",
       "    }\n",
       "\n",
       "    .dataframe tbody tr th {\n",
       "        vertical-align: top;\n",
       "    }\n",
       "\n",
       "    .dataframe thead th {\n",
       "        text-align: right;\n",
       "    }\n",
       "</style>\n",
       "<table border=\"1\" class=\"dataframe\">\n",
       "  <thead>\n",
       "    <tr style=\"text-align: right;\">\n",
       "      <th></th>\n",
       "      <th>text</th>\n",
       "      <th>intent</th>\n",
       "    </tr>\n",
       "  </thead>\n",
       "  <tbody>\n",
       "    <tr>\n",
       "      <th>0</th>\n",
       "      <td>about what</td>\n",
       "      <td>about</td>\n",
       "    </tr>\n",
       "    <tr>\n",
       "      <th>1</th>\n",
       "      <td>what is this about</td>\n",
       "      <td>about</td>\n",
       "    </tr>\n",
       "    <tr>\n",
       "      <th>2</th>\n",
       "      <td>what do you wanna talk about</td>\n",
       "      <td>about</td>\n",
       "    </tr>\n",
       "    <tr>\n",
       "      <th>3</th>\n",
       "      <td>what do you want</td>\n",
       "      <td>about</td>\n",
       "    </tr>\n",
       "    <tr>\n",
       "      <th>4</th>\n",
       "      <td>how can i help you</td>\n",
       "      <td>about</td>\n",
       "    </tr>\n",
       "  </tbody>\n",
       "</table>\n",
       "</div>"
      ],
      "text/plain": [
       "                           text intent\n",
       "0                    about what  about\n",
       "1            what is this about  about\n",
       "2  what do you wanna talk about  about\n",
       "3              what do you want  about\n",
       "4            how can i help you  about"
      ]
     },
     "execution_count": 43,
     "metadata": {},
     "output_type": "execute_result"
    }
   ],
   "source": [
    "df.head()"
   ]
  },
  {
   "cell_type": "code",
   "execution_count": 44,
   "id": "adfe8810",
   "metadata": {},
   "outputs": [
    {
     "data": {
      "text/html": [
       "<div>\n",
       "<style scoped>\n",
       "    .dataframe tbody tr th:only-of-type {\n",
       "        vertical-align: middle;\n",
       "    }\n",
       "\n",
       "    .dataframe tbody tr th {\n",
       "        vertical-align: top;\n",
       "    }\n",
       "\n",
       "    .dataframe thead th {\n",
       "        text-align: right;\n",
       "    }\n",
       "</style>\n",
       "<table border=\"1\" class=\"dataframe\">\n",
       "  <thead>\n",
       "    <tr style=\"text-align: right;\">\n",
       "      <th></th>\n",
       "      <th>text</th>\n",
       "      <th>intent</th>\n",
       "    </tr>\n",
       "  </thead>\n",
       "  <tbody>\n",
       "    <tr>\n",
       "      <th>261</th>\n",
       "      <td>do I have to do this right now</td>\n",
       "      <td>callback</td>\n",
       "    </tr>\n",
       "    <tr>\n",
       "      <th>262</th>\n",
       "      <td>I don’t want to do  this now</td>\n",
       "      <td>callback</td>\n",
       "    </tr>\n",
       "    <tr>\n",
       "      <th>263</th>\n",
       "      <td>I cant do this right now</td>\n",
       "      <td>callback</td>\n",
       "    </tr>\n",
       "    <tr>\n",
       "      <th>264</th>\n",
       "      <td>i need to speak with my wife</td>\n",
       "      <td>callback</td>\n",
       "    </tr>\n",
       "    <tr>\n",
       "      <th>265</th>\n",
       "      <td>give me a number to callback.</td>\n",
       "      <td>callback</td>\n",
       "    </tr>\n",
       "  </tbody>\n",
       "</table>\n",
       "</div>"
      ],
      "text/plain": [
       "                               text    intent\n",
       "261  do I have to do this right now  callback\n",
       "262   I don’t want to do  this now   callback\n",
       "263       I cant do this right now   callback\n",
       "264   i need to speak with my wife   callback\n",
       "265   give me a number to callback.  callback"
      ]
     },
     "execution_count": 44,
     "metadata": {},
     "output_type": "execute_result"
    }
   ],
   "source": [
    "df.tail()"
   ]
  },
  {
   "cell_type": "code",
   "execution_count": 45,
   "id": "b1b2d7c2",
   "metadata": {},
   "outputs": [
    {
     "data": {
      "text/plain": [
       "(266, 2)"
      ]
     },
     "execution_count": 45,
     "metadata": {},
     "output_type": "execute_result"
    }
   ],
   "source": [
    "df.shape"
   ]
  },
  {
   "cell_type": "code",
   "execution_count": 9,
   "id": "3bbfe6dc",
   "metadata": {},
   "outputs": [
    {
     "data": {
      "text/plain": [
       "text                      intent  \n",
       "no thank you              negative    2\n",
       "call me some other time   callback    2\n",
       "ummm                      positive    1\n",
       "what do I have to do ?    balance     1\n",
       "what did you say          repeat      1\n",
       "                                     ..\n",
       "go ahead                  positive    1\n",
       "go on                     positive    1\n",
       "hello                     positive    1\n",
       "hey                       positive    1\n",
       "yup                       positive    1\n",
       "Length: 264, dtype: int64"
      ]
     },
     "execution_count": 9,
     "metadata": {},
     "output_type": "execute_result"
    }
   ],
   "source": [
    "df.value_counts()"
   ]
  },
  {
   "cell_type": "code",
   "execution_count": 10,
   "id": "1f1814fb",
   "metadata": {},
   "outputs": [
    {
     "data": {
      "text/plain": [
       "text      False\n",
       "intent    False\n",
       "dtype: bool"
      ]
     },
     "execution_count": 10,
     "metadata": {},
     "output_type": "execute_result"
    }
   ],
   "source": [
    "df.isnull().any()"
   ]
  },
  {
   "cell_type": "code",
   "execution_count": 11,
   "id": "b1c18863",
   "metadata": {},
   "outputs": [
    {
     "data": {
      "text/plain": [
       "text      False\n",
       "intent    False\n",
       "dtype: bool"
      ]
     },
     "execution_count": 11,
     "metadata": {},
     "output_type": "execute_result"
    }
   ],
   "source": [
    "df.isna().any()"
   ]
  },
  {
   "cell_type": "code",
   "execution_count": 12,
   "id": "3939ab1b",
   "metadata": {},
   "outputs": [
    {
     "data": {
      "text/plain": [
       "True"
      ]
     },
     "execution_count": 12,
     "metadata": {},
     "output_type": "execute_result"
    }
   ],
   "source": [
    "df['text'].duplicated().any()"
   ]
  },
  {
   "cell_type": "code",
   "execution_count": 13,
   "id": "91b72425",
   "metadata": {},
   "outputs": [
    {
     "data": {
      "text/plain": [
       "False    260\n",
       "True       6\n",
       "Name: text, dtype: int64"
      ]
     },
     "execution_count": 13,
     "metadata": {},
     "output_type": "execute_result"
    }
   ],
   "source": [
    " df['text'].duplicated().value_counts()"
   ]
  },
  {
   "cell_type": "code",
   "execution_count": 29,
   "id": "0301e82c",
   "metadata": {},
   "outputs": [
    {
     "data": {
      "text/plain": [
       "0                          about what\n",
       "1                  what is this about\n",
       "2        what do you wanna talk about\n",
       "3                    what do you want\n",
       "4                  how can i help you\n",
       "                    ...              \n",
       "261    do I have to do this right now\n",
       "262     I don’t want to do  this now \n",
       "263         I cant do this right now \n",
       "264     i need to speak with my wife \n",
       "265     give me a number to callback.\n",
       "Name: text, Length: 260, dtype: object"
      ]
     },
     "execution_count": 29,
     "metadata": {},
     "output_type": "execute_result"
    }
   ],
   "source": [
    " df['text'].drop_duplicates()"
   ]
  },
  {
   "cell_type": "code",
   "execution_count": 30,
   "id": "ca317033",
   "metadata": {},
   "outputs": [
    {
     "data": {
      "text/plain": [
       "(260, 2)"
      ]
     },
     "execution_count": 30,
     "metadata": {},
     "output_type": "execute_result"
    }
   ],
   "source": [
    "df.shape"
   ]
  },
  {
   "cell_type": "code",
   "execution_count": 31,
   "id": "31b4963b",
   "metadata": {},
   "outputs": [
    {
     "data": {
      "text/html": [
       "<div>\n",
       "<style scoped>\n",
       "    .dataframe tbody tr th:only-of-type {\n",
       "        vertical-align: middle;\n",
       "    }\n",
       "\n",
       "    .dataframe tbody tr th {\n",
       "        vertical-align: top;\n",
       "    }\n",
       "\n",
       "    .dataframe thead th {\n",
       "        text-align: right;\n",
       "    }\n",
       "</style>\n",
       "<table border=\"1\" class=\"dataframe\">\n",
       "  <thead>\n",
       "    <tr style=\"text-align: right;\">\n",
       "      <th></th>\n",
       "      <th>text</th>\n",
       "      <th>intent</th>\n",
       "    </tr>\n",
       "  </thead>\n",
       "  <tbody>\n",
       "    <tr>\n",
       "      <th>0</th>\n",
       "      <td>about what</td>\n",
       "      <td>about</td>\n",
       "    </tr>\n",
       "    <tr>\n",
       "      <th>1</th>\n",
       "      <td>what is this about</td>\n",
       "      <td>about</td>\n",
       "    </tr>\n",
       "    <tr>\n",
       "      <th>2</th>\n",
       "      <td>what do you wanna talk about</td>\n",
       "      <td>about</td>\n",
       "    </tr>\n",
       "    <tr>\n",
       "      <th>3</th>\n",
       "      <td>what do you want</td>\n",
       "      <td>about</td>\n",
       "    </tr>\n",
       "    <tr>\n",
       "      <th>4</th>\n",
       "      <td>how can i help you</td>\n",
       "      <td>about</td>\n",
       "    </tr>\n",
       "    <tr>\n",
       "      <th>...</th>\n",
       "      <td>...</td>\n",
       "      <td>...</td>\n",
       "    </tr>\n",
       "    <tr>\n",
       "      <th>261</th>\n",
       "      <td>do I have to do this right now</td>\n",
       "      <td>callback</td>\n",
       "    </tr>\n",
       "    <tr>\n",
       "      <th>262</th>\n",
       "      <td>I don’t want to do  this now</td>\n",
       "      <td>callback</td>\n",
       "    </tr>\n",
       "    <tr>\n",
       "      <th>263</th>\n",
       "      <td>I cant do this right now</td>\n",
       "      <td>callback</td>\n",
       "    </tr>\n",
       "    <tr>\n",
       "      <th>264</th>\n",
       "      <td>i need to speak with my wife</td>\n",
       "      <td>callback</td>\n",
       "    </tr>\n",
       "    <tr>\n",
       "      <th>265</th>\n",
       "      <td>give me a number to callback.</td>\n",
       "      <td>callback</td>\n",
       "    </tr>\n",
       "  </tbody>\n",
       "</table>\n",
       "<p>260 rows × 2 columns</p>\n",
       "</div>"
      ],
      "text/plain": [
       "                               text    intent\n",
       "0                        about what     about\n",
       "1                what is this about     about\n",
       "2      what do you wanna talk about     about\n",
       "3                  what do you want     about\n",
       "4                how can i help you     about\n",
       "..                              ...       ...\n",
       "261  do I have to do this right now  callback\n",
       "262   I don’t want to do  this now   callback\n",
       "263       I cant do this right now   callback\n",
       "264   i need to speak with my wife   callback\n",
       "265   give me a number to callback.  callback\n",
       "\n",
       "[260 rows x 2 columns]"
      ]
     },
     "execution_count": 31,
     "metadata": {},
     "output_type": "execute_result"
    }
   ],
   "source": [
    "df = df.drop_duplicates(subset=['text'])\n",
    "df"
   ]
  },
  {
   "cell_type": "code",
   "execution_count": 36,
   "id": "5e2eac66",
   "metadata": {},
   "outputs": [
    {
     "data": {
      "text/plain": [
       "False    260\n",
       "Name: text, dtype: int64"
      ]
     },
     "execution_count": 36,
     "metadata": {},
     "output_type": "execute_result"
    }
   ],
   "source": [
    " df['text'].duplicated().value_counts()"
   ]
  },
  {
   "cell_type": "code",
   "execution_count": 37,
   "id": "9c1aaffb",
   "metadata": {},
   "outputs": [
    {
     "data": {
      "text/plain": [
       "positive              32\n",
       "negative              26\n",
       "callback              22\n",
       "info                  17\n",
       "liveperson            16\n",
       "about                 15\n",
       "paperwork             14\n",
       "companyname           13\n",
       "howthisprocesswork    13\n",
       "location              11\n",
       "balance               10\n",
       "name                  10\n",
       "cost                  10\n",
       "repeat                10\n",
       "qualified              9\n",
       "program                8\n",
       "catch                  8\n",
       "workfor                7\n",
       "sales                  6\n",
       "transfer               3\n",
       "Name: intent, dtype: int64"
      ]
     },
     "execution_count": 37,
     "metadata": {},
     "output_type": "execute_result"
    }
   ],
   "source": [
    "df['intent'].value_counts()"
   ]
  },
  {
   "cell_type": "code",
   "execution_count": 38,
   "id": "9e057590",
   "metadata": {},
   "outputs": [
    {
     "data": {
      "text/plain": [
       "(260, 2)"
      ]
     },
     "execution_count": 38,
     "metadata": {},
     "output_type": "execute_result"
    }
   ],
   "source": [
    "df.shape"
   ]
  },
  {
   "cell_type": "code",
   "execution_count": 20,
   "id": "ee9e4b3e",
   "metadata": {},
   "outputs": [],
   "source": [
    "import json"
   ]
  },
  {
   "cell_type": "code",
   "execution_count": 42,
   "id": "1860880e",
   "metadata": {},
   "outputs": [
    {
     "name": "stdout",
     "output_type": "stream",
     "text": [
      "[{\"text\":\"about what\",\"intent\":\"about\"},{\"text\":\"what is this about\",\"intent\":\"about\"},{\"text\":\"what do you wanna talk about\",\"intent\":\"about\"},{\"text\":\"what do you want\",\"intent\":\"about\"},{\"text\":\"how can i help you\",\"intent\":\"about\"},{\"text\":\"may i help you\",\"intent\":\"about\"},{\"text\":\"i wanna ask you one question why are you calling senior citizens\",\"intent\":\"about\"},{\"text\":\"why are you calling?\",\"intent\":\"about\"},{\"text\":\"why are you bothering me?\",\"intent\":\"about\"},{\"text\":\"why are you disturbing me?\",\"intent\":\"about\"},{\"text\":\"what do you need?\",\"intent\":\"about\"},{\"text\":\"Do what now?\",\"intent\":\"about\"},{\"text\":\"What this call is in regards?\",\"intent\":\"about\"},{\"text\":\"What are you talking about?\",\"intent\":\"about\"},{\"text\":\"What is the purpose ?\",\"intent\":\"about\"},{\"text\":\"how do i enroll\",\"intent\":\"balance\"},{\"text\":\"what do i do\",\"intent\":\"balance\"},{\"text\":\"why do you need my balance\",\"intent\":\"balance\"},{\"text\":\"how much do i need to have on my cards\",\"intent\":\"balance\"},{\"text\":\"how much do i need to have on my account?\",\"intent\":\"balance\"},{\"text\":\"what's your mininum qualification criteria to enrol\",\"intent\":\"balance\"},{\"text\":\"how much balance do I need to be enrolled in this program \",\"intent\":\"balance\"},{\"text\":\"what do I have to do ?\",\"intent\":\"balance\"},{\"text\":\"I don't know my balance\",\"intent\":\"balance\"},{\"text\":\"How much balance is required?\",\"intent\":\"balance\"},{\"text\":\"whats the catch\",\"intent\":\"catch\"},{\"text\":\"whats is the string attached to this\",\"intent\":\"catch\"},{\"text\":\"do I have to pay anything \",\"intent\":\"catch\"},{\"text\":\"are you gonna charge me anything\",\"intent\":\"catch\"},{\"text\":\"what is the cost involved \",\"intent\":\"catch\"},{\"text\":\"do I hAVE TO Pay anything from my pocket\",\"intent\":\"catch\"},{\"text\":\"Are you going to charge my my card \",\"intent\":\"catch\"},{\"text\":\"to good to be true.\",\"intent\":\"catch\"},{\"text\":\"whats your company name\",\"intent\":\"companyname\"},{\"text\":\"where are you from\",\"intent\":\"companyname\"},{\"text\":\"where are you calling from\",\"intent\":\"companyname\"},{\"text\":\"who are you calling\",\"intent\":\"companyname\"},{\"text\":\"And this call is from where?\",\"intent\":\"companyname\"},{\"text\":\"You're calling me from what place again?\",\"intent\":\"companyname\"},{\"text\":\"which institution are you call me from?\",\"intent\":\"companyname\"},{\"text\":\"are you from the government?\",\"intent\":\"companyname\"},{\"text\":\"who do you work for \",\"intent\":\"companyname\"},{\"text\":\"who do you represent\",\"intent\":\"companyname\"},{\"text\":\"whata is \",\"intent\":\"companyname\"},{\"text\":\"Which company you are calling from?\",\"intent\":\"companyname\"},{\"text\":\"What is the name of your business?\",\"intent\":\"companyname\"},{\"text\":\"whats the cost\",\"intent\":\"cost\"},{\"text\":\"how much does it cost\",\"intent\":\"cost\"},{\"text\":\"what do you guys get for doing this\",\"intent\":\"cost\"},{\"text\":\"what's in it for you\",\"intent\":\"cost\"},{\"text\":\"who pays you?\",\"intent\":\"cost\"},{\"text\":\"whats the catch\",\"intent\":\"cost\"},{\"text\":\"how do you earn your living?\",\"intent\":\"cost\"},{\"text\":\"what you will get out of it\",\"intent\":\"cost\"},{\"text\":\"what do you mean by 0 dollar out of my pocket? \",\"intent\":\"cost\"},{\"text\":\"is this for free?\",\"intent\":\"cost\"},{\"text\":\"How much you will charge?\",\"intent\":\"cost\"},{\"text\":\"how will you do this\",\"intent\":\"howthisprocesswork\"},{\"text\":\"how you gonna do that\",\"intent\":\"howthisprocesswork\"},{\"text\":\"what does it take to eliminate my debt?\",\"intent\":\"howthisprocesswork\"},{\"text\":\"how can I walk away from my debt?\",\"intent\":\"howthisprocesswork\"},{\"text\":\"how do you get the debt cleaeared?\",\"intent\":\"howthisprocesswork\"},{\"text\":\"how do you erase my debt?\",\"intent\":\"howthisprocesswork\"},{\"text\":\"how I will walk away with this without paying anything to my banks\",\"intent\":\"howthisprocesswork\"},{\"text\":\"how you will accomplish this? \",\"intent\":\"howthisprocesswork\"},{\"text\":\"Does it apply on my store card?\",\"intent\":\"howthisprocesswork\"},{\"text\":\"Does it apply on my medical bills?\",\"intent\":\"howthisprocesswork\"},{\"text\":\" My bank will sue me.\",\"intent\":\"howthisprocesswork\"},{\"text\":\"How this is gonna happen?\",\"intent\":\"howthisprocesswork\"},{\"text\":\"What is the process?\",\"intent\":\"howthisprocesswork\"},{\"text\":\"dont you know\",\"intent\":\"info\"},{\"text\":\"dont you have already\",\"intent\":\"info\"},{\"text\":\"you should have it\",\"intent\":\"info\"},{\"text\":\"who you are  calling\",\"intent\":\"info\"},{\"text\":\"who gave you my number\",\"intent\":\"info\"},{\"text\":\"you should have my name\",\"intent\":\"info\"},{\"text\":\"that is my personal information\",\"intent\":\"info\"},{\"text\":\"you called me\",\"intent\":\"info\"},{\"text\":\"you should already have all of my information\",\"intent\":\"info\"},{\"text\":\"you should already have all of my information if you are my credit card company\",\"intent\":\"info\"},{\"text\":\"why you don\\u2019t have my information already\",\"intent\":\"info\"},{\"text\":\"you called me , you tell me\",\"intent\":\"info\"},{\"text\":\"where did you get my information?\",\"intent\":\"info\"},{\"text\":\"do you guys have a website?\",\"intent\":\"info\"},{\"text\":\"Don't you have it ?\",\"intent\":\"info\"},{\"text\":\"You tell me \",\"intent\":\"info\"},{\"text\":\"You must know that\",\"intent\":\"info\"},{\"text\":\"is this a recording\",\"intent\":\"liveperson\"},{\"text\":\"are you a live person\",\"intent\":\"liveperson\"},{\"text\":\"are you machine\",\"intent\":\"liveperson\"},{\"text\":\"are you a robot\",\"intent\":\"liveperson\"},{\"text\":\"are you a computer\",\"intent\":\"liveperson\"},{\"text\":\"you are not a human\",\"intent\":\"liveperson\"},{\"text\":\"is this live recording or just a person\",\"intent\":\"liveperson\"},{\"text\":\"are you a real person?\",\"intent\":\"liveperson\"},{\"text\":\"Is this a human being?\",\"intent\":\"liveperson\"},{\"text\":\"is this a live person\",\"intent\":\"liveperson\"},{\"text\":\"am I talking with a pre recorded voice?\",\"intent\":\"liveperson\"},{\"text\":\"is this even real?\",\"intent\":\"liveperson\"},{\"text\":\"are you for real?\",\"intent\":\"liveperson\"},{\"text\":\"I think you are a robot\",\"intent\":\"liveperson\"},{\"text\":\"I think you are a machine\",\"intent\":\"liveperson\"},{\"text\":\"It\\u2019s the automated system, right?\",\"intent\":\"liveperson\"},{\"text\":\"where is your office\",\"intent\":\"location\"},{\"text\":\"where are you located?\",\"intent\":\"location\"},{\"text\":\"where are you guys at?\",\"intent\":\"location\"},{\"text\":\"what state are you guys in?\",\"intent\":\"location\"},{\"text\":\"where are you from\",\"intent\":\"location\"},{\"text\":\"what city are you guys in?\",\"intent\":\"location\"},{\"text\":\"which country are you calling me from?\",\"intent\":\"location\"},{\"text\":\"where are you based at?\",\"intent\":\"location\"},{\"text\":\"where are you situated?\",\"intent\":\"location\"},{\"text\":\"where is your head office?\",\"intent\":\"location\"},{\"text\":\"What is your location ?\",\"intent\":\"location\"},{\"text\":\"Where you guys are located ?\",\"intent\":\"location\"},{\"text\":\"what is your name\",\"intent\":\"name\"},{\"text\":\"whats your name\",\"intent\":\"name\"},{\"text\":\"who is this\",\"intent\":\"name\"},{\"text\":\"who are you\",\"intent\":\"name\"},{\"text\":\"whos speaking\",\"intent\":\"name\"},{\"text\":\"who is calling please\",\"intent\":\"name\"},{\"text\":\"I didn't catch your name.\",\"intent\":\"name\"},{\"text\":\"do you know my name\",\"intent\":\"name\"},{\"text\":\"who am I speaking with?\",\"intent\":\"name\"},{\"text\":\"who is that\",\"intent\":\"name\"},{\"text\":\"no thank you\",\"intent\":\"negative\"},{\"text\":\"you are being screened by smart call blocker please say your name after the tone press pound\",\"intent\":\"negative\"},{\"text\":\"were sorry were unable to answer your call at this time but if you leave your name and number well get back to you as soon as possible thank you\",\"intent\":\"negative\"},{\"text\":\"at the tone please record your message\",\"intent\":\"negative\"},{\"text\":\"we dont have any debt\",\"intent\":\"negative\"},{\"text\":\"i dont have any debt\",\"intent\":\"negative\"},{\"text\":\"im not interested\",\"intent\":\"negative\"},{\"text\":\"no i dont\",\"intent\":\"negative\"},{\"text\":\"i do not have a debt\",\"intent\":\"negative\"},{\"text\":\"i have no debt\",\"intent\":\"negative\"},{\"text\":\"no i dont i dont have any time for you\",\"intent\":\"negative\"},{\"text\":\"no i dont need any relief\",\"intent\":\"negative\"},{\"text\":\"if you are satisfied with your message\",\"intent\":\"negative\"},{\"text\":\"you have called several times i told you i do not need a debt relief program\",\"intent\":\"negative\"},{\"text\":\"no im not ready to be part of a debt program thank you\",\"intent\":\"negative\"},{\"text\":\"no im not ready to join a debt program thank you\",\"intent\":\"negative\"},{\"text\":\"do not call me again take me off your call list\",\"intent\":\"negative\"},{\"text\":\"no take me off your list\",\"intent\":\"negative\"},{\"text\":\"not really\",\"intent\":\"negative\"},{\"text\":\"no thank you\",\"intent\":\"negative\"},{\"text\":\"i have no time for you\",\"intent\":\"negative\"},{\"text\":\"i dont have any debt on my credit card\",\"intent\":\"negative\"},{\"text\":\"im at work you know i dont have time right now\",\"intent\":\"negative\"},{\"text\":\"i dont have a credit card\",\"intent\":\"negative\"},{\"text\":\"no i dont have that\",\"intent\":\"negative\"},{\"text\":\"thankyou but no thankyou\",\"intent\":\"negative\"},{\"text\":\"mailbox\",\"intent\":\"negative\"},{\"text\":\"send me the paperwork\",\"intent\":\"paperwork\"},{\"text\":\"I will not do anything whithout seeing the papers\",\"intent\":\"paperwork\"},{\"text\":\"I need to see it first in writing\",\"intent\":\"paperwork\"},{\"text\":\"I need everything in writing\",\"intent\":\"paperwork\"},{\"text\":\"need to see everything in black and white first\",\"intent\":\"paperwork\"},{\"text\":\"send me the paperwork first\",\"intent\":\"paperwork\"},{\"text\":\"I need this in writing\",\"intent\":\"paperwork\"},{\"text\":\"I will go with the paperwork \",\"intent\":\"paperwork\"},{\"text\":\"I will show the papers to my lawyer first\",\"intent\":\"paperwork\"},{\"text\":\"I will show the papers to my wife\",\"intent\":\"paperwork\"},{\"text\":\"I will show the papers to my husband\",\"intent\":\"paperwork\"},{\"text\":\"I will show the papers to my son\",\"intent\":\"paperwork\"},{\"text\":\"I don't do business over the phone, send me the paperwork.\",\"intent\":\"paperwork\"},{\"text\":\"Send me something in writing \",\"intent\":\"paperwork\"},{\"text\":\"all right\",\"intent\":\"positive\"},{\"text\":\"continue\",\"intent\":\"positive\"},{\"text\":\"ahan\",\"intent\":\"positive\"},{\"text\":\"go ahead\",\"intent\":\"positive\"},{\"text\":\"go on\",\"intent\":\"positive\"},{\"text\":\"im good\",\"intent\":\"positive\"},{\"text\":\"hello\",\"intent\":\"positive\"},{\"text\":\"hi\",\"intent\":\"positive\"},{\"text\":\"hey\",\"intent\":\"positive\"},{\"text\":\"im listening\",\"intent\":\"positive\"},{\"text\":\"maybe\",\"intent\":\"positive\"},{\"text\":\"sure\",\"intent\":\"positive\"},{\"text\":\"okay\",\"intent\":\"positive\"},{\"text\":\"sounds good\",\"intent\":\"positive\"},{\"text\":\"that is correct\",\"intent\":\"positive\"},{\"text\":\"why not\",\"intent\":\"positive\"},{\"text\":\"yes\",\"intent\":\"positive\"},{\"text\":\"yeah\",\"intent\":\"positive\"},{\"text\":\"yup\",\"intent\":\"positive\"},{\"text\":\"for sure\",\"intent\":\"positive\"},{\"text\":\"yes please\",\"intent\":\"positive\"},{\"text\":\"alright\",\"intent\":\"positive\"},{\"text\":\"ummm\",\"intent\":\"positive\"},{\"text\":\"yes I am\",\"intent\":\"positive\"},{\"text\":\"you are right\",\"intent\":\"positive\"},{\"text\":\"my first name\",\"intent\":\"positive\"},{\"text\":\"my name is\",\"intent\":\"positive\"},{\"text\":\"my last name\",\"intent\":\"positive\"},{\"text\":\"im not sure\",\"intent\":\"positive\"},{\"text\":\"yeah im\",\"intent\":\"positive\"},{\"text\":\"sure go ahead\",\"intent\":\"positive\"},{\"text\":\"sure why not\",\"intent\":\"positive\"},{\"text\":\"what program are you talking about\",\"intent\":\"program\"},{\"text\":\"how this program works\",\"intent\":\"program\"},{\"text\":\"will this hurt my credit score?\",\"intent\":\"program\"},{\"text\":\"will you guys close my credit card\",\"intent\":\"program\"},{\"text\":\"no tell me about program\",\"intent\":\"program\"},{\"text\":\"can I apply for a loan or mortgage?\",\"intent\":\"program\"},{\"text\":\"why I am getting enrolled in this program\",\"intent\":\"program\"},{\"text\":\"Do I have to stop making my payments?\",\"intent\":\"program\"},{\"text\":\"how am i qualified for this\",\"intent\":\"qualified\"},{\"text\":\"how am i qualify\",\"intent\":\"qualified\"},{\"text\":\"how do i qualify\",\"intent\":\"qualified\"},{\"text\":\"how I was selected\",\"intent\":\"qualified\"},{\"text\":\"what is the qualification process\",\"intent\":\"qualified\"},{\"text\":\"how will you make me qualify?\",\"intent\":\"qualified\"},{\"text\":\"what kind of information do you need to make me qualify?\",\"intent\":\"qualified\"},{\"text\":\"what is the qualification criteria\",\"intent\":\"qualified\"},{\"text\":\"what do you mean by qualification purposes?\",\"intent\":\"qualified\"},{\"text\":\"i dont understand\",\"intent\":\"repeat\"},{\"text\":\"i didnt understand\",\"intent\":\"repeat\"},{\"text\":\"anybody there\",\"intent\":\"repeat\"},{\"text\":\"could you repeat that\",\"intent\":\"repeat\"},{\"text\":\"what did you say\",\"intent\":\"repeat\"},{\"text\":\"anything you have to say\",\"intent\":\"repeat\"},{\"text\":\"I beg your pardon\",\"intent\":\"repeat\"},{\"text\":\"say that again\",\"intent\":\"repeat\"},{\"text\":\"can you repeat yourself?\",\"intent\":\"repeat\"},{\"text\":\"say that one more time\",\"intent\":\"repeat\"},{\"text\":\"is this a sales call\",\"intent\":\"sales\"},{\"text\":\"are you selling me something?\",\"intent\":\"sales\"},{\"text\":\"I don\\u2019t want to buy this.\",\"intent\":\"sales\"},{\"text\":\"sales\",\"intent\":\"sales\"},{\"text\":\"are you going to sell me something?\",\"intent\":\"sales\"},{\"text\":\"I receive this sales calls everyday \",\"intent\":\"sales\"},{\"text\":\"who is sponsoring\",\"intent\":\"transfer\"},{\"text\":\"is this government program\",\"intent\":\"transfer\"},{\"text\":\"who is doing\",\"intent\":\"transfer\"},{\"text\":\"are you from the government?\",\"intent\":\"transfer\"},{\"text\":\"who do you work for\",\"intent\":\"workfor\"},{\"text\":\"Who is your Boss\",\"intent\":\"workfor\"},{\"text\":\"Who is your Employer\",\"intent\":\"workfor\"},{\"text\":\"what is the name of your group\",\"intent\":\"workfor\"},{\"text\":\"what is the name of your organization\",\"intent\":\"workfor\"},{\"text\":\"what is the name of your company\",\"intent\":\"workfor\"},{\"text\":\"what is your designation in this company?\",\"intent\":\"workfor\"},{\"text\":\"im at work you know i dont have time right now\",\"intent\":\"callback\"},{\"text\":\"yeah definitely that is wrong moment\",\"intent\":\"callback\"},{\"text\":\"this is not the right time \",\"intent\":\"callback\"},{\"text\":\"I cant stay on the line anymore\",\"intent\":\"callback\"},{\"text\":\" I don\\u2019t have time for this \",\"intent\":\"callback\"},{\"text\":\"can we do this some other time\",\"intent\":\"callback\"},{\"text\":\"I need to get off the phone\",\"intent\":\"callback\"},{\"text\":\"I have an appointment to catch \",\"intent\":\"callback\"},{\"text\":\"I have to leave \",\"intent\":\"callback\"},{\"text\":\"I am busy \",\"intent\":\"callback\"},{\"text\":\"I am occupied right now\",\"intent\":\"callback\"},{\"text\":\"can you call me back \",\"intent\":\"callback\"},{\"text\":\"call me some other time \",\"intent\":\"callback\"},{\"text\":\"can you call me tomorrow\",\"intent\":\"callback\"},{\"text\":\"call me some other time \",\"intent\":\"callback\"},{\"text\":\"call me next week \",\"intent\":\"callback\"},{\"text\":\"call me in couple of weeks \",\"intent\":\"callback\"},{\"text\":\"call me next month\",\"intent\":\"callback\"},{\"text\":\"call me some other day \",\"intent\":\"callback\"},{\"text\":\"do I have to do this right now\",\"intent\":\"callback\"},{\"text\":\"I don\\u2019t want to do  this now \",\"intent\":\"callback\"},{\"text\":\"I cant do this right now \",\"intent\":\"callback\"},{\"text\":\"i need to speak with my wife \",\"intent\":\"callback\"},{\"text\":\"give me a number to callback.\",\"intent\":\"callback\"}]\n"
     ]
    }
   ],
   "source": [
    "js = df.to_json(orient = 'records')\n",
    "\n",
    "print(js)"
   ]
  },
  {
   "cell_type": "code",
   "execution_count": null,
   "id": "bba46719",
   "metadata": {},
   "outputs": [],
   "source": [
    "\n",
    "\n"
   ]
  },
  {
   "cell_type": "code",
   "execution_count": 43,
   "id": "c9fbbabc",
   "metadata": {},
   "outputs": [
    {
     "data": {
      "text/plain": [
       "[{'text': 'about what', 'intent': 'about'},\n",
       " {'text': 'what is this about', 'intent': 'about'},\n",
       " {'text': 'what do you wanna talk about', 'intent': 'about'},\n",
       " {'text': 'what do you want', 'intent': 'about'},\n",
       " {'text': 'how can i help you', 'intent': 'about'},\n",
       " {'text': 'may i help you', 'intent': 'about'},\n",
       " {'text': 'i wanna ask you one question why are you calling senior citizens',\n",
       "  'intent': 'about'},\n",
       " {'text': 'why are you calling?', 'intent': 'about'},\n",
       " {'text': 'why are you bothering me?', 'intent': 'about'},\n",
       " {'text': 'why are you disturbing me?', 'intent': 'about'},\n",
       " {'text': 'what do you need?', 'intent': 'about'},\n",
       " {'text': 'Do what now?', 'intent': 'about'},\n",
       " {'text': 'What this call is in regards?', 'intent': 'about'},\n",
       " {'text': 'What are you talking about?', 'intent': 'about'},\n",
       " {'text': 'What is the purpose ?', 'intent': 'about'},\n",
       " {'text': 'how do i enroll', 'intent': 'balance'},\n",
       " {'text': 'what do i do', 'intent': 'balance'},\n",
       " {'text': 'why do you need my balance', 'intent': 'balance'},\n",
       " {'text': 'how much do i need to have on my cards', 'intent': 'balance'},\n",
       " {'text': 'how much do i need to have on my account?', 'intent': 'balance'},\n",
       " {'text': \"what's your mininum qualification criteria to enrol\",\n",
       "  'intent': 'balance'},\n",
       " {'text': 'how much balance do I need to be enrolled in this program ',\n",
       "  'intent': 'balance'},\n",
       " {'text': 'what do I have to do ?', 'intent': 'balance'},\n",
       " {'text': \"I don't know my balance\", 'intent': 'balance'},\n",
       " {'text': 'How much balance is required?', 'intent': 'balance'},\n",
       " {'text': 'whats the catch', 'intent': 'catch'},\n",
       " {'text': 'whats is the string attached to this', 'intent': 'catch'},\n",
       " {'text': 'do I have to pay anything ', 'intent': 'catch'},\n",
       " {'text': 'are you gonna charge me anything', 'intent': 'catch'},\n",
       " {'text': 'what is the cost involved ', 'intent': 'catch'},\n",
       " {'text': 'do I hAVE TO Pay anything from my pocket', 'intent': 'catch'},\n",
       " {'text': 'Are you going to charge my my card ', 'intent': 'catch'},\n",
       " {'text': 'to good to be true.', 'intent': 'catch'},\n",
       " {'text': 'whats your company name', 'intent': 'companyname'},\n",
       " {'text': 'where are you from', 'intent': 'companyname'},\n",
       " {'text': 'where are you calling from', 'intent': 'companyname'},\n",
       " {'text': 'who are you calling', 'intent': 'companyname'},\n",
       " {'text': 'And this call is from where?', 'intent': 'companyname'},\n",
       " {'text': \"You're calling me from what place again?\", 'intent': 'companyname'},\n",
       " {'text': 'which institution are you call me from?', 'intent': 'companyname'},\n",
       " {'text': 'are you from the government?', 'intent': 'companyname'},\n",
       " {'text': 'who do you work for ', 'intent': 'companyname'},\n",
       " {'text': 'who do you represent', 'intent': 'companyname'},\n",
       " {'text': 'whata is ', 'intent': 'companyname'},\n",
       " {'text': 'Which company you are calling from?', 'intent': 'companyname'},\n",
       " {'text': 'What is the name of your business?', 'intent': 'companyname'},\n",
       " {'text': 'whats the cost', 'intent': 'cost'},\n",
       " {'text': 'how much does it cost', 'intent': 'cost'},\n",
       " {'text': 'what do you guys get for doing this', 'intent': 'cost'},\n",
       " {'text': \"what's in it for you\", 'intent': 'cost'},\n",
       " {'text': 'who pays you?', 'intent': 'cost'},\n",
       " {'text': 'whats the catch', 'intent': 'cost'},\n",
       " {'text': 'how do you earn your living?', 'intent': 'cost'},\n",
       " {'text': 'what you will get out of it', 'intent': 'cost'},\n",
       " {'text': 'what do you mean by 0 dollar out of my pocket? ', 'intent': 'cost'},\n",
       " {'text': 'is this for free?', 'intent': 'cost'},\n",
       " {'text': 'How much you will charge?', 'intent': 'cost'},\n",
       " {'text': 'how will you do this', 'intent': 'howthisprocesswork'},\n",
       " {'text': 'how you gonna do that', 'intent': 'howthisprocesswork'},\n",
       " {'text': 'what does it take to eliminate my debt?',\n",
       "  'intent': 'howthisprocesswork'},\n",
       " {'text': 'how can I walk away from my debt?', 'intent': 'howthisprocesswork'},\n",
       " {'text': 'how do you get the debt cleaeared?',\n",
       "  'intent': 'howthisprocesswork'},\n",
       " {'text': 'how do you erase my debt?', 'intent': 'howthisprocesswork'},\n",
       " {'text': 'how I will walk away with this without paying anything to my banks',\n",
       "  'intent': 'howthisprocesswork'},\n",
       " {'text': 'how you will accomplish this? ', 'intent': 'howthisprocesswork'},\n",
       " {'text': 'Does it apply on my store card?', 'intent': 'howthisprocesswork'},\n",
       " {'text': 'Does it apply on my medical bills?',\n",
       "  'intent': 'howthisprocesswork'},\n",
       " {'text': ' My bank will sue me.', 'intent': 'howthisprocesswork'},\n",
       " {'text': 'How this is gonna happen?', 'intent': 'howthisprocesswork'},\n",
       " {'text': 'What is the process?', 'intent': 'howthisprocesswork'},\n",
       " {'text': 'dont you know', 'intent': 'info'},\n",
       " {'text': 'dont you have already', 'intent': 'info'},\n",
       " {'text': 'you should have it', 'intent': 'info'},\n",
       " {'text': 'who you are  calling', 'intent': 'info'},\n",
       " {'text': 'who gave you my number', 'intent': 'info'},\n",
       " {'text': 'you should have my name', 'intent': 'info'},\n",
       " {'text': 'that is my personal information', 'intent': 'info'},\n",
       " {'text': 'you called me', 'intent': 'info'},\n",
       " {'text': 'you should already have all of my information', 'intent': 'info'},\n",
       " {'text': 'you should already have all of my information if you are my credit card company',\n",
       "  'intent': 'info'},\n",
       " {'text': 'why you don’t have my information already', 'intent': 'info'},\n",
       " {'text': 'you called me , you tell me', 'intent': 'info'},\n",
       " {'text': 'where did you get my information?', 'intent': 'info'},\n",
       " {'text': 'do you guys have a website?', 'intent': 'info'},\n",
       " {'text': \"Don't you have it ?\", 'intent': 'info'},\n",
       " {'text': 'You tell me ', 'intent': 'info'},\n",
       " {'text': 'You must know that', 'intent': 'info'},\n",
       " {'text': 'is this a recording', 'intent': 'liveperson'},\n",
       " {'text': 'are you a live person', 'intent': 'liveperson'},\n",
       " {'text': 'are you machine', 'intent': 'liveperson'},\n",
       " {'text': 'are you a robot', 'intent': 'liveperson'},\n",
       " {'text': 'are you a computer', 'intent': 'liveperson'},\n",
       " {'text': 'you are not a human', 'intent': 'liveperson'},\n",
       " {'text': 'is this live recording or just a person', 'intent': 'liveperson'},\n",
       " {'text': 'are you a real person?', 'intent': 'liveperson'},\n",
       " {'text': 'Is this a human being?', 'intent': 'liveperson'},\n",
       " {'text': 'is this a live person', 'intent': 'liveperson'},\n",
       " {'text': 'am I talking with a pre recorded voice?', 'intent': 'liveperson'},\n",
       " {'text': 'is this even real?', 'intent': 'liveperson'},\n",
       " {'text': 'are you for real?', 'intent': 'liveperson'},\n",
       " {'text': 'I think you are a robot', 'intent': 'liveperson'},\n",
       " {'text': 'I think you are a machine', 'intent': 'liveperson'},\n",
       " {'text': 'It’s the automated system, right?', 'intent': 'liveperson'},\n",
       " {'text': 'where is your office', 'intent': 'location'},\n",
       " {'text': 'where are you located?', 'intent': 'location'},\n",
       " {'text': 'where are you guys at?', 'intent': 'location'},\n",
       " {'text': 'what state are you guys in?', 'intent': 'location'},\n",
       " {'text': 'where are you from', 'intent': 'location'},\n",
       " {'text': 'what city are you guys in?', 'intent': 'location'},\n",
       " {'text': 'which country are you calling me from?', 'intent': 'location'},\n",
       " {'text': 'where are you based at?', 'intent': 'location'},\n",
       " {'text': 'where are you situated?', 'intent': 'location'},\n",
       " {'text': 'where is your head office?', 'intent': 'location'},\n",
       " {'text': 'What is your location ?', 'intent': 'location'},\n",
       " {'text': 'Where you guys are located ?', 'intent': 'location'},\n",
       " {'text': 'what is your name', 'intent': 'name'},\n",
       " {'text': 'whats your name', 'intent': 'name'},\n",
       " {'text': 'who is this', 'intent': 'name'},\n",
       " {'text': 'who are you', 'intent': 'name'},\n",
       " {'text': 'whos speaking', 'intent': 'name'},\n",
       " {'text': 'who is calling please', 'intent': 'name'},\n",
       " {'text': \"I didn't catch your name.\", 'intent': 'name'},\n",
       " {'text': 'do you know my name', 'intent': 'name'},\n",
       " {'text': 'who am I speaking with?', 'intent': 'name'},\n",
       " {'text': 'who is that', 'intent': 'name'},\n",
       " {'text': 'no thank you', 'intent': 'negative'},\n",
       " {'text': 'you are being screened by smart call blocker please say your name after the tone press pound',\n",
       "  'intent': 'negative'},\n",
       " {'text': 'were sorry were unable to answer your call at this time but if you leave your name and number well get back to you as soon as possible thank you',\n",
       "  'intent': 'negative'},\n",
       " {'text': 'at the tone please record your message', 'intent': 'negative'},\n",
       " {'text': 'we dont have any debt', 'intent': 'negative'},\n",
       " {'text': 'i dont have any debt', 'intent': 'negative'},\n",
       " {'text': 'im not interested', 'intent': 'negative'},\n",
       " {'text': 'no i dont', 'intent': 'negative'},\n",
       " {'text': 'i do not have a debt', 'intent': 'negative'},\n",
       " {'text': 'i have no debt', 'intent': 'negative'},\n",
       " {'text': 'no i dont i dont have any time for you', 'intent': 'negative'},\n",
       " {'text': 'no i dont need any relief', 'intent': 'negative'},\n",
       " {'text': 'if you are satisfied with your message', 'intent': 'negative'},\n",
       " {'text': 'you have called several times i told you i do not need a debt relief program',\n",
       "  'intent': 'negative'},\n",
       " {'text': 'no im not ready to be part of a debt program thank you',\n",
       "  'intent': 'negative'},\n",
       " {'text': 'no im not ready to join a debt program thank you',\n",
       "  'intent': 'negative'},\n",
       " {'text': 'do not call me again take me off your call list',\n",
       "  'intent': 'negative'},\n",
       " {'text': 'no take me off your list', 'intent': 'negative'},\n",
       " {'text': 'not really', 'intent': 'negative'},\n",
       " {'text': 'no thank you', 'intent': 'negative'},\n",
       " {'text': 'i have no time for you', 'intent': 'negative'},\n",
       " {'text': 'i dont have any debt on my credit card', 'intent': 'negative'},\n",
       " {'text': 'im at work you know i dont have time right now',\n",
       "  'intent': 'negative'},\n",
       " {'text': 'i dont have a credit card', 'intent': 'negative'},\n",
       " {'text': 'no i dont have that', 'intent': 'negative'},\n",
       " {'text': 'thankyou but no thankyou', 'intent': 'negative'},\n",
       " {'text': 'mailbox', 'intent': 'negative'},\n",
       " {'text': 'send me the paperwork', 'intent': 'paperwork'},\n",
       " {'text': 'I will not do anything whithout seeing the papers',\n",
       "  'intent': 'paperwork'},\n",
       " {'text': 'I need to see it first in writing', 'intent': 'paperwork'},\n",
       " {'text': 'I need everything in writing', 'intent': 'paperwork'},\n",
       " {'text': 'need to see everything in black and white first',\n",
       "  'intent': 'paperwork'},\n",
       " {'text': 'send me the paperwork first', 'intent': 'paperwork'},\n",
       " {'text': 'I need this in writing', 'intent': 'paperwork'},\n",
       " {'text': 'I will go with the paperwork ', 'intent': 'paperwork'},\n",
       " {'text': 'I will show the papers to my lawyer first', 'intent': 'paperwork'},\n",
       " {'text': 'I will show the papers to my wife', 'intent': 'paperwork'},\n",
       " {'text': 'I will show the papers to my husband', 'intent': 'paperwork'},\n",
       " {'text': 'I will show the papers to my son', 'intent': 'paperwork'},\n",
       " {'text': \"I don't do business over the phone, send me the paperwork.\",\n",
       "  'intent': 'paperwork'},\n",
       " {'text': 'Send me something in writing ', 'intent': 'paperwork'},\n",
       " {'text': 'all right', 'intent': 'positive'},\n",
       " {'text': 'continue', 'intent': 'positive'},\n",
       " {'text': 'ahan', 'intent': 'positive'},\n",
       " {'text': 'go ahead', 'intent': 'positive'},\n",
       " {'text': 'go on', 'intent': 'positive'},\n",
       " {'text': 'im good', 'intent': 'positive'},\n",
       " {'text': 'hello', 'intent': 'positive'},\n",
       " {'text': 'hi', 'intent': 'positive'},\n",
       " {'text': 'hey', 'intent': 'positive'},\n",
       " {'text': 'im listening', 'intent': 'positive'},\n",
       " {'text': 'maybe', 'intent': 'positive'},\n",
       " {'text': 'sure', 'intent': 'positive'},\n",
       " {'text': 'okay', 'intent': 'positive'},\n",
       " {'text': 'sounds good', 'intent': 'positive'},\n",
       " {'text': 'that is correct', 'intent': 'positive'},\n",
       " {'text': 'why not', 'intent': 'positive'},\n",
       " {'text': 'yes', 'intent': 'positive'},\n",
       " {'text': 'yeah', 'intent': 'positive'},\n",
       " {'text': 'yup', 'intent': 'positive'},\n",
       " {'text': 'for sure', 'intent': 'positive'},\n",
       " {'text': 'yes please', 'intent': 'positive'},\n",
       " {'text': 'alright', 'intent': 'positive'},\n",
       " {'text': 'ummm', 'intent': 'positive'},\n",
       " {'text': 'yes I am', 'intent': 'positive'},\n",
       " {'text': 'you are right', 'intent': 'positive'},\n",
       " {'text': 'my first name', 'intent': 'positive'},\n",
       " {'text': 'my name is', 'intent': 'positive'},\n",
       " {'text': 'my last name', 'intent': 'positive'},\n",
       " {'text': 'im not sure', 'intent': 'positive'},\n",
       " {'text': 'yeah im', 'intent': 'positive'},\n",
       " {'text': 'sure go ahead', 'intent': 'positive'},\n",
       " {'text': 'sure why not', 'intent': 'positive'},\n",
       " {'text': 'what program are you talking about', 'intent': 'program'},\n",
       " {'text': 'how this program works', 'intent': 'program'},\n",
       " {'text': 'will this hurt my credit score?', 'intent': 'program'},\n",
       " {'text': 'will you guys close my credit card', 'intent': 'program'},\n",
       " {'text': 'no tell me about program', 'intent': 'program'},\n",
       " {'text': 'can I apply for a loan or mortgage?', 'intent': 'program'},\n",
       " {'text': 'why I am getting enrolled in this program', 'intent': 'program'},\n",
       " {'text': 'Do I have to stop making my payments?', 'intent': 'program'},\n",
       " {'text': 'how am i qualified for this', 'intent': 'qualified'},\n",
       " {'text': 'how am i qualify', 'intent': 'qualified'},\n",
       " {'text': 'how do i qualify', 'intent': 'qualified'},\n",
       " {'text': 'how I was selected', 'intent': 'qualified'},\n",
       " {'text': 'what is the qualification process', 'intent': 'qualified'},\n",
       " {'text': 'how will you make me qualify?', 'intent': 'qualified'},\n",
       " {'text': 'what kind of information do you need to make me qualify?',\n",
       "  'intent': 'qualified'},\n",
       " {'text': 'what is the qualification criteria', 'intent': 'qualified'},\n",
       " {'text': 'what do you mean by qualification purposes?',\n",
       "  'intent': 'qualified'},\n",
       " {'text': 'i dont understand', 'intent': 'repeat'},\n",
       " {'text': 'i didnt understand', 'intent': 'repeat'},\n",
       " {'text': 'anybody there', 'intent': 'repeat'},\n",
       " {'text': 'could you repeat that', 'intent': 'repeat'},\n",
       " {'text': 'what did you say', 'intent': 'repeat'},\n",
       " {'text': 'anything you have to say', 'intent': 'repeat'},\n",
       " {'text': 'I beg your pardon', 'intent': 'repeat'},\n",
       " {'text': 'say that again', 'intent': 'repeat'},\n",
       " {'text': 'can you repeat yourself?', 'intent': 'repeat'},\n",
       " {'text': 'say that one more time', 'intent': 'repeat'},\n",
       " {'text': 'is this a sales call', 'intent': 'sales'},\n",
       " {'text': 'are you selling me something?', 'intent': 'sales'},\n",
       " {'text': 'I don’t want to buy this.', 'intent': 'sales'},\n",
       " {'text': 'sales', 'intent': 'sales'},\n",
       " {'text': 'are you going to sell me something?', 'intent': 'sales'},\n",
       " {'text': 'I receive this sales calls everyday ', 'intent': 'sales'},\n",
       " {'text': 'who is sponsoring', 'intent': 'transfer'},\n",
       " {'text': 'is this government program', 'intent': 'transfer'},\n",
       " {'text': 'who is doing', 'intent': 'transfer'},\n",
       " {'text': 'are you from the government?', 'intent': 'transfer'},\n",
       " {'text': 'who do you work for', 'intent': 'workfor'},\n",
       " {'text': 'Who is your Boss', 'intent': 'workfor'},\n",
       " {'text': 'Who is your Employer', 'intent': 'workfor'},\n",
       " {'text': 'what is the name of your group', 'intent': 'workfor'},\n",
       " {'text': 'what is the name of your organization', 'intent': 'workfor'},\n",
       " {'text': 'what is the name of your company', 'intent': 'workfor'},\n",
       " {'text': 'what is your designation in this company?', 'intent': 'workfor'},\n",
       " {'text': 'im at work you know i dont have time right now',\n",
       "  'intent': 'callback'},\n",
       " {'text': 'yeah definitely that is wrong moment', 'intent': 'callback'},\n",
       " {'text': 'this is not the right time ', 'intent': 'callback'},\n",
       " {'text': 'I cant stay on the line anymore', 'intent': 'callback'},\n",
       " {'text': ' I don’t have time for this ', 'intent': 'callback'},\n",
       " {'text': 'can we do this some other time', 'intent': 'callback'},\n",
       " {'text': 'I need to get off the phone', 'intent': 'callback'},\n",
       " {'text': 'I have an appointment to catch ', 'intent': 'callback'},\n",
       " {'text': 'I have to leave ', 'intent': 'callback'},\n",
       " {'text': 'I am busy ', 'intent': 'callback'},\n",
       " {'text': 'I am occupied right now', 'intent': 'callback'},\n",
       " {'text': 'can you call me back ', 'intent': 'callback'},\n",
       " {'text': 'call me some other time ', 'intent': 'callback'},\n",
       " {'text': 'can you call me tomorrow', 'intent': 'callback'},\n",
       " {'text': 'call me some other time ', 'intent': 'callback'},\n",
       " {'text': 'call me next week ', 'intent': 'callback'},\n",
       " {'text': 'call me in couple of weeks ', 'intent': 'callback'},\n",
       " {'text': 'call me next month', 'intent': 'callback'},\n",
       " {'text': 'call me some other day ', 'intent': 'callback'},\n",
       " {'text': 'do I have to do this right now', 'intent': 'callback'},\n",
       " {'text': 'I don’t want to do  this now ', 'intent': 'callback'},\n",
       " {'text': 'I cant do this right now ', 'intent': 'callback'},\n",
       " {'text': 'i need to speak with my wife ', 'intent': 'callback'},\n",
       " {'text': 'give me a number to callback.', 'intent': 'callback'}]"
      ]
     },
     "execution_count": 43,
     "metadata": {},
     "output_type": "execute_result"
    }
   ],
   "source": [
    "dict_data = df.to_dict('records')\n",
    "dict_data"
   ]
  },
  {
   "cell_type": "code",
   "execution_count": 44,
   "id": "35dc58a2",
   "metadata": {},
   "outputs": [
    {
     "name": "stdout",
     "output_type": "stream",
     "text": [
      "[{\"text\": \"about what\", \"intent\": \"about\"}, {\"text\": \"what is this about\", \"intent\": \"about\"}, {\"text\": \"what do you wanna talk about\", \"intent\": \"about\"}, {\"text\": \"what do you want\", \"intent\": \"about\"}, {\"text\": \"how can i help you\", \"intent\": \"about\"}, {\"text\": \"may i help you\", \"intent\": \"about\"}, {\"text\": \"i wanna ask you one question why are you calling senior citizens\", \"intent\": \"about\"}, {\"text\": \"why are you calling?\", \"intent\": \"about\"}, {\"text\": \"why are you bothering me?\", \"intent\": \"about\"}, {\"text\": \"why are you disturbing me?\", \"intent\": \"about\"}, {\"text\": \"what do you need?\", \"intent\": \"about\"}, {\"text\": \"Do what now?\", \"intent\": \"about\"}, {\"text\": \"What this call is in regards?\", \"intent\": \"about\"}, {\"text\": \"What are you talking about?\", \"intent\": \"about\"}, {\"text\": \"What is the purpose ?\", \"intent\": \"about\"}, {\"text\": \"how do i enroll\", \"intent\": \"balance\"}, {\"text\": \"what do i do\", \"intent\": \"balance\"}, {\"text\": \"why do you need my balance\", \"intent\": \"balance\"}, {\"text\": \"how much do i need to have on my cards\", \"intent\": \"balance\"}, {\"text\": \"how much do i need to have on my account?\", \"intent\": \"balance\"}, {\"text\": \"what's your mininum qualification criteria to enrol\", \"intent\": \"balance\"}, {\"text\": \"how much balance do I need to be enrolled in this program \", \"intent\": \"balance\"}, {\"text\": \"what do I have to do ?\", \"intent\": \"balance\"}, {\"text\": \"I don't know my balance\", \"intent\": \"balance\"}, {\"text\": \"How much balance is required?\", \"intent\": \"balance\"}, {\"text\": \"whats the catch\", \"intent\": \"catch\"}, {\"text\": \"whats is the string attached to this\", \"intent\": \"catch\"}, {\"text\": \"do I have to pay anything \", \"intent\": \"catch\"}, {\"text\": \"are you gonna charge me anything\", \"intent\": \"catch\"}, {\"text\": \"what is the cost involved \", \"intent\": \"catch\"}, {\"text\": \"do I hAVE TO Pay anything from my pocket\", \"intent\": \"catch\"}, {\"text\": \"Are you going to charge my my card \", \"intent\": \"catch\"}, {\"text\": \"to good to be true.\", \"intent\": \"catch\"}, {\"text\": \"whats your company name\", \"intent\": \"companyname\"}, {\"text\": \"where are you from\", \"intent\": \"companyname\"}, {\"text\": \"where are you calling from\", \"intent\": \"companyname\"}, {\"text\": \"who are you calling\", \"intent\": \"companyname\"}, {\"text\": \"And this call is from where?\", \"intent\": \"companyname\"}, {\"text\": \"You're calling me from what place again?\", \"intent\": \"companyname\"}, {\"text\": \"which institution are you call me from?\", \"intent\": \"companyname\"}, {\"text\": \"are you from the government?\", \"intent\": \"companyname\"}, {\"text\": \"who do you work for \", \"intent\": \"companyname\"}, {\"text\": \"who do you represent\", \"intent\": \"companyname\"}, {\"text\": \"whata is \", \"intent\": \"companyname\"}, {\"text\": \"Which company you are calling from?\", \"intent\": \"companyname\"}, {\"text\": \"What is the name of your business?\", \"intent\": \"companyname\"}, {\"text\": \"whats the cost\", \"intent\": \"cost\"}, {\"text\": \"how much does it cost\", \"intent\": \"cost\"}, {\"text\": \"what do you guys get for doing this\", \"intent\": \"cost\"}, {\"text\": \"what's in it for you\", \"intent\": \"cost\"}, {\"text\": \"who pays you?\", \"intent\": \"cost\"}, {\"text\": \"whats the catch\", \"intent\": \"cost\"}, {\"text\": \"how do you earn your living?\", \"intent\": \"cost\"}, {\"text\": \"what you will get out of it\", \"intent\": \"cost\"}, {\"text\": \"what do you mean by 0 dollar out of my pocket? \", \"intent\": \"cost\"}, {\"text\": \"is this for free?\", \"intent\": \"cost\"}, {\"text\": \"How much you will charge?\", \"intent\": \"cost\"}, {\"text\": \"how will you do this\", \"intent\": \"howthisprocesswork\"}, {\"text\": \"how you gonna do that\", \"intent\": \"howthisprocesswork\"}, {\"text\": \"what does it take to eliminate my debt?\", \"intent\": \"howthisprocesswork\"}, {\"text\": \"how can I walk away from my debt?\", \"intent\": \"howthisprocesswork\"}, {\"text\": \"how do you get the debt cleaeared?\", \"intent\": \"howthisprocesswork\"}, {\"text\": \"how do you erase my debt?\", \"intent\": \"howthisprocesswork\"}, {\"text\": \"how I will walk away with this without paying anything to my banks\", \"intent\": \"howthisprocesswork\"}, {\"text\": \"how you will accomplish this? \", \"intent\": \"howthisprocesswork\"}, {\"text\": \"Does it apply on my store card?\", \"intent\": \"howthisprocesswork\"}, {\"text\": \"Does it apply on my medical bills?\", \"intent\": \"howthisprocesswork\"}, {\"text\": \" My bank will sue me.\", \"intent\": \"howthisprocesswork\"}, {\"text\": \"How this is gonna happen?\", \"intent\": \"howthisprocesswork\"}, {\"text\": \"What is the process?\", \"intent\": \"howthisprocesswork\"}, {\"text\": \"dont you know\", \"intent\": \"info\"}, {\"text\": \"dont you have already\", \"intent\": \"info\"}, {\"text\": \"you should have it\", \"intent\": \"info\"}, {\"text\": \"who you are  calling\", \"intent\": \"info\"}, {\"text\": \"who gave you my number\", \"intent\": \"info\"}, {\"text\": \"you should have my name\", \"intent\": \"info\"}, {\"text\": \"that is my personal information\", \"intent\": \"info\"}, {\"text\": \"you called me\", \"intent\": \"info\"}, {\"text\": \"you should already have all of my information\", \"intent\": \"info\"}, {\"text\": \"you should already have all of my information if you are my credit card company\", \"intent\": \"info\"}, {\"text\": \"why you don\\u2019t have my information already\", \"intent\": \"info\"}, {\"text\": \"you called me , you tell me\", \"intent\": \"info\"}, {\"text\": \"where did you get my information?\", \"intent\": \"info\"}, {\"text\": \"do you guys have a website?\", \"intent\": \"info\"}, {\"text\": \"Don't you have it ?\", \"intent\": \"info\"}, {\"text\": \"You tell me \", \"intent\": \"info\"}, {\"text\": \"You must know that\", \"intent\": \"info\"}, {\"text\": \"is this a recording\", \"intent\": \"liveperson\"}, {\"text\": \"are you a live person\", \"intent\": \"liveperson\"}, {\"text\": \"are you machine\", \"intent\": \"liveperson\"}, {\"text\": \"are you a robot\", \"intent\": \"liveperson\"}, {\"text\": \"are you a computer\", \"intent\": \"liveperson\"}, {\"text\": \"you are not a human\", \"intent\": \"liveperson\"}, {\"text\": \"is this live recording or just a person\", \"intent\": \"liveperson\"}, {\"text\": \"are you a real person?\", \"intent\": \"liveperson\"}, {\"text\": \"Is this a human being?\", \"intent\": \"liveperson\"}, {\"text\": \"is this a live person\", \"intent\": \"liveperson\"}, {\"text\": \"am I talking with a pre recorded voice?\", \"intent\": \"liveperson\"}, {\"text\": \"is this even real?\", \"intent\": \"liveperson\"}, {\"text\": \"are you for real?\", \"intent\": \"liveperson\"}, {\"text\": \"I think you are a robot\", \"intent\": \"liveperson\"}, {\"text\": \"I think you are a machine\", \"intent\": \"liveperson\"}, {\"text\": \"It\\u2019s the automated system, right?\", \"intent\": \"liveperson\"}, {\"text\": \"where is your office\", \"intent\": \"location\"}, {\"text\": \"where are you located?\", \"intent\": \"location\"}, {\"text\": \"where are you guys at?\", \"intent\": \"location\"}, {\"text\": \"what state are you guys in?\", \"intent\": \"location\"}, {\"text\": \"where are you from\", \"intent\": \"location\"}, {\"text\": \"what city are you guys in?\", \"intent\": \"location\"}, {\"text\": \"which country are you calling me from?\", \"intent\": \"location\"}, {\"text\": \"where are you based at?\", \"intent\": \"location\"}, {\"text\": \"where are you situated?\", \"intent\": \"location\"}, {\"text\": \"where is your head office?\", \"intent\": \"location\"}, {\"text\": \"What is your location ?\", \"intent\": \"location\"}, {\"text\": \"Where you guys are located ?\", \"intent\": \"location\"}, {\"text\": \"what is your name\", \"intent\": \"name\"}, {\"text\": \"whats your name\", \"intent\": \"name\"}, {\"text\": \"who is this\", \"intent\": \"name\"}, {\"text\": \"who are you\", \"intent\": \"name\"}, {\"text\": \"whos speaking\", \"intent\": \"name\"}, {\"text\": \"who is calling please\", \"intent\": \"name\"}, {\"text\": \"I didn't catch your name.\", \"intent\": \"name\"}, {\"text\": \"do you know my name\", \"intent\": \"name\"}, {\"text\": \"who am I speaking with?\", \"intent\": \"name\"}, {\"text\": \"who is that\", \"intent\": \"name\"}, {\"text\": \"no thank you\", \"intent\": \"negative\"}, {\"text\": \"you are being screened by smart call blocker please say your name after the tone press pound\", \"intent\": \"negative\"}, {\"text\": \"were sorry were unable to answer your call at this time but if you leave your name and number well get back to you as soon as possible thank you\", \"intent\": \"negative\"}, {\"text\": \"at the tone please record your message\", \"intent\": \"negative\"}, {\"text\": \"we dont have any debt\", \"intent\": \"negative\"}, {\"text\": \"i dont have any debt\", \"intent\": \"negative\"}, {\"text\": \"im not interested\", \"intent\": \"negative\"}, {\"text\": \"no i dont\", \"intent\": \"negative\"}, {\"text\": \"i do not have a debt\", \"intent\": \"negative\"}, {\"text\": \"i have no debt\", \"intent\": \"negative\"}, {\"text\": \"no i dont i dont have any time for you\", \"intent\": \"negative\"}, {\"text\": \"no i dont need any relief\", \"intent\": \"negative\"}, {\"text\": \"if you are satisfied with your message\", \"intent\": \"negative\"}, {\"text\": \"you have called several times i told you i do not need a debt relief program\", \"intent\": \"negative\"}, {\"text\": \"no im not ready to be part of a debt program thank you\", \"intent\": \"negative\"}, {\"text\": \"no im not ready to join a debt program thank you\", \"intent\": \"negative\"}, {\"text\": \"do not call me again take me off your call list\", \"intent\": \"negative\"}, {\"text\": \"no take me off your list\", \"intent\": \"negative\"}, {\"text\": \"not really\", \"intent\": \"negative\"}, {\"text\": \"no thank you\", \"intent\": \"negative\"}, {\"text\": \"i have no time for you\", \"intent\": \"negative\"}, {\"text\": \"i dont have any debt on my credit card\", \"intent\": \"negative\"}, {\"text\": \"im at work you know i dont have time right now\", \"intent\": \"negative\"}, {\"text\": \"i dont have a credit card\", \"intent\": \"negative\"}, {\"text\": \"no i dont have that\", \"intent\": \"negative\"}, {\"text\": \"thankyou but no thankyou\", \"intent\": \"negative\"}, {\"text\": \"mailbox\", \"intent\": \"negative\"}, {\"text\": \"send me the paperwork\", \"intent\": \"paperwork\"}, {\"text\": \"I will not do anything whithout seeing the papers\", \"intent\": \"paperwork\"}, {\"text\": \"I need to see it first in writing\", \"intent\": \"paperwork\"}, {\"text\": \"I need everything in writing\", \"intent\": \"paperwork\"}, {\"text\": \"need to see everything in black and white first\", \"intent\": \"paperwork\"}, {\"text\": \"send me the paperwork first\", \"intent\": \"paperwork\"}, {\"text\": \"I need this in writing\", \"intent\": \"paperwork\"}, {\"text\": \"I will go with the paperwork \", \"intent\": \"paperwork\"}, {\"text\": \"I will show the papers to my lawyer first\", \"intent\": \"paperwork\"}, {\"text\": \"I will show the papers to my wife\", \"intent\": \"paperwork\"}, {\"text\": \"I will show the papers to my husband\", \"intent\": \"paperwork\"}, {\"text\": \"I will show the papers to my son\", \"intent\": \"paperwork\"}, {\"text\": \"I don't do business over the phone, send me the paperwork.\", \"intent\": \"paperwork\"}, {\"text\": \"Send me something in writing \", \"intent\": \"paperwork\"}, {\"text\": \"all right\", \"intent\": \"positive\"}, {\"text\": \"continue\", \"intent\": \"positive\"}, {\"text\": \"ahan\", \"intent\": \"positive\"}, {\"text\": \"go ahead\", \"intent\": \"positive\"}, {\"text\": \"go on\", \"intent\": \"positive\"}, {\"text\": \"im good\", \"intent\": \"positive\"}, {\"text\": \"hello\", \"intent\": \"positive\"}, {\"text\": \"hi\", \"intent\": \"positive\"}, {\"text\": \"hey\", \"intent\": \"positive\"}, {\"text\": \"im listening\", \"intent\": \"positive\"}, {\"text\": \"maybe\", \"intent\": \"positive\"}, {\"text\": \"sure\", \"intent\": \"positive\"}, {\"text\": \"okay\", \"intent\": \"positive\"}, {\"text\": \"sounds good\", \"intent\": \"positive\"}, {\"text\": \"that is correct\", \"intent\": \"positive\"}, {\"text\": \"why not\", \"intent\": \"positive\"}, {\"text\": \"yes\", \"intent\": \"positive\"}, {\"text\": \"yeah\", \"intent\": \"positive\"}, {\"text\": \"yup\", \"intent\": \"positive\"}, {\"text\": \"for sure\", \"intent\": \"positive\"}, {\"text\": \"yes please\", \"intent\": \"positive\"}, {\"text\": \"alright\", \"intent\": \"positive\"}, {\"text\": \"ummm\", \"intent\": \"positive\"}, {\"text\": \"yes I am\", \"intent\": \"positive\"}, {\"text\": \"you are right\", \"intent\": \"positive\"}, {\"text\": \"my first name\", \"intent\": \"positive\"}, {\"text\": \"my name is\", \"intent\": \"positive\"}, {\"text\": \"my last name\", \"intent\": \"positive\"}, {\"text\": \"im not sure\", \"intent\": \"positive\"}, {\"text\": \"yeah im\", \"intent\": \"positive\"}, {\"text\": \"sure go ahead\", \"intent\": \"positive\"}, {\"text\": \"sure why not\", \"intent\": \"positive\"}, {\"text\": \"what program are you talking about\", \"intent\": \"program\"}, {\"text\": \"how this program works\", \"intent\": \"program\"}, {\"text\": \"will this hurt my credit score?\", \"intent\": \"program\"}, {\"text\": \"will you guys close my credit card\", \"intent\": \"program\"}, {\"text\": \"no tell me about program\", \"intent\": \"program\"}, {\"text\": \"can I apply for a loan or mortgage?\", \"intent\": \"program\"}, {\"text\": \"why I am getting enrolled in this program\", \"intent\": \"program\"}, {\"text\": \"Do I have to stop making my payments?\", \"intent\": \"program\"}, {\"text\": \"how am i qualified for this\", \"intent\": \"qualified\"}, {\"text\": \"how am i qualify\", \"intent\": \"qualified\"}, {\"text\": \"how do i qualify\", \"intent\": \"qualified\"}, {\"text\": \"how I was selected\", \"intent\": \"qualified\"}, {\"text\": \"what is the qualification process\", \"intent\": \"qualified\"}, {\"text\": \"how will you make me qualify?\", \"intent\": \"qualified\"}, {\"text\": \"what kind of information do you need to make me qualify?\", \"intent\": \"qualified\"}, {\"text\": \"what is the qualification criteria\", \"intent\": \"qualified\"}, {\"text\": \"what do you mean by qualification purposes?\", \"intent\": \"qualified\"}, {\"text\": \"i dont understand\", \"intent\": \"repeat\"}, {\"text\": \"i didnt understand\", \"intent\": \"repeat\"}, {\"text\": \"anybody there\", \"intent\": \"repeat\"}, {\"text\": \"could you repeat that\", \"intent\": \"repeat\"}, {\"text\": \"what did you say\", \"intent\": \"repeat\"}, {\"text\": \"anything you have to say\", \"intent\": \"repeat\"}, {\"text\": \"I beg your pardon\", \"intent\": \"repeat\"}, {\"text\": \"say that again\", \"intent\": \"repeat\"}, {\"text\": \"can you repeat yourself?\", \"intent\": \"repeat\"}, {\"text\": \"say that one more time\", \"intent\": \"repeat\"}, {\"text\": \"is this a sales call\", \"intent\": \"sales\"}, {\"text\": \"are you selling me something?\", \"intent\": \"sales\"}, {\"text\": \"I don\\u2019t want to buy this.\", \"intent\": \"sales\"}, {\"text\": \"sales\", \"intent\": \"sales\"}, {\"text\": \"are you going to sell me something?\", \"intent\": \"sales\"}, {\"text\": \"I receive this sales calls everyday \", \"intent\": \"sales\"}, {\"text\": \"who is sponsoring\", \"intent\": \"transfer\"}, {\"text\": \"is this government program\", \"intent\": \"transfer\"}, {\"text\": \"who is doing\", \"intent\": \"transfer\"}, {\"text\": \"are you from the government?\", \"intent\": \"transfer\"}, {\"text\": \"who do you work for\", \"intent\": \"workfor\"}, {\"text\": \"Who is your Boss\", \"intent\": \"workfor\"}, {\"text\": \"Who is your Employer\", \"intent\": \"workfor\"}, {\"text\": \"what is the name of your group\", \"intent\": \"workfor\"}, {\"text\": \"what is the name of your organization\", \"intent\": \"workfor\"}, {\"text\": \"what is the name of your company\", \"intent\": \"workfor\"}, {\"text\": \"what is your designation in this company?\", \"intent\": \"workfor\"}, {\"text\": \"im at work you know i dont have time right now\", \"intent\": \"callback\"}, {\"text\": \"yeah definitely that is wrong moment\", \"intent\": \"callback\"}, {\"text\": \"this is not the right time \", \"intent\": \"callback\"}, {\"text\": \"I cant stay on the line anymore\", \"intent\": \"callback\"}, {\"text\": \" I don\\u2019t have time for this \", \"intent\": \"callback\"}, {\"text\": \"can we do this some other time\", \"intent\": \"callback\"}, {\"text\": \"I need to get off the phone\", \"intent\": \"callback\"}, {\"text\": \"I have an appointment to catch \", \"intent\": \"callback\"}, {\"text\": \"I have to leave \", \"intent\": \"callback\"}, {\"text\": \"I am busy \", \"intent\": \"callback\"}, {\"text\": \"I am occupied right now\", \"intent\": \"callback\"}, {\"text\": \"can you call me back \", \"intent\": \"callback\"}, {\"text\": \"call me some other time \", \"intent\": \"callback\"}, {\"text\": \"can you call me tomorrow\", \"intent\": \"callback\"}, {\"text\": \"call me some other time \", \"intent\": \"callback\"}, {\"text\": \"call me next week \", \"intent\": \"callback\"}, {\"text\": \"call me in couple of weeks \", \"intent\": \"callback\"}, {\"text\": \"call me next month\", \"intent\": \"callback\"}, {\"text\": \"call me some other day \", \"intent\": \"callback\"}, {\"text\": \"do I have to do this right now\", \"intent\": \"callback\"}, {\"text\": \"I don\\u2019t want to do  this now \", \"intent\": \"callback\"}, {\"text\": \"I cant do this right now \", \"intent\": \"callback\"}, {\"text\": \"i need to speak with my wife \", \"intent\": \"callback\"}, {\"text\": \"give me a number to callback.\", \"intent\": \"callback\"}]\n"
     ]
    }
   ],
   "source": [
    "encoded_data = json.dumps(dict_data)\n",
    "print(encoded_data)"
   ]
  },
  {
   "cell_type": "code",
   "execution_count": 46,
   "id": "455ab1f5",
   "metadata": {},
   "outputs": [],
   "source": [
    "with open(\"df.json\", \"w\") as outfile:\n",
    "    outfile.write(encoded_data)"
   ]
  },
  {
   "cell_type": "code",
   "execution_count": null,
   "id": "ad7ed02e",
   "metadata": {},
   "outputs": [],
   "source": []
  },
  {
   "cell_type": "code",
   "execution_count": null,
   "id": "dc8417af",
   "metadata": {},
   "outputs": [],
   "source": []
  },
  {
   "cell_type": "code",
   "execution_count": null,
   "id": "6f437370",
   "metadata": {},
   "outputs": [],
   "source": []
  },
  {
   "cell_type": "code",
   "execution_count": null,
   "id": "4b3c6c9f",
   "metadata": {},
   "outputs": [],
   "source": []
  },
  {
   "cell_type": "code",
   "execution_count": null,
   "id": "80e46bf3",
   "metadata": {},
   "outputs": [],
   "source": []
  },
  {
   "cell_type": "code",
   "execution_count": null,
   "id": "97f6c300",
   "metadata": {},
   "outputs": [],
   "source": []
  },
  {
   "cell_type": "code",
   "execution_count": null,
   "id": "cd06d402",
   "metadata": {},
   "outputs": [],
   "source": []
  },
  {
   "cell_type": "code",
   "execution_count": null,
   "id": "d7a76c4a",
   "metadata": {},
   "outputs": [],
   "source": []
  }
 ],
 "metadata": {
  "kernelspec": {
   "display_name": "Python 3",
   "language": "python",
   "name": "python3"
  },
  "language_info": {
   "codemirror_mode": {
    "name": "ipython",
    "version": 3
   },
   "file_extension": ".py",
   "mimetype": "text/x-python",
   "name": "python",
   "nbconvert_exporter": "python",
   "pygments_lexer": "ipython3",
   "version": "3.8.8"
  }
 },
 "nbformat": 4,
 "nbformat_minor": 5
}
